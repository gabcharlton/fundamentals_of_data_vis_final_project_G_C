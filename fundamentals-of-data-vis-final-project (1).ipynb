{
 "cells": [
  {
   "cell_type": "code",
   "execution_count": null,
   "id": "af409280",
   "metadata": {
    "papermill": {
     "duration": 0.008354,
     "end_time": "2024-04-30T15:56:19.507026",
     "exception": false,
     "start_time": "2024-04-30T15:56:19.498672",
     "status": "completed"
    },
    "tags": []
   },
   "outputs": [],
   "source": []
  },
  {
   "cell_type": "code",
   "execution_count": 1,
   "id": "b80fc26d",
   "metadata": {
    "_cell_guid": "b1076dfc-b9ad-4769-8c92-a6c4dae69d19",
    "_uuid": "8f2839f25d086af736a60e9eeb907d3b93b6e0e5",
    "execution": {
     "iopub.execute_input": "2024-04-30T15:56:19.525592Z",
     "iopub.status.busy": "2024-04-30T15:56:19.524570Z",
     "iopub.status.idle": "2024-04-30T15:56:20.375863Z",
     "shell.execute_reply": "2024-04-30T15:56:20.374447Z"
    },
    "papermill": {
     "duration": 0.863962,
     "end_time": "2024-04-30T15:56:20.379052",
     "exception": false,
     "start_time": "2024-04-30T15:56:19.515090",
     "status": "completed"
    },
    "tags": []
   },
   "outputs": [
    {
     "name": "stdout",
     "output_type": "stream",
     "text": [
      "/kaggle/input/best-selling-books/best-selling-books.csv\n"
     ]
    }
   ],
   "source": [
    "import numpy as np # linear algebra\n",
    "import pandas as pd # data processing, CSV file I/O (e.g. pd.read_csv)\n",
    "\n",
    "import os\n",
    "for dirname, _, filenames in os.walk('/kaggle/input'):\n",
    "    for filename in filenames:\n",
    "        print(os.path.join(dirname, filename))"
   ]
  },
  {
   "cell_type": "code",
   "execution_count": null,
   "id": "79b4cbf0",
   "metadata": {
    "papermill": {
     "duration": 0.008085,
     "end_time": "2024-04-30T15:56:20.396388",
     "exception": false,
     "start_time": "2024-04-30T15:56:20.388303",
     "status": "completed"
    },
    "tags": []
   },
   "outputs": [],
   "source": []
  },
  {
   "cell_type": "code",
   "execution_count": 2,
   "id": "ec6c9281",
   "metadata": {
    "execution": {
     "iopub.execute_input": "2024-04-30T15:56:20.415471Z",
     "iopub.status.busy": "2024-04-30T15:56:20.414936Z",
     "iopub.status.idle": "2024-04-30T15:56:20.455381Z",
     "shell.execute_reply": "2024-04-30T15:56:20.454290Z"
    },
    "papermill": {
     "duration": 0.053161,
     "end_time": "2024-04-30T15:56:20.457640",
     "exception": false,
     "start_time": "2024-04-30T15:56:20.404479",
     "status": "completed"
    },
    "tags": []
   },
   "outputs": [
    {
     "data": {
      "text/html": [
       "<div>\n",
       "<style scoped>\n",
       "    .dataframe tbody tr th:only-of-type {\n",
       "        vertical-align: middle;\n",
       "    }\n",
       "\n",
       "    .dataframe tbody tr th {\n",
       "        vertical-align: top;\n",
       "    }\n",
       "\n",
       "    .dataframe thead th {\n",
       "        text-align: right;\n",
       "    }\n",
       "</style>\n",
       "<table border=\"1\" class=\"dataframe\">\n",
       "  <thead>\n",
       "    <tr style=\"text-align: right;\">\n",
       "      <th></th>\n",
       "      <th>Book</th>\n",
       "      <th>Author(s)</th>\n",
       "      <th>Original language</th>\n",
       "      <th>First published</th>\n",
       "      <th>Approximate sales in millions</th>\n",
       "      <th>Genre</th>\n",
       "    </tr>\n",
       "  </thead>\n",
       "  <tbody>\n",
       "    <tr>\n",
       "      <th>0</th>\n",
       "      <td>A Tale of Two Cities</td>\n",
       "      <td>Charles Dickens</td>\n",
       "      <td>English</td>\n",
       "      <td>1859</td>\n",
       "      <td>200.0</td>\n",
       "      <td>Historical fiction</td>\n",
       "    </tr>\n",
       "    <tr>\n",
       "      <th>1</th>\n",
       "      <td>The Little Prince (Le Petit Prince)</td>\n",
       "      <td>Antoine de Saint-Exupéry</td>\n",
       "      <td>French</td>\n",
       "      <td>1943</td>\n",
       "      <td>200.0</td>\n",
       "      <td>Novella</td>\n",
       "    </tr>\n",
       "    <tr>\n",
       "      <th>2</th>\n",
       "      <td>Harry Potter and the Philosopher's Stone</td>\n",
       "      <td>J. K. Rowling</td>\n",
       "      <td>English</td>\n",
       "      <td>1997</td>\n",
       "      <td>120.0</td>\n",
       "      <td>Fantasy</td>\n",
       "    </tr>\n",
       "    <tr>\n",
       "      <th>3</th>\n",
       "      <td>And Then There Were None</td>\n",
       "      <td>Agatha Christie</td>\n",
       "      <td>English</td>\n",
       "      <td>1939</td>\n",
       "      <td>100.0</td>\n",
       "      <td>Mystery</td>\n",
       "    </tr>\n",
       "    <tr>\n",
       "      <th>4</th>\n",
       "      <td>Dream of the Red Chamber (紅樓夢)</td>\n",
       "      <td>Cao Xueqin</td>\n",
       "      <td>Chinese</td>\n",
       "      <td>1791</td>\n",
       "      <td>100.0</td>\n",
       "      <td>Family saga</td>\n",
       "    </tr>\n",
       "  </tbody>\n",
       "</table>\n",
       "</div>"
      ],
      "text/plain": [
       "                                       Book                 Author(s)  \\\n",
       "0                      A Tale of Two Cities           Charles Dickens   \n",
       "1       The Little Prince (Le Petit Prince)  Antoine de Saint-Exupéry   \n",
       "2  Harry Potter and the Philosopher's Stone             J. K. Rowling   \n",
       "3                  And Then There Were None           Agatha Christie   \n",
       "4            Dream of the Red Chamber (紅樓夢)                Cao Xueqin   \n",
       "\n",
       "  Original language  First published  Approximate sales in millions  \\\n",
       "0           English             1859                          200.0   \n",
       "1            French             1943                          200.0   \n",
       "2           English             1997                          120.0   \n",
       "3           English             1939                          100.0   \n",
       "4           Chinese             1791                          100.0   \n",
       "\n",
       "                Genre  \n",
       "0  Historical fiction  \n",
       "1             Novella  \n",
       "2             Fantasy  \n",
       "3             Mystery  \n",
       "4         Family saga  "
      ]
     },
     "execution_count": 2,
     "metadata": {},
     "output_type": "execute_result"
    }
   ],
   "source": [
    "df = pd.read_csv(\"/kaggle/input/best-selling-books/best-selling-books.csv\")\n",
    "df.head()"
   ]
  },
  {
   "cell_type": "code",
   "execution_count": 3,
   "id": "1a205033",
   "metadata": {
    "execution": {
     "iopub.execute_input": "2024-04-30T15:56:20.476481Z",
     "iopub.status.busy": "2024-04-30T15:56:20.475841Z",
     "iopub.status.idle": "2024-04-30T15:56:20.811076Z",
     "shell.execute_reply": "2024-04-30T15:56:20.809657Z"
    },
    "papermill": {
     "duration": 0.347196,
     "end_time": "2024-04-30T15:56:20.813511",
     "exception": false,
     "start_time": "2024-04-30T15:56:20.466315",
     "status": "completed"
    },
    "tags": []
   },
   "outputs": [],
   "source": [
    "import altair as alt"
   ]
  },
  {
   "cell_type": "code",
   "execution_count": 4,
   "id": "7c22f279",
   "metadata": {
    "execution": {
     "iopub.execute_input": "2024-04-30T15:56:20.832376Z",
     "iopub.status.busy": "2024-04-30T15:56:20.831935Z",
     "iopub.status.idle": "2024-04-30T15:56:20.839487Z",
     "shell.execute_reply": "2024-04-30T15:56:20.837903Z"
    },
    "papermill": {
     "duration": 0.019519,
     "end_time": "2024-04-30T15:56:20.841692",
     "exception": false,
     "start_time": "2024-04-30T15:56:20.822173",
     "status": "completed"
    },
    "tags": []
   },
   "outputs": [
    {
     "data": {
      "text/plain": [
       "Book                              object\n",
       "Author(s)                         object\n",
       "Original language                 object\n",
       "First published                    int64\n",
       "Approximate sales in millions    float64\n",
       "Genre                             object\n",
       "dtype: object"
      ]
     },
     "execution_count": 4,
     "metadata": {},
     "output_type": "execute_result"
    }
   ],
   "source": [
    "datatypes = df.dtypes \n",
    "datatypes"
   ]
  },
  {
   "cell_type": "code",
   "execution_count": 5,
   "id": "5c299176",
   "metadata": {
    "execution": {
     "iopub.execute_input": "2024-04-30T15:56:20.860480Z",
     "iopub.status.busy": "2024-04-30T15:56:20.860170Z",
     "iopub.status.idle": "2024-04-30T15:56:20.876329Z",
     "shell.execute_reply": "2024-04-30T15:56:20.875028Z"
    },
    "papermill": {
     "duration": 0.028346,
     "end_time": "2024-04-30T15:56:20.878718",
     "exception": false,
     "start_time": "2024-04-30T15:56:20.850372",
     "status": "completed"
    },
    "tags": []
   },
   "outputs": [
    {
     "data": {
      "text/plain": [
       "Book                             174\n",
       "Author(s)                        157\n",
       "Original language                 16\n",
       "First published                   95\n",
       "Approximate sales in millions     47\n",
       "Genre                             80\n",
       "dtype: int64"
      ]
     },
     "execution_count": 5,
     "metadata": {},
     "output_type": "execute_result"
    }
   ],
   "source": [
    "df.nunique()"
   ]
  },
  {
   "cell_type": "code",
   "execution_count": 6,
   "id": "1dd38fad",
   "metadata": {
    "execution": {
     "iopub.execute_input": "2024-04-30T15:56:20.898872Z",
     "iopub.status.busy": "2024-04-30T15:56:20.898536Z",
     "iopub.status.idle": "2024-04-30T15:56:20.902965Z",
     "shell.execute_reply": "2024-04-30T15:56:20.901756Z"
    },
    "papermill": {
     "duration": 0.016587,
     "end_time": "2024-04-30T15:56:20.904836",
     "exception": false,
     "start_time": "2024-04-30T15:56:20.888249",
     "status": "completed"
    },
    "tags": []
   },
   "outputs": [],
   "source": [
    "#df['Genre'].unique()"
   ]
  },
  {
   "cell_type": "code",
   "execution_count": 7,
   "id": "70ffeb48",
   "metadata": {
    "execution": {
     "iopub.execute_input": "2024-04-30T15:56:20.924273Z",
     "iopub.status.busy": "2024-04-30T15:56:20.923918Z",
     "iopub.status.idle": "2024-04-30T15:56:20.932456Z",
     "shell.execute_reply": "2024-04-30T15:56:20.930396Z"
    },
    "papermill": {
     "duration": 0.021265,
     "end_time": "2024-04-30T15:56:20.934925",
     "exception": false,
     "start_time": "2024-04-30T15:56:20.913660",
     "status": "completed"
    },
    "tags": []
   },
   "outputs": [
    {
     "data": {
      "text/plain": [
       "Book                              object\n",
       "Author(s)                         object\n",
       "Original language                 object\n",
       "First published                   object\n",
       "Approximate sales in millions    float64\n",
       "Genre                             object\n",
       "dtype: object"
      ]
     },
     "execution_count": 7,
     "metadata": {},
     "output_type": "execute_result"
    }
   ],
   "source": [
    "df['First published'] = df['First published'].astype(object)\n",
    "datatypes2 = df.dtypes \n",
    "datatypes2"
   ]
  },
  {
   "cell_type": "markdown",
   "id": "bbd0071a",
   "metadata": {
    "papermill": {
     "duration": 0.008469,
     "end_time": "2024-04-30T15:56:20.952337",
     "exception": false,
     "start_time": "2024-04-30T15:56:20.943868",
     "status": "completed"
    },
    "tags": []
   },
   "source": [
    "# **Question 1: What kinds of books are the most popular?**"
   ]
  },
  {
   "cell_type": "markdown",
   "id": "e11f8700",
   "metadata": {
    "papermill": {
     "duration": 0.008734,
     "end_time": "2024-04-30T15:56:20.969589",
     "exception": false,
     "start_time": "2024-04-30T15:56:20.960855",
     "status": "completed"
    },
    "tags": []
   },
   "source": [
    "## Most Popular Langagues"
   ]
  },
  {
   "cell_type": "code",
   "execution_count": 8,
   "id": "e53407db",
   "metadata": {
    "execution": {
     "iopub.execute_input": "2024-04-30T15:56:20.988866Z",
     "iopub.status.busy": "2024-04-30T15:56:20.988490Z",
     "iopub.status.idle": "2024-04-30T15:56:21.077607Z",
     "shell.execute_reply": "2024-04-30T15:56:21.076389Z"
    },
    "papermill": {
     "duration": 0.102262,
     "end_time": "2024-04-30T15:56:21.080495",
     "exception": false,
     "start_time": "2024-04-30T15:56:20.978233",
     "status": "completed"
    },
    "tags": []
   },
   "outputs": [
    {
     "data": {
      "text/html": [
       "\n",
       "<style>\n",
       "  #altair-viz-97776fdb448843ea9e77cf49e1dd5589.vega-embed {\n",
       "    width: 100%;\n",
       "    display: flex;\n",
       "  }\n",
       "\n",
       "  #altair-viz-97776fdb448843ea9e77cf49e1dd5589.vega-embed details,\n",
       "  #altair-viz-97776fdb448843ea9e77cf49e1dd5589.vega-embed details summary {\n",
       "    position: relative;\n",
       "  }\n",
       "</style>\n",
       "<div id=\"altair-viz-97776fdb448843ea9e77cf49e1dd5589\"></div>\n",
       "<script type=\"text/javascript\">\n",
       "  var VEGA_DEBUG = (typeof VEGA_DEBUG == \"undefined\") ? {} : VEGA_DEBUG;\n",
       "  (function(spec, embedOpt){\n",
       "    let outputDiv = document.currentScript.previousElementSibling;\n",
       "    if (outputDiv.id !== \"altair-viz-97776fdb448843ea9e77cf49e1dd5589\") {\n",
       "      outputDiv = document.getElementById(\"altair-viz-97776fdb448843ea9e77cf49e1dd5589\");\n",
       "    }\n",
       "    const paths = {\n",
       "      \"vega\": \"https://cdn.jsdelivr.net/npm/vega@5?noext\",\n",
       "      \"vega-lib\": \"https://cdn.jsdelivr.net/npm/vega-lib?noext\",\n",
       "      \"vega-lite\": \"https://cdn.jsdelivr.net/npm/vega-lite@5.17.0?noext\",\n",
       "      \"vega-embed\": \"https://cdn.jsdelivr.net/npm/vega-embed@6?noext\",\n",
       "    };\n",
       "\n",
       "    function maybeLoadScript(lib, version) {\n",
       "      var key = `${lib.replace(\"-\", \"\")}_version`;\n",
       "      return (VEGA_DEBUG[key] == version) ?\n",
       "        Promise.resolve(paths[lib]) :\n",
       "        new Promise(function(resolve, reject) {\n",
       "          var s = document.createElement('script');\n",
       "          document.getElementsByTagName(\"head\")[0].appendChild(s);\n",
       "          s.async = true;\n",
       "          s.onload = () => {\n",
       "            VEGA_DEBUG[key] = version;\n",
       "            return resolve(paths[lib]);\n",
       "          };\n",
       "          s.onerror = () => reject(`Error loading script: ${paths[lib]}`);\n",
       "          s.src = paths[lib];\n",
       "        });\n",
       "    }\n",
       "\n",
       "    function showError(err) {\n",
       "      outputDiv.innerHTML = `<div class=\"error\" style=\"color:red;\">${err}</div>`;\n",
       "      throw err;\n",
       "    }\n",
       "\n",
       "    function displayChart(vegaEmbed) {\n",
       "      vegaEmbed(outputDiv, spec, embedOpt)\n",
       "        .catch(err => showError(`Javascript Error: ${err.message}<br>This usually means there's a typo in your chart specification. See the javascript console for the full traceback.`));\n",
       "    }\n",
       "\n",
       "    if(typeof define === \"function\" && define.amd) {\n",
       "      requirejs.config({paths});\n",
       "      require([\"vega-embed\"], displayChart, err => showError(`Error loading script: ${err.message}`));\n",
       "    } else {\n",
       "      maybeLoadScript(\"vega\", \"5\")\n",
       "        .then(() => maybeLoadScript(\"vega-lite\", \"5.17.0\"))\n",
       "        .then(() => maybeLoadScript(\"vega-embed\", \"6\"))\n",
       "        .catch(showError)\n",
       "        .then(() => displayChart(vegaEmbed));\n",
       "    }\n",
       "  })({\"config\": {\"view\": {\"continuousWidth\": 300, \"continuousHeight\": 300}}, \"data\": {\"name\": \"data-53746a97c85668a3938be06709cf3a13\"}, \"mark\": {\"type\": \"circle\"}, \"encoding\": {\"color\": {\"field\": \"Original language\", \"type\": \"nominal\"}, \"tooltip\": [{\"field\": \"Author(s)\", \"type\": \"nominal\"}, {\"field\": \"Original language\", \"type\": \"nominal\"}, {\"field\": \"Book\", \"type\": \"nominal\"}, {\"field\": \"Genre\", \"type\": \"nominal\"}, {\"field\": \"Approximate sales in millions\", \"type\": \"quantitative\"}], \"x\": {\"field\": \"Original language\", \"type\": \"nominal\"}, \"y\": {\"field\": \"Approximate sales in millions\", \"type\": \"quantitative\"}}, \"$schema\": \"https://vega.github.io/schema/vega-lite/v5.17.0.json\", \"datasets\": {\"data-53746a97c85668a3938be06709cf3a13\": [{\"Book\": \"A Tale of Two Cities\", \"Author(s)\": \"Charles Dickens\", \"Original language\": \"English\", \"First published\": 1859, \"Approximate sales in millions\": 200.0, \"Genre\": \"Historical fiction\"}, {\"Book\": \"The Little Prince (Le Petit Prince)\", \"Author(s)\": \"Antoine de Saint-Exup\\u00e9ry\", \"Original language\": \"French\", \"First published\": 1943, \"Approximate sales in millions\": 200.0, \"Genre\": \"Novella\"}, {\"Book\": \"Harry Potter and the Philosopher's Stone\", \"Author(s)\": \"J. K. Rowling\", \"Original language\": \"English\", \"First published\": 1997, \"Approximate sales in millions\": 120.0, \"Genre\": \"Fantasy\"}, {\"Book\": \"And Then There Were None\", \"Author(s)\": \"Agatha Christie\", \"Original language\": \"English\", \"First published\": 1939, \"Approximate sales in millions\": 100.0, \"Genre\": \"Mystery\"}, {\"Book\": \"Dream of the Red Chamber (\\u7d05\\u6a13\\u5922)\", \"Author(s)\": \"Cao Xueqin\", \"Original language\": \"Chinese\", \"First published\": 1791, \"Approximate sales in millions\": 100.0, \"Genre\": \"Family saga\"}, {\"Book\": \"The Hobbit\", \"Author(s)\": \"J. R. R. Tolkien\", \"Original language\": \"English\", \"First published\": 1937, \"Approximate sales in millions\": 100.0, \"Genre\": \"Fantasy\"}, {\"Book\": \"The Lion, the Witch and the Wardrobe\", \"Author(s)\": \"C. S. Lewis\", \"Original language\": \"English\", \"First published\": 1950, \"Approximate sales in millions\": 85.0, \"Genre\": \"Fantasy, Children's fiction\"}, {\"Book\": \"She: A History of Adventure\", \"Author(s)\": \"H. Rider Haggard\", \"Original language\": \"English\", \"First published\": 1887, \"Approximate sales in millions\": 83.0, \"Genre\": \"Adventure\"}, {\"Book\": \"Vardi Wala Gunda (\\u0935\\u0930\\u094d\\u0926\\u0940 \\u0935\\u093e\\u0932\\u093e \\u0917\\u0941\\u0902\\u0921\\u093e)\", \"Author(s)\": \"Ved Prakash Sharma\", \"Original language\": \"Hindi\", \"First published\": 1992, \"Approximate sales in millions\": 80.0, \"Genre\": \"Detective\"}, {\"Book\": \"The Da Vinci Code\", \"Author(s)\": \"Dan Brown\", \"Original language\": \"English\", \"First published\": 2003, \"Approximate sales in millions\": 80.0, \"Genre\": \"Mystery thriller\"}, {\"Book\": \"Harry Potter and the Chamber of Secrets\", \"Author(s)\": \"J. K. Rowling\", \"Original language\": \"English\", \"First published\": 1998, \"Approximate sales in millions\": 77.0, \"Genre\": \"Fantasy\"}, {\"Book\": \"Harry Potter and the Prisoner of Azkaban\", \"Author(s)\": \"J. K. Rowling\", \"Original language\": \"English\", \"First published\": 1999, \"Approximate sales in millions\": 65.0, \"Genre\": \"Fantasy\"}, {\"Book\": \"Harry Potter and the Goblet of Fire\", \"Author(s)\": \"J. K. Rowling\", \"Original language\": \"English\", \"First published\": 2000, \"Approximate sales in millions\": 65.0, \"Genre\": \"Fantasy\"}, {\"Book\": \"Harry Potter and the Order of the Phoenix\", \"Author(s)\": \"J. K. Rowling\", \"Original language\": \"English\", \"First published\": 2003, \"Approximate sales in millions\": 65.0, \"Genre\": \"Fantasy\"}, {\"Book\": \"Harry Potter and the Half-Blood Prince\", \"Author(s)\": \"J. K. Rowling\", \"Original language\": \"English\", \"First published\": 2005, \"Approximate sales in millions\": 65.0, \"Genre\": \"Fantasy\"}, {\"Book\": \"Harry Potter and the Deathly Hallows\", \"Author(s)\": \"J. K. Rowling\", \"Original language\": \"English\", \"First published\": 2007, \"Approximate sales in millions\": 65.0, \"Genre\": \"Fantasy\"}, {\"Book\": \"The Alchemist (O Alquimista)\", \"Author(s)\": \"Paulo Coelho\", \"Original language\": \"Portuguese\", \"First published\": 1988, \"Approximate sales in millions\": 65.0, \"Genre\": \"Fantasy\"}, {\"Book\": \"The Catcher in the Rye\", \"Author(s)\": \"J. D. Salinger\", \"Original language\": \"English\", \"First published\": 1951, \"Approximate sales in millions\": 65.0, \"Genre\": \"Coming-of-age\"}, {\"Book\": \"The Bridges of Madison County\", \"Author(s)\": \"Robert James Waller\", \"Original language\": \"English\", \"First published\": 1992, \"Approximate sales in millions\": 60.0, \"Genre\": \"Romance\"}, {\"Book\": \"Ben-Hur: A Tale of the Christ\", \"Author(s)\": \"Lew Wallace\", \"Original language\": \"English\", \"First published\": 1880, \"Approximate sales in millions\": 50.0, \"Genre\": \"Historical fiction\"}, {\"Book\": \"You Can Heal Your Life\", \"Author(s)\": \"Louise Hay\", \"Original language\": \"English\", \"First published\": 1984, \"Approximate sales in millions\": 50.0, \"Genre\": \"Self-help\"}, {\"Book\": \"One Hundred Years of Solitude (Cien a\\u00f1os de soledad)\", \"Author(s)\": \"Gabriel Garc\\u00eda M\\u00e1rquez\", \"Original language\": \"Spanish\", \"First published\": 1967, \"Approximate sales in millions\": 50.0, \"Genre\": \"Magic realism\"}, {\"Book\": \"Lolita\", \"Author(s)\": \"Vladimir Nabokov\", \"Original language\": \"English\", \"First published\": 1955, \"Approximate sales in millions\": 50.0, \"Genre\": \"Novel\"}, {\"Book\": \"Heidi\", \"Author(s)\": \"Johanna Spyri\", \"Original language\": \"German\", \"First published\": 1880, \"Approximate sales in millions\": 50.0, \"Genre\": \"Children's fiction\"}, {\"Book\": \"The Common Sense Book of Baby and Child Care\", \"Author(s)\": \"Benjamin Spock\", \"Original language\": \"English\", \"First published\": 1946, \"Approximate sales in millions\": 50.0, \"Genre\": \"Manual\"}, {\"Book\": \"Anne of Green Gables\", \"Author(s)\": \"Lucy Maud Montgomery\", \"Original language\": \"English\", \"First published\": 1908, \"Approximate sales in millions\": 50.0, \"Genre\": \"Children's novel\"}, {\"Book\": \"Black Beauty\", \"Author(s)\": \"Anna Sewell\", \"Original language\": \"English\", \"First published\": 1877, \"Approximate sales in millions\": 50.0, \"Genre\": \"Children's literature\"}, {\"Book\": \"The Name of the Rose (Il Nome della Rosa)\", \"Author(s)\": \"Umberto Eco\", \"Original language\": \"Italian\", \"First published\": 1980, \"Approximate sales in millions\": 50.0, \"Genre\": \"Historical novel, mystery\"}, {\"Book\": \"The Eagle Has Landed\", \"Author(s)\": \"Jack Higgins\", \"Original language\": \"English\", \"First published\": 1975, \"Approximate sales in millions\": 50.0, \"Genre\": \"War, thriller\"}, {\"Book\": \"Watership Down\", \"Author(s)\": \"Richard Adams\", \"Original language\": \"English\", \"First published\": 1972, \"Approximate sales in millions\": 50.0, \"Genre\": \"Fantasy\"}, {\"Book\": \"The Hite Report\", \"Author(s)\": \"Shere Hite\", \"Original language\": \"English\", \"First published\": 1976, \"Approximate sales in millions\": 50.0, \"Genre\": \"Sexology\"}, {\"Book\": \"Charlotte's Web\", \"Author(s)\": \"E. B. White; illustrated by Garth Williams\", \"Original language\": \"English\", \"First published\": 1952, \"Approximate sales in millions\": 50.0, \"Genre\": \"Children's fiction\"}, {\"Book\": \"The Ginger Man\", \"Author(s)\": \"J. P. Donleavy\", \"Original language\": \"English\", \"First published\": 1955, \"Approximate sales in millions\": 50.0, \"Genre\": \"Novel\"}, {\"Book\": \"The Tale of Peter Rabbit\", \"Author(s)\": \"Beatrix Potter\", \"Original language\": \"English\", \"First published\": 1902, \"Approximate sales in millions\": 45.0, \"Genre\": \"Children's Literature\"}, {\"Book\": \"Jonathan Livingston Seagull\", \"Author(s)\": \"Richard Bach\", \"Original language\": \"English\", \"First published\": 1970, \"Approximate sales in millions\": 44.0, \"Genre\": \"Novella, Self-help\"}, {\"Book\": \"The Very Hungry Caterpillar\", \"Author(s)\": \"Eric Carle\", \"Original language\": \"English\", \"First published\": 1969, \"Approximate sales in millions\": 43.0, \"Genre\": \"Children's Literature, picture book\"}, {\"Book\": \"A Message to Garcia\", \"Author(s)\": \"Elbert Hubbard\", \"Original language\": \"English\", \"First published\": 1899, \"Approximate sales in millions\": 40.0, \"Genre\": \"Essay/Literature\"}, {\"Book\": \"To Kill a Mockingbird\", \"Author(s)\": \"Harper Lee\", \"Original language\": \"English\", \"First published\": 1960, \"Approximate sales in millions\": 40.0, \"Genre\": \"Southern Gothic, Bildungsroman\"}, {\"Book\": \"Flowers in the Attic\", \"Author(s)\": \"V. C. Andrews\", \"Original language\": \"English\", \"First published\": 1979, \"Approximate sales in millions\": 40.0, \"Genre\": \"Gothic horror, Family saga\"}, {\"Book\": \"Cosmos\", \"Author(s)\": \"Carl Sagan\", \"Original language\": \"English\", \"First published\": 1980, \"Approximate sales in millions\": 40.0, \"Genre\": \"Popular science, Anthropology, Astrophysics, Cosmology, Philosophy, History\"}, {\"Book\": \"Sophie's World (Sofies verden)\", \"Author(s)\": \"Jostein Gaarder\", \"Original language\": \"Norwegian\", \"First published\": 1991, \"Approximate sales in millions\": 40.0, \"Genre\": \"Philosophical novel, Young adult\"}, {\"Book\": \"Angels & Demons\", \"Author(s)\": \"Dan Brown\", \"Original language\": \"English\", \"First published\": 2000, \"Approximate sales in millions\": 39.0, \"Genre\": \"Mystery-thriller\"}, {\"Book\": \"Kane and Abel\", \"Author(s)\": \"Jeffrey Archer\", \"Original language\": \"English\", \"First published\": 1979, \"Approximate sales in millions\": 37.0, \"Genre\": \"Novel\"}, {\"Book\": \"How the Steel Was Tempered (\\u041a\\u0430\\u043a \\u0437\\u0430\\u043a\\u0430\\u043b\\u044f\\u043b\\u0430\\u0441\\u044c \\u0441\\u0442\\u0430\\u043b\\u044c)\", \"Author(s)\": \"Nikolai Ostrovsky\", \"Original language\": \"Russian\", \"First published\": 1932, \"Approximate sales in millions\": 36.4, \"Genre\": \"Socialist realist novel\"}, {\"Book\": \"War and Peace (\\u0412\\u043e\\u0439\\u043d\\u0430 \\u0438 \\u043c\\u0438\\u0440)\", \"Author(s)\": \"Leo Tolstoy\", \"Original language\": \"Russian\", \"First published\": 1869, \"Approximate sales in millions\": 36.0, \"Genre\": \"Historical novel\"}, {\"Book\": \"The Adventures of Pinocchio (Le avventure di Pinocchio)\", \"Author(s)\": \"Carlo Collodi\", \"Original language\": \"Italian\", \"First published\": 1881, \"Approximate sales in millions\": 35.0, \"Genre\": \"Fantasy, Children's fiction\"}, {\"Book\": \"The Diary of Anne Frank (Het Achterhuis)\", \"Author(s)\": \"Anne Frank\", \"Original language\": \"Dutch\", \"First published\": 1947, \"Approximate sales in millions\": 35.0, \"Genre\": \"Historical non-fiction, Autobiography, Memoir, Bildungsroman / Coming of Age, Jewish literature\"}, {\"Book\": \"Your Erroneous Zones\", \"Author(s)\": \"Wayne Dyer\", \"Original language\": \"English\", \"First published\": 1976, \"Approximate sales in millions\": 35.0, \"Genre\": \"Self-help\"}, {\"Book\": \"The Thorn Birds\", \"Author(s)\": \"Colleen McCullough\", \"Original language\": \"English\", \"First published\": 1977, \"Approximate sales in millions\": 33.0, \"Genre\": \"Romantic family saga\"}, {\"Book\": \"The Purpose Driven Life\", \"Author(s)\": \"Rick Warren\", \"Original language\": \"English\", \"First published\": 2002, \"Approximate sales in millions\": 33.0, \"Genre\": \"Christian literature\"}, {\"Book\": \"The Kite Runner\", \"Author(s)\": \"Khaled Hosseini\", \"Original language\": \"English\", \"First published\": 2003, \"Approximate sales in millions\": 31.5, \"Genre\": \"Bildungsroman, Historical fiction\"}, {\"Book\": \"Valley of the Dolls\", \"Author(s)\": \"Jacqueline Susann\", \"Original language\": \"English\", \"First published\": 1966, \"Approximate sales in millions\": 31.0, \"Genre\": \"Novel\"}, {\"Book\": \"Alcoholics Anonymous Big Book\", \"Author(s)\": \"Bill Wilson\", \"Original language\": \"English\", \"First published\": 1939, \"Approximate sales in millions\": 30.0, \"Genre\": \"Self-help\"}, {\"Book\": \"How to Win Friends and Influence People\", \"Author(s)\": \"Dale Carnegie\", \"Original language\": \"English\", \"First published\": 1936, \"Approximate sales in millions\": 30.0, \"Genre\": \"Self-help\"}, {\"Book\": \"The Great Gatsby\", \"Author(s)\": \"F. Scott Fitzgerald\", \"Original language\": \"English\", \"First published\": 1925, \"Approximate sales in millions\": 30.0, \"Genre\": \"Novel, tragedy\"}, {\"Book\": \"Gone with the Wind\", \"Author(s)\": \"Margaret Mitchell\", \"Original language\": \"English\", \"First published\": 1936, \"Approximate sales in millions\": 30.0, \"Genre\": \"Historical fiction\"}, {\"Book\": \"Rebecca\", \"Author(s)\": \"Daphne du Maurier\", \"Original language\": \"English\", \"First published\": 1938, \"Approximate sales in millions\": 30.0, \"Genre\": \"Gothic novel\"}, {\"Book\": \"Nineteen Eighty-Four\", \"Author(s)\": \"George Orwell\", \"Original language\": \"English\", \"First published\": 1949, \"Approximate sales in millions\": 30.0, \"Genre\": \"Dystopian, political fiction, social science fiction\"}, {\"Book\": \"The Revolt of Mamie Stover\", \"Author(s)\": \"William Bradford Huie\", \"Original language\": \"English\", \"First published\": 1951, \"Approximate sales in millions\": 30.0, \"Genre\": \"Fiction\"}, {\"Book\": \"The Girl with the Dragon Tattoo (M\\u00e4n som hatar kvinnor)\", \"Author(s)\": \"Stieg Larsson\", \"Original language\": \"Swedish\", \"First published\": 2005, \"Approximate sales in millions\": 30.0, \"Genre\": \"Fiction\"}, {\"Book\": \"The Lost Symbol\", \"Author(s)\": \"Dan Brown\", \"Original language\": \"English\", \"First published\": 2009, \"Approximate sales in millions\": 30.0, \"Genre\": \"Fiction\"}, {\"Book\": \"The Hunger Games\", \"Author(s)\": \"Suzanne Collins\", \"Original language\": \"English\", \"First published\": 2008, \"Approximate sales in millions\": 29.0, \"Genre\": \"Young adult fiction\"}, {\"Book\": \"James and the Giant Peach\", \"Author(s)\": \"Roald Dahl\", \"Original language\": \"English\", \"First published\": 1961, \"Approximate sales in millions\": 28.0, \"Genre\": \"Children's novel\"}, {\"Book\": \"The Young Guard (\\u041c\\u043e\\u043b\\u043e\\u0434\\u0430\\u044f \\u0433\\u0432\\u0430\\u0440\\u0434\\u0438\\u044f)\", \"Author(s)\": \"Alexander Alexandrovich Fadeyev\", \"Original language\": \"Russian\", \"First published\": 1945, \"Approximate sales in millions\": 26.0, \"Genre\": \"Young adult historical novel\"}, {\"Book\": \"Who Moved My Cheese?\", \"Author(s)\": \"Spencer Johnson\", \"Original language\": \"English\", \"First published\": 1998, \"Approximate sales in millions\": 29.0, \"Genre\": \"Self-help, motivational, business fable, psychology, leadership, parable\"}, {\"Book\": \"A Brief History of Time\", \"Author(s)\": \"Stephen Hawking\", \"Original language\": \"English\", \"First published\": 1988, \"Approximate sales in millions\": 25.0, \"Genre\": \"Popular science\"}, {\"Book\": \"Paul et Virginie\", \"Author(s)\": \"Jacques-Henri Bernardin de Saint-Pierre\", \"Original language\": \"French\", \"First published\": 1788, \"Approximate sales in millions\": 25.0, \"Genre\": \"Novel\"}, {\"Book\": \"Lust for Life\", \"Author(s)\": \"Irving Stone\", \"Original language\": \"English\", \"First published\": 1934, \"Approximate sales in millions\": 25.0, \"Genre\": \"Biographical novel\"}, {\"Book\": \"The Wind in the Willows\", \"Author(s)\": \"Kenneth Grahame\", \"Original language\": \"English\", \"First published\": 1908, \"Approximate sales in millions\": 25.0, \"Genre\": \"Children's literature\"}, {\"Book\": \"The 7 Habits of Highly Effective People\", \"Author(s)\": \"Stephen R. Covey\", \"Original language\": \"English\", \"First published\": 1989, \"Approximate sales in millions\": 25.0, \"Genre\": \"Self-help\"}, {\"Book\": \"Virgin Soil Upturned (\\u041f\\u043e\\u0434\\u043d\\u044f\\u0442\\u0430\\u044f \\u0446\\u0435\\u043b\\u0438\\u043d\\u0430)\", \"Author(s)\": \"Mikhail Sholokhov\", \"Original language\": \"Russian\", \"First published\": 1935, \"Approximate sales in millions\": 24.0, \"Genre\": \"Novel\"}, {\"Book\": \"The Celestine Prophecy\", \"Author(s)\": \"James Redfield\", \"Original language\": \"English\", \"First published\": 1993, \"Approximate sales in millions\": 23.0, \"Genre\": \"New-age spiritual novel\"}, {\"Book\": \"The Fault in Our Stars\", \"Author(s)\": \"John Green\", \"Original language\": \"English\", \"First published\": 2012, \"Approximate sales in millions\": 23.0, \"Genre\": \"Young adult romantic novel\"}, {\"Book\": \"The Girl on the Train\", \"Author(s)\": \"Paula Hawkins\", \"Original language\": \"English\", \"First published\": 2015, \"Approximate sales in millions\": 23.0, \"Genre\": \"Thriller\"}, {\"Book\": \"The Shack\", \"Author(s)\": \"William P. Young\", \"Original language\": \"English\", \"First published\": 2007, \"Approximate sales in millions\": 22.5, \"Genre\": \"Novel\"}, {\"Book\": \"Uncle Styopa (\\u0414\\u044f\\u0434\\u044f \\u0421\\u0442\\u0451\\u043f\\u0430)\", \"Author(s)\": \"Sergey Mikhalkov\", \"Original language\": \"Russian\", \"First published\": 1936, \"Approximate sales in millions\": 21.0, \"Genre\": \"Children's Literature, picture book\"}, {\"Book\": \"The Godfather\", \"Author(s)\": \"Mario Puzo\", \"Original language\": \"English\", \"First published\": 1969, \"Approximate sales in millions\": 21.0, \"Genre\": \"Crime novel\"}, {\"Book\": \"Love Story\", \"Author(s)\": \"Erich Segal\", \"Original language\": \"English\", \"First published\": 1970, \"Approximate sales in millions\": 21.0, \"Genre\": \"Romance novel\"}, {\"Book\": \"Catching Fire\", \"Author(s)\": \"Suzanne Collins\", \"Original language\": \"English\", \"First published\": 2009, \"Approximate sales in millions\": 21.0, \"Genre\": \"Young Adult novel, adventure, dystopian, science fiction\"}, {\"Book\": \"Mockingjay\", \"Author(s)\": \"Suzanne Collins\", \"Original language\": \"English\", \"First published\": 2010, \"Approximate sales in millions\": 20.0, \"Genre\": \"Young Adult novel, adventure, war, science fiction, action thriller\"}, {\"Book\": \"Kitchen (\\u30ad\\u30c3\\u30c1\\u30f3)\", \"Author(s)\": \"Banana Yoshimoto\", \"Original language\": \"Japanese\", \"First published\": 1988, \"Approximate sales in millions\": 20.0, \"Genre\": \"Japanese novel\"}, {\"Book\": \"Andromeda Nebula (\\u0422\\u0443\\u043c\\u0430\\u043d\\u043d\\u043e\\u0441\\u0442\\u044c \\u0410\\u043d\\u0434\\u0440\\u043e\\u043c\\u0435\\u0434\\u044b)\", \"Author(s)\": \"Ivan Yefremov\", \"Original language\": \"Russian\", \"First published\": 1957, \"Approximate sales in millions\": 20.0, \"Genre\": \"Science fiction novel\"}, {\"Book\": \"Autobiography of a Yogi (\\u092f\\u094b\\u0917\\u0940 \\u0915\\u0925\\u093e\\u092e\\u0943\\u0924)\", \"Author(s)\": \"Paramahansa Yogananda\", \"Original language\": \"Hindi\", \"First published\": 1946, \"Approximate sales in millions\": 20.0, \"Genre\": \"Autobiography\"}, {\"Book\": \"Gone Girl\", \"Author(s)\": \"Gillian Flynn\", \"Original language\": \"English\", \"First published\": 2012, \"Approximate sales in millions\": 20.0, \"Genre\": \"Crime thriller novel\"}, {\"Book\": \"All Quiet on the Western Front (Im Westen nichts Neues)\", \"Author(s)\": \"Erich Maria Remarque\", \"Original language\": \"German\", \"First published\": 1929, \"Approximate sales in millions\": 20.0, \"Genre\": \"War novel\"}, {\"Book\": \"The Bermuda Triangle\", \"Author(s)\": \"Charles Berlitz\", \"Original language\": \"English\", \"First published\": 1974, \"Approximate sales in millions\": 20.0, \"Genre\": null}, {\"Book\": \"Things Fall Apart \", \"Author(s)\": \"Chinua Achebe\", \"Original language\": \"English\", \"First published\": 1958, \"Approximate sales in millions\": 20.0, \"Genre\": \"Novel\"}, {\"Book\": \"Animal Farm \", \"Author(s)\": \"George Orwell\", \"Original language\": \"English\", \"First published\": 1945, \"Approximate sales in millions\": 20.0, \"Genre\": \"Satirical allegorical novella, Political satire, Dystopian Fiction, Roman \\u00e0 clef\"}, {\"Book\": \"Wolf Totem (\\u72fc\\u56fe\\u817e)\", \"Author(s)\": \"Jiang Rong\", \"Original language\": \"Chinese\", \"First published\": 2004, \"Approximate sales in millions\": 20.0, \"Genre\": \"Semi-autobiographical novel\"}, {\"Book\": \"The Happy Hooker: My Own Story\", \"Author(s)\": \"Xaviera Hollander\", \"Original language\": \"English\", \"First published\": 1971, \"Approximate sales in millions\": 20.0, \"Genre\": \"Memoir\"}, {\"Book\": \"Jaws\", \"Author(s)\": \"Peter Benchley\", \"Original language\": \"English\", \"First published\": 1974, \"Approximate sales in millions\": 20.0, \"Genre\": \"Thriller\"}, {\"Book\": \"Love You Forever\", \"Author(s)\": \"Robert Munsch\", \"Original language\": \"English\", \"First published\": 1986, \"Approximate sales in millions\": 20.0, \"Genre\": \"Children's literature, picture book, fiction\"}, {\"Book\": \"The Women's Room\", \"Author(s)\": \"Marilyn French\", \"Original language\": \"English\", \"First published\": 1977, \"Approximate sales in millions\": 20.0, \"Genre\": \"Feminist novel\"}, {\"Book\": \"What to Expect When You're Expecting\", \"Author(s)\": \"Arlene Eisenberg and Heidi Murkoff\", \"Original language\": \"English\", \"First published\": 1984, \"Approximate sales in millions\": 20.0, \"Genre\": \"Pregnancy guide\"}, {\"Book\": \"Adventures of Huckleberry Finn\", \"Author(s)\": \"Mark Twain\", \"Original language\": \"English\", \"First published\": 1885, \"Approximate sales in millions\": 20.0, \"Genre\": \"Picaresque novel, Bildungsroman, satire, Robinsonade\"}, {\"Book\": \"The Secret Diary of Adrian Mole, Aged 13\\u00be\", \"Author(s)\": \"Sue Townsend\", \"Original language\": \"English\", \"First published\": 1982, \"Approximate sales in millions\": 20.0, \"Genre\": \"Young adult novel\"}, {\"Book\": \"Pride and Prejudice\", \"Author(s)\": \"Jane Austen\", \"Original language\": \"English\", \"First published\": 1813, \"Approximate sales in millions\": 20.0, \"Genre\": \"Classic regency novel, romance\"}, {\"Book\": \"Kon-Tiki: Across the Pacific in a Raft (Kon-Tiki ekspedisjonen)\", \"Author(s)\": \"Thor Heyerdahl\", \"Original language\": \"Norwegian\", \"First published\": 1950, \"Approximate sales in millions\": 20.0, \"Genre\": \"Travel literature\"}, {\"Book\": \"The Good Soldier \\u0160vejk (Osudy dobr\\u00e9ho voj\\u00e1ka \\u0160vejka za sv\\u011btov\\u00e9 v\\u00e1lky)\", \"Author(s)\": \"Jaroslav Ha\\u0161ek\", \"Original language\": \"Czech\", \"First published\": 1923, \"Approximate sales in millions\": 20.0, \"Genre\": \"Unfinished satirical dark comedy novel\"}, {\"Book\": \"Where the Wild Things Are\", \"Author(s)\": \"Maurice Sendak\", \"Original language\": \"English\", \"First published\": 1963, \"Approximate sales in millions\": 20.0, \"Genre\": \"Children's picture book\"}, {\"Book\": \"The Power of Positive Thinking\", \"Author(s)\": \"Norman Vincent Peale\", \"Original language\": \"English\", \"First published\": 1952, \"Approximate sales in millions\": 20.0, \"Genre\": \"Self-help\"}, {\"Book\": \"The Secret\", \"Author(s)\": \"Rhonda Byrne\", \"Original language\": \"English\", \"First published\": 2006, \"Approximate sales in millions\": 20.0, \"Genre\": \"Self-help\"}, {\"Book\": \"Fear of Flying\", \"Author(s)\": \"Erica Jong\", \"Original language\": \"English\", \"First published\": 1973, \"Approximate sales in millions\": 20.0, \"Genre\": \"Romantic novel\"}, {\"Book\": \"Dune\", \"Author(s)\": \"Frank Herbert\", \"Original language\": \"English\", \"First published\": 1965, \"Approximate sales in millions\": 20.0, \"Genre\": \"Science fiction novel\"}, {\"Book\": \"Charlie and the Chocolate Factory\", \"Author(s)\": \"Roald Dahl\", \"Original language\": \"English\", \"First published\": 1964, \"Approximate sales in millions\": 20.0, \"Genre\": \"Children's fantasy novel\"}, {\"Book\": \"The Naked Ape\", \"Author(s)\": \"Desmond Morris\", \"Original language\": \"English\", \"First published\": 1968, \"Approximate sales in millions\": 20.0, \"Genre\": \"Social Science, Anthropology, Psychology\"}, {\"Book\": \"Where the Crawdads Sing\", \"Author(s)\": \"Delia Owens\", \"Original language\": \"English\", \"First published\": 2018, \"Approximate sales in millions\": 18.0, \"Genre\": \"Coming-of-age Murder mystery\"}, {\"Book\": \"Totto-chan, the Little Girl at the Window (\\u7a93\\u304e\\u308f\\u306e\\u30c8\\u30c3\\u30c8\\u3061\\u3083\\u3093)\", \"Author(s)\": \"Tetsuko Kuroyanagi\", \"Original language\": \"Japanese\", \"First published\": 1981, \"Approximate sales in millions\": 18.0, \"Genre\": \"Autobiographical novel\"}, {\"Book\": \"Matilda\", \"Author(s)\": \"Roald Dahl\", \"Original language\": \"English\", \"First published\": 1988, \"Approximate sales in millions\": 17.0, \"Genre\": \"Children's Literature\"}, {\"Book\": \"The Book Thief\", \"Author(s)\": \"Markus Zusak\", \"Original language\": \"English\", \"First published\": 2005, \"Approximate sales in millions\": 16.0, \"Genre\": \"Young Adult Fiction\"}, {\"Book\": \"The Horse Whisperer\", \"Author(s)\": \"Nicholas Evans\", \"Original language\": \"English\", \"First published\": 1995, \"Approximate sales in millions\": 16.0, \"Genre\": null}, {\"Book\": \"Goodnight Moon\", \"Author(s)\": \"Margaret Wise Brown\", \"Original language\": \"English\", \"First published\": 1947, \"Approximate sales in millions\": 16.0, \"Genre\": \"Children's Literature\"}, {\"Book\": \"The Neverending Story (Die unendliche Geschichte)\", \"Author(s)\": \"Michael Ende\", \"Original language\": \"German\", \"First published\": 1979, \"Approximate sales in millions\": 16.0, \"Genre\": \"Children's Literature\"}, {\"Book\": \"All the Light We Cannot See\", \"Author(s)\": \"Anthony Doerr\", \"Original language\": \"English\", \"First published\": 2014, \"Approximate sales in millions\": 15.3, \"Genre\": \"Historical fiction, war novel\"}, {\"Book\": \"Fifty Shades of Grey\", \"Author(s)\": \"E. L. James\", \"Original language\": \"English\", \"First published\": 2011, \"Approximate sales in millions\": 15.2, \"Genre\": \"Erotica\"}, {\"Book\": \"The Outsiders\", \"Author(s)\": \"S. E. Hinton\", \"Original language\": \"English\", \"First published\": 1967, \"Approximate sales in millions\": 15.0, \"Genre\": null}, {\"Book\": \"Guess How Much I Love You\", \"Author(s)\": \"Sam McBratney\", \"Original language\": \"English\", \"First published\": 1994, \"Approximate sales in millions\": 15.0, \"Genre\": null}, {\"Book\": \"Sh\\u014dgun\", \"Author(s)\": \"James Clavell\", \"Original language\": \"English\", \"First published\": 1975, \"Approximate sales in millions\": 15.0, \"Genre\": null}, {\"Book\": \"The Poky Little Puppy\", \"Author(s)\": \"Janette Sebring Lowrey\", \"Original language\": \"English\", \"First published\": 1942, \"Approximate sales in millions\": 15.0, \"Genre\": null}, {\"Book\": \"The Pillars of the Earth\", \"Author(s)\": \"Ken Follett\", \"Original language\": \"English\", \"First published\": 1989, \"Approximate sales in millions\": 15.0, \"Genre\": \"Historical fiction\"}, {\"Book\": \"Perfume (Das Parfum)\", \"Author(s)\": \"Patrick S\\u00fcskind\", \"Original language\": \"German\", \"First published\": 1985, \"Approximate sales in millions\": 15.0, \"Genre\": null}, {\"Book\": \"The Grapes of Wrath\", \"Author(s)\": \"John Steinbeck\", \"Original language\": \"English\", \"First published\": 1939, \"Approximate sales in millions\": 15.0, \"Genre\": null}, {\"Book\": \"The Shadow of the Wind (La sombra del viento)\", \"Author(s)\": \"Carlos Ruiz Zaf\\u00f3n\", \"Original language\": \"Spanish\", \"First published\": 2001, \"Approximate sales in millions\": 15.0, \"Genre\": null}, {\"Book\": \"Interpreter of Maladies\", \"Author(s)\": \"Jhumpa Lahiri\", \"Original language\": \"English\", \"First published\": 2000, \"Approximate sales in millions\": 15.0, \"Genre\": null}, {\"Book\": \"Becoming\", \"Author(s)\": \"Michelle Obama\", \"Original language\": \"English\", \"First published\": 2018, \"Approximate sales in millions\": 14.0, \"Genre\": null}, {\"Book\": \"The Hitchhiker's Guide to the Galaxy\", \"Author(s)\": \"Douglas Adams\", \"Original language\": \"English\", \"First published\": 1979, \"Approximate sales in millions\": 14.0, \"Genre\": \"Science fiction\"}, {\"Book\": \"Tuesdays with Morrie\", \"Author(s)\": \"Mitch Albom\", \"Original language\": \"English\", \"First published\": 1997, \"Approximate sales in millions\": 14.0, \"Genre\": null}, {\"Book\": \"God's Little Acre\", \"Author(s)\": \"Erskine Caldwell\", \"Original language\": \"English\", \"First published\": 1933, \"Approximate sales in millions\": 14.0, \"Genre\": null}, {\"Book\": \"Follow Your Heart (Va' dove ti porta il cuore)\", \"Author(s)\": \"Susanna Tamaro\", \"Original language\": \"Italian\", \"First published\": 1994, \"Approximate sales in millions\": 14.0, \"Genre\": null}, {\"Book\": \"A Wrinkle in Time\", \"Author(s)\": \"Madeleine L'Engle\", \"Original language\": \"English\", \"First published\": 1962, \"Approximate sales in millions\": 14.0, \"Genre\": null}, {\"Book\": \"Long Walk to Freedom\", \"Author(s)\": \"Nelson Mandela\", \"Original language\": \"English\", \"First published\": 1994, \"Approximate sales in millions\": 14.0, \"Genre\": null}, {\"Book\": \"The Old Man and the Sea\", \"Author(s)\": \"Ernest Hemingway\", \"Original language\": \"English\", \"First published\": 1952, \"Approximate sales in millions\": 13.0, \"Genre\": null}, {\"Book\": \"Life After Life\", \"Author(s)\": \"Raymond Moody\", \"Original language\": \"English\", \"First published\": 1975, \"Approximate sales in millions\": 13.0, \"Genre\": null}, {\"Book\": \"Peyton Place \", \"Author(s)\": \"Grace Metalious\", \"Original language\": \"English\", \"First published\": 1956, \"Approximate sales in millions\": 12.1, \"Genre\": null}, {\"Book\": \"The Giver\", \"Author(s)\": \"Lois Lowry\", \"Original language\": \"English\", \"First published\": 1993, \"Approximate sales in millions\": 12.0, \"Genre\": \"Dystopian fiction\"}, {\"Book\": \"Me Before You\", \"Author(s)\": \"Jojo Moyes\", \"Original language\": \"English\", \"First published\": 2012, \"Approximate sales in millions\": 12.0, \"Genre\": null}, {\"Book\": \"Norwegian Wood (\\u30ce\\u30eb\\u30a6\\u30a7\\u30a4\\u306e\\u68ee)\", \"Author(s)\": \"Haruki Murakami\", \"Original language\": \"Japanese\", \"First published\": 1987, \"Approximate sales in millions\": 12.0, \"Genre\": null}, {\"Book\": \"The Plague (La Peste)\", \"Author(s)\": \"Albert Camus\", \"Original language\": \"French\", \"First published\": 1947, \"Approximate sales in millions\": 12.0, \"Genre\": null}, {\"Book\": \"No Longer Human (\\u4eba\\u9593\\u5931\\u683c)\", \"Author(s)\": \"Osamu Dazai\", \"Original language\": \"Japanese\", \"First published\": 1948, \"Approximate sales in millions\": 12.0, \"Genre\": null}, {\"Book\": \"Man's Search for Meaning (Ein Psychologe erlebt das Konzentrationslager)\", \"Author(s)\": \"Viktor Frankl\", \"Original language\": \"German\", \"First published\": 1946, \"Approximate sales in millions\": 12.0, \"Genre\": null}, {\"Book\": \"The Divine Comedy (La Divina Commedia)\", \"Author(s)\": \"Dante Alighieri\", \"Original language\": \"Italian\", \"First published\": 1304, \"Approximate sales in millions\": 11.5, \"Genre\": null}, {\"Book\": \"The Prophet\", \"Author(s)\": \"Kahlil Gibran\", \"Original language\": \"English\", \"First published\": 1923, \"Approximate sales in millions\": 11.0, \"Genre\": null}, {\"Book\": \"The Boy in the Striped Pyjamas\", \"Author(s)\": \"John Boyne\", \"Original language\": \"English\", \"First published\": 2006, \"Approximate sales in millions\": 11.0, \"Genre\": null}, {\"Book\": \"The Exorcist\", \"Author(s)\": \"William Peter Blatty\", \"Original language\": \"English\", \"First published\": 1971, \"Approximate sales in millions\": 11.0, \"Genre\": \"Horror\"}, {\"Book\": \"The Gruffalo\", \"Author(s)\": \"Julia Donaldson\", \"Original language\": \"English\", \"First published\": 1999, \"Approximate sales in millions\": 10.5, \"Genre\": null}, {\"Book\": \"Fifty Shades Darker\", \"Author(s)\": \"E. L. James\", \"Original language\": \"English\", \"First published\": 2012, \"Approximate sales in millions\": 10.4, \"Genre\": \"Erotica\"}, {\"Book\": \"Tobacco Road\", \"Author(s)\": \"Erskine Caldwell\", \"Original language\": \"English\", \"First published\": 1932, \"Approximate sales in millions\": 10.0, \"Genre\": null}, {\"Book\": \"Ronia, the Robber's Daughter\", \"Author(s)\": \"Astrid Lindgren\", \"Original language\": \"Swedish\", \"First published\": 1981, \"Approximate sales in millions\": 10.0, \"Genre\": null}, {\"Book\": \"The Cat in the Hat\", \"Author(s)\": \"Dr. Seuss\", \"Original language\": \"English\", \"First published\": 1957, \"Approximate sales in millions\": 10.5, \"Genre\": null}, {\"Book\": \"Diana: Her True Story\", \"Author(s)\": \"Andrew Morton\", \"Original language\": \"English\", \"First published\": 1992, \"Approximate sales in millions\": 10.0, \"Genre\": null}, {\"Book\": \"The Help\", \"Author(s)\": \"Kathryn Stockett\", \"Original language\": \"English\", \"First published\": 2009, \"Approximate sales in millions\": 10.0, \"Genre\": null}, {\"Book\": \"Catch-22\", \"Author(s)\": \"Joseph Heller\", \"Original language\": \"English\", \"First published\": 1961, \"Approximate sales in millions\": 10.0, \"Genre\": null}, {\"Book\": \"The Stranger (L'\\u00c9tranger)\", \"Author(s)\": \"Albert Camus\", \"Original language\": \"French\", \"First published\": 1942, \"Approximate sales in millions\": 10.0, \"Genre\": null}, {\"Book\": \"Eye of the Needle\", \"Author(s)\": \"Ken Follett\", \"Original language\": \"English\", \"First published\": 1978, \"Approximate sales in millions\": 10.0, \"Genre\": null}, {\"Book\": \"The Lovely Bones\", \"Author(s)\": \"Alice Sebold\", \"Original language\": \"English\", \"First published\": 2002, \"Approximate sales in millions\": 10.0, \"Genre\": null}, {\"Book\": \"Wild Swans\", \"Author(s)\": \"Jung Chang\", \"Original language\": \"English\", \"First published\": 1992, \"Approximate sales in millions\": 10.0, \"Genre\": null}, {\"Book\": \"Santa Evita\", \"Author(s)\": \"Tom\\u00e1s Eloy Mart\\u00ednez\", \"Original language\": \"Spanish\", \"First published\": 1995, \"Approximate sales in millions\": 10.0, \"Genre\": null}, {\"Book\": \"Night (Un di Velt Hot Geshvign)\", \"Author(s)\": \"Elie Wiesel\", \"Original language\": \"Yiddish\", \"First published\": 1958, \"Approximate sales in millions\": 10.0, \"Genre\": null}, {\"Book\": \"Confucius from the Heart (\\u4e8e\\u4e39\\u300a\\u8bba\\u8bed\\u300b\\u5fc3\\u5f97)\", \"Author(s)\": \"Yu Dan\", \"Original language\": \"Chinese\", \"First published\": 2006, \"Approximate sales in millions\": 10.0, \"Genre\": null}, {\"Book\": \"The Total Woman\", \"Author(s)\": \"Marabel Morgan\", \"Original language\": \"English\", \"First published\": 1974, \"Approximate sales in millions\": 10.0, \"Genre\": null}, {\"Book\": \"Knowledge-value Revolution (\\u77e5\\u4fa1\\u9769\\u547d)\", \"Author(s)\": \"Taichi Sakaiya\", \"Original language\": \"Japanese\", \"First published\": 1985, \"Approximate sales in millions\": 10.0, \"Genre\": null}, {\"Book\": \"Problems in China's Socialist Economy (\\u4e2d\\u56fd\\u793e\\u4f1a\\u4e3b\\u4e49\\u7ecf\\u6d4e\\u95ee\\u9898\\u7814\\u7a76)\", \"Author(s)\": \"Xue Muqiao\", \"Original language\": \"Chinese\", \"First published\": 1979, \"Approximate sales in millions\": 10.0, \"Genre\": null}, {\"Book\": \"What Color Is Your Parachute?\", \"Author(s)\": \"Richard Nelson Bolles\", \"Original language\": \"English\", \"First published\": 1970, \"Approximate sales in millions\": 10.0, \"Genre\": null}, {\"Book\": \"The Dukan Diet\", \"Author(s)\": \"Pierre Dukan\", \"Original language\": \"French\", \"First published\": 2000, \"Approximate sales in millions\": 10.0, \"Genre\": null}, {\"Book\": \"The Joy of Sex\", \"Author(s)\": \"Alex Comfort\", \"Original language\": \"English\", \"First published\": 1972, \"Approximate sales in millions\": 10.0, \"Genre\": null}, {\"Book\": \"The Gospel According to Peanuts\", \"Author(s)\": \"Robert L. Short\", \"Original language\": \"English\", \"First published\": 1965, \"Approximate sales in millions\": 10.0, \"Genre\": null}, {\"Book\": \"The Subtle Art of Not Giving a Fuck\", \"Author(s)\": \"Mark Manson\", \"Original language\": \"English\", \"First published\": 2016, \"Approximate sales in millions\": 10.0, \"Genre\": null}, {\"Book\": \"Life of Pi\", \"Author(s)\": \"Yann Martel\", \"Original language\": \"English\", \"First published\": 2001, \"Approximate sales in millions\": 10.0, \"Genre\": null}, {\"Book\": \"The Front Runner\", \"Author(s)\": \"Patricia Nell Warren\", \"Original language\": \"English\", \"First published\": 1974, \"Approximate sales in millions\": 10.0, \"Genre\": null}, {\"Book\": \"The Goal\", \"Author(s)\": \"Eliyahu M. Goldratt\", \"Original language\": \"English\", \"First published\": 1984, \"Approximate sales in millions\": 10.0, \"Genre\": null}, {\"Book\": \"Fahrenheit 451\", \"Author(s)\": \"Ray Bradbury\", \"Original language\": \"English\", \"First published\": 1953, \"Approximate sales in millions\": 10.0, \"Genre\": null}, {\"Book\": \"Angela's Ashes\", \"Author(s)\": \"Frank McCourt\", \"Original language\": \"English\", \"First published\": 1996, \"Approximate sales in millions\": 10.0, \"Genre\": null}, {\"Book\": \"The Story of My Experiments with Truth (\\u0ab8\\u0aa4\\u0acd\\u0aaf\\u0aa8\\u0abe \\u0aaa\\u0acd\\u0ab0\\u0aaf\\u0acb\\u0a97\\u0acb \\u0a85\\u0aa5\\u0ab5\\u0abe \\u0a86\\u0aa4\\u0acd\\u0aae\\u0a95\\u0aa5\\u0abe)\", \"Author(s)\": \"Mohandas Karamchand Gandhi\", \"Original language\": \"Gujarati\", \"First published\": 1929, \"Approximate sales in millions\": 10.0, \"Genre\": null}, {\"Book\": \"Bridget Jones's Diary\", \"Author(s)\": \"Helen Fielding\", \"Original language\": \"English\", \"First published\": 1996, \"Approximate sales in millions\": 10.0, \"Genre\": null}]}}, {\"mode\": \"vega-lite\"});\n",
       "</script>"
      ],
      "text/plain": [
       "alt.Chart(...)"
      ]
     },
     "execution_count": 8,
     "metadata": {},
     "output_type": "execute_result"
    }
   ],
   "source": [
    "alt.Chart(df).mark_circle().encode(\n",
    "    y='Approximate sales in millions', \n",
    "    x='Original language:N',  \n",
    "    color='Original language',\n",
    "    tooltip = ['Author(s)', 'Original language', 'Book', 'Genre', 'Approximate sales in millions']\n",
    "\n",
    ")"
   ]
  },
  {
   "cell_type": "markdown",
   "id": "33cd298e",
   "metadata": {
    "papermill": {
     "duration": 0.009267,
     "end_time": "2024-04-30T15:56:21.099246",
     "exception": false,
     "start_time": "2024-04-30T15:56:21.089979",
     "status": "completed"
    },
    "tags": []
   },
   "source": [
    "## Most Popular Genres"
   ]
  },
  {
   "cell_type": "code",
   "execution_count": 9,
   "id": "a618d14c",
   "metadata": {
    "execution": {
     "iopub.execute_input": "2024-04-30T15:56:21.119516Z",
     "iopub.status.busy": "2024-04-30T15:56:21.119178Z",
     "iopub.status.idle": "2024-04-30T15:56:21.183176Z",
     "shell.execute_reply": "2024-04-30T15:56:21.182055Z"
    },
    "papermill": {
     "duration": 0.076691,
     "end_time": "2024-04-30T15:56:21.184947",
     "exception": false,
     "start_time": "2024-04-30T15:56:21.108256",
     "status": "completed"
    },
    "tags": []
   },
   "outputs": [
    {
     "data": {
      "text/html": [
       "\n",
       "<style>\n",
       "  #altair-viz-699936fe3d1a4709867280e7ec37df56.vega-embed {\n",
       "    width: 100%;\n",
       "    display: flex;\n",
       "  }\n",
       "\n",
       "  #altair-viz-699936fe3d1a4709867280e7ec37df56.vega-embed details,\n",
       "  #altair-viz-699936fe3d1a4709867280e7ec37df56.vega-embed details summary {\n",
       "    position: relative;\n",
       "  }\n",
       "</style>\n",
       "<div id=\"altair-viz-699936fe3d1a4709867280e7ec37df56\"></div>\n",
       "<script type=\"text/javascript\">\n",
       "  var VEGA_DEBUG = (typeof VEGA_DEBUG == \"undefined\") ? {} : VEGA_DEBUG;\n",
       "  (function(spec, embedOpt){\n",
       "    let outputDiv = document.currentScript.previousElementSibling;\n",
       "    if (outputDiv.id !== \"altair-viz-699936fe3d1a4709867280e7ec37df56\") {\n",
       "      outputDiv = document.getElementById(\"altair-viz-699936fe3d1a4709867280e7ec37df56\");\n",
       "    }\n",
       "    const paths = {\n",
       "      \"vega\": \"https://cdn.jsdelivr.net/npm/vega@5?noext\",\n",
       "      \"vega-lib\": \"https://cdn.jsdelivr.net/npm/vega-lib?noext\",\n",
       "      \"vega-lite\": \"https://cdn.jsdelivr.net/npm/vega-lite@5.17.0?noext\",\n",
       "      \"vega-embed\": \"https://cdn.jsdelivr.net/npm/vega-embed@6?noext\",\n",
       "    };\n",
       "\n",
       "    function maybeLoadScript(lib, version) {\n",
       "      var key = `${lib.replace(\"-\", \"\")}_version`;\n",
       "      return (VEGA_DEBUG[key] == version) ?\n",
       "        Promise.resolve(paths[lib]) :\n",
       "        new Promise(function(resolve, reject) {\n",
       "          var s = document.createElement('script');\n",
       "          document.getElementsByTagName(\"head\")[0].appendChild(s);\n",
       "          s.async = true;\n",
       "          s.onload = () => {\n",
       "            VEGA_DEBUG[key] = version;\n",
       "            return resolve(paths[lib]);\n",
       "          };\n",
       "          s.onerror = () => reject(`Error loading script: ${paths[lib]}`);\n",
       "          s.src = paths[lib];\n",
       "        });\n",
       "    }\n",
       "\n",
       "    function showError(err) {\n",
       "      outputDiv.innerHTML = `<div class=\"error\" style=\"color:red;\">${err}</div>`;\n",
       "      throw err;\n",
       "    }\n",
       "\n",
       "    function displayChart(vegaEmbed) {\n",
       "      vegaEmbed(outputDiv, spec, embedOpt)\n",
       "        .catch(err => showError(`Javascript Error: ${err.message}<br>This usually means there's a typo in your chart specification. See the javascript console for the full traceback.`));\n",
       "    }\n",
       "\n",
       "    if(typeof define === \"function\" && define.amd) {\n",
       "      requirejs.config({paths});\n",
       "      require([\"vega-embed\"], displayChart, err => showError(`Error loading script: ${err.message}`));\n",
       "    } else {\n",
       "      maybeLoadScript(\"vega\", \"5\")\n",
       "        .then(() => maybeLoadScript(\"vega-lite\", \"5.17.0\"))\n",
       "        .then(() => maybeLoadScript(\"vega-embed\", \"6\"))\n",
       "        .catch(showError)\n",
       "        .then(() => displayChart(vegaEmbed));\n",
       "    }\n",
       "  })({\"config\": {\"view\": {\"continuousWidth\": 300, \"continuousHeight\": 300}}, \"data\": {\"name\": \"data-53746a97c85668a3938be06709cf3a13\"}, \"mark\": {\"type\": \"circle\"}, \"encoding\": {\"color\": {\"field\": \"Genre\", \"type\": \"nominal\"}, \"tooltip\": [{\"field\": \"Author(s)\", \"type\": \"nominal\"}, {\"field\": \"Original language\", \"type\": \"nominal\"}, {\"field\": \"Book\", \"type\": \"nominal\"}, {\"field\": \"Genre\", \"type\": \"nominal\"}, {\"field\": \"Approximate sales in millions\", \"type\": \"quantitative\"}], \"x\": {\"field\": \"Genre\", \"type\": \"nominal\"}, \"y\": {\"field\": \"Approximate sales in millions\", \"type\": \"quantitative\"}}, \"$schema\": \"https://vega.github.io/schema/vega-lite/v5.17.0.json\", \"datasets\": {\"data-53746a97c85668a3938be06709cf3a13\": [{\"Book\": \"A Tale of Two Cities\", \"Author(s)\": \"Charles Dickens\", \"Original language\": \"English\", \"First published\": 1859, \"Approximate sales in millions\": 200.0, \"Genre\": \"Historical fiction\"}, {\"Book\": \"The Little Prince (Le Petit Prince)\", \"Author(s)\": \"Antoine de Saint-Exup\\u00e9ry\", \"Original language\": \"French\", \"First published\": 1943, \"Approximate sales in millions\": 200.0, \"Genre\": \"Novella\"}, {\"Book\": \"Harry Potter and the Philosopher's Stone\", \"Author(s)\": \"J. K. Rowling\", \"Original language\": \"English\", \"First published\": 1997, \"Approximate sales in millions\": 120.0, \"Genre\": \"Fantasy\"}, {\"Book\": \"And Then There Were None\", \"Author(s)\": \"Agatha Christie\", \"Original language\": \"English\", \"First published\": 1939, \"Approximate sales in millions\": 100.0, \"Genre\": \"Mystery\"}, {\"Book\": \"Dream of the Red Chamber (\\u7d05\\u6a13\\u5922)\", \"Author(s)\": \"Cao Xueqin\", \"Original language\": \"Chinese\", \"First published\": 1791, \"Approximate sales in millions\": 100.0, \"Genre\": \"Family saga\"}, {\"Book\": \"The Hobbit\", \"Author(s)\": \"J. R. R. Tolkien\", \"Original language\": \"English\", \"First published\": 1937, \"Approximate sales in millions\": 100.0, \"Genre\": \"Fantasy\"}, {\"Book\": \"The Lion, the Witch and the Wardrobe\", \"Author(s)\": \"C. S. Lewis\", \"Original language\": \"English\", \"First published\": 1950, \"Approximate sales in millions\": 85.0, \"Genre\": \"Fantasy, Children's fiction\"}, {\"Book\": \"She: A History of Adventure\", \"Author(s)\": \"H. Rider Haggard\", \"Original language\": \"English\", \"First published\": 1887, \"Approximate sales in millions\": 83.0, \"Genre\": \"Adventure\"}, {\"Book\": \"Vardi Wala Gunda (\\u0935\\u0930\\u094d\\u0926\\u0940 \\u0935\\u093e\\u0932\\u093e \\u0917\\u0941\\u0902\\u0921\\u093e)\", \"Author(s)\": \"Ved Prakash Sharma\", \"Original language\": \"Hindi\", \"First published\": 1992, \"Approximate sales in millions\": 80.0, \"Genre\": \"Detective\"}, {\"Book\": \"The Da Vinci Code\", \"Author(s)\": \"Dan Brown\", \"Original language\": \"English\", \"First published\": 2003, \"Approximate sales in millions\": 80.0, \"Genre\": \"Mystery thriller\"}, {\"Book\": \"Harry Potter and the Chamber of Secrets\", \"Author(s)\": \"J. K. Rowling\", \"Original language\": \"English\", \"First published\": 1998, \"Approximate sales in millions\": 77.0, \"Genre\": \"Fantasy\"}, {\"Book\": \"Harry Potter and the Prisoner of Azkaban\", \"Author(s)\": \"J. K. Rowling\", \"Original language\": \"English\", \"First published\": 1999, \"Approximate sales in millions\": 65.0, \"Genre\": \"Fantasy\"}, {\"Book\": \"Harry Potter and the Goblet of Fire\", \"Author(s)\": \"J. K. Rowling\", \"Original language\": \"English\", \"First published\": 2000, \"Approximate sales in millions\": 65.0, \"Genre\": \"Fantasy\"}, {\"Book\": \"Harry Potter and the Order of the Phoenix\", \"Author(s)\": \"J. K. Rowling\", \"Original language\": \"English\", \"First published\": 2003, \"Approximate sales in millions\": 65.0, \"Genre\": \"Fantasy\"}, {\"Book\": \"Harry Potter and the Half-Blood Prince\", \"Author(s)\": \"J. K. Rowling\", \"Original language\": \"English\", \"First published\": 2005, \"Approximate sales in millions\": 65.0, \"Genre\": \"Fantasy\"}, {\"Book\": \"Harry Potter and the Deathly Hallows\", \"Author(s)\": \"J. K. Rowling\", \"Original language\": \"English\", \"First published\": 2007, \"Approximate sales in millions\": 65.0, \"Genre\": \"Fantasy\"}, {\"Book\": \"The Alchemist (O Alquimista)\", \"Author(s)\": \"Paulo Coelho\", \"Original language\": \"Portuguese\", \"First published\": 1988, \"Approximate sales in millions\": 65.0, \"Genre\": \"Fantasy\"}, {\"Book\": \"The Catcher in the Rye\", \"Author(s)\": \"J. D. Salinger\", \"Original language\": \"English\", \"First published\": 1951, \"Approximate sales in millions\": 65.0, \"Genre\": \"Coming-of-age\"}, {\"Book\": \"The Bridges of Madison County\", \"Author(s)\": \"Robert James Waller\", \"Original language\": \"English\", \"First published\": 1992, \"Approximate sales in millions\": 60.0, \"Genre\": \"Romance\"}, {\"Book\": \"Ben-Hur: A Tale of the Christ\", \"Author(s)\": \"Lew Wallace\", \"Original language\": \"English\", \"First published\": 1880, \"Approximate sales in millions\": 50.0, \"Genre\": \"Historical fiction\"}, {\"Book\": \"You Can Heal Your Life\", \"Author(s)\": \"Louise Hay\", \"Original language\": \"English\", \"First published\": 1984, \"Approximate sales in millions\": 50.0, \"Genre\": \"Self-help\"}, {\"Book\": \"One Hundred Years of Solitude (Cien a\\u00f1os de soledad)\", \"Author(s)\": \"Gabriel Garc\\u00eda M\\u00e1rquez\", \"Original language\": \"Spanish\", \"First published\": 1967, \"Approximate sales in millions\": 50.0, \"Genre\": \"Magic realism\"}, {\"Book\": \"Lolita\", \"Author(s)\": \"Vladimir Nabokov\", \"Original language\": \"English\", \"First published\": 1955, \"Approximate sales in millions\": 50.0, \"Genre\": \"Novel\"}, {\"Book\": \"Heidi\", \"Author(s)\": \"Johanna Spyri\", \"Original language\": \"German\", \"First published\": 1880, \"Approximate sales in millions\": 50.0, \"Genre\": \"Children's fiction\"}, {\"Book\": \"The Common Sense Book of Baby and Child Care\", \"Author(s)\": \"Benjamin Spock\", \"Original language\": \"English\", \"First published\": 1946, \"Approximate sales in millions\": 50.0, \"Genre\": \"Manual\"}, {\"Book\": \"Anne of Green Gables\", \"Author(s)\": \"Lucy Maud Montgomery\", \"Original language\": \"English\", \"First published\": 1908, \"Approximate sales in millions\": 50.0, \"Genre\": \"Children's novel\"}, {\"Book\": \"Black Beauty\", \"Author(s)\": \"Anna Sewell\", \"Original language\": \"English\", \"First published\": 1877, \"Approximate sales in millions\": 50.0, \"Genre\": \"Children's literature\"}, {\"Book\": \"The Name of the Rose (Il Nome della Rosa)\", \"Author(s)\": \"Umberto Eco\", \"Original language\": \"Italian\", \"First published\": 1980, \"Approximate sales in millions\": 50.0, \"Genre\": \"Historical novel, mystery\"}, {\"Book\": \"The Eagle Has Landed\", \"Author(s)\": \"Jack Higgins\", \"Original language\": \"English\", \"First published\": 1975, \"Approximate sales in millions\": 50.0, \"Genre\": \"War, thriller\"}, {\"Book\": \"Watership Down\", \"Author(s)\": \"Richard Adams\", \"Original language\": \"English\", \"First published\": 1972, \"Approximate sales in millions\": 50.0, \"Genre\": \"Fantasy\"}, {\"Book\": \"The Hite Report\", \"Author(s)\": \"Shere Hite\", \"Original language\": \"English\", \"First published\": 1976, \"Approximate sales in millions\": 50.0, \"Genre\": \"Sexology\"}, {\"Book\": \"Charlotte's Web\", \"Author(s)\": \"E. B. White; illustrated by Garth Williams\", \"Original language\": \"English\", \"First published\": 1952, \"Approximate sales in millions\": 50.0, \"Genre\": \"Children's fiction\"}, {\"Book\": \"The Ginger Man\", \"Author(s)\": \"J. P. Donleavy\", \"Original language\": \"English\", \"First published\": 1955, \"Approximate sales in millions\": 50.0, \"Genre\": \"Novel\"}, {\"Book\": \"The Tale of Peter Rabbit\", \"Author(s)\": \"Beatrix Potter\", \"Original language\": \"English\", \"First published\": 1902, \"Approximate sales in millions\": 45.0, \"Genre\": \"Children's Literature\"}, {\"Book\": \"Jonathan Livingston Seagull\", \"Author(s)\": \"Richard Bach\", \"Original language\": \"English\", \"First published\": 1970, \"Approximate sales in millions\": 44.0, \"Genre\": \"Novella, Self-help\"}, {\"Book\": \"The Very Hungry Caterpillar\", \"Author(s)\": \"Eric Carle\", \"Original language\": \"English\", \"First published\": 1969, \"Approximate sales in millions\": 43.0, \"Genre\": \"Children's Literature, picture book\"}, {\"Book\": \"A Message to Garcia\", \"Author(s)\": \"Elbert Hubbard\", \"Original language\": \"English\", \"First published\": 1899, \"Approximate sales in millions\": 40.0, \"Genre\": \"Essay/Literature\"}, {\"Book\": \"To Kill a Mockingbird\", \"Author(s)\": \"Harper Lee\", \"Original language\": \"English\", \"First published\": 1960, \"Approximate sales in millions\": 40.0, \"Genre\": \"Southern Gothic, Bildungsroman\"}, {\"Book\": \"Flowers in the Attic\", \"Author(s)\": \"V. C. Andrews\", \"Original language\": \"English\", \"First published\": 1979, \"Approximate sales in millions\": 40.0, \"Genre\": \"Gothic horror, Family saga\"}, {\"Book\": \"Cosmos\", \"Author(s)\": \"Carl Sagan\", \"Original language\": \"English\", \"First published\": 1980, \"Approximate sales in millions\": 40.0, \"Genre\": \"Popular science, Anthropology, Astrophysics, Cosmology, Philosophy, History\"}, {\"Book\": \"Sophie's World (Sofies verden)\", \"Author(s)\": \"Jostein Gaarder\", \"Original language\": \"Norwegian\", \"First published\": 1991, \"Approximate sales in millions\": 40.0, \"Genre\": \"Philosophical novel, Young adult\"}, {\"Book\": \"Angels & Demons\", \"Author(s)\": \"Dan Brown\", \"Original language\": \"English\", \"First published\": 2000, \"Approximate sales in millions\": 39.0, \"Genre\": \"Mystery-thriller\"}, {\"Book\": \"Kane and Abel\", \"Author(s)\": \"Jeffrey Archer\", \"Original language\": \"English\", \"First published\": 1979, \"Approximate sales in millions\": 37.0, \"Genre\": \"Novel\"}, {\"Book\": \"How the Steel Was Tempered (\\u041a\\u0430\\u043a \\u0437\\u0430\\u043a\\u0430\\u043b\\u044f\\u043b\\u0430\\u0441\\u044c \\u0441\\u0442\\u0430\\u043b\\u044c)\", \"Author(s)\": \"Nikolai Ostrovsky\", \"Original language\": \"Russian\", \"First published\": 1932, \"Approximate sales in millions\": 36.4, \"Genre\": \"Socialist realist novel\"}, {\"Book\": \"War and Peace (\\u0412\\u043e\\u0439\\u043d\\u0430 \\u0438 \\u043c\\u0438\\u0440)\", \"Author(s)\": \"Leo Tolstoy\", \"Original language\": \"Russian\", \"First published\": 1869, \"Approximate sales in millions\": 36.0, \"Genre\": \"Historical novel\"}, {\"Book\": \"The Adventures of Pinocchio (Le avventure di Pinocchio)\", \"Author(s)\": \"Carlo Collodi\", \"Original language\": \"Italian\", \"First published\": 1881, \"Approximate sales in millions\": 35.0, \"Genre\": \"Fantasy, Children's fiction\"}, {\"Book\": \"The Diary of Anne Frank (Het Achterhuis)\", \"Author(s)\": \"Anne Frank\", \"Original language\": \"Dutch\", \"First published\": 1947, \"Approximate sales in millions\": 35.0, \"Genre\": \"Historical non-fiction, Autobiography, Memoir, Bildungsroman / Coming of Age, Jewish literature\"}, {\"Book\": \"Your Erroneous Zones\", \"Author(s)\": \"Wayne Dyer\", \"Original language\": \"English\", \"First published\": 1976, \"Approximate sales in millions\": 35.0, \"Genre\": \"Self-help\"}, {\"Book\": \"The Thorn Birds\", \"Author(s)\": \"Colleen McCullough\", \"Original language\": \"English\", \"First published\": 1977, \"Approximate sales in millions\": 33.0, \"Genre\": \"Romantic family saga\"}, {\"Book\": \"The Purpose Driven Life\", \"Author(s)\": \"Rick Warren\", \"Original language\": \"English\", \"First published\": 2002, \"Approximate sales in millions\": 33.0, \"Genre\": \"Christian literature\"}, {\"Book\": \"The Kite Runner\", \"Author(s)\": \"Khaled Hosseini\", \"Original language\": \"English\", \"First published\": 2003, \"Approximate sales in millions\": 31.5, \"Genre\": \"Bildungsroman, Historical fiction\"}, {\"Book\": \"Valley of the Dolls\", \"Author(s)\": \"Jacqueline Susann\", \"Original language\": \"English\", \"First published\": 1966, \"Approximate sales in millions\": 31.0, \"Genre\": \"Novel\"}, {\"Book\": \"Alcoholics Anonymous Big Book\", \"Author(s)\": \"Bill Wilson\", \"Original language\": \"English\", \"First published\": 1939, \"Approximate sales in millions\": 30.0, \"Genre\": \"Self-help\"}, {\"Book\": \"How to Win Friends and Influence People\", \"Author(s)\": \"Dale Carnegie\", \"Original language\": \"English\", \"First published\": 1936, \"Approximate sales in millions\": 30.0, \"Genre\": \"Self-help\"}, {\"Book\": \"The Great Gatsby\", \"Author(s)\": \"F. Scott Fitzgerald\", \"Original language\": \"English\", \"First published\": 1925, \"Approximate sales in millions\": 30.0, \"Genre\": \"Novel, tragedy\"}, {\"Book\": \"Gone with the Wind\", \"Author(s)\": \"Margaret Mitchell\", \"Original language\": \"English\", \"First published\": 1936, \"Approximate sales in millions\": 30.0, \"Genre\": \"Historical fiction\"}, {\"Book\": \"Rebecca\", \"Author(s)\": \"Daphne du Maurier\", \"Original language\": \"English\", \"First published\": 1938, \"Approximate sales in millions\": 30.0, \"Genre\": \"Gothic novel\"}, {\"Book\": \"Nineteen Eighty-Four\", \"Author(s)\": \"George Orwell\", \"Original language\": \"English\", \"First published\": 1949, \"Approximate sales in millions\": 30.0, \"Genre\": \"Dystopian, political fiction, social science fiction\"}, {\"Book\": \"The Revolt of Mamie Stover\", \"Author(s)\": \"William Bradford Huie\", \"Original language\": \"English\", \"First published\": 1951, \"Approximate sales in millions\": 30.0, \"Genre\": \"Fiction\"}, {\"Book\": \"The Girl with the Dragon Tattoo (M\\u00e4n som hatar kvinnor)\", \"Author(s)\": \"Stieg Larsson\", \"Original language\": \"Swedish\", \"First published\": 2005, \"Approximate sales in millions\": 30.0, \"Genre\": \"Fiction\"}, {\"Book\": \"The Lost Symbol\", \"Author(s)\": \"Dan Brown\", \"Original language\": \"English\", \"First published\": 2009, \"Approximate sales in millions\": 30.0, \"Genre\": \"Fiction\"}, {\"Book\": \"The Hunger Games\", \"Author(s)\": \"Suzanne Collins\", \"Original language\": \"English\", \"First published\": 2008, \"Approximate sales in millions\": 29.0, \"Genre\": \"Young adult fiction\"}, {\"Book\": \"James and the Giant Peach\", \"Author(s)\": \"Roald Dahl\", \"Original language\": \"English\", \"First published\": 1961, \"Approximate sales in millions\": 28.0, \"Genre\": \"Children's novel\"}, {\"Book\": \"The Young Guard (\\u041c\\u043e\\u043b\\u043e\\u0434\\u0430\\u044f \\u0433\\u0432\\u0430\\u0440\\u0434\\u0438\\u044f)\", \"Author(s)\": \"Alexander Alexandrovich Fadeyev\", \"Original language\": \"Russian\", \"First published\": 1945, \"Approximate sales in millions\": 26.0, \"Genre\": \"Young adult historical novel\"}, {\"Book\": \"Who Moved My Cheese?\", \"Author(s)\": \"Spencer Johnson\", \"Original language\": \"English\", \"First published\": 1998, \"Approximate sales in millions\": 29.0, \"Genre\": \"Self-help, motivational, business fable, psychology, leadership, parable\"}, {\"Book\": \"A Brief History of Time\", \"Author(s)\": \"Stephen Hawking\", \"Original language\": \"English\", \"First published\": 1988, \"Approximate sales in millions\": 25.0, \"Genre\": \"Popular science\"}, {\"Book\": \"Paul et Virginie\", \"Author(s)\": \"Jacques-Henri Bernardin de Saint-Pierre\", \"Original language\": \"French\", \"First published\": 1788, \"Approximate sales in millions\": 25.0, \"Genre\": \"Novel\"}, {\"Book\": \"Lust for Life\", \"Author(s)\": \"Irving Stone\", \"Original language\": \"English\", \"First published\": 1934, \"Approximate sales in millions\": 25.0, \"Genre\": \"Biographical novel\"}, {\"Book\": \"The Wind in the Willows\", \"Author(s)\": \"Kenneth Grahame\", \"Original language\": \"English\", \"First published\": 1908, \"Approximate sales in millions\": 25.0, \"Genre\": \"Children's literature\"}, {\"Book\": \"The 7 Habits of Highly Effective People\", \"Author(s)\": \"Stephen R. Covey\", \"Original language\": \"English\", \"First published\": 1989, \"Approximate sales in millions\": 25.0, \"Genre\": \"Self-help\"}, {\"Book\": \"Virgin Soil Upturned (\\u041f\\u043e\\u0434\\u043d\\u044f\\u0442\\u0430\\u044f \\u0446\\u0435\\u043b\\u0438\\u043d\\u0430)\", \"Author(s)\": \"Mikhail Sholokhov\", \"Original language\": \"Russian\", \"First published\": 1935, \"Approximate sales in millions\": 24.0, \"Genre\": \"Novel\"}, {\"Book\": \"The Celestine Prophecy\", \"Author(s)\": \"James Redfield\", \"Original language\": \"English\", \"First published\": 1993, \"Approximate sales in millions\": 23.0, \"Genre\": \"New-age spiritual novel\"}, {\"Book\": \"The Fault in Our Stars\", \"Author(s)\": \"John Green\", \"Original language\": \"English\", \"First published\": 2012, \"Approximate sales in millions\": 23.0, \"Genre\": \"Young adult romantic novel\"}, {\"Book\": \"The Girl on the Train\", \"Author(s)\": \"Paula Hawkins\", \"Original language\": \"English\", \"First published\": 2015, \"Approximate sales in millions\": 23.0, \"Genre\": \"Thriller\"}, {\"Book\": \"The Shack\", \"Author(s)\": \"William P. Young\", \"Original language\": \"English\", \"First published\": 2007, \"Approximate sales in millions\": 22.5, \"Genre\": \"Novel\"}, {\"Book\": \"Uncle Styopa (\\u0414\\u044f\\u0434\\u044f \\u0421\\u0442\\u0451\\u043f\\u0430)\", \"Author(s)\": \"Sergey Mikhalkov\", \"Original language\": \"Russian\", \"First published\": 1936, \"Approximate sales in millions\": 21.0, \"Genre\": \"Children's Literature, picture book\"}, {\"Book\": \"The Godfather\", \"Author(s)\": \"Mario Puzo\", \"Original language\": \"English\", \"First published\": 1969, \"Approximate sales in millions\": 21.0, \"Genre\": \"Crime novel\"}, {\"Book\": \"Love Story\", \"Author(s)\": \"Erich Segal\", \"Original language\": \"English\", \"First published\": 1970, \"Approximate sales in millions\": 21.0, \"Genre\": \"Romance novel\"}, {\"Book\": \"Catching Fire\", \"Author(s)\": \"Suzanne Collins\", \"Original language\": \"English\", \"First published\": 2009, \"Approximate sales in millions\": 21.0, \"Genre\": \"Young Adult novel, adventure, dystopian, science fiction\"}, {\"Book\": \"Mockingjay\", \"Author(s)\": \"Suzanne Collins\", \"Original language\": \"English\", \"First published\": 2010, \"Approximate sales in millions\": 20.0, \"Genre\": \"Young Adult novel, adventure, war, science fiction, action thriller\"}, {\"Book\": \"Kitchen (\\u30ad\\u30c3\\u30c1\\u30f3)\", \"Author(s)\": \"Banana Yoshimoto\", \"Original language\": \"Japanese\", \"First published\": 1988, \"Approximate sales in millions\": 20.0, \"Genre\": \"Japanese novel\"}, {\"Book\": \"Andromeda Nebula (\\u0422\\u0443\\u043c\\u0430\\u043d\\u043d\\u043e\\u0441\\u0442\\u044c \\u0410\\u043d\\u0434\\u0440\\u043e\\u043c\\u0435\\u0434\\u044b)\", \"Author(s)\": \"Ivan Yefremov\", \"Original language\": \"Russian\", \"First published\": 1957, \"Approximate sales in millions\": 20.0, \"Genre\": \"Science fiction novel\"}, {\"Book\": \"Autobiography of a Yogi (\\u092f\\u094b\\u0917\\u0940 \\u0915\\u0925\\u093e\\u092e\\u0943\\u0924)\", \"Author(s)\": \"Paramahansa Yogananda\", \"Original language\": \"Hindi\", \"First published\": 1946, \"Approximate sales in millions\": 20.0, \"Genre\": \"Autobiography\"}, {\"Book\": \"Gone Girl\", \"Author(s)\": \"Gillian Flynn\", \"Original language\": \"English\", \"First published\": 2012, \"Approximate sales in millions\": 20.0, \"Genre\": \"Crime thriller novel\"}, {\"Book\": \"All Quiet on the Western Front (Im Westen nichts Neues)\", \"Author(s)\": \"Erich Maria Remarque\", \"Original language\": \"German\", \"First published\": 1929, \"Approximate sales in millions\": 20.0, \"Genre\": \"War novel\"}, {\"Book\": \"The Bermuda Triangle\", \"Author(s)\": \"Charles Berlitz\", \"Original language\": \"English\", \"First published\": 1974, \"Approximate sales in millions\": 20.0, \"Genre\": null}, {\"Book\": \"Things Fall Apart \", \"Author(s)\": \"Chinua Achebe\", \"Original language\": \"English\", \"First published\": 1958, \"Approximate sales in millions\": 20.0, \"Genre\": \"Novel\"}, {\"Book\": \"Animal Farm \", \"Author(s)\": \"George Orwell\", \"Original language\": \"English\", \"First published\": 1945, \"Approximate sales in millions\": 20.0, \"Genre\": \"Satirical allegorical novella, Political satire, Dystopian Fiction, Roman \\u00e0 clef\"}, {\"Book\": \"Wolf Totem (\\u72fc\\u56fe\\u817e)\", \"Author(s)\": \"Jiang Rong\", \"Original language\": \"Chinese\", \"First published\": 2004, \"Approximate sales in millions\": 20.0, \"Genre\": \"Semi-autobiographical novel\"}, {\"Book\": \"The Happy Hooker: My Own Story\", \"Author(s)\": \"Xaviera Hollander\", \"Original language\": \"English\", \"First published\": 1971, \"Approximate sales in millions\": 20.0, \"Genre\": \"Memoir\"}, {\"Book\": \"Jaws\", \"Author(s)\": \"Peter Benchley\", \"Original language\": \"English\", \"First published\": 1974, \"Approximate sales in millions\": 20.0, \"Genre\": \"Thriller\"}, {\"Book\": \"Love You Forever\", \"Author(s)\": \"Robert Munsch\", \"Original language\": \"English\", \"First published\": 1986, \"Approximate sales in millions\": 20.0, \"Genre\": \"Children's literature, picture book, fiction\"}, {\"Book\": \"The Women's Room\", \"Author(s)\": \"Marilyn French\", \"Original language\": \"English\", \"First published\": 1977, \"Approximate sales in millions\": 20.0, \"Genre\": \"Feminist novel\"}, {\"Book\": \"What to Expect When You're Expecting\", \"Author(s)\": \"Arlene Eisenberg and Heidi Murkoff\", \"Original language\": \"English\", \"First published\": 1984, \"Approximate sales in millions\": 20.0, \"Genre\": \"Pregnancy guide\"}, {\"Book\": \"Adventures of Huckleberry Finn\", \"Author(s)\": \"Mark Twain\", \"Original language\": \"English\", \"First published\": 1885, \"Approximate sales in millions\": 20.0, \"Genre\": \"Picaresque novel, Bildungsroman, satire, Robinsonade\"}, {\"Book\": \"The Secret Diary of Adrian Mole, Aged 13\\u00be\", \"Author(s)\": \"Sue Townsend\", \"Original language\": \"English\", \"First published\": 1982, \"Approximate sales in millions\": 20.0, \"Genre\": \"Young adult novel\"}, {\"Book\": \"Pride and Prejudice\", \"Author(s)\": \"Jane Austen\", \"Original language\": \"English\", \"First published\": 1813, \"Approximate sales in millions\": 20.0, \"Genre\": \"Classic regency novel, romance\"}, {\"Book\": \"Kon-Tiki: Across the Pacific in a Raft (Kon-Tiki ekspedisjonen)\", \"Author(s)\": \"Thor Heyerdahl\", \"Original language\": \"Norwegian\", \"First published\": 1950, \"Approximate sales in millions\": 20.0, \"Genre\": \"Travel literature\"}, {\"Book\": \"The Good Soldier \\u0160vejk (Osudy dobr\\u00e9ho voj\\u00e1ka \\u0160vejka za sv\\u011btov\\u00e9 v\\u00e1lky)\", \"Author(s)\": \"Jaroslav Ha\\u0161ek\", \"Original language\": \"Czech\", \"First published\": 1923, \"Approximate sales in millions\": 20.0, \"Genre\": \"Unfinished satirical dark comedy novel\"}, {\"Book\": \"Where the Wild Things Are\", \"Author(s)\": \"Maurice Sendak\", \"Original language\": \"English\", \"First published\": 1963, \"Approximate sales in millions\": 20.0, \"Genre\": \"Children's picture book\"}, {\"Book\": \"The Power of Positive Thinking\", \"Author(s)\": \"Norman Vincent Peale\", \"Original language\": \"English\", \"First published\": 1952, \"Approximate sales in millions\": 20.0, \"Genre\": \"Self-help\"}, {\"Book\": \"The Secret\", \"Author(s)\": \"Rhonda Byrne\", \"Original language\": \"English\", \"First published\": 2006, \"Approximate sales in millions\": 20.0, \"Genre\": \"Self-help\"}, {\"Book\": \"Fear of Flying\", \"Author(s)\": \"Erica Jong\", \"Original language\": \"English\", \"First published\": 1973, \"Approximate sales in millions\": 20.0, \"Genre\": \"Romantic novel\"}, {\"Book\": \"Dune\", \"Author(s)\": \"Frank Herbert\", \"Original language\": \"English\", \"First published\": 1965, \"Approximate sales in millions\": 20.0, \"Genre\": \"Science fiction novel\"}, {\"Book\": \"Charlie and the Chocolate Factory\", \"Author(s)\": \"Roald Dahl\", \"Original language\": \"English\", \"First published\": 1964, \"Approximate sales in millions\": 20.0, \"Genre\": \"Children's fantasy novel\"}, {\"Book\": \"The Naked Ape\", \"Author(s)\": \"Desmond Morris\", \"Original language\": \"English\", \"First published\": 1968, \"Approximate sales in millions\": 20.0, \"Genre\": \"Social Science, Anthropology, Psychology\"}, {\"Book\": \"Where the Crawdads Sing\", \"Author(s)\": \"Delia Owens\", \"Original language\": \"English\", \"First published\": 2018, \"Approximate sales in millions\": 18.0, \"Genre\": \"Coming-of-age Murder mystery\"}, {\"Book\": \"Totto-chan, the Little Girl at the Window (\\u7a93\\u304e\\u308f\\u306e\\u30c8\\u30c3\\u30c8\\u3061\\u3083\\u3093)\", \"Author(s)\": \"Tetsuko Kuroyanagi\", \"Original language\": \"Japanese\", \"First published\": 1981, \"Approximate sales in millions\": 18.0, \"Genre\": \"Autobiographical novel\"}, {\"Book\": \"Matilda\", \"Author(s)\": \"Roald Dahl\", \"Original language\": \"English\", \"First published\": 1988, \"Approximate sales in millions\": 17.0, \"Genre\": \"Children's Literature\"}, {\"Book\": \"The Book Thief\", \"Author(s)\": \"Markus Zusak\", \"Original language\": \"English\", \"First published\": 2005, \"Approximate sales in millions\": 16.0, \"Genre\": \"Young Adult Fiction\"}, {\"Book\": \"The Horse Whisperer\", \"Author(s)\": \"Nicholas Evans\", \"Original language\": \"English\", \"First published\": 1995, \"Approximate sales in millions\": 16.0, \"Genre\": null}, {\"Book\": \"Goodnight Moon\", \"Author(s)\": \"Margaret Wise Brown\", \"Original language\": \"English\", \"First published\": 1947, \"Approximate sales in millions\": 16.0, \"Genre\": \"Children's Literature\"}, {\"Book\": \"The Neverending Story (Die unendliche Geschichte)\", \"Author(s)\": \"Michael Ende\", \"Original language\": \"German\", \"First published\": 1979, \"Approximate sales in millions\": 16.0, \"Genre\": \"Children's Literature\"}, {\"Book\": \"All the Light We Cannot See\", \"Author(s)\": \"Anthony Doerr\", \"Original language\": \"English\", \"First published\": 2014, \"Approximate sales in millions\": 15.3, \"Genre\": \"Historical fiction, war novel\"}, {\"Book\": \"Fifty Shades of Grey\", \"Author(s)\": \"E. L. James\", \"Original language\": \"English\", \"First published\": 2011, \"Approximate sales in millions\": 15.2, \"Genre\": \"Erotica\"}, {\"Book\": \"The Outsiders\", \"Author(s)\": \"S. E. Hinton\", \"Original language\": \"English\", \"First published\": 1967, \"Approximate sales in millions\": 15.0, \"Genre\": null}, {\"Book\": \"Guess How Much I Love You\", \"Author(s)\": \"Sam McBratney\", \"Original language\": \"English\", \"First published\": 1994, \"Approximate sales in millions\": 15.0, \"Genre\": null}, {\"Book\": \"Sh\\u014dgun\", \"Author(s)\": \"James Clavell\", \"Original language\": \"English\", \"First published\": 1975, \"Approximate sales in millions\": 15.0, \"Genre\": null}, {\"Book\": \"The Poky Little Puppy\", \"Author(s)\": \"Janette Sebring Lowrey\", \"Original language\": \"English\", \"First published\": 1942, \"Approximate sales in millions\": 15.0, \"Genre\": null}, {\"Book\": \"The Pillars of the Earth\", \"Author(s)\": \"Ken Follett\", \"Original language\": \"English\", \"First published\": 1989, \"Approximate sales in millions\": 15.0, \"Genre\": \"Historical fiction\"}, {\"Book\": \"Perfume (Das Parfum)\", \"Author(s)\": \"Patrick S\\u00fcskind\", \"Original language\": \"German\", \"First published\": 1985, \"Approximate sales in millions\": 15.0, \"Genre\": null}, {\"Book\": \"The Grapes of Wrath\", \"Author(s)\": \"John Steinbeck\", \"Original language\": \"English\", \"First published\": 1939, \"Approximate sales in millions\": 15.0, \"Genre\": null}, {\"Book\": \"The Shadow of the Wind (La sombra del viento)\", \"Author(s)\": \"Carlos Ruiz Zaf\\u00f3n\", \"Original language\": \"Spanish\", \"First published\": 2001, \"Approximate sales in millions\": 15.0, \"Genre\": null}, {\"Book\": \"Interpreter of Maladies\", \"Author(s)\": \"Jhumpa Lahiri\", \"Original language\": \"English\", \"First published\": 2000, \"Approximate sales in millions\": 15.0, \"Genre\": null}, {\"Book\": \"Becoming\", \"Author(s)\": \"Michelle Obama\", \"Original language\": \"English\", \"First published\": 2018, \"Approximate sales in millions\": 14.0, \"Genre\": null}, {\"Book\": \"The Hitchhiker's Guide to the Galaxy\", \"Author(s)\": \"Douglas Adams\", \"Original language\": \"English\", \"First published\": 1979, \"Approximate sales in millions\": 14.0, \"Genre\": \"Science fiction\"}, {\"Book\": \"Tuesdays with Morrie\", \"Author(s)\": \"Mitch Albom\", \"Original language\": \"English\", \"First published\": 1997, \"Approximate sales in millions\": 14.0, \"Genre\": null}, {\"Book\": \"God's Little Acre\", \"Author(s)\": \"Erskine Caldwell\", \"Original language\": \"English\", \"First published\": 1933, \"Approximate sales in millions\": 14.0, \"Genre\": null}, {\"Book\": \"Follow Your Heart (Va' dove ti porta il cuore)\", \"Author(s)\": \"Susanna Tamaro\", \"Original language\": \"Italian\", \"First published\": 1994, \"Approximate sales in millions\": 14.0, \"Genre\": null}, {\"Book\": \"A Wrinkle in Time\", \"Author(s)\": \"Madeleine L'Engle\", \"Original language\": \"English\", \"First published\": 1962, \"Approximate sales in millions\": 14.0, \"Genre\": null}, {\"Book\": \"Long Walk to Freedom\", \"Author(s)\": \"Nelson Mandela\", \"Original language\": \"English\", \"First published\": 1994, \"Approximate sales in millions\": 14.0, \"Genre\": null}, {\"Book\": \"The Old Man and the Sea\", \"Author(s)\": \"Ernest Hemingway\", \"Original language\": \"English\", \"First published\": 1952, \"Approximate sales in millions\": 13.0, \"Genre\": null}, {\"Book\": \"Life After Life\", \"Author(s)\": \"Raymond Moody\", \"Original language\": \"English\", \"First published\": 1975, \"Approximate sales in millions\": 13.0, \"Genre\": null}, {\"Book\": \"Peyton Place \", \"Author(s)\": \"Grace Metalious\", \"Original language\": \"English\", \"First published\": 1956, \"Approximate sales in millions\": 12.1, \"Genre\": null}, {\"Book\": \"The Giver\", \"Author(s)\": \"Lois Lowry\", \"Original language\": \"English\", \"First published\": 1993, \"Approximate sales in millions\": 12.0, \"Genre\": \"Dystopian fiction\"}, {\"Book\": \"Me Before You\", \"Author(s)\": \"Jojo Moyes\", \"Original language\": \"English\", \"First published\": 2012, \"Approximate sales in millions\": 12.0, \"Genre\": null}, {\"Book\": \"Norwegian Wood (\\u30ce\\u30eb\\u30a6\\u30a7\\u30a4\\u306e\\u68ee)\", \"Author(s)\": \"Haruki Murakami\", \"Original language\": \"Japanese\", \"First published\": 1987, \"Approximate sales in millions\": 12.0, \"Genre\": null}, {\"Book\": \"The Plague (La Peste)\", \"Author(s)\": \"Albert Camus\", \"Original language\": \"French\", \"First published\": 1947, \"Approximate sales in millions\": 12.0, \"Genre\": null}, {\"Book\": \"No Longer Human (\\u4eba\\u9593\\u5931\\u683c)\", \"Author(s)\": \"Osamu Dazai\", \"Original language\": \"Japanese\", \"First published\": 1948, \"Approximate sales in millions\": 12.0, \"Genre\": null}, {\"Book\": \"Man's Search for Meaning (Ein Psychologe erlebt das Konzentrationslager)\", \"Author(s)\": \"Viktor Frankl\", \"Original language\": \"German\", \"First published\": 1946, \"Approximate sales in millions\": 12.0, \"Genre\": null}, {\"Book\": \"The Divine Comedy (La Divina Commedia)\", \"Author(s)\": \"Dante Alighieri\", \"Original language\": \"Italian\", \"First published\": 1304, \"Approximate sales in millions\": 11.5, \"Genre\": null}, {\"Book\": \"The Prophet\", \"Author(s)\": \"Kahlil Gibran\", \"Original language\": \"English\", \"First published\": 1923, \"Approximate sales in millions\": 11.0, \"Genre\": null}, {\"Book\": \"The Boy in the Striped Pyjamas\", \"Author(s)\": \"John Boyne\", \"Original language\": \"English\", \"First published\": 2006, \"Approximate sales in millions\": 11.0, \"Genre\": null}, {\"Book\": \"The Exorcist\", \"Author(s)\": \"William Peter Blatty\", \"Original language\": \"English\", \"First published\": 1971, \"Approximate sales in millions\": 11.0, \"Genre\": \"Horror\"}, {\"Book\": \"The Gruffalo\", \"Author(s)\": \"Julia Donaldson\", \"Original language\": \"English\", \"First published\": 1999, \"Approximate sales in millions\": 10.5, \"Genre\": null}, {\"Book\": \"Fifty Shades Darker\", \"Author(s)\": \"E. L. James\", \"Original language\": \"English\", \"First published\": 2012, \"Approximate sales in millions\": 10.4, \"Genre\": \"Erotica\"}, {\"Book\": \"Tobacco Road\", \"Author(s)\": \"Erskine Caldwell\", \"Original language\": \"English\", \"First published\": 1932, \"Approximate sales in millions\": 10.0, \"Genre\": null}, {\"Book\": \"Ronia, the Robber's Daughter\", \"Author(s)\": \"Astrid Lindgren\", \"Original language\": \"Swedish\", \"First published\": 1981, \"Approximate sales in millions\": 10.0, \"Genre\": null}, {\"Book\": \"The Cat in the Hat\", \"Author(s)\": \"Dr. Seuss\", \"Original language\": \"English\", \"First published\": 1957, \"Approximate sales in millions\": 10.5, \"Genre\": null}, {\"Book\": \"Diana: Her True Story\", \"Author(s)\": \"Andrew Morton\", \"Original language\": \"English\", \"First published\": 1992, \"Approximate sales in millions\": 10.0, \"Genre\": null}, {\"Book\": \"The Help\", \"Author(s)\": \"Kathryn Stockett\", \"Original language\": \"English\", \"First published\": 2009, \"Approximate sales in millions\": 10.0, \"Genre\": null}, {\"Book\": \"Catch-22\", \"Author(s)\": \"Joseph Heller\", \"Original language\": \"English\", \"First published\": 1961, \"Approximate sales in millions\": 10.0, \"Genre\": null}, {\"Book\": \"The Stranger (L'\\u00c9tranger)\", \"Author(s)\": \"Albert Camus\", \"Original language\": \"French\", \"First published\": 1942, \"Approximate sales in millions\": 10.0, \"Genre\": null}, {\"Book\": \"Eye of the Needle\", \"Author(s)\": \"Ken Follett\", \"Original language\": \"English\", \"First published\": 1978, \"Approximate sales in millions\": 10.0, \"Genre\": null}, {\"Book\": \"The Lovely Bones\", \"Author(s)\": \"Alice Sebold\", \"Original language\": \"English\", \"First published\": 2002, \"Approximate sales in millions\": 10.0, \"Genre\": null}, {\"Book\": \"Wild Swans\", \"Author(s)\": \"Jung Chang\", \"Original language\": \"English\", \"First published\": 1992, \"Approximate sales in millions\": 10.0, \"Genre\": null}, {\"Book\": \"Santa Evita\", \"Author(s)\": \"Tom\\u00e1s Eloy Mart\\u00ednez\", \"Original language\": \"Spanish\", \"First published\": 1995, \"Approximate sales in millions\": 10.0, \"Genre\": null}, {\"Book\": \"Night (Un di Velt Hot Geshvign)\", \"Author(s)\": \"Elie Wiesel\", \"Original language\": \"Yiddish\", \"First published\": 1958, \"Approximate sales in millions\": 10.0, \"Genre\": null}, {\"Book\": \"Confucius from the Heart (\\u4e8e\\u4e39\\u300a\\u8bba\\u8bed\\u300b\\u5fc3\\u5f97)\", \"Author(s)\": \"Yu Dan\", \"Original language\": \"Chinese\", \"First published\": 2006, \"Approximate sales in millions\": 10.0, \"Genre\": null}, {\"Book\": \"The Total Woman\", \"Author(s)\": \"Marabel Morgan\", \"Original language\": \"English\", \"First published\": 1974, \"Approximate sales in millions\": 10.0, \"Genre\": null}, {\"Book\": \"Knowledge-value Revolution (\\u77e5\\u4fa1\\u9769\\u547d)\", \"Author(s)\": \"Taichi Sakaiya\", \"Original language\": \"Japanese\", \"First published\": 1985, \"Approximate sales in millions\": 10.0, \"Genre\": null}, {\"Book\": \"Problems in China's Socialist Economy (\\u4e2d\\u56fd\\u793e\\u4f1a\\u4e3b\\u4e49\\u7ecf\\u6d4e\\u95ee\\u9898\\u7814\\u7a76)\", \"Author(s)\": \"Xue Muqiao\", \"Original language\": \"Chinese\", \"First published\": 1979, \"Approximate sales in millions\": 10.0, \"Genre\": null}, {\"Book\": \"What Color Is Your Parachute?\", \"Author(s)\": \"Richard Nelson Bolles\", \"Original language\": \"English\", \"First published\": 1970, \"Approximate sales in millions\": 10.0, \"Genre\": null}, {\"Book\": \"The Dukan Diet\", \"Author(s)\": \"Pierre Dukan\", \"Original language\": \"French\", \"First published\": 2000, \"Approximate sales in millions\": 10.0, \"Genre\": null}, {\"Book\": \"The Joy of Sex\", \"Author(s)\": \"Alex Comfort\", \"Original language\": \"English\", \"First published\": 1972, \"Approximate sales in millions\": 10.0, \"Genre\": null}, {\"Book\": \"The Gospel According to Peanuts\", \"Author(s)\": \"Robert L. Short\", \"Original language\": \"English\", \"First published\": 1965, \"Approximate sales in millions\": 10.0, \"Genre\": null}, {\"Book\": \"The Subtle Art of Not Giving a Fuck\", \"Author(s)\": \"Mark Manson\", \"Original language\": \"English\", \"First published\": 2016, \"Approximate sales in millions\": 10.0, \"Genre\": null}, {\"Book\": \"Life of Pi\", \"Author(s)\": \"Yann Martel\", \"Original language\": \"English\", \"First published\": 2001, \"Approximate sales in millions\": 10.0, \"Genre\": null}, {\"Book\": \"The Front Runner\", \"Author(s)\": \"Patricia Nell Warren\", \"Original language\": \"English\", \"First published\": 1974, \"Approximate sales in millions\": 10.0, \"Genre\": null}, {\"Book\": \"The Goal\", \"Author(s)\": \"Eliyahu M. Goldratt\", \"Original language\": \"English\", \"First published\": 1984, \"Approximate sales in millions\": 10.0, \"Genre\": null}, {\"Book\": \"Fahrenheit 451\", \"Author(s)\": \"Ray Bradbury\", \"Original language\": \"English\", \"First published\": 1953, \"Approximate sales in millions\": 10.0, \"Genre\": null}, {\"Book\": \"Angela's Ashes\", \"Author(s)\": \"Frank McCourt\", \"Original language\": \"English\", \"First published\": 1996, \"Approximate sales in millions\": 10.0, \"Genre\": null}, {\"Book\": \"The Story of My Experiments with Truth (\\u0ab8\\u0aa4\\u0acd\\u0aaf\\u0aa8\\u0abe \\u0aaa\\u0acd\\u0ab0\\u0aaf\\u0acb\\u0a97\\u0acb \\u0a85\\u0aa5\\u0ab5\\u0abe \\u0a86\\u0aa4\\u0acd\\u0aae\\u0a95\\u0aa5\\u0abe)\", \"Author(s)\": \"Mohandas Karamchand Gandhi\", \"Original language\": \"Gujarati\", \"First published\": 1929, \"Approximate sales in millions\": 10.0, \"Genre\": null}, {\"Book\": \"Bridget Jones's Diary\", \"Author(s)\": \"Helen Fielding\", \"Original language\": \"English\", \"First published\": 1996, \"Approximate sales in millions\": 10.0, \"Genre\": null}]}}, {\"mode\": \"vega-lite\"});\n",
       "</script>"
      ],
      "text/plain": [
       "alt.Chart(...)"
      ]
     },
     "execution_count": 9,
     "metadata": {},
     "output_type": "execute_result"
    }
   ],
   "source": [
    "alt.Chart(df).mark_circle().encode(\n",
    "    y='Approximate sales in millions', \n",
    "    x='Genre:N',  \n",
    "    color='Genre:N',\n",
    "    tooltip = ['Author(s)', 'Original language', 'Book', 'Genre', 'Approximate sales in millions']\n",
    "\n",
    ")"
   ]
  },
  {
   "cell_type": "markdown",
   "id": "a979fb63",
   "metadata": {
    "papermill": {
     "duration": 0.009627,
     "end_time": "2024-04-30T15:56:21.204085",
     "exception": false,
     "start_time": "2024-04-30T15:56:21.194458",
     "status": "completed"
    },
    "tags": []
   },
   "source": [
    "# Extras: Top 5 Most Popular Langagues, Authors, and Genres"
   ]
  },
  {
   "cell_type": "code",
   "execution_count": 10,
   "id": "2d8eada9",
   "metadata": {
    "execution": {
     "iopub.execute_input": "2024-04-30T15:56:21.224944Z",
     "iopub.status.busy": "2024-04-30T15:56:21.224526Z",
     "iopub.status.idle": "2024-04-30T15:56:21.245403Z",
     "shell.execute_reply": "2024-04-30T15:56:21.243819Z"
    },
    "papermill": {
     "duration": 0.034096,
     "end_time": "2024-04-30T15:56:21.247720",
     "exception": false,
     "start_time": "2024-04-30T15:56:21.213624",
     "status": "completed"
    },
    "tags": []
   },
   "outputs": [
    {
     "data": {
      "text/html": [
       "<div>\n",
       "<style scoped>\n",
       "    .dataframe tbody tr th:only-of-type {\n",
       "        vertical-align: middle;\n",
       "    }\n",
       "\n",
       "    .dataframe tbody tr th {\n",
       "        vertical-align: top;\n",
       "    }\n",
       "\n",
       "    .dataframe thead th {\n",
       "        text-align: right;\n",
       "    }\n",
       "</style>\n",
       "<table border=\"1\" class=\"dataframe\">\n",
       "  <thead>\n",
       "    <tr style=\"text-align: right;\">\n",
       "      <th></th>\n",
       "      <th>Book</th>\n",
       "      <th>Author(s)</th>\n",
       "      <th>Original language</th>\n",
       "      <th>First published</th>\n",
       "      <th>Approximate sales in millions</th>\n",
       "      <th>Genre</th>\n",
       "    </tr>\n",
       "  </thead>\n",
       "  <tbody>\n",
       "    <tr>\n",
       "      <th>2</th>\n",
       "      <td>Harry Potter and the Philosopher's Stone</td>\n",
       "      <td>J. K. Rowling</td>\n",
       "      <td>English</td>\n",
       "      <td>1997</td>\n",
       "      <td>120.0</td>\n",
       "      <td>Fantasy</td>\n",
       "    </tr>\n",
       "    <tr>\n",
       "      <th>5</th>\n",
       "      <td>The Hobbit</td>\n",
       "      <td>J. R. R. Tolkien</td>\n",
       "      <td>English</td>\n",
       "      <td>1937</td>\n",
       "      <td>100.0</td>\n",
       "      <td>Fantasy</td>\n",
       "    </tr>\n",
       "    <tr>\n",
       "      <th>10</th>\n",
       "      <td>Harry Potter and the Chamber of Secrets</td>\n",
       "      <td>J. K. Rowling</td>\n",
       "      <td>English</td>\n",
       "      <td>1998</td>\n",
       "      <td>77.0</td>\n",
       "      <td>Fantasy</td>\n",
       "    </tr>\n",
       "    <tr>\n",
       "      <th>11</th>\n",
       "      <td>Harry Potter and the Prisoner of Azkaban</td>\n",
       "      <td>J. K. Rowling</td>\n",
       "      <td>English</td>\n",
       "      <td>1999</td>\n",
       "      <td>65.0</td>\n",
       "      <td>Fantasy</td>\n",
       "    </tr>\n",
       "    <tr>\n",
       "      <th>12</th>\n",
       "      <td>Harry Potter and the Goblet of Fire</td>\n",
       "      <td>J. K. Rowling</td>\n",
       "      <td>English</td>\n",
       "      <td>2000</td>\n",
       "      <td>65.0</td>\n",
       "      <td>Fantasy</td>\n",
       "    </tr>\n",
       "  </tbody>\n",
       "</table>\n",
       "</div>"
      ],
      "text/plain": [
       "                                        Book         Author(s)  \\\n",
       "2   Harry Potter and the Philosopher's Stone     J. K. Rowling   \n",
       "5                                 The Hobbit  J. R. R. Tolkien   \n",
       "10   Harry Potter and the Chamber of Secrets     J. K. Rowling   \n",
       "11  Harry Potter and the Prisoner of Azkaban     J. K. Rowling   \n",
       "12       Harry Potter and the Goblet of Fire     J. K. Rowling   \n",
       "\n",
       "   Original language First published  Approximate sales in millions    Genre  \n",
       "2            English            1997                          120.0  Fantasy  \n",
       "5            English            1937                          100.0  Fantasy  \n",
       "10           English            1998                           77.0  Fantasy  \n",
       "11           English            1999                           65.0  Fantasy  \n",
       "12           English            2000                           65.0  Fantasy  "
      ]
     },
     "execution_count": 10,
     "metadata": {},
     "output_type": "execute_result"
    }
   ],
   "source": [
    "df_fantasy = df[df['Genre']=='Fantasy']\n",
    "df_fantasy.head()"
   ]
  },
  {
   "cell_type": "code",
   "execution_count": 11,
   "id": "7b3df449",
   "metadata": {
    "execution": {
     "iopub.execute_input": "2024-04-30T15:56:21.269851Z",
     "iopub.status.busy": "2024-04-30T15:56:21.269313Z",
     "iopub.status.idle": "2024-04-30T15:56:21.287024Z",
     "shell.execute_reply": "2024-04-30T15:56:21.285510Z"
    },
    "papermill": {
     "duration": 0.031934,
     "end_time": "2024-04-30T15:56:21.289858",
     "exception": false,
     "start_time": "2024-04-30T15:56:21.257924",
     "status": "completed"
    },
    "tags": []
   },
   "outputs": [
    {
     "name": "stdout",
     "output_type": "stream",
     "text": [
      "<class 'pandas.core.frame.DataFrame'>\n",
      "Index: 10 entries, 2 to 29\n",
      "Data columns (total 6 columns):\n",
      " #   Column                         Non-Null Count  Dtype  \n",
      "---  ------                         --------------  -----  \n",
      " 0   Book                           10 non-null     object \n",
      " 1   Author(s)                      10 non-null     object \n",
      " 2   Original language              10 non-null     object \n",
      " 3   First published                10 non-null     object \n",
      " 4   Approximate sales in millions  10 non-null     float64\n",
      " 5   Genre                          10 non-null     object \n",
      "dtypes: float64(1), object(5)\n",
      "memory usage: 560.0+ bytes\n"
     ]
    }
   ],
   "source": [
    "df_fantasy.info()"
   ]
  },
  {
   "cell_type": "code",
   "execution_count": 12,
   "id": "6011b2c8",
   "metadata": {
    "execution": {
     "iopub.execute_input": "2024-04-30T15:56:21.311663Z",
     "iopub.status.busy": "2024-04-30T15:56:21.311312Z",
     "iopub.status.idle": "2024-04-30T15:56:21.368069Z",
     "shell.execute_reply": "2024-04-30T15:56:21.367134Z"
    },
    "papermill": {
     "duration": 0.069955,
     "end_time": "2024-04-30T15:56:21.369938",
     "exception": false,
     "start_time": "2024-04-30T15:56:21.299983",
     "status": "completed"
    },
    "tags": []
   },
   "outputs": [
    {
     "data": {
      "text/html": [
       "\n",
       "<style>\n",
       "  #altair-viz-905de14794554ae393d4a4b477184471.vega-embed {\n",
       "    width: 100%;\n",
       "    display: flex;\n",
       "  }\n",
       "\n",
       "  #altair-viz-905de14794554ae393d4a4b477184471.vega-embed details,\n",
       "  #altair-viz-905de14794554ae393d4a4b477184471.vega-embed details summary {\n",
       "    position: relative;\n",
       "  }\n",
       "</style>\n",
       "<div id=\"altair-viz-905de14794554ae393d4a4b477184471\"></div>\n",
       "<script type=\"text/javascript\">\n",
       "  var VEGA_DEBUG = (typeof VEGA_DEBUG == \"undefined\") ? {} : VEGA_DEBUG;\n",
       "  (function(spec, embedOpt){\n",
       "    let outputDiv = document.currentScript.previousElementSibling;\n",
       "    if (outputDiv.id !== \"altair-viz-905de14794554ae393d4a4b477184471\") {\n",
       "      outputDiv = document.getElementById(\"altair-viz-905de14794554ae393d4a4b477184471\");\n",
       "    }\n",
       "    const paths = {\n",
       "      \"vega\": \"https://cdn.jsdelivr.net/npm/vega@5?noext\",\n",
       "      \"vega-lib\": \"https://cdn.jsdelivr.net/npm/vega-lib?noext\",\n",
       "      \"vega-lite\": \"https://cdn.jsdelivr.net/npm/vega-lite@5.17.0?noext\",\n",
       "      \"vega-embed\": \"https://cdn.jsdelivr.net/npm/vega-embed@6?noext\",\n",
       "    };\n",
       "\n",
       "    function maybeLoadScript(lib, version) {\n",
       "      var key = `${lib.replace(\"-\", \"\")}_version`;\n",
       "      return (VEGA_DEBUG[key] == version) ?\n",
       "        Promise.resolve(paths[lib]) :\n",
       "        new Promise(function(resolve, reject) {\n",
       "          var s = document.createElement('script');\n",
       "          document.getElementsByTagName(\"head\")[0].appendChild(s);\n",
       "          s.async = true;\n",
       "          s.onload = () => {\n",
       "            VEGA_DEBUG[key] = version;\n",
       "            return resolve(paths[lib]);\n",
       "          };\n",
       "          s.onerror = () => reject(`Error loading script: ${paths[lib]}`);\n",
       "          s.src = paths[lib];\n",
       "        });\n",
       "    }\n",
       "\n",
       "    function showError(err) {\n",
       "      outputDiv.innerHTML = `<div class=\"error\" style=\"color:red;\">${err}</div>`;\n",
       "      throw err;\n",
       "    }\n",
       "\n",
       "    function displayChart(vegaEmbed) {\n",
       "      vegaEmbed(outputDiv, spec, embedOpt)\n",
       "        .catch(err => showError(`Javascript Error: ${err.message}<br>This usually means there's a typo in your chart specification. See the javascript console for the full traceback.`));\n",
       "    }\n",
       "\n",
       "    if(typeof define === \"function\" && define.amd) {\n",
       "      requirejs.config({paths});\n",
       "      require([\"vega-embed\"], displayChart, err => showError(`Error loading script: ${err.message}`));\n",
       "    } else {\n",
       "      maybeLoadScript(\"vega\", \"5\")\n",
       "        .then(() => maybeLoadScript(\"vega-lite\", \"5.17.0\"))\n",
       "        .then(() => maybeLoadScript(\"vega-embed\", \"6\"))\n",
       "        .catch(showError)\n",
       "        .then(() => displayChart(vegaEmbed));\n",
       "    }\n",
       "  })({\"config\": {\"view\": {\"continuousWidth\": 300, \"continuousHeight\": 300}}, \"data\": {\"name\": \"data-01fec408c120f7622e27031bf410a05a\"}, \"mark\": {\"type\": \"bar\"}, \"encoding\": {\"color\": {\"field\": \"Author(s)\", \"type\": \"nominal\"}, \"tooltip\": [{\"field\": \"Author(s)\", \"type\": \"nominal\"}, {\"field\": \"Original language\", \"type\": \"nominal\"}, {\"field\": \"Book\", \"type\": \"nominal\"}, {\"field\": \"Genre\", \"type\": \"nominal\"}, {\"field\": \"Approximate sales in millions\", \"type\": \"quantitative\"}], \"x\": {\"field\": \"First published\", \"type\": \"nominal\"}, \"y\": {\"field\": \"Approximate sales in millions\", \"type\": \"quantitative\"}}, \"$schema\": \"https://vega.github.io/schema/vega-lite/v5.17.0.json\", \"datasets\": {\"data-01fec408c120f7622e27031bf410a05a\": [{\"Book\": \"Harry Potter and the Philosopher's Stone\", \"Author(s)\": \"J. K. Rowling\", \"Original language\": \"English\", \"First published\": 1997, \"Approximate sales in millions\": 120.0, \"Genre\": \"Fantasy\"}, {\"Book\": \"The Hobbit\", \"Author(s)\": \"J. R. R. Tolkien\", \"Original language\": \"English\", \"First published\": 1937, \"Approximate sales in millions\": 100.0, \"Genre\": \"Fantasy\"}, {\"Book\": \"Harry Potter and the Chamber of Secrets\", \"Author(s)\": \"J. K. Rowling\", \"Original language\": \"English\", \"First published\": 1998, \"Approximate sales in millions\": 77.0, \"Genre\": \"Fantasy\"}, {\"Book\": \"Harry Potter and the Prisoner of Azkaban\", \"Author(s)\": \"J. K. Rowling\", \"Original language\": \"English\", \"First published\": 1999, \"Approximate sales in millions\": 65.0, \"Genre\": \"Fantasy\"}, {\"Book\": \"Harry Potter and the Goblet of Fire\", \"Author(s)\": \"J. K. Rowling\", \"Original language\": \"English\", \"First published\": 2000, \"Approximate sales in millions\": 65.0, \"Genre\": \"Fantasy\"}, {\"Book\": \"Harry Potter and the Order of the Phoenix\", \"Author(s)\": \"J. K. Rowling\", \"Original language\": \"English\", \"First published\": 2003, \"Approximate sales in millions\": 65.0, \"Genre\": \"Fantasy\"}, {\"Book\": \"Harry Potter and the Half-Blood Prince\", \"Author(s)\": \"J. K. Rowling\", \"Original language\": \"English\", \"First published\": 2005, \"Approximate sales in millions\": 65.0, \"Genre\": \"Fantasy\"}, {\"Book\": \"Harry Potter and the Deathly Hallows\", \"Author(s)\": \"J. K. Rowling\", \"Original language\": \"English\", \"First published\": 2007, \"Approximate sales in millions\": 65.0, \"Genre\": \"Fantasy\"}, {\"Book\": \"The Alchemist (O Alquimista)\", \"Author(s)\": \"Paulo Coelho\", \"Original language\": \"Portuguese\", \"First published\": 1988, \"Approximate sales in millions\": 65.0, \"Genre\": \"Fantasy\"}, {\"Book\": \"Watership Down\", \"Author(s)\": \"Richard Adams\", \"Original language\": \"English\", \"First published\": 1972, \"Approximate sales in millions\": 50.0, \"Genre\": \"Fantasy\"}]}}, {\"mode\": \"vega-lite\"});\n",
       "</script>"
      ],
      "text/plain": [
       "alt.Chart(...)"
      ]
     },
     "execution_count": 12,
     "metadata": {},
     "output_type": "execute_result"
    }
   ],
   "source": [
    "alt.Chart(df_fantasy).mark_bar().encode(\n",
    "    x='First published:N', \n",
    "    y='Approximate sales in millions:Q',  \n",
    "    color='Author(s):N',\n",
    "    tooltip = ['Author(s)', 'Original language', 'Book', 'Genre', 'Approximate sales in millions']\n",
    "\n",
    ")"
   ]
  },
  {
   "cell_type": "code",
   "execution_count": 13,
   "id": "37977a09",
   "metadata": {
    "execution": {
     "iopub.execute_input": "2024-04-30T15:56:21.391438Z",
     "iopub.status.busy": "2024-04-30T15:56:21.391063Z",
     "iopub.status.idle": "2024-04-30T15:56:21.405509Z",
     "shell.execute_reply": "2024-04-30T15:56:21.404224Z"
    },
    "papermill": {
     "duration": 0.027781,
     "end_time": "2024-04-30T15:56:21.407685",
     "exception": false,
     "start_time": "2024-04-30T15:56:21.379904",
     "status": "completed"
    },
    "tags": []
   },
   "outputs": [
    {
     "data": {
      "text/html": [
       "<div>\n",
       "<style scoped>\n",
       "    .dataframe tbody tr th:only-of-type {\n",
       "        vertical-align: middle;\n",
       "    }\n",
       "\n",
       "    .dataframe tbody tr th {\n",
       "        vertical-align: top;\n",
       "    }\n",
       "\n",
       "    .dataframe thead th {\n",
       "        text-align: right;\n",
       "    }\n",
       "</style>\n",
       "<table border=\"1\" class=\"dataframe\">\n",
       "  <thead>\n",
       "    <tr style=\"text-align: right;\">\n",
       "      <th></th>\n",
       "      <th>Book</th>\n",
       "      <th>Author(s)</th>\n",
       "      <th>Original language</th>\n",
       "      <th>First published</th>\n",
       "      <th>Approximate sales in millions</th>\n",
       "      <th>Genre</th>\n",
       "    </tr>\n",
       "  </thead>\n",
       "  <tbody>\n",
       "    <tr>\n",
       "      <th>0</th>\n",
       "      <td>A Tale of Two Cities</td>\n",
       "      <td>Charles Dickens</td>\n",
       "      <td>English</td>\n",
       "      <td>1859</td>\n",
       "      <td>200.0</td>\n",
       "      <td>Historical fiction</td>\n",
       "    </tr>\n",
       "    <tr>\n",
       "      <th>19</th>\n",
       "      <td>Ben-Hur: A Tale of the Christ</td>\n",
       "      <td>Lew Wallace</td>\n",
       "      <td>English</td>\n",
       "      <td>1880</td>\n",
       "      <td>50.0</td>\n",
       "      <td>Historical fiction</td>\n",
       "    </tr>\n",
       "    <tr>\n",
       "      <th>55</th>\n",
       "      <td>Gone with the Wind</td>\n",
       "      <td>Margaret Mitchell</td>\n",
       "      <td>English</td>\n",
       "      <td>1936</td>\n",
       "      <td>30.0</td>\n",
       "      <td>Historical fiction</td>\n",
       "    </tr>\n",
       "    <tr>\n",
       "      <th>119</th>\n",
       "      <td>The Pillars of the Earth</td>\n",
       "      <td>Ken Follett</td>\n",
       "      <td>English</td>\n",
       "      <td>1989</td>\n",
       "      <td>15.0</td>\n",
       "      <td>Historical fiction</td>\n",
       "    </tr>\n",
       "  </tbody>\n",
       "</table>\n",
       "</div>"
      ],
      "text/plain": [
       "                              Book          Author(s) Original language  \\\n",
       "0             A Tale of Two Cities    Charles Dickens           English   \n",
       "19   Ben-Hur: A Tale of the Christ        Lew Wallace           English   \n",
       "55              Gone with the Wind  Margaret Mitchell           English   \n",
       "119       The Pillars of the Earth        Ken Follett           English   \n",
       "\n",
       "    First published  Approximate sales in millions               Genre  \n",
       "0              1859                          200.0  Historical fiction  \n",
       "19             1880                           50.0  Historical fiction  \n",
       "55             1936                           30.0  Historical fiction  \n",
       "119            1989                           15.0  Historical fiction  "
      ]
     },
     "execution_count": 13,
     "metadata": {},
     "output_type": "execute_result"
    }
   ],
   "source": [
    "df_historical_fic = df[df['Genre']=='Historical fiction']\n",
    "df_historical_fic.head()"
   ]
  },
  {
   "cell_type": "code",
   "execution_count": 14,
   "id": "864c8419",
   "metadata": {
    "execution": {
     "iopub.execute_input": "2024-04-30T15:56:21.432209Z",
     "iopub.status.busy": "2024-04-30T15:56:21.431829Z",
     "iopub.status.idle": "2024-04-30T15:56:21.489033Z",
     "shell.execute_reply": "2024-04-30T15:56:21.488145Z"
    },
    "papermill": {
     "duration": 0.072762,
     "end_time": "2024-04-30T15:56:21.490900",
     "exception": false,
     "start_time": "2024-04-30T15:56:21.418138",
     "status": "completed"
    },
    "tags": []
   },
   "outputs": [
    {
     "data": {
      "text/html": [
       "\n",
       "<style>\n",
       "  #altair-viz-be9f6f6146fa4081b36c9bdbed128963.vega-embed {\n",
       "    width: 100%;\n",
       "    display: flex;\n",
       "  }\n",
       "\n",
       "  #altair-viz-be9f6f6146fa4081b36c9bdbed128963.vega-embed details,\n",
       "  #altair-viz-be9f6f6146fa4081b36c9bdbed128963.vega-embed details summary {\n",
       "    position: relative;\n",
       "  }\n",
       "</style>\n",
       "<div id=\"altair-viz-be9f6f6146fa4081b36c9bdbed128963\"></div>\n",
       "<script type=\"text/javascript\">\n",
       "  var VEGA_DEBUG = (typeof VEGA_DEBUG == \"undefined\") ? {} : VEGA_DEBUG;\n",
       "  (function(spec, embedOpt){\n",
       "    let outputDiv = document.currentScript.previousElementSibling;\n",
       "    if (outputDiv.id !== \"altair-viz-be9f6f6146fa4081b36c9bdbed128963\") {\n",
       "      outputDiv = document.getElementById(\"altair-viz-be9f6f6146fa4081b36c9bdbed128963\");\n",
       "    }\n",
       "    const paths = {\n",
       "      \"vega\": \"https://cdn.jsdelivr.net/npm/vega@5?noext\",\n",
       "      \"vega-lib\": \"https://cdn.jsdelivr.net/npm/vega-lib?noext\",\n",
       "      \"vega-lite\": \"https://cdn.jsdelivr.net/npm/vega-lite@5.17.0?noext\",\n",
       "      \"vega-embed\": \"https://cdn.jsdelivr.net/npm/vega-embed@6?noext\",\n",
       "    };\n",
       "\n",
       "    function maybeLoadScript(lib, version) {\n",
       "      var key = `${lib.replace(\"-\", \"\")}_version`;\n",
       "      return (VEGA_DEBUG[key] == version) ?\n",
       "        Promise.resolve(paths[lib]) :\n",
       "        new Promise(function(resolve, reject) {\n",
       "          var s = document.createElement('script');\n",
       "          document.getElementsByTagName(\"head\")[0].appendChild(s);\n",
       "          s.async = true;\n",
       "          s.onload = () => {\n",
       "            VEGA_DEBUG[key] = version;\n",
       "            return resolve(paths[lib]);\n",
       "          };\n",
       "          s.onerror = () => reject(`Error loading script: ${paths[lib]}`);\n",
       "          s.src = paths[lib];\n",
       "        });\n",
       "    }\n",
       "\n",
       "    function showError(err) {\n",
       "      outputDiv.innerHTML = `<div class=\"error\" style=\"color:red;\">${err}</div>`;\n",
       "      throw err;\n",
       "    }\n",
       "\n",
       "    function displayChart(vegaEmbed) {\n",
       "      vegaEmbed(outputDiv, spec, embedOpt)\n",
       "        .catch(err => showError(`Javascript Error: ${err.message}<br>This usually means there's a typo in your chart specification. See the javascript console for the full traceback.`));\n",
       "    }\n",
       "\n",
       "    if(typeof define === \"function\" && define.amd) {\n",
       "      requirejs.config({paths});\n",
       "      require([\"vega-embed\"], displayChart, err => showError(`Error loading script: ${err.message}`));\n",
       "    } else {\n",
       "      maybeLoadScript(\"vega\", \"5\")\n",
       "        .then(() => maybeLoadScript(\"vega-lite\", \"5.17.0\"))\n",
       "        .then(() => maybeLoadScript(\"vega-embed\", \"6\"))\n",
       "        .catch(showError)\n",
       "        .then(() => displayChart(vegaEmbed));\n",
       "    }\n",
       "  })({\"config\": {\"view\": {\"continuousWidth\": 300, \"continuousHeight\": 300}}, \"data\": {\"name\": \"data-e04b2a1df507cace3f4beec9ab8bb84f\"}, \"mark\": {\"type\": \"bar\"}, \"encoding\": {\"color\": {\"field\": \"Author(s)\", \"type\": \"nominal\"}, \"tooltip\": [{\"field\": \"Author(s)\", \"type\": \"nominal\"}, {\"field\": \"Original language\", \"type\": \"nominal\"}, {\"field\": \"Book\", \"type\": \"nominal\"}, {\"field\": \"Genre\", \"type\": \"nominal\"}, {\"field\": \"Approximate sales in millions\", \"type\": \"quantitative\"}], \"x\": {\"field\": \"First published\", \"type\": \"nominal\"}, \"y\": {\"field\": \"Approximate sales in millions\", \"type\": \"quantitative\"}}, \"$schema\": \"https://vega.github.io/schema/vega-lite/v5.17.0.json\", \"datasets\": {\"data-e04b2a1df507cace3f4beec9ab8bb84f\": [{\"Book\": \"A Tale of Two Cities\", \"Author(s)\": \"Charles Dickens\", \"Original language\": \"English\", \"First published\": 1859, \"Approximate sales in millions\": 200.0, \"Genre\": \"Historical fiction\"}, {\"Book\": \"Ben-Hur: A Tale of the Christ\", \"Author(s)\": \"Lew Wallace\", \"Original language\": \"English\", \"First published\": 1880, \"Approximate sales in millions\": 50.0, \"Genre\": \"Historical fiction\"}, {\"Book\": \"Gone with the Wind\", \"Author(s)\": \"Margaret Mitchell\", \"Original language\": \"English\", \"First published\": 1936, \"Approximate sales in millions\": 30.0, \"Genre\": \"Historical fiction\"}, {\"Book\": \"The Pillars of the Earth\", \"Author(s)\": \"Ken Follett\", \"Original language\": \"English\", \"First published\": 1989, \"Approximate sales in millions\": 15.0, \"Genre\": \"Historical fiction\"}]}}, {\"mode\": \"vega-lite\"});\n",
       "</script>"
      ],
      "text/plain": [
       "alt.Chart(...)"
      ]
     },
     "execution_count": 14,
     "metadata": {},
     "output_type": "execute_result"
    }
   ],
   "source": [
    "alt.Chart(df_historical_fic).mark_bar().encode(\n",
    "    x='First published:N', \n",
    "    y='Approximate sales in millions:Q',  \n",
    "    color='Author(s):N',\n",
    "    tooltip = ['Author(s)', 'Original language', 'Book', 'Genre', 'Approximate sales in millions']\n",
    "\n",
    ")"
   ]
  },
  {
   "cell_type": "code",
   "execution_count": 15,
   "id": "8d0ceb97",
   "metadata": {
    "execution": {
     "iopub.execute_input": "2024-04-30T15:56:21.514386Z",
     "iopub.status.busy": "2024-04-30T15:56:21.513976Z",
     "iopub.status.idle": "2024-04-30T15:56:21.526187Z",
     "shell.execute_reply": "2024-04-30T15:56:21.524931Z"
    },
    "papermill": {
     "duration": 0.027108,
     "end_time": "2024-04-30T15:56:21.528660",
     "exception": false,
     "start_time": "2024-04-30T15:56:21.501552",
     "status": "completed"
    },
    "tags": []
   },
   "outputs": [
    {
     "data": {
      "text/html": [
       "<div>\n",
       "<style scoped>\n",
       "    .dataframe tbody tr th:only-of-type {\n",
       "        vertical-align: middle;\n",
       "    }\n",
       "\n",
       "    .dataframe tbody tr th {\n",
       "        vertical-align: top;\n",
       "    }\n",
       "\n",
       "    .dataframe thead th {\n",
       "        text-align: right;\n",
       "    }\n",
       "</style>\n",
       "<table border=\"1\" class=\"dataframe\">\n",
       "  <thead>\n",
       "    <tr style=\"text-align: right;\">\n",
       "      <th></th>\n",
       "      <th>Book</th>\n",
       "      <th>Author(s)</th>\n",
       "      <th>Original language</th>\n",
       "      <th>First published</th>\n",
       "      <th>Approximate sales in millions</th>\n",
       "      <th>Genre</th>\n",
       "    </tr>\n",
       "  </thead>\n",
       "  <tbody>\n",
       "    <tr>\n",
       "      <th>3</th>\n",
       "      <td>And Then There Were None</td>\n",
       "      <td>Agatha Christie</td>\n",
       "      <td>English</td>\n",
       "      <td>1939</td>\n",
       "      <td>100.0</td>\n",
       "      <td>Mystery</td>\n",
       "    </tr>\n",
       "  </tbody>\n",
       "</table>\n",
       "</div>"
      ],
      "text/plain": [
       "                       Book        Author(s) Original language  \\\n",
       "3  And Then There Were None  Agatha Christie           English   \n",
       "\n",
       "  First published  Approximate sales in millions    Genre  \n",
       "3            1939                          100.0  Mystery  "
      ]
     },
     "execution_count": 15,
     "metadata": {},
     "output_type": "execute_result"
    }
   ],
   "source": [
    "df_mystery = df[df['Genre']=='Mystery']\n",
    "df_mystery.head()"
   ]
  },
  {
   "cell_type": "code",
   "execution_count": 16,
   "id": "973f7672",
   "metadata": {
    "execution": {
     "iopub.execute_input": "2024-04-30T15:56:21.551720Z",
     "iopub.status.busy": "2024-04-30T15:56:21.551372Z",
     "iopub.status.idle": "2024-04-30T15:56:21.563796Z",
     "shell.execute_reply": "2024-04-30T15:56:21.562408Z"
    },
    "papermill": {
     "duration": 0.026781,
     "end_time": "2024-04-30T15:56:21.566244",
     "exception": false,
     "start_time": "2024-04-30T15:56:21.539463",
     "status": "completed"
    },
    "tags": []
   },
   "outputs": [
    {
     "data": {
      "text/html": [
       "<div>\n",
       "<style scoped>\n",
       "    .dataframe tbody tr th:only-of-type {\n",
       "        vertical-align: middle;\n",
       "    }\n",
       "\n",
       "    .dataframe tbody tr th {\n",
       "        vertical-align: top;\n",
       "    }\n",
       "\n",
       "    .dataframe thead th {\n",
       "        text-align: right;\n",
       "    }\n",
       "</style>\n",
       "<table border=\"1\" class=\"dataframe\">\n",
       "  <thead>\n",
       "    <tr style=\"text-align: right;\">\n",
       "      <th></th>\n",
       "      <th>Book</th>\n",
       "      <th>Author(s)</th>\n",
       "      <th>Original language</th>\n",
       "      <th>First published</th>\n",
       "      <th>Approximate sales in millions</th>\n",
       "      <th>Genre</th>\n",
       "    </tr>\n",
       "  </thead>\n",
       "  <tbody>\n",
       "    <tr>\n",
       "      <th>1</th>\n",
       "      <td>The Little Prince (Le Petit Prince)</td>\n",
       "      <td>Antoine de Saint-Exupéry</td>\n",
       "      <td>French</td>\n",
       "      <td>1943</td>\n",
       "      <td>200.0</td>\n",
       "      <td>Novella</td>\n",
       "    </tr>\n",
       "  </tbody>\n",
       "</table>\n",
       "</div>"
      ],
      "text/plain": [
       "                                  Book                 Author(s)  \\\n",
       "1  The Little Prince (Le Petit Prince)  Antoine de Saint-Exupéry   \n",
       "\n",
       "  Original language First published  Approximate sales in millions    Genre  \n",
       "1            French            1943                          200.0  Novella  "
      ]
     },
     "execution_count": 16,
     "metadata": {},
     "output_type": "execute_result"
    }
   ],
   "source": [
    "df_novella = df[df['Genre']=='Novella']\n",
    "df_novella.head()"
   ]
  },
  {
   "cell_type": "code",
   "execution_count": 17,
   "id": "54ec703d",
   "metadata": {
    "execution": {
     "iopub.execute_input": "2024-04-30T15:56:21.590033Z",
     "iopub.status.busy": "2024-04-30T15:56:21.589712Z",
     "iopub.status.idle": "2024-04-30T15:56:21.602089Z",
     "shell.execute_reply": "2024-04-30T15:56:21.600584Z"
    },
    "papermill": {
     "duration": 0.026305,
     "end_time": "2024-04-30T15:56:21.603891",
     "exception": false,
     "start_time": "2024-04-30T15:56:21.577586",
     "status": "completed"
    },
    "tags": []
   },
   "outputs": [
    {
     "data": {
      "text/html": [
       "<div>\n",
       "<style scoped>\n",
       "    .dataframe tbody tr th:only-of-type {\n",
       "        vertical-align: middle;\n",
       "    }\n",
       "\n",
       "    .dataframe tbody tr th {\n",
       "        vertical-align: top;\n",
       "    }\n",
       "\n",
       "    .dataframe thead th {\n",
       "        text-align: right;\n",
       "    }\n",
       "</style>\n",
       "<table border=\"1\" class=\"dataframe\">\n",
       "  <thead>\n",
       "    <tr style=\"text-align: right;\">\n",
       "      <th></th>\n",
       "      <th>Book</th>\n",
       "      <th>Author(s)</th>\n",
       "      <th>Original language</th>\n",
       "      <th>First published</th>\n",
       "      <th>Approximate sales in millions</th>\n",
       "      <th>Genre</th>\n",
       "    </tr>\n",
       "  </thead>\n",
       "  <tbody>\n",
       "    <tr>\n",
       "      <th>4</th>\n",
       "      <td>Dream of the Red Chamber (紅樓夢)</td>\n",
       "      <td>Cao Xueqin</td>\n",
       "      <td>Chinese</td>\n",
       "      <td>1791</td>\n",
       "      <td>100.0</td>\n",
       "      <td>Family saga</td>\n",
       "    </tr>\n",
       "  </tbody>\n",
       "</table>\n",
       "</div>"
      ],
      "text/plain": [
       "                             Book   Author(s) Original language  \\\n",
       "4  Dream of the Red Chamber (紅樓夢)  Cao Xueqin           Chinese   \n",
       "\n",
       "  First published  Approximate sales in millions        Genre  \n",
       "4            1791                          100.0  Family saga  "
      ]
     },
     "execution_count": 17,
     "metadata": {},
     "output_type": "execute_result"
    }
   ],
   "source": [
    "df_family_saga = df[df['Genre']=='Family saga']\n",
    "df_family_saga.head()"
   ]
  },
  {
   "cell_type": "code",
   "execution_count": 18,
   "id": "cb2d5c40",
   "metadata": {
    "execution": {
     "iopub.execute_input": "2024-04-30T15:56:21.626922Z",
     "iopub.status.busy": "2024-04-30T15:56:21.626553Z",
     "iopub.status.idle": "2024-04-30T15:56:21.639286Z",
     "shell.execute_reply": "2024-04-30T15:56:21.638088Z"
    },
    "papermill": {
     "duration": 0.026801,
     "end_time": "2024-04-30T15:56:21.641519",
     "exception": false,
     "start_time": "2024-04-30T15:56:21.614718",
     "status": "completed"
    },
    "tags": []
   },
   "outputs": [
    {
     "data": {
      "text/html": [
       "<div>\n",
       "<style scoped>\n",
       "    .dataframe tbody tr th:only-of-type {\n",
       "        vertical-align: middle;\n",
       "    }\n",
       "\n",
       "    .dataframe tbody tr th {\n",
       "        vertical-align: top;\n",
       "    }\n",
       "\n",
       "    .dataframe thead th {\n",
       "        text-align: right;\n",
       "    }\n",
       "</style>\n",
       "<table border=\"1\" class=\"dataframe\">\n",
       "  <thead>\n",
       "    <tr style=\"text-align: right;\">\n",
       "      <th></th>\n",
       "      <th>Book</th>\n",
       "      <th>Author(s)</th>\n",
       "      <th>Original language</th>\n",
       "      <th>First published</th>\n",
       "      <th>Approximate sales in millions</th>\n",
       "      <th>Genre</th>\n",
       "    </tr>\n",
       "  </thead>\n",
       "  <tbody>\n",
       "    <tr>\n",
       "      <th>3</th>\n",
       "      <td>And Then There Were None</td>\n",
       "      <td>Agatha Christie</td>\n",
       "      <td>English</td>\n",
       "      <td>1939</td>\n",
       "      <td>100.0</td>\n",
       "      <td>Mystery</td>\n",
       "    </tr>\n",
       "    <tr>\n",
       "      <th>1</th>\n",
       "      <td>The Little Prince (Le Petit Prince)</td>\n",
       "      <td>Antoine de Saint-Exupéry</td>\n",
       "      <td>French</td>\n",
       "      <td>1943</td>\n",
       "      <td>200.0</td>\n",
       "      <td>Novella</td>\n",
       "    </tr>\n",
       "    <tr>\n",
       "      <th>4</th>\n",
       "      <td>Dream of the Red Chamber (紅樓夢)</td>\n",
       "      <td>Cao Xueqin</td>\n",
       "      <td>Chinese</td>\n",
       "      <td>1791</td>\n",
       "      <td>100.0</td>\n",
       "      <td>Family saga</td>\n",
       "    </tr>\n",
       "  </tbody>\n",
       "</table>\n",
       "</div>"
      ],
      "text/plain": [
       "                                  Book                 Author(s)  \\\n",
       "3             And Then There Were None           Agatha Christie   \n",
       "1  The Little Prince (Le Petit Prince)  Antoine de Saint-Exupéry   \n",
       "4       Dream of the Red Chamber (紅樓夢)                Cao Xueqin   \n",
       "\n",
       "  Original language First published  Approximate sales in millions  \\\n",
       "3           English            1939                          100.0   \n",
       "1            French            1943                          200.0   \n",
       "4           Chinese            1791                          100.0   \n",
       "\n",
       "         Genre  \n",
       "3      Mystery  \n",
       "1      Novella  \n",
       "4  Family saga  "
      ]
     },
     "execution_count": 18,
     "metadata": {},
     "output_type": "execute_result"
    }
   ],
   "source": [
    "groups = [df_mystery, df_novella, df_family_saga]\n",
    "df_mys_nov_fs = pd.concat(groups)\n",
    "df_mys_nov_fs.head()\n"
   ]
  },
  {
   "cell_type": "code",
   "execution_count": 19,
   "id": "60bae10f",
   "metadata": {
    "execution": {
     "iopub.execute_input": "2024-04-30T15:56:21.665588Z",
     "iopub.status.busy": "2024-04-30T15:56:21.665200Z",
     "iopub.status.idle": "2024-04-30T15:56:21.721918Z",
     "shell.execute_reply": "2024-04-30T15:56:21.720999Z"
    },
    "papermill": {
     "duration": 0.071053,
     "end_time": "2024-04-30T15:56:21.723930",
     "exception": false,
     "start_time": "2024-04-30T15:56:21.652877",
     "status": "completed"
    },
    "tags": []
   },
   "outputs": [
    {
     "data": {
      "text/html": [
       "\n",
       "<style>\n",
       "  #altair-viz-e65f887624ea462089053e75105fcb4b.vega-embed {\n",
       "    width: 100%;\n",
       "    display: flex;\n",
       "  }\n",
       "\n",
       "  #altair-viz-e65f887624ea462089053e75105fcb4b.vega-embed details,\n",
       "  #altair-viz-e65f887624ea462089053e75105fcb4b.vega-embed details summary {\n",
       "    position: relative;\n",
       "  }\n",
       "</style>\n",
       "<div id=\"altair-viz-e65f887624ea462089053e75105fcb4b\"></div>\n",
       "<script type=\"text/javascript\">\n",
       "  var VEGA_DEBUG = (typeof VEGA_DEBUG == \"undefined\") ? {} : VEGA_DEBUG;\n",
       "  (function(spec, embedOpt){\n",
       "    let outputDiv = document.currentScript.previousElementSibling;\n",
       "    if (outputDiv.id !== \"altair-viz-e65f887624ea462089053e75105fcb4b\") {\n",
       "      outputDiv = document.getElementById(\"altair-viz-e65f887624ea462089053e75105fcb4b\");\n",
       "    }\n",
       "    const paths = {\n",
       "      \"vega\": \"https://cdn.jsdelivr.net/npm/vega@5?noext\",\n",
       "      \"vega-lib\": \"https://cdn.jsdelivr.net/npm/vega-lib?noext\",\n",
       "      \"vega-lite\": \"https://cdn.jsdelivr.net/npm/vega-lite@5.17.0?noext\",\n",
       "      \"vega-embed\": \"https://cdn.jsdelivr.net/npm/vega-embed@6?noext\",\n",
       "    };\n",
       "\n",
       "    function maybeLoadScript(lib, version) {\n",
       "      var key = `${lib.replace(\"-\", \"\")}_version`;\n",
       "      return (VEGA_DEBUG[key] == version) ?\n",
       "        Promise.resolve(paths[lib]) :\n",
       "        new Promise(function(resolve, reject) {\n",
       "          var s = document.createElement('script');\n",
       "          document.getElementsByTagName(\"head\")[0].appendChild(s);\n",
       "          s.async = true;\n",
       "          s.onload = () => {\n",
       "            VEGA_DEBUG[key] = version;\n",
       "            return resolve(paths[lib]);\n",
       "          };\n",
       "          s.onerror = () => reject(`Error loading script: ${paths[lib]}`);\n",
       "          s.src = paths[lib];\n",
       "        });\n",
       "    }\n",
       "\n",
       "    function showError(err) {\n",
       "      outputDiv.innerHTML = `<div class=\"error\" style=\"color:red;\">${err}</div>`;\n",
       "      throw err;\n",
       "    }\n",
       "\n",
       "    function displayChart(vegaEmbed) {\n",
       "      vegaEmbed(outputDiv, spec, embedOpt)\n",
       "        .catch(err => showError(`Javascript Error: ${err.message}<br>This usually means there's a typo in your chart specification. See the javascript console for the full traceback.`));\n",
       "    }\n",
       "\n",
       "    if(typeof define === \"function\" && define.amd) {\n",
       "      requirejs.config({paths});\n",
       "      require([\"vega-embed\"], displayChart, err => showError(`Error loading script: ${err.message}`));\n",
       "    } else {\n",
       "      maybeLoadScript(\"vega\", \"5\")\n",
       "        .then(() => maybeLoadScript(\"vega-lite\", \"5.17.0\"))\n",
       "        .then(() => maybeLoadScript(\"vega-embed\", \"6\"))\n",
       "        .catch(showError)\n",
       "        .then(() => displayChart(vegaEmbed));\n",
       "    }\n",
       "  })({\"config\": {\"view\": {\"continuousWidth\": 300, \"continuousHeight\": 300}}, \"data\": {\"name\": \"data-84f75910893e2cd66402ae72c98d1394\"}, \"mark\": {\"type\": \"bar\"}, \"encoding\": {\"color\": {\"field\": \"Author(s)\", \"type\": \"nominal\"}, \"tooltip\": [{\"field\": \"Author(s)\", \"type\": \"nominal\"}, {\"field\": \"Original language\", \"type\": \"nominal\"}, {\"field\": \"Book\", \"type\": \"nominal\"}, {\"field\": \"Genre\", \"type\": \"nominal\"}, {\"field\": \"Approximate sales in millions\", \"type\": \"quantitative\"}], \"x\": {\"field\": \"First published\", \"type\": \"nominal\"}, \"y\": {\"field\": \"Approximate sales in millions\", \"type\": \"quantitative\"}}, \"$schema\": \"https://vega.github.io/schema/vega-lite/v5.17.0.json\", \"datasets\": {\"data-84f75910893e2cd66402ae72c98d1394\": [{\"Book\": \"And Then There Were None\", \"Author(s)\": \"Agatha Christie\", \"Original language\": \"English\", \"First published\": 1939, \"Approximate sales in millions\": 100.0, \"Genre\": \"Mystery\"}, {\"Book\": \"The Little Prince (Le Petit Prince)\", \"Author(s)\": \"Antoine de Saint-Exup\\u00e9ry\", \"Original language\": \"French\", \"First published\": 1943, \"Approximate sales in millions\": 200.0, \"Genre\": \"Novella\"}, {\"Book\": \"Dream of the Red Chamber (\\u7d05\\u6a13\\u5922)\", \"Author(s)\": \"Cao Xueqin\", \"Original language\": \"Chinese\", \"First published\": 1791, \"Approximate sales in millions\": 100.0, \"Genre\": \"Family saga\"}]}}, {\"mode\": \"vega-lite\"});\n",
       "</script>"
      ],
      "text/plain": [
       "alt.Chart(...)"
      ]
     },
     "execution_count": 19,
     "metadata": {},
     "output_type": "execute_result"
    }
   ],
   "source": [
    "alt.Chart(df_mys_nov_fs).mark_bar().encode(\n",
    "    x='First published:N', \n",
    "    y='Approximate sales in millions:Q',  \n",
    "    color='Author(s):N',\n",
    "    tooltip = ['Author(s)', 'Original language', 'Book', 'Genre', 'Approximate sales in millions']\n",
    "\n",
    ")"
   ]
  },
  {
   "cell_type": "code",
   "execution_count": 20,
   "id": "af64bb86",
   "metadata": {
    "execution": {
     "iopub.execute_input": "2024-04-30T15:56:21.747503Z",
     "iopub.status.busy": "2024-04-30T15:56:21.746653Z",
     "iopub.status.idle": "2024-04-30T15:56:21.758153Z",
     "shell.execute_reply": "2024-04-30T15:56:21.757470Z"
    },
    "papermill": {
     "duration": 0.024992,
     "end_time": "2024-04-30T15:56:21.759750",
     "exception": false,
     "start_time": "2024-04-30T15:56:21.734758",
     "status": "completed"
    },
    "tags": []
   },
   "outputs": [
    {
     "data": {
      "text/html": [
       "<div>\n",
       "<style scoped>\n",
       "    .dataframe tbody tr th:only-of-type {\n",
       "        vertical-align: middle;\n",
       "    }\n",
       "\n",
       "    .dataframe tbody tr th {\n",
       "        vertical-align: top;\n",
       "    }\n",
       "\n",
       "    .dataframe thead th {\n",
       "        text-align: right;\n",
       "    }\n",
       "</style>\n",
       "<table border=\"1\" class=\"dataframe\">\n",
       "  <thead>\n",
       "    <tr style=\"text-align: right;\">\n",
       "      <th></th>\n",
       "      <th>Book</th>\n",
       "      <th>Author(s)</th>\n",
       "      <th>Original language</th>\n",
       "      <th>First published</th>\n",
       "      <th>Approximate sales in millions</th>\n",
       "      <th>Genre</th>\n",
       "    </tr>\n",
       "  </thead>\n",
       "  <tbody>\n",
       "    <tr>\n",
       "      <th>0</th>\n",
       "      <td>A Tale of Two Cities</td>\n",
       "      <td>Charles Dickens</td>\n",
       "      <td>English</td>\n",
       "      <td>1859</td>\n",
       "      <td>200.0</td>\n",
       "      <td>Historical fiction</td>\n",
       "    </tr>\n",
       "    <tr>\n",
       "      <th>19</th>\n",
       "      <td>Ben-Hur: A Tale of the Christ</td>\n",
       "      <td>Lew Wallace</td>\n",
       "      <td>English</td>\n",
       "      <td>1880</td>\n",
       "      <td>50.0</td>\n",
       "      <td>Historical fiction</td>\n",
       "    </tr>\n",
       "    <tr>\n",
       "      <th>55</th>\n",
       "      <td>Gone with the Wind</td>\n",
       "      <td>Margaret Mitchell</td>\n",
       "      <td>English</td>\n",
       "      <td>1936</td>\n",
       "      <td>30.0</td>\n",
       "      <td>Historical fiction</td>\n",
       "    </tr>\n",
       "    <tr>\n",
       "      <th>119</th>\n",
       "      <td>The Pillars of the Earth</td>\n",
       "      <td>Ken Follett</td>\n",
       "      <td>English</td>\n",
       "      <td>1989</td>\n",
       "      <td>15.0</td>\n",
       "      <td>Historical fiction</td>\n",
       "    </tr>\n",
       "    <tr>\n",
       "      <th>2</th>\n",
       "      <td>Harry Potter and the Philosopher's Stone</td>\n",
       "      <td>J. K. Rowling</td>\n",
       "      <td>English</td>\n",
       "      <td>1997</td>\n",
       "      <td>120.0</td>\n",
       "      <td>Fantasy</td>\n",
       "    </tr>\n",
       "  </tbody>\n",
       "</table>\n",
       "</div>"
      ],
      "text/plain": [
       "                                         Book          Author(s)  \\\n",
       "0                        A Tale of Two Cities    Charles Dickens   \n",
       "19              Ben-Hur: A Tale of the Christ        Lew Wallace   \n",
       "55                         Gone with the Wind  Margaret Mitchell   \n",
       "119                  The Pillars of the Earth        Ken Follett   \n",
       "2    Harry Potter and the Philosopher's Stone      J. K. Rowling   \n",
       "\n",
       "    Original language First published  Approximate sales in millions  \\\n",
       "0             English            1859                          200.0   \n",
       "19            English            1880                           50.0   \n",
       "55            English            1936                           30.0   \n",
       "119           English            1989                           15.0   \n",
       "2             English            1997                          120.0   \n",
       "\n",
       "                  Genre  \n",
       "0    Historical fiction  \n",
       "19   Historical fiction  \n",
       "55   Historical fiction  \n",
       "119  Historical fiction  \n",
       "2               Fantasy  "
      ]
     },
     "execution_count": 20,
     "metadata": {},
     "output_type": "execute_result"
    }
   ],
   "source": [
    "top_5 = [df_historical_fic, df_fantasy, df_mystery, df_novella, df_family_saga]\n",
    "df_top5 = pd.concat(top_5)\n",
    "df_top5.head()"
   ]
  },
  {
   "cell_type": "code",
   "execution_count": 21,
   "id": "bd3f7e97",
   "metadata": {
    "execution": {
     "iopub.execute_input": "2024-04-30T15:56:21.784669Z",
     "iopub.status.busy": "2024-04-30T15:56:21.784002Z",
     "iopub.status.idle": "2024-04-30T15:56:21.838397Z",
     "shell.execute_reply": "2024-04-30T15:56:21.837540Z"
    },
    "papermill": {
     "duration": 0.069057,
     "end_time": "2024-04-30T15:56:21.840524",
     "exception": false,
     "start_time": "2024-04-30T15:56:21.771467",
     "status": "completed"
    },
    "tags": []
   },
   "outputs": [
    {
     "data": {
      "text/html": [
       "\n",
       "<style>\n",
       "  #altair-viz-221337b3b31341caafb511db32ff6214.vega-embed {\n",
       "    width: 100%;\n",
       "    display: flex;\n",
       "  }\n",
       "\n",
       "  #altair-viz-221337b3b31341caafb511db32ff6214.vega-embed details,\n",
       "  #altair-viz-221337b3b31341caafb511db32ff6214.vega-embed details summary {\n",
       "    position: relative;\n",
       "  }\n",
       "</style>\n",
       "<div id=\"altair-viz-221337b3b31341caafb511db32ff6214\"></div>\n",
       "<script type=\"text/javascript\">\n",
       "  var VEGA_DEBUG = (typeof VEGA_DEBUG == \"undefined\") ? {} : VEGA_DEBUG;\n",
       "  (function(spec, embedOpt){\n",
       "    let outputDiv = document.currentScript.previousElementSibling;\n",
       "    if (outputDiv.id !== \"altair-viz-221337b3b31341caafb511db32ff6214\") {\n",
       "      outputDiv = document.getElementById(\"altair-viz-221337b3b31341caafb511db32ff6214\");\n",
       "    }\n",
       "    const paths = {\n",
       "      \"vega\": \"https://cdn.jsdelivr.net/npm/vega@5?noext\",\n",
       "      \"vega-lib\": \"https://cdn.jsdelivr.net/npm/vega-lib?noext\",\n",
       "      \"vega-lite\": \"https://cdn.jsdelivr.net/npm/vega-lite@5.17.0?noext\",\n",
       "      \"vega-embed\": \"https://cdn.jsdelivr.net/npm/vega-embed@6?noext\",\n",
       "    };\n",
       "\n",
       "    function maybeLoadScript(lib, version) {\n",
       "      var key = `${lib.replace(\"-\", \"\")}_version`;\n",
       "      return (VEGA_DEBUG[key] == version) ?\n",
       "        Promise.resolve(paths[lib]) :\n",
       "        new Promise(function(resolve, reject) {\n",
       "          var s = document.createElement('script');\n",
       "          document.getElementsByTagName(\"head\")[0].appendChild(s);\n",
       "          s.async = true;\n",
       "          s.onload = () => {\n",
       "            VEGA_DEBUG[key] = version;\n",
       "            return resolve(paths[lib]);\n",
       "          };\n",
       "          s.onerror = () => reject(`Error loading script: ${paths[lib]}`);\n",
       "          s.src = paths[lib];\n",
       "        });\n",
       "    }\n",
       "\n",
       "    function showError(err) {\n",
       "      outputDiv.innerHTML = `<div class=\"error\" style=\"color:red;\">${err}</div>`;\n",
       "      throw err;\n",
       "    }\n",
       "\n",
       "    function displayChart(vegaEmbed) {\n",
       "      vegaEmbed(outputDiv, spec, embedOpt)\n",
       "        .catch(err => showError(`Javascript Error: ${err.message}<br>This usually means there's a typo in your chart specification. See the javascript console for the full traceback.`));\n",
       "    }\n",
       "\n",
       "    if(typeof define === \"function\" && define.amd) {\n",
       "      requirejs.config({paths});\n",
       "      require([\"vega-embed\"], displayChart, err => showError(`Error loading script: ${err.message}`));\n",
       "    } else {\n",
       "      maybeLoadScript(\"vega\", \"5\")\n",
       "        .then(() => maybeLoadScript(\"vega-lite\", \"5.17.0\"))\n",
       "        .then(() => maybeLoadScript(\"vega-embed\", \"6\"))\n",
       "        .catch(showError)\n",
       "        .then(() => displayChart(vegaEmbed));\n",
       "    }\n",
       "  })({\"config\": {\"view\": {\"continuousWidth\": 300, \"continuousHeight\": 300}}, \"data\": {\"name\": \"data-f4fdd795dc922820f6c693d2008cb97f\"}, \"mark\": {\"type\": \"bar\"}, \"encoding\": {\"color\": {\"field\": \"Author(s)\", \"type\": \"nominal\"}, \"tooltip\": [{\"field\": \"Author(s)\", \"type\": \"nominal\"}, {\"field\": \"Original language\", \"type\": \"nominal\"}, {\"field\": \"Book\", \"type\": \"nominal\"}, {\"field\": \"Genre\", \"type\": \"nominal\"}, {\"field\": \"Approximate sales in millions\", \"type\": \"quantitative\"}], \"x\": {\"field\": \"First published\", \"type\": \"nominal\"}, \"y\": {\"field\": \"Approximate sales in millions\", \"type\": \"quantitative\"}}, \"$schema\": \"https://vega.github.io/schema/vega-lite/v5.17.0.json\", \"datasets\": {\"data-f4fdd795dc922820f6c693d2008cb97f\": [{\"Book\": \"A Tale of Two Cities\", \"Author(s)\": \"Charles Dickens\", \"Original language\": \"English\", \"First published\": 1859, \"Approximate sales in millions\": 200.0, \"Genre\": \"Historical fiction\"}, {\"Book\": \"Ben-Hur: A Tale of the Christ\", \"Author(s)\": \"Lew Wallace\", \"Original language\": \"English\", \"First published\": 1880, \"Approximate sales in millions\": 50.0, \"Genre\": \"Historical fiction\"}, {\"Book\": \"Gone with the Wind\", \"Author(s)\": \"Margaret Mitchell\", \"Original language\": \"English\", \"First published\": 1936, \"Approximate sales in millions\": 30.0, \"Genre\": \"Historical fiction\"}, {\"Book\": \"The Pillars of the Earth\", \"Author(s)\": \"Ken Follett\", \"Original language\": \"English\", \"First published\": 1989, \"Approximate sales in millions\": 15.0, \"Genre\": \"Historical fiction\"}, {\"Book\": \"Harry Potter and the Philosopher's Stone\", \"Author(s)\": \"J. K. Rowling\", \"Original language\": \"English\", \"First published\": 1997, \"Approximate sales in millions\": 120.0, \"Genre\": \"Fantasy\"}, {\"Book\": \"The Hobbit\", \"Author(s)\": \"J. R. R. Tolkien\", \"Original language\": \"English\", \"First published\": 1937, \"Approximate sales in millions\": 100.0, \"Genre\": \"Fantasy\"}, {\"Book\": \"Harry Potter and the Chamber of Secrets\", \"Author(s)\": \"J. K. Rowling\", \"Original language\": \"English\", \"First published\": 1998, \"Approximate sales in millions\": 77.0, \"Genre\": \"Fantasy\"}, {\"Book\": \"Harry Potter and the Prisoner of Azkaban\", \"Author(s)\": \"J. K. Rowling\", \"Original language\": \"English\", \"First published\": 1999, \"Approximate sales in millions\": 65.0, \"Genre\": \"Fantasy\"}, {\"Book\": \"Harry Potter and the Goblet of Fire\", \"Author(s)\": \"J. K. Rowling\", \"Original language\": \"English\", \"First published\": 2000, \"Approximate sales in millions\": 65.0, \"Genre\": \"Fantasy\"}, {\"Book\": \"Harry Potter and the Order of the Phoenix\", \"Author(s)\": \"J. K. Rowling\", \"Original language\": \"English\", \"First published\": 2003, \"Approximate sales in millions\": 65.0, \"Genre\": \"Fantasy\"}, {\"Book\": \"Harry Potter and the Half-Blood Prince\", \"Author(s)\": \"J. K. Rowling\", \"Original language\": \"English\", \"First published\": 2005, \"Approximate sales in millions\": 65.0, \"Genre\": \"Fantasy\"}, {\"Book\": \"Harry Potter and the Deathly Hallows\", \"Author(s)\": \"J. K. Rowling\", \"Original language\": \"English\", \"First published\": 2007, \"Approximate sales in millions\": 65.0, \"Genre\": \"Fantasy\"}, {\"Book\": \"The Alchemist (O Alquimista)\", \"Author(s)\": \"Paulo Coelho\", \"Original language\": \"Portuguese\", \"First published\": 1988, \"Approximate sales in millions\": 65.0, \"Genre\": \"Fantasy\"}, {\"Book\": \"Watership Down\", \"Author(s)\": \"Richard Adams\", \"Original language\": \"English\", \"First published\": 1972, \"Approximate sales in millions\": 50.0, \"Genre\": \"Fantasy\"}, {\"Book\": \"And Then There Were None\", \"Author(s)\": \"Agatha Christie\", \"Original language\": \"English\", \"First published\": 1939, \"Approximate sales in millions\": 100.0, \"Genre\": \"Mystery\"}, {\"Book\": \"The Little Prince (Le Petit Prince)\", \"Author(s)\": \"Antoine de Saint-Exup\\u00e9ry\", \"Original language\": \"French\", \"First published\": 1943, \"Approximate sales in millions\": 200.0, \"Genre\": \"Novella\"}, {\"Book\": \"Dream of the Red Chamber (\\u7d05\\u6a13\\u5922)\", \"Author(s)\": \"Cao Xueqin\", \"Original language\": \"Chinese\", \"First published\": 1791, \"Approximate sales in millions\": 100.0, \"Genre\": \"Family saga\"}]}}, {\"mode\": \"vega-lite\"});\n",
       "</script>"
      ],
      "text/plain": [
       "alt.Chart(...)"
      ]
     },
     "execution_count": 21,
     "metadata": {},
     "output_type": "execute_result"
    }
   ],
   "source": [
    "alt.Chart(df_top5).mark_bar().encode(\n",
    "    x='First published:N', \n",
    "    y='Approximate sales in millions:Q',  \n",
    "    color='Author(s):N',\n",
    "    tooltip = ['Author(s)', 'Original language', 'Book', 'Genre', 'Approximate sales in millions']\n",
    "\n",
    ")"
   ]
  },
  {
   "cell_type": "code",
   "execution_count": 22,
   "id": "f64ec400",
   "metadata": {
    "execution": {
     "iopub.execute_input": "2024-04-30T15:56:21.865888Z",
     "iopub.status.busy": "2024-04-30T15:56:21.865312Z",
     "iopub.status.idle": "2024-04-30T15:56:21.922972Z",
     "shell.execute_reply": "2024-04-30T15:56:21.922233Z"
    },
    "papermill": {
     "duration": 0.073084,
     "end_time": "2024-04-30T15:56:21.925341",
     "exception": false,
     "start_time": "2024-04-30T15:56:21.852257",
     "status": "completed"
    },
    "tags": []
   },
   "outputs": [
    {
     "data": {
      "text/html": [
       "\n",
       "<style>\n",
       "  #altair-viz-2e2033152a5c4a4f9e753e63c907ff97.vega-embed {\n",
       "    width: 100%;\n",
       "    display: flex;\n",
       "  }\n",
       "\n",
       "  #altair-viz-2e2033152a5c4a4f9e753e63c907ff97.vega-embed details,\n",
       "  #altair-viz-2e2033152a5c4a4f9e753e63c907ff97.vega-embed details summary {\n",
       "    position: relative;\n",
       "  }\n",
       "</style>\n",
       "<div id=\"altair-viz-2e2033152a5c4a4f9e753e63c907ff97\"></div>\n",
       "<script type=\"text/javascript\">\n",
       "  var VEGA_DEBUG = (typeof VEGA_DEBUG == \"undefined\") ? {} : VEGA_DEBUG;\n",
       "  (function(spec, embedOpt){\n",
       "    let outputDiv = document.currentScript.previousElementSibling;\n",
       "    if (outputDiv.id !== \"altair-viz-2e2033152a5c4a4f9e753e63c907ff97\") {\n",
       "      outputDiv = document.getElementById(\"altair-viz-2e2033152a5c4a4f9e753e63c907ff97\");\n",
       "    }\n",
       "    const paths = {\n",
       "      \"vega\": \"https://cdn.jsdelivr.net/npm/vega@5?noext\",\n",
       "      \"vega-lib\": \"https://cdn.jsdelivr.net/npm/vega-lib?noext\",\n",
       "      \"vega-lite\": \"https://cdn.jsdelivr.net/npm/vega-lite@5.17.0?noext\",\n",
       "      \"vega-embed\": \"https://cdn.jsdelivr.net/npm/vega-embed@6?noext\",\n",
       "    };\n",
       "\n",
       "    function maybeLoadScript(lib, version) {\n",
       "      var key = `${lib.replace(\"-\", \"\")}_version`;\n",
       "      return (VEGA_DEBUG[key] == version) ?\n",
       "        Promise.resolve(paths[lib]) :\n",
       "        new Promise(function(resolve, reject) {\n",
       "          var s = document.createElement('script');\n",
       "          document.getElementsByTagName(\"head\")[0].appendChild(s);\n",
       "          s.async = true;\n",
       "          s.onload = () => {\n",
       "            VEGA_DEBUG[key] = version;\n",
       "            return resolve(paths[lib]);\n",
       "          };\n",
       "          s.onerror = () => reject(`Error loading script: ${paths[lib]}`);\n",
       "          s.src = paths[lib];\n",
       "        });\n",
       "    }\n",
       "\n",
       "    function showError(err) {\n",
       "      outputDiv.innerHTML = `<div class=\"error\" style=\"color:red;\">${err}</div>`;\n",
       "      throw err;\n",
       "    }\n",
       "\n",
       "    function displayChart(vegaEmbed) {\n",
       "      vegaEmbed(outputDiv, spec, embedOpt)\n",
       "        .catch(err => showError(`Javascript Error: ${err.message}<br>This usually means there's a typo in your chart specification. See the javascript console for the full traceback.`));\n",
       "    }\n",
       "\n",
       "    if(typeof define === \"function\" && define.amd) {\n",
       "      requirejs.config({paths});\n",
       "      require([\"vega-embed\"], displayChart, err => showError(`Error loading script: ${err.message}`));\n",
       "    } else {\n",
       "      maybeLoadScript(\"vega\", \"5\")\n",
       "        .then(() => maybeLoadScript(\"vega-lite\", \"5.17.0\"))\n",
       "        .then(() => maybeLoadScript(\"vega-embed\", \"6\"))\n",
       "        .catch(showError)\n",
       "        .then(() => displayChart(vegaEmbed));\n",
       "    }\n",
       "  })({\"config\": {\"view\": {\"continuousWidth\": 300, \"continuousHeight\": 300}}, \"data\": {\"name\": \"data-f4fdd795dc922820f6c693d2008cb97f\"}, \"mark\": {\"type\": \"bar\"}, \"encoding\": {\"color\": {\"field\": \"Original language\", \"type\": \"nominal\"}, \"tooltip\": [{\"field\": \"Author(s)\", \"type\": \"nominal\"}, {\"field\": \"Original language\", \"type\": \"nominal\"}, {\"field\": \"Book\", \"type\": \"nominal\"}, {\"field\": \"Genre\", \"type\": \"nominal\"}, {\"field\": \"Approximate sales in millions\", \"type\": \"quantitative\"}], \"x\": {\"field\": \"First published\", \"type\": \"nominal\"}, \"y\": {\"field\": \"Approximate sales in millions\", \"type\": \"quantitative\"}}, \"$schema\": \"https://vega.github.io/schema/vega-lite/v5.17.0.json\", \"datasets\": {\"data-f4fdd795dc922820f6c693d2008cb97f\": [{\"Book\": \"A Tale of Two Cities\", \"Author(s)\": \"Charles Dickens\", \"Original language\": \"English\", \"First published\": 1859, \"Approximate sales in millions\": 200.0, \"Genre\": \"Historical fiction\"}, {\"Book\": \"Ben-Hur: A Tale of the Christ\", \"Author(s)\": \"Lew Wallace\", \"Original language\": \"English\", \"First published\": 1880, \"Approximate sales in millions\": 50.0, \"Genre\": \"Historical fiction\"}, {\"Book\": \"Gone with the Wind\", \"Author(s)\": \"Margaret Mitchell\", \"Original language\": \"English\", \"First published\": 1936, \"Approximate sales in millions\": 30.0, \"Genre\": \"Historical fiction\"}, {\"Book\": \"The Pillars of the Earth\", \"Author(s)\": \"Ken Follett\", \"Original language\": \"English\", \"First published\": 1989, \"Approximate sales in millions\": 15.0, \"Genre\": \"Historical fiction\"}, {\"Book\": \"Harry Potter and the Philosopher's Stone\", \"Author(s)\": \"J. K. Rowling\", \"Original language\": \"English\", \"First published\": 1997, \"Approximate sales in millions\": 120.0, \"Genre\": \"Fantasy\"}, {\"Book\": \"The Hobbit\", \"Author(s)\": \"J. R. R. Tolkien\", \"Original language\": \"English\", \"First published\": 1937, \"Approximate sales in millions\": 100.0, \"Genre\": \"Fantasy\"}, {\"Book\": \"Harry Potter and the Chamber of Secrets\", \"Author(s)\": \"J. K. Rowling\", \"Original language\": \"English\", \"First published\": 1998, \"Approximate sales in millions\": 77.0, \"Genre\": \"Fantasy\"}, {\"Book\": \"Harry Potter and the Prisoner of Azkaban\", \"Author(s)\": \"J. K. Rowling\", \"Original language\": \"English\", \"First published\": 1999, \"Approximate sales in millions\": 65.0, \"Genre\": \"Fantasy\"}, {\"Book\": \"Harry Potter and the Goblet of Fire\", \"Author(s)\": \"J. K. Rowling\", \"Original language\": \"English\", \"First published\": 2000, \"Approximate sales in millions\": 65.0, \"Genre\": \"Fantasy\"}, {\"Book\": \"Harry Potter and the Order of the Phoenix\", \"Author(s)\": \"J. K. Rowling\", \"Original language\": \"English\", \"First published\": 2003, \"Approximate sales in millions\": 65.0, \"Genre\": \"Fantasy\"}, {\"Book\": \"Harry Potter and the Half-Blood Prince\", \"Author(s)\": \"J. K. Rowling\", \"Original language\": \"English\", \"First published\": 2005, \"Approximate sales in millions\": 65.0, \"Genre\": \"Fantasy\"}, {\"Book\": \"Harry Potter and the Deathly Hallows\", \"Author(s)\": \"J. K. Rowling\", \"Original language\": \"English\", \"First published\": 2007, \"Approximate sales in millions\": 65.0, \"Genre\": \"Fantasy\"}, {\"Book\": \"The Alchemist (O Alquimista)\", \"Author(s)\": \"Paulo Coelho\", \"Original language\": \"Portuguese\", \"First published\": 1988, \"Approximate sales in millions\": 65.0, \"Genre\": \"Fantasy\"}, {\"Book\": \"Watership Down\", \"Author(s)\": \"Richard Adams\", \"Original language\": \"English\", \"First published\": 1972, \"Approximate sales in millions\": 50.0, \"Genre\": \"Fantasy\"}, {\"Book\": \"And Then There Were None\", \"Author(s)\": \"Agatha Christie\", \"Original language\": \"English\", \"First published\": 1939, \"Approximate sales in millions\": 100.0, \"Genre\": \"Mystery\"}, {\"Book\": \"The Little Prince (Le Petit Prince)\", \"Author(s)\": \"Antoine de Saint-Exup\\u00e9ry\", \"Original language\": \"French\", \"First published\": 1943, \"Approximate sales in millions\": 200.0, \"Genre\": \"Novella\"}, {\"Book\": \"Dream of the Red Chamber (\\u7d05\\u6a13\\u5922)\", \"Author(s)\": \"Cao Xueqin\", \"Original language\": \"Chinese\", \"First published\": 1791, \"Approximate sales in millions\": 100.0, \"Genre\": \"Family saga\"}]}}, {\"mode\": \"vega-lite\"});\n",
       "</script>"
      ],
      "text/plain": [
       "alt.Chart(...)"
      ]
     },
     "execution_count": 22,
     "metadata": {},
     "output_type": "execute_result"
    }
   ],
   "source": [
    "alt.Chart(df_top5).mark_bar().encode(\n",
    "    y='Approximate sales in millions', \n",
    "    x='First published:N',  \n",
    "    color='Original language',\n",
    "    tooltip = ['Author(s)', 'Original language', 'Book', 'Genre', 'Approximate sales in millions']\n",
    "\n",
    ")"
   ]
  },
  {
   "cell_type": "code",
   "execution_count": 23,
   "id": "25a5f021",
   "metadata": {
    "execution": {
     "iopub.execute_input": "2024-04-30T15:56:22.007758Z",
     "iopub.status.busy": "2024-04-30T15:56:22.007271Z",
     "iopub.status.idle": "2024-04-30T15:56:22.063251Z",
     "shell.execute_reply": "2024-04-30T15:56:22.062603Z"
    },
    "papermill": {
     "duration": 0.127498,
     "end_time": "2024-04-30T15:56:22.064866",
     "exception": false,
     "start_time": "2024-04-30T15:56:21.937368",
     "status": "completed"
    },
    "tags": []
   },
   "outputs": [
    {
     "data": {
      "text/html": [
       "\n",
       "<style>\n",
       "  #altair-viz-f3bc9609b2ab4778bc9385acb5e60fc1.vega-embed {\n",
       "    width: 100%;\n",
       "    display: flex;\n",
       "  }\n",
       "\n",
       "  #altair-viz-f3bc9609b2ab4778bc9385acb5e60fc1.vega-embed details,\n",
       "  #altair-viz-f3bc9609b2ab4778bc9385acb5e60fc1.vega-embed details summary {\n",
       "    position: relative;\n",
       "  }\n",
       "</style>\n",
       "<div id=\"altair-viz-f3bc9609b2ab4778bc9385acb5e60fc1\"></div>\n",
       "<script type=\"text/javascript\">\n",
       "  var VEGA_DEBUG = (typeof VEGA_DEBUG == \"undefined\") ? {} : VEGA_DEBUG;\n",
       "  (function(spec, embedOpt){\n",
       "    let outputDiv = document.currentScript.previousElementSibling;\n",
       "    if (outputDiv.id !== \"altair-viz-f3bc9609b2ab4778bc9385acb5e60fc1\") {\n",
       "      outputDiv = document.getElementById(\"altair-viz-f3bc9609b2ab4778bc9385acb5e60fc1\");\n",
       "    }\n",
       "    const paths = {\n",
       "      \"vega\": \"https://cdn.jsdelivr.net/npm/vega@5?noext\",\n",
       "      \"vega-lib\": \"https://cdn.jsdelivr.net/npm/vega-lib?noext\",\n",
       "      \"vega-lite\": \"https://cdn.jsdelivr.net/npm/vega-lite@5.17.0?noext\",\n",
       "      \"vega-embed\": \"https://cdn.jsdelivr.net/npm/vega-embed@6?noext\",\n",
       "    };\n",
       "\n",
       "    function maybeLoadScript(lib, version) {\n",
       "      var key = `${lib.replace(\"-\", \"\")}_version`;\n",
       "      return (VEGA_DEBUG[key] == version) ?\n",
       "        Promise.resolve(paths[lib]) :\n",
       "        new Promise(function(resolve, reject) {\n",
       "          var s = document.createElement('script');\n",
       "          document.getElementsByTagName(\"head\")[0].appendChild(s);\n",
       "          s.async = true;\n",
       "          s.onload = () => {\n",
       "            VEGA_DEBUG[key] = version;\n",
       "            return resolve(paths[lib]);\n",
       "          };\n",
       "          s.onerror = () => reject(`Error loading script: ${paths[lib]}`);\n",
       "          s.src = paths[lib];\n",
       "        });\n",
       "    }\n",
       "\n",
       "    function showError(err) {\n",
       "      outputDiv.innerHTML = `<div class=\"error\" style=\"color:red;\">${err}</div>`;\n",
       "      throw err;\n",
       "    }\n",
       "\n",
       "    function displayChart(vegaEmbed) {\n",
       "      vegaEmbed(outputDiv, spec, embedOpt)\n",
       "        .catch(err => showError(`Javascript Error: ${err.message}<br>This usually means there's a typo in your chart specification. See the javascript console for the full traceback.`));\n",
       "    }\n",
       "\n",
       "    if(typeof define === \"function\" && define.amd) {\n",
       "      requirejs.config({paths});\n",
       "      require([\"vega-embed\"], displayChart, err => showError(`Error loading script: ${err.message}`));\n",
       "    } else {\n",
       "      maybeLoadScript(\"vega\", \"5\")\n",
       "        .then(() => maybeLoadScript(\"vega-lite\", \"5.17.0\"))\n",
       "        .then(() => maybeLoadScript(\"vega-embed\", \"6\"))\n",
       "        .catch(showError)\n",
       "        .then(() => displayChart(vegaEmbed));\n",
       "    }\n",
       "  })({\"config\": {\"view\": {\"continuousWidth\": 300, \"continuousHeight\": 300}}, \"data\": {\"name\": \"data-f4fdd795dc922820f6c693d2008cb97f\"}, \"mark\": {\"type\": \"bar\"}, \"encoding\": {\"color\": {\"field\": \"Genre\", \"type\": \"nominal\"}, \"tooltip\": [{\"field\": \"Author(s)\", \"type\": \"nominal\"}, {\"field\": \"Original language\", \"type\": \"nominal\"}, {\"field\": \"Book\", \"type\": \"nominal\"}, {\"field\": \"Genre\", \"type\": \"nominal\"}, {\"field\": \"Approximate sales in millions\", \"type\": \"quantitative\"}], \"x\": {\"field\": \"First published\", \"type\": \"nominal\"}, \"y\": {\"field\": \"Approximate sales in millions\", \"type\": \"quantitative\"}}, \"$schema\": \"https://vega.github.io/schema/vega-lite/v5.17.0.json\", \"datasets\": {\"data-f4fdd795dc922820f6c693d2008cb97f\": [{\"Book\": \"A Tale of Two Cities\", \"Author(s)\": \"Charles Dickens\", \"Original language\": \"English\", \"First published\": 1859, \"Approximate sales in millions\": 200.0, \"Genre\": \"Historical fiction\"}, {\"Book\": \"Ben-Hur: A Tale of the Christ\", \"Author(s)\": \"Lew Wallace\", \"Original language\": \"English\", \"First published\": 1880, \"Approximate sales in millions\": 50.0, \"Genre\": \"Historical fiction\"}, {\"Book\": \"Gone with the Wind\", \"Author(s)\": \"Margaret Mitchell\", \"Original language\": \"English\", \"First published\": 1936, \"Approximate sales in millions\": 30.0, \"Genre\": \"Historical fiction\"}, {\"Book\": \"The Pillars of the Earth\", \"Author(s)\": \"Ken Follett\", \"Original language\": \"English\", \"First published\": 1989, \"Approximate sales in millions\": 15.0, \"Genre\": \"Historical fiction\"}, {\"Book\": \"Harry Potter and the Philosopher's Stone\", \"Author(s)\": \"J. K. Rowling\", \"Original language\": \"English\", \"First published\": 1997, \"Approximate sales in millions\": 120.0, \"Genre\": \"Fantasy\"}, {\"Book\": \"The Hobbit\", \"Author(s)\": \"J. R. R. Tolkien\", \"Original language\": \"English\", \"First published\": 1937, \"Approximate sales in millions\": 100.0, \"Genre\": \"Fantasy\"}, {\"Book\": \"Harry Potter and the Chamber of Secrets\", \"Author(s)\": \"J. K. Rowling\", \"Original language\": \"English\", \"First published\": 1998, \"Approximate sales in millions\": 77.0, \"Genre\": \"Fantasy\"}, {\"Book\": \"Harry Potter and the Prisoner of Azkaban\", \"Author(s)\": \"J. K. Rowling\", \"Original language\": \"English\", \"First published\": 1999, \"Approximate sales in millions\": 65.0, \"Genre\": \"Fantasy\"}, {\"Book\": \"Harry Potter and the Goblet of Fire\", \"Author(s)\": \"J. K. Rowling\", \"Original language\": \"English\", \"First published\": 2000, \"Approximate sales in millions\": 65.0, \"Genre\": \"Fantasy\"}, {\"Book\": \"Harry Potter and the Order of the Phoenix\", \"Author(s)\": \"J. K. Rowling\", \"Original language\": \"English\", \"First published\": 2003, \"Approximate sales in millions\": 65.0, \"Genre\": \"Fantasy\"}, {\"Book\": \"Harry Potter and the Half-Blood Prince\", \"Author(s)\": \"J. K. Rowling\", \"Original language\": \"English\", \"First published\": 2005, \"Approximate sales in millions\": 65.0, \"Genre\": \"Fantasy\"}, {\"Book\": \"Harry Potter and the Deathly Hallows\", \"Author(s)\": \"J. K. Rowling\", \"Original language\": \"English\", \"First published\": 2007, \"Approximate sales in millions\": 65.0, \"Genre\": \"Fantasy\"}, {\"Book\": \"The Alchemist (O Alquimista)\", \"Author(s)\": \"Paulo Coelho\", \"Original language\": \"Portuguese\", \"First published\": 1988, \"Approximate sales in millions\": 65.0, \"Genre\": \"Fantasy\"}, {\"Book\": \"Watership Down\", \"Author(s)\": \"Richard Adams\", \"Original language\": \"English\", \"First published\": 1972, \"Approximate sales in millions\": 50.0, \"Genre\": \"Fantasy\"}, {\"Book\": \"And Then There Were None\", \"Author(s)\": \"Agatha Christie\", \"Original language\": \"English\", \"First published\": 1939, \"Approximate sales in millions\": 100.0, \"Genre\": \"Mystery\"}, {\"Book\": \"The Little Prince (Le Petit Prince)\", \"Author(s)\": \"Antoine de Saint-Exup\\u00e9ry\", \"Original language\": \"French\", \"First published\": 1943, \"Approximate sales in millions\": 200.0, \"Genre\": \"Novella\"}, {\"Book\": \"Dream of the Red Chamber (\\u7d05\\u6a13\\u5922)\", \"Author(s)\": \"Cao Xueqin\", \"Original language\": \"Chinese\", \"First published\": 1791, \"Approximate sales in millions\": 100.0, \"Genre\": \"Family saga\"}]}}, {\"mode\": \"vega-lite\"});\n",
       "</script>"
      ],
      "text/plain": [
       "alt.Chart(...)"
      ]
     },
     "execution_count": 23,
     "metadata": {},
     "output_type": "execute_result"
    }
   ],
   "source": [
    "alt.Chart(df_top5).mark_bar().encode(\n",
    "    y='Approximate sales in millions', \n",
    "    x='First published:N',  \n",
    "    color='Genre',\n",
    "    tooltip = ['Author(s)', 'Original language', 'Book', 'Genre', 'Approximate sales in millions']\n",
    "\n",
    ")"
   ]
  },
  {
   "cell_type": "markdown",
   "id": "66381ae5",
   "metadata": {
    "papermill": {
     "duration": 0.012172,
     "end_time": "2024-04-30T15:56:22.089027",
     "exception": false,
     "start_time": "2024-04-30T15:56:22.076855",
     "status": "completed"
    },
    "tags": []
   },
   "source": [
    "# **Question 2: What are the trends with popular book sales over the years?**"
   ]
  },
  {
   "cell_type": "code",
   "execution_count": 24,
   "id": "5366d119",
   "metadata": {
    "execution": {
     "iopub.execute_input": "2024-04-30T15:56:22.116686Z",
     "iopub.status.busy": "2024-04-30T15:56:22.116115Z",
     "iopub.status.idle": "2024-04-30T15:56:22.148064Z",
     "shell.execute_reply": "2024-04-30T15:56:22.146624Z"
    },
    "papermill": {
     "duration": 0.049112,
     "end_time": "2024-04-30T15:56:22.150792",
     "exception": false,
     "start_time": "2024-04-30T15:56:22.101680",
     "status": "completed"
    },
    "tags": []
   },
   "outputs": [
    {
     "data": {
      "text/html": [
       "\n",
       "<style>\n",
       "  #altair-viz-23e5b553193b49c9b6683f91c584b541.vega-embed {\n",
       "    width: 100%;\n",
       "    display: flex;\n",
       "  }\n",
       "\n",
       "  #altair-viz-23e5b553193b49c9b6683f91c584b541.vega-embed details,\n",
       "  #altair-viz-23e5b553193b49c9b6683f91c584b541.vega-embed details summary {\n",
       "    position: relative;\n",
       "  }\n",
       "</style>\n",
       "<div id=\"altair-viz-23e5b553193b49c9b6683f91c584b541\"></div>\n",
       "<script type=\"text/javascript\">\n",
       "  var VEGA_DEBUG = (typeof VEGA_DEBUG == \"undefined\") ? {} : VEGA_DEBUG;\n",
       "  (function(spec, embedOpt){\n",
       "    let outputDiv = document.currentScript.previousElementSibling;\n",
       "    if (outputDiv.id !== \"altair-viz-23e5b553193b49c9b6683f91c584b541\") {\n",
       "      outputDiv = document.getElementById(\"altair-viz-23e5b553193b49c9b6683f91c584b541\");\n",
       "    }\n",
       "    const paths = {\n",
       "      \"vega\": \"https://cdn.jsdelivr.net/npm/vega@5?noext\",\n",
       "      \"vega-lib\": \"https://cdn.jsdelivr.net/npm/vega-lib?noext\",\n",
       "      \"vega-lite\": \"https://cdn.jsdelivr.net/npm/vega-lite@5.17.0?noext\",\n",
       "      \"vega-embed\": \"https://cdn.jsdelivr.net/npm/vega-embed@6?noext\",\n",
       "    };\n",
       "\n",
       "    function maybeLoadScript(lib, version) {\n",
       "      var key = `${lib.replace(\"-\", \"\")}_version`;\n",
       "      return (VEGA_DEBUG[key] == version) ?\n",
       "        Promise.resolve(paths[lib]) :\n",
       "        new Promise(function(resolve, reject) {\n",
       "          var s = document.createElement('script');\n",
       "          document.getElementsByTagName(\"head\")[0].appendChild(s);\n",
       "          s.async = true;\n",
       "          s.onload = () => {\n",
       "            VEGA_DEBUG[key] = version;\n",
       "            return resolve(paths[lib]);\n",
       "          };\n",
       "          s.onerror = () => reject(`Error loading script: ${paths[lib]}`);\n",
       "          s.src = paths[lib];\n",
       "        });\n",
       "    }\n",
       "\n",
       "    function showError(err) {\n",
       "      outputDiv.innerHTML = `<div class=\"error\" style=\"color:red;\">${err}</div>`;\n",
       "      throw err;\n",
       "    }\n",
       "\n",
       "    function displayChart(vegaEmbed) {\n",
       "      vegaEmbed(outputDiv, spec, embedOpt)\n",
       "        .catch(err => showError(`Javascript Error: ${err.message}<br>This usually means there's a typo in your chart specification. See the javascript console for the full traceback.`));\n",
       "    }\n",
       "\n",
       "    if(typeof define === \"function\" && define.amd) {\n",
       "      requirejs.config({paths});\n",
       "      require([\"vega-embed\"], displayChart, err => showError(`Error loading script: ${err.message}`));\n",
       "    } else {\n",
       "      maybeLoadScript(\"vega\", \"5\")\n",
       "        .then(() => maybeLoadScript(\"vega-lite\", \"5.17.0\"))\n",
       "        .then(() => maybeLoadScript(\"vega-embed\", \"6\"))\n",
       "        .catch(showError)\n",
       "        .then(() => displayChart(vegaEmbed));\n",
       "    }\n",
       "  })({\"config\": {\"view\": {\"continuousWidth\": 300, \"continuousHeight\": 300}}, \"data\": {\"name\": \"data-53746a97c85668a3938be06709cf3a13\"}, \"mark\": {\"type\": \"bar\"}, \"encoding\": {\"color\": {\"field\": \"Approximate sales in millions\", \"scale\": {\"scheme\": \"viridis\"}, \"type\": \"quantitative\"}, \"tooltip\": [{\"field\": \"Approximate sales in millions\", \"type\": \"quantitative\"}], \"x\": {\"bin\": true, \"field\": \"Approximate sales in millions\", \"type\": \"quantitative\"}, \"y\": {\"aggregate\": \"count\", \"type\": \"quantitative\"}}, \"title\": \"Approximate sales in millions of books\", \"$schema\": \"https://vega.github.io/schema/vega-lite/v5.17.0.json\", \"datasets\": {\"data-53746a97c85668a3938be06709cf3a13\": [{\"Book\": \"A Tale of Two Cities\", \"Author(s)\": \"Charles Dickens\", \"Original language\": \"English\", \"First published\": 1859, \"Approximate sales in millions\": 200.0, \"Genre\": \"Historical fiction\"}, {\"Book\": \"The Little Prince (Le Petit Prince)\", \"Author(s)\": \"Antoine de Saint-Exup\\u00e9ry\", \"Original language\": \"French\", \"First published\": 1943, \"Approximate sales in millions\": 200.0, \"Genre\": \"Novella\"}, {\"Book\": \"Harry Potter and the Philosopher's Stone\", \"Author(s)\": \"J. K. Rowling\", \"Original language\": \"English\", \"First published\": 1997, \"Approximate sales in millions\": 120.0, \"Genre\": \"Fantasy\"}, {\"Book\": \"And Then There Were None\", \"Author(s)\": \"Agatha Christie\", \"Original language\": \"English\", \"First published\": 1939, \"Approximate sales in millions\": 100.0, \"Genre\": \"Mystery\"}, {\"Book\": \"Dream of the Red Chamber (\\u7d05\\u6a13\\u5922)\", \"Author(s)\": \"Cao Xueqin\", \"Original language\": \"Chinese\", \"First published\": 1791, \"Approximate sales in millions\": 100.0, \"Genre\": \"Family saga\"}, {\"Book\": \"The Hobbit\", \"Author(s)\": \"J. R. R. Tolkien\", \"Original language\": \"English\", \"First published\": 1937, \"Approximate sales in millions\": 100.0, \"Genre\": \"Fantasy\"}, {\"Book\": \"The Lion, the Witch and the Wardrobe\", \"Author(s)\": \"C. S. Lewis\", \"Original language\": \"English\", \"First published\": 1950, \"Approximate sales in millions\": 85.0, \"Genre\": \"Fantasy, Children's fiction\"}, {\"Book\": \"She: A History of Adventure\", \"Author(s)\": \"H. Rider Haggard\", \"Original language\": \"English\", \"First published\": 1887, \"Approximate sales in millions\": 83.0, \"Genre\": \"Adventure\"}, {\"Book\": \"Vardi Wala Gunda (\\u0935\\u0930\\u094d\\u0926\\u0940 \\u0935\\u093e\\u0932\\u093e \\u0917\\u0941\\u0902\\u0921\\u093e)\", \"Author(s)\": \"Ved Prakash Sharma\", \"Original language\": \"Hindi\", \"First published\": 1992, \"Approximate sales in millions\": 80.0, \"Genre\": \"Detective\"}, {\"Book\": \"The Da Vinci Code\", \"Author(s)\": \"Dan Brown\", \"Original language\": \"English\", \"First published\": 2003, \"Approximate sales in millions\": 80.0, \"Genre\": \"Mystery thriller\"}, {\"Book\": \"Harry Potter and the Chamber of Secrets\", \"Author(s)\": \"J. K. Rowling\", \"Original language\": \"English\", \"First published\": 1998, \"Approximate sales in millions\": 77.0, \"Genre\": \"Fantasy\"}, {\"Book\": \"Harry Potter and the Prisoner of Azkaban\", \"Author(s)\": \"J. K. Rowling\", \"Original language\": \"English\", \"First published\": 1999, \"Approximate sales in millions\": 65.0, \"Genre\": \"Fantasy\"}, {\"Book\": \"Harry Potter and the Goblet of Fire\", \"Author(s)\": \"J. K. Rowling\", \"Original language\": \"English\", \"First published\": 2000, \"Approximate sales in millions\": 65.0, \"Genre\": \"Fantasy\"}, {\"Book\": \"Harry Potter and the Order of the Phoenix\", \"Author(s)\": \"J. K. Rowling\", \"Original language\": \"English\", \"First published\": 2003, \"Approximate sales in millions\": 65.0, \"Genre\": \"Fantasy\"}, {\"Book\": \"Harry Potter and the Half-Blood Prince\", \"Author(s)\": \"J. K. Rowling\", \"Original language\": \"English\", \"First published\": 2005, \"Approximate sales in millions\": 65.0, \"Genre\": \"Fantasy\"}, {\"Book\": \"Harry Potter and the Deathly Hallows\", \"Author(s)\": \"J. K. Rowling\", \"Original language\": \"English\", \"First published\": 2007, \"Approximate sales in millions\": 65.0, \"Genre\": \"Fantasy\"}, {\"Book\": \"The Alchemist (O Alquimista)\", \"Author(s)\": \"Paulo Coelho\", \"Original language\": \"Portuguese\", \"First published\": 1988, \"Approximate sales in millions\": 65.0, \"Genre\": \"Fantasy\"}, {\"Book\": \"The Catcher in the Rye\", \"Author(s)\": \"J. D. Salinger\", \"Original language\": \"English\", \"First published\": 1951, \"Approximate sales in millions\": 65.0, \"Genre\": \"Coming-of-age\"}, {\"Book\": \"The Bridges of Madison County\", \"Author(s)\": \"Robert James Waller\", \"Original language\": \"English\", \"First published\": 1992, \"Approximate sales in millions\": 60.0, \"Genre\": \"Romance\"}, {\"Book\": \"Ben-Hur: A Tale of the Christ\", \"Author(s)\": \"Lew Wallace\", \"Original language\": \"English\", \"First published\": 1880, \"Approximate sales in millions\": 50.0, \"Genre\": \"Historical fiction\"}, {\"Book\": \"You Can Heal Your Life\", \"Author(s)\": \"Louise Hay\", \"Original language\": \"English\", \"First published\": 1984, \"Approximate sales in millions\": 50.0, \"Genre\": \"Self-help\"}, {\"Book\": \"One Hundred Years of Solitude (Cien a\\u00f1os de soledad)\", \"Author(s)\": \"Gabriel Garc\\u00eda M\\u00e1rquez\", \"Original language\": \"Spanish\", \"First published\": 1967, \"Approximate sales in millions\": 50.0, \"Genre\": \"Magic realism\"}, {\"Book\": \"Lolita\", \"Author(s)\": \"Vladimir Nabokov\", \"Original language\": \"English\", \"First published\": 1955, \"Approximate sales in millions\": 50.0, \"Genre\": \"Novel\"}, {\"Book\": \"Heidi\", \"Author(s)\": \"Johanna Spyri\", \"Original language\": \"German\", \"First published\": 1880, \"Approximate sales in millions\": 50.0, \"Genre\": \"Children's fiction\"}, {\"Book\": \"The Common Sense Book of Baby and Child Care\", \"Author(s)\": \"Benjamin Spock\", \"Original language\": \"English\", \"First published\": 1946, \"Approximate sales in millions\": 50.0, \"Genre\": \"Manual\"}, {\"Book\": \"Anne of Green Gables\", \"Author(s)\": \"Lucy Maud Montgomery\", \"Original language\": \"English\", \"First published\": 1908, \"Approximate sales in millions\": 50.0, \"Genre\": \"Children's novel\"}, {\"Book\": \"Black Beauty\", \"Author(s)\": \"Anna Sewell\", \"Original language\": \"English\", \"First published\": 1877, \"Approximate sales in millions\": 50.0, \"Genre\": \"Children's literature\"}, {\"Book\": \"The Name of the Rose (Il Nome della Rosa)\", \"Author(s)\": \"Umberto Eco\", \"Original language\": \"Italian\", \"First published\": 1980, \"Approximate sales in millions\": 50.0, \"Genre\": \"Historical novel, mystery\"}, {\"Book\": \"The Eagle Has Landed\", \"Author(s)\": \"Jack Higgins\", \"Original language\": \"English\", \"First published\": 1975, \"Approximate sales in millions\": 50.0, \"Genre\": \"War, thriller\"}, {\"Book\": \"Watership Down\", \"Author(s)\": \"Richard Adams\", \"Original language\": \"English\", \"First published\": 1972, \"Approximate sales in millions\": 50.0, \"Genre\": \"Fantasy\"}, {\"Book\": \"The Hite Report\", \"Author(s)\": \"Shere Hite\", \"Original language\": \"English\", \"First published\": 1976, \"Approximate sales in millions\": 50.0, \"Genre\": \"Sexology\"}, {\"Book\": \"Charlotte's Web\", \"Author(s)\": \"E. B. White; illustrated by Garth Williams\", \"Original language\": \"English\", \"First published\": 1952, \"Approximate sales in millions\": 50.0, \"Genre\": \"Children's fiction\"}, {\"Book\": \"The Ginger Man\", \"Author(s)\": \"J. P. Donleavy\", \"Original language\": \"English\", \"First published\": 1955, \"Approximate sales in millions\": 50.0, \"Genre\": \"Novel\"}, {\"Book\": \"The Tale of Peter Rabbit\", \"Author(s)\": \"Beatrix Potter\", \"Original language\": \"English\", \"First published\": 1902, \"Approximate sales in millions\": 45.0, \"Genre\": \"Children's Literature\"}, {\"Book\": \"Jonathan Livingston Seagull\", \"Author(s)\": \"Richard Bach\", \"Original language\": \"English\", \"First published\": 1970, \"Approximate sales in millions\": 44.0, \"Genre\": \"Novella, Self-help\"}, {\"Book\": \"The Very Hungry Caterpillar\", \"Author(s)\": \"Eric Carle\", \"Original language\": \"English\", \"First published\": 1969, \"Approximate sales in millions\": 43.0, \"Genre\": \"Children's Literature, picture book\"}, {\"Book\": \"A Message to Garcia\", \"Author(s)\": \"Elbert Hubbard\", \"Original language\": \"English\", \"First published\": 1899, \"Approximate sales in millions\": 40.0, \"Genre\": \"Essay/Literature\"}, {\"Book\": \"To Kill a Mockingbird\", \"Author(s)\": \"Harper Lee\", \"Original language\": \"English\", \"First published\": 1960, \"Approximate sales in millions\": 40.0, \"Genre\": \"Southern Gothic, Bildungsroman\"}, {\"Book\": \"Flowers in the Attic\", \"Author(s)\": \"V. C. Andrews\", \"Original language\": \"English\", \"First published\": 1979, \"Approximate sales in millions\": 40.0, \"Genre\": \"Gothic horror, Family saga\"}, {\"Book\": \"Cosmos\", \"Author(s)\": \"Carl Sagan\", \"Original language\": \"English\", \"First published\": 1980, \"Approximate sales in millions\": 40.0, \"Genre\": \"Popular science, Anthropology, Astrophysics, Cosmology, Philosophy, History\"}, {\"Book\": \"Sophie's World (Sofies verden)\", \"Author(s)\": \"Jostein Gaarder\", \"Original language\": \"Norwegian\", \"First published\": 1991, \"Approximate sales in millions\": 40.0, \"Genre\": \"Philosophical novel, Young adult\"}, {\"Book\": \"Angels & Demons\", \"Author(s)\": \"Dan Brown\", \"Original language\": \"English\", \"First published\": 2000, \"Approximate sales in millions\": 39.0, \"Genre\": \"Mystery-thriller\"}, {\"Book\": \"Kane and Abel\", \"Author(s)\": \"Jeffrey Archer\", \"Original language\": \"English\", \"First published\": 1979, \"Approximate sales in millions\": 37.0, \"Genre\": \"Novel\"}, {\"Book\": \"How the Steel Was Tempered (\\u041a\\u0430\\u043a \\u0437\\u0430\\u043a\\u0430\\u043b\\u044f\\u043b\\u0430\\u0441\\u044c \\u0441\\u0442\\u0430\\u043b\\u044c)\", \"Author(s)\": \"Nikolai Ostrovsky\", \"Original language\": \"Russian\", \"First published\": 1932, \"Approximate sales in millions\": 36.4, \"Genre\": \"Socialist realist novel\"}, {\"Book\": \"War and Peace (\\u0412\\u043e\\u0439\\u043d\\u0430 \\u0438 \\u043c\\u0438\\u0440)\", \"Author(s)\": \"Leo Tolstoy\", \"Original language\": \"Russian\", \"First published\": 1869, \"Approximate sales in millions\": 36.0, \"Genre\": \"Historical novel\"}, {\"Book\": \"The Adventures of Pinocchio (Le avventure di Pinocchio)\", \"Author(s)\": \"Carlo Collodi\", \"Original language\": \"Italian\", \"First published\": 1881, \"Approximate sales in millions\": 35.0, \"Genre\": \"Fantasy, Children's fiction\"}, {\"Book\": \"The Diary of Anne Frank (Het Achterhuis)\", \"Author(s)\": \"Anne Frank\", \"Original language\": \"Dutch\", \"First published\": 1947, \"Approximate sales in millions\": 35.0, \"Genre\": \"Historical non-fiction, Autobiography, Memoir, Bildungsroman / Coming of Age, Jewish literature\"}, {\"Book\": \"Your Erroneous Zones\", \"Author(s)\": \"Wayne Dyer\", \"Original language\": \"English\", \"First published\": 1976, \"Approximate sales in millions\": 35.0, \"Genre\": \"Self-help\"}, {\"Book\": \"The Thorn Birds\", \"Author(s)\": \"Colleen McCullough\", \"Original language\": \"English\", \"First published\": 1977, \"Approximate sales in millions\": 33.0, \"Genre\": \"Romantic family saga\"}, {\"Book\": \"The Purpose Driven Life\", \"Author(s)\": \"Rick Warren\", \"Original language\": \"English\", \"First published\": 2002, \"Approximate sales in millions\": 33.0, \"Genre\": \"Christian literature\"}, {\"Book\": \"The Kite Runner\", \"Author(s)\": \"Khaled Hosseini\", \"Original language\": \"English\", \"First published\": 2003, \"Approximate sales in millions\": 31.5, \"Genre\": \"Bildungsroman, Historical fiction\"}, {\"Book\": \"Valley of the Dolls\", \"Author(s)\": \"Jacqueline Susann\", \"Original language\": \"English\", \"First published\": 1966, \"Approximate sales in millions\": 31.0, \"Genre\": \"Novel\"}, {\"Book\": \"Alcoholics Anonymous Big Book\", \"Author(s)\": \"Bill Wilson\", \"Original language\": \"English\", \"First published\": 1939, \"Approximate sales in millions\": 30.0, \"Genre\": \"Self-help\"}, {\"Book\": \"How to Win Friends and Influence People\", \"Author(s)\": \"Dale Carnegie\", \"Original language\": \"English\", \"First published\": 1936, \"Approximate sales in millions\": 30.0, \"Genre\": \"Self-help\"}, {\"Book\": \"The Great Gatsby\", \"Author(s)\": \"F. Scott Fitzgerald\", \"Original language\": \"English\", \"First published\": 1925, \"Approximate sales in millions\": 30.0, \"Genre\": \"Novel, tragedy\"}, {\"Book\": \"Gone with the Wind\", \"Author(s)\": \"Margaret Mitchell\", \"Original language\": \"English\", \"First published\": 1936, \"Approximate sales in millions\": 30.0, \"Genre\": \"Historical fiction\"}, {\"Book\": \"Rebecca\", \"Author(s)\": \"Daphne du Maurier\", \"Original language\": \"English\", \"First published\": 1938, \"Approximate sales in millions\": 30.0, \"Genre\": \"Gothic novel\"}, {\"Book\": \"Nineteen Eighty-Four\", \"Author(s)\": \"George Orwell\", \"Original language\": \"English\", \"First published\": 1949, \"Approximate sales in millions\": 30.0, \"Genre\": \"Dystopian, political fiction, social science fiction\"}, {\"Book\": \"The Revolt of Mamie Stover\", \"Author(s)\": \"William Bradford Huie\", \"Original language\": \"English\", \"First published\": 1951, \"Approximate sales in millions\": 30.0, \"Genre\": \"Fiction\"}, {\"Book\": \"The Girl with the Dragon Tattoo (M\\u00e4n som hatar kvinnor)\", \"Author(s)\": \"Stieg Larsson\", \"Original language\": \"Swedish\", \"First published\": 2005, \"Approximate sales in millions\": 30.0, \"Genre\": \"Fiction\"}, {\"Book\": \"The Lost Symbol\", \"Author(s)\": \"Dan Brown\", \"Original language\": \"English\", \"First published\": 2009, \"Approximate sales in millions\": 30.0, \"Genre\": \"Fiction\"}, {\"Book\": \"The Hunger Games\", \"Author(s)\": \"Suzanne Collins\", \"Original language\": \"English\", \"First published\": 2008, \"Approximate sales in millions\": 29.0, \"Genre\": \"Young adult fiction\"}, {\"Book\": \"James and the Giant Peach\", \"Author(s)\": \"Roald Dahl\", \"Original language\": \"English\", \"First published\": 1961, \"Approximate sales in millions\": 28.0, \"Genre\": \"Children's novel\"}, {\"Book\": \"The Young Guard (\\u041c\\u043e\\u043b\\u043e\\u0434\\u0430\\u044f \\u0433\\u0432\\u0430\\u0440\\u0434\\u0438\\u044f)\", \"Author(s)\": \"Alexander Alexandrovich Fadeyev\", \"Original language\": \"Russian\", \"First published\": 1945, \"Approximate sales in millions\": 26.0, \"Genre\": \"Young adult historical novel\"}, {\"Book\": \"Who Moved My Cheese?\", \"Author(s)\": \"Spencer Johnson\", \"Original language\": \"English\", \"First published\": 1998, \"Approximate sales in millions\": 29.0, \"Genre\": \"Self-help, motivational, business fable, psychology, leadership, parable\"}, {\"Book\": \"A Brief History of Time\", \"Author(s)\": \"Stephen Hawking\", \"Original language\": \"English\", \"First published\": 1988, \"Approximate sales in millions\": 25.0, \"Genre\": \"Popular science\"}, {\"Book\": \"Paul et Virginie\", \"Author(s)\": \"Jacques-Henri Bernardin de Saint-Pierre\", \"Original language\": \"French\", \"First published\": 1788, \"Approximate sales in millions\": 25.0, \"Genre\": \"Novel\"}, {\"Book\": \"Lust for Life\", \"Author(s)\": \"Irving Stone\", \"Original language\": \"English\", \"First published\": 1934, \"Approximate sales in millions\": 25.0, \"Genre\": \"Biographical novel\"}, {\"Book\": \"The Wind in the Willows\", \"Author(s)\": \"Kenneth Grahame\", \"Original language\": \"English\", \"First published\": 1908, \"Approximate sales in millions\": 25.0, \"Genre\": \"Children's literature\"}, {\"Book\": \"The 7 Habits of Highly Effective People\", \"Author(s)\": \"Stephen R. Covey\", \"Original language\": \"English\", \"First published\": 1989, \"Approximate sales in millions\": 25.0, \"Genre\": \"Self-help\"}, {\"Book\": \"Virgin Soil Upturned (\\u041f\\u043e\\u0434\\u043d\\u044f\\u0442\\u0430\\u044f \\u0446\\u0435\\u043b\\u0438\\u043d\\u0430)\", \"Author(s)\": \"Mikhail Sholokhov\", \"Original language\": \"Russian\", \"First published\": 1935, \"Approximate sales in millions\": 24.0, \"Genre\": \"Novel\"}, {\"Book\": \"The Celestine Prophecy\", \"Author(s)\": \"James Redfield\", \"Original language\": \"English\", \"First published\": 1993, \"Approximate sales in millions\": 23.0, \"Genre\": \"New-age spiritual novel\"}, {\"Book\": \"The Fault in Our Stars\", \"Author(s)\": \"John Green\", \"Original language\": \"English\", \"First published\": 2012, \"Approximate sales in millions\": 23.0, \"Genre\": \"Young adult romantic novel\"}, {\"Book\": \"The Girl on the Train\", \"Author(s)\": \"Paula Hawkins\", \"Original language\": \"English\", \"First published\": 2015, \"Approximate sales in millions\": 23.0, \"Genre\": \"Thriller\"}, {\"Book\": \"The Shack\", \"Author(s)\": \"William P. Young\", \"Original language\": \"English\", \"First published\": 2007, \"Approximate sales in millions\": 22.5, \"Genre\": \"Novel\"}, {\"Book\": \"Uncle Styopa (\\u0414\\u044f\\u0434\\u044f \\u0421\\u0442\\u0451\\u043f\\u0430)\", \"Author(s)\": \"Sergey Mikhalkov\", \"Original language\": \"Russian\", \"First published\": 1936, \"Approximate sales in millions\": 21.0, \"Genre\": \"Children's Literature, picture book\"}, {\"Book\": \"The Godfather\", \"Author(s)\": \"Mario Puzo\", \"Original language\": \"English\", \"First published\": 1969, \"Approximate sales in millions\": 21.0, \"Genre\": \"Crime novel\"}, {\"Book\": \"Love Story\", \"Author(s)\": \"Erich Segal\", \"Original language\": \"English\", \"First published\": 1970, \"Approximate sales in millions\": 21.0, \"Genre\": \"Romance novel\"}, {\"Book\": \"Catching Fire\", \"Author(s)\": \"Suzanne Collins\", \"Original language\": \"English\", \"First published\": 2009, \"Approximate sales in millions\": 21.0, \"Genre\": \"Young Adult novel, adventure, dystopian, science fiction\"}, {\"Book\": \"Mockingjay\", \"Author(s)\": \"Suzanne Collins\", \"Original language\": \"English\", \"First published\": 2010, \"Approximate sales in millions\": 20.0, \"Genre\": \"Young Adult novel, adventure, war, science fiction, action thriller\"}, {\"Book\": \"Kitchen (\\u30ad\\u30c3\\u30c1\\u30f3)\", \"Author(s)\": \"Banana Yoshimoto\", \"Original language\": \"Japanese\", \"First published\": 1988, \"Approximate sales in millions\": 20.0, \"Genre\": \"Japanese novel\"}, {\"Book\": \"Andromeda Nebula (\\u0422\\u0443\\u043c\\u0430\\u043d\\u043d\\u043e\\u0441\\u0442\\u044c \\u0410\\u043d\\u0434\\u0440\\u043e\\u043c\\u0435\\u0434\\u044b)\", \"Author(s)\": \"Ivan Yefremov\", \"Original language\": \"Russian\", \"First published\": 1957, \"Approximate sales in millions\": 20.0, \"Genre\": \"Science fiction novel\"}, {\"Book\": \"Autobiography of a Yogi (\\u092f\\u094b\\u0917\\u0940 \\u0915\\u0925\\u093e\\u092e\\u0943\\u0924)\", \"Author(s)\": \"Paramahansa Yogananda\", \"Original language\": \"Hindi\", \"First published\": 1946, \"Approximate sales in millions\": 20.0, \"Genre\": \"Autobiography\"}, {\"Book\": \"Gone Girl\", \"Author(s)\": \"Gillian Flynn\", \"Original language\": \"English\", \"First published\": 2012, \"Approximate sales in millions\": 20.0, \"Genre\": \"Crime thriller novel\"}, {\"Book\": \"All Quiet on the Western Front (Im Westen nichts Neues)\", \"Author(s)\": \"Erich Maria Remarque\", \"Original language\": \"German\", \"First published\": 1929, \"Approximate sales in millions\": 20.0, \"Genre\": \"War novel\"}, {\"Book\": \"The Bermuda Triangle\", \"Author(s)\": \"Charles Berlitz\", \"Original language\": \"English\", \"First published\": 1974, \"Approximate sales in millions\": 20.0, \"Genre\": null}, {\"Book\": \"Things Fall Apart \", \"Author(s)\": \"Chinua Achebe\", \"Original language\": \"English\", \"First published\": 1958, \"Approximate sales in millions\": 20.0, \"Genre\": \"Novel\"}, {\"Book\": \"Animal Farm \", \"Author(s)\": \"George Orwell\", \"Original language\": \"English\", \"First published\": 1945, \"Approximate sales in millions\": 20.0, \"Genre\": \"Satirical allegorical novella, Political satire, Dystopian Fiction, Roman \\u00e0 clef\"}, {\"Book\": \"Wolf Totem (\\u72fc\\u56fe\\u817e)\", \"Author(s)\": \"Jiang Rong\", \"Original language\": \"Chinese\", \"First published\": 2004, \"Approximate sales in millions\": 20.0, \"Genre\": \"Semi-autobiographical novel\"}, {\"Book\": \"The Happy Hooker: My Own Story\", \"Author(s)\": \"Xaviera Hollander\", \"Original language\": \"English\", \"First published\": 1971, \"Approximate sales in millions\": 20.0, \"Genre\": \"Memoir\"}, {\"Book\": \"Jaws\", \"Author(s)\": \"Peter Benchley\", \"Original language\": \"English\", \"First published\": 1974, \"Approximate sales in millions\": 20.0, \"Genre\": \"Thriller\"}, {\"Book\": \"Love You Forever\", \"Author(s)\": \"Robert Munsch\", \"Original language\": \"English\", \"First published\": 1986, \"Approximate sales in millions\": 20.0, \"Genre\": \"Children's literature, picture book, fiction\"}, {\"Book\": \"The Women's Room\", \"Author(s)\": \"Marilyn French\", \"Original language\": \"English\", \"First published\": 1977, \"Approximate sales in millions\": 20.0, \"Genre\": \"Feminist novel\"}, {\"Book\": \"What to Expect When You're Expecting\", \"Author(s)\": \"Arlene Eisenberg and Heidi Murkoff\", \"Original language\": \"English\", \"First published\": 1984, \"Approximate sales in millions\": 20.0, \"Genre\": \"Pregnancy guide\"}, {\"Book\": \"Adventures of Huckleberry Finn\", \"Author(s)\": \"Mark Twain\", \"Original language\": \"English\", \"First published\": 1885, \"Approximate sales in millions\": 20.0, \"Genre\": \"Picaresque novel, Bildungsroman, satire, Robinsonade\"}, {\"Book\": \"The Secret Diary of Adrian Mole, Aged 13\\u00be\", \"Author(s)\": \"Sue Townsend\", \"Original language\": \"English\", \"First published\": 1982, \"Approximate sales in millions\": 20.0, \"Genre\": \"Young adult novel\"}, {\"Book\": \"Pride and Prejudice\", \"Author(s)\": \"Jane Austen\", \"Original language\": \"English\", \"First published\": 1813, \"Approximate sales in millions\": 20.0, \"Genre\": \"Classic regency novel, romance\"}, {\"Book\": \"Kon-Tiki: Across the Pacific in a Raft (Kon-Tiki ekspedisjonen)\", \"Author(s)\": \"Thor Heyerdahl\", \"Original language\": \"Norwegian\", \"First published\": 1950, \"Approximate sales in millions\": 20.0, \"Genre\": \"Travel literature\"}, {\"Book\": \"The Good Soldier \\u0160vejk (Osudy dobr\\u00e9ho voj\\u00e1ka \\u0160vejka za sv\\u011btov\\u00e9 v\\u00e1lky)\", \"Author(s)\": \"Jaroslav Ha\\u0161ek\", \"Original language\": \"Czech\", \"First published\": 1923, \"Approximate sales in millions\": 20.0, \"Genre\": \"Unfinished satirical dark comedy novel\"}, {\"Book\": \"Where the Wild Things Are\", \"Author(s)\": \"Maurice Sendak\", \"Original language\": \"English\", \"First published\": 1963, \"Approximate sales in millions\": 20.0, \"Genre\": \"Children's picture book\"}, {\"Book\": \"The Power of Positive Thinking\", \"Author(s)\": \"Norman Vincent Peale\", \"Original language\": \"English\", \"First published\": 1952, \"Approximate sales in millions\": 20.0, \"Genre\": \"Self-help\"}, {\"Book\": \"The Secret\", \"Author(s)\": \"Rhonda Byrne\", \"Original language\": \"English\", \"First published\": 2006, \"Approximate sales in millions\": 20.0, \"Genre\": \"Self-help\"}, {\"Book\": \"Fear of Flying\", \"Author(s)\": \"Erica Jong\", \"Original language\": \"English\", \"First published\": 1973, \"Approximate sales in millions\": 20.0, \"Genre\": \"Romantic novel\"}, {\"Book\": \"Dune\", \"Author(s)\": \"Frank Herbert\", \"Original language\": \"English\", \"First published\": 1965, \"Approximate sales in millions\": 20.0, \"Genre\": \"Science fiction novel\"}, {\"Book\": \"Charlie and the Chocolate Factory\", \"Author(s)\": \"Roald Dahl\", \"Original language\": \"English\", \"First published\": 1964, \"Approximate sales in millions\": 20.0, \"Genre\": \"Children's fantasy novel\"}, {\"Book\": \"The Naked Ape\", \"Author(s)\": \"Desmond Morris\", \"Original language\": \"English\", \"First published\": 1968, \"Approximate sales in millions\": 20.0, \"Genre\": \"Social Science, Anthropology, Psychology\"}, {\"Book\": \"Where the Crawdads Sing\", \"Author(s)\": \"Delia Owens\", \"Original language\": \"English\", \"First published\": 2018, \"Approximate sales in millions\": 18.0, \"Genre\": \"Coming-of-age Murder mystery\"}, {\"Book\": \"Totto-chan, the Little Girl at the Window (\\u7a93\\u304e\\u308f\\u306e\\u30c8\\u30c3\\u30c8\\u3061\\u3083\\u3093)\", \"Author(s)\": \"Tetsuko Kuroyanagi\", \"Original language\": \"Japanese\", \"First published\": 1981, \"Approximate sales in millions\": 18.0, \"Genre\": \"Autobiographical novel\"}, {\"Book\": \"Matilda\", \"Author(s)\": \"Roald Dahl\", \"Original language\": \"English\", \"First published\": 1988, \"Approximate sales in millions\": 17.0, \"Genre\": \"Children's Literature\"}, {\"Book\": \"The Book Thief\", \"Author(s)\": \"Markus Zusak\", \"Original language\": \"English\", \"First published\": 2005, \"Approximate sales in millions\": 16.0, \"Genre\": \"Young Adult Fiction\"}, {\"Book\": \"The Horse Whisperer\", \"Author(s)\": \"Nicholas Evans\", \"Original language\": \"English\", \"First published\": 1995, \"Approximate sales in millions\": 16.0, \"Genre\": null}, {\"Book\": \"Goodnight Moon\", \"Author(s)\": \"Margaret Wise Brown\", \"Original language\": \"English\", \"First published\": 1947, \"Approximate sales in millions\": 16.0, \"Genre\": \"Children's Literature\"}, {\"Book\": \"The Neverending Story (Die unendliche Geschichte)\", \"Author(s)\": \"Michael Ende\", \"Original language\": \"German\", \"First published\": 1979, \"Approximate sales in millions\": 16.0, \"Genre\": \"Children's Literature\"}, {\"Book\": \"All the Light We Cannot See\", \"Author(s)\": \"Anthony Doerr\", \"Original language\": \"English\", \"First published\": 2014, \"Approximate sales in millions\": 15.3, \"Genre\": \"Historical fiction, war novel\"}, {\"Book\": \"Fifty Shades of Grey\", \"Author(s)\": \"E. L. James\", \"Original language\": \"English\", \"First published\": 2011, \"Approximate sales in millions\": 15.2, \"Genre\": \"Erotica\"}, {\"Book\": \"The Outsiders\", \"Author(s)\": \"S. E. Hinton\", \"Original language\": \"English\", \"First published\": 1967, \"Approximate sales in millions\": 15.0, \"Genre\": null}, {\"Book\": \"Guess How Much I Love You\", \"Author(s)\": \"Sam McBratney\", \"Original language\": \"English\", \"First published\": 1994, \"Approximate sales in millions\": 15.0, \"Genre\": null}, {\"Book\": \"Sh\\u014dgun\", \"Author(s)\": \"James Clavell\", \"Original language\": \"English\", \"First published\": 1975, \"Approximate sales in millions\": 15.0, \"Genre\": null}, {\"Book\": \"The Poky Little Puppy\", \"Author(s)\": \"Janette Sebring Lowrey\", \"Original language\": \"English\", \"First published\": 1942, \"Approximate sales in millions\": 15.0, \"Genre\": null}, {\"Book\": \"The Pillars of the Earth\", \"Author(s)\": \"Ken Follett\", \"Original language\": \"English\", \"First published\": 1989, \"Approximate sales in millions\": 15.0, \"Genre\": \"Historical fiction\"}, {\"Book\": \"Perfume (Das Parfum)\", \"Author(s)\": \"Patrick S\\u00fcskind\", \"Original language\": \"German\", \"First published\": 1985, \"Approximate sales in millions\": 15.0, \"Genre\": null}, {\"Book\": \"The Grapes of Wrath\", \"Author(s)\": \"John Steinbeck\", \"Original language\": \"English\", \"First published\": 1939, \"Approximate sales in millions\": 15.0, \"Genre\": null}, {\"Book\": \"The Shadow of the Wind (La sombra del viento)\", \"Author(s)\": \"Carlos Ruiz Zaf\\u00f3n\", \"Original language\": \"Spanish\", \"First published\": 2001, \"Approximate sales in millions\": 15.0, \"Genre\": null}, {\"Book\": \"Interpreter of Maladies\", \"Author(s)\": \"Jhumpa Lahiri\", \"Original language\": \"English\", \"First published\": 2000, \"Approximate sales in millions\": 15.0, \"Genre\": null}, {\"Book\": \"Becoming\", \"Author(s)\": \"Michelle Obama\", \"Original language\": \"English\", \"First published\": 2018, \"Approximate sales in millions\": 14.0, \"Genre\": null}, {\"Book\": \"The Hitchhiker's Guide to the Galaxy\", \"Author(s)\": \"Douglas Adams\", \"Original language\": \"English\", \"First published\": 1979, \"Approximate sales in millions\": 14.0, \"Genre\": \"Science fiction\"}, {\"Book\": \"Tuesdays with Morrie\", \"Author(s)\": \"Mitch Albom\", \"Original language\": \"English\", \"First published\": 1997, \"Approximate sales in millions\": 14.0, \"Genre\": null}, {\"Book\": \"God's Little Acre\", \"Author(s)\": \"Erskine Caldwell\", \"Original language\": \"English\", \"First published\": 1933, \"Approximate sales in millions\": 14.0, \"Genre\": null}, {\"Book\": \"Follow Your Heart (Va' dove ti porta il cuore)\", \"Author(s)\": \"Susanna Tamaro\", \"Original language\": \"Italian\", \"First published\": 1994, \"Approximate sales in millions\": 14.0, \"Genre\": null}, {\"Book\": \"A Wrinkle in Time\", \"Author(s)\": \"Madeleine L'Engle\", \"Original language\": \"English\", \"First published\": 1962, \"Approximate sales in millions\": 14.0, \"Genre\": null}, {\"Book\": \"Long Walk to Freedom\", \"Author(s)\": \"Nelson Mandela\", \"Original language\": \"English\", \"First published\": 1994, \"Approximate sales in millions\": 14.0, \"Genre\": null}, {\"Book\": \"The Old Man and the Sea\", \"Author(s)\": \"Ernest Hemingway\", \"Original language\": \"English\", \"First published\": 1952, \"Approximate sales in millions\": 13.0, \"Genre\": null}, {\"Book\": \"Life After Life\", \"Author(s)\": \"Raymond Moody\", \"Original language\": \"English\", \"First published\": 1975, \"Approximate sales in millions\": 13.0, \"Genre\": null}, {\"Book\": \"Peyton Place \", \"Author(s)\": \"Grace Metalious\", \"Original language\": \"English\", \"First published\": 1956, \"Approximate sales in millions\": 12.1, \"Genre\": null}, {\"Book\": \"The Giver\", \"Author(s)\": \"Lois Lowry\", \"Original language\": \"English\", \"First published\": 1993, \"Approximate sales in millions\": 12.0, \"Genre\": \"Dystopian fiction\"}, {\"Book\": \"Me Before You\", \"Author(s)\": \"Jojo Moyes\", \"Original language\": \"English\", \"First published\": 2012, \"Approximate sales in millions\": 12.0, \"Genre\": null}, {\"Book\": \"Norwegian Wood (\\u30ce\\u30eb\\u30a6\\u30a7\\u30a4\\u306e\\u68ee)\", \"Author(s)\": \"Haruki Murakami\", \"Original language\": \"Japanese\", \"First published\": 1987, \"Approximate sales in millions\": 12.0, \"Genre\": null}, {\"Book\": \"The Plague (La Peste)\", \"Author(s)\": \"Albert Camus\", \"Original language\": \"French\", \"First published\": 1947, \"Approximate sales in millions\": 12.0, \"Genre\": null}, {\"Book\": \"No Longer Human (\\u4eba\\u9593\\u5931\\u683c)\", \"Author(s)\": \"Osamu Dazai\", \"Original language\": \"Japanese\", \"First published\": 1948, \"Approximate sales in millions\": 12.0, \"Genre\": null}, {\"Book\": \"Man's Search for Meaning (Ein Psychologe erlebt das Konzentrationslager)\", \"Author(s)\": \"Viktor Frankl\", \"Original language\": \"German\", \"First published\": 1946, \"Approximate sales in millions\": 12.0, \"Genre\": null}, {\"Book\": \"The Divine Comedy (La Divina Commedia)\", \"Author(s)\": \"Dante Alighieri\", \"Original language\": \"Italian\", \"First published\": 1304, \"Approximate sales in millions\": 11.5, \"Genre\": null}, {\"Book\": \"The Prophet\", \"Author(s)\": \"Kahlil Gibran\", \"Original language\": \"English\", \"First published\": 1923, \"Approximate sales in millions\": 11.0, \"Genre\": null}, {\"Book\": \"The Boy in the Striped Pyjamas\", \"Author(s)\": \"John Boyne\", \"Original language\": \"English\", \"First published\": 2006, \"Approximate sales in millions\": 11.0, \"Genre\": null}, {\"Book\": \"The Exorcist\", \"Author(s)\": \"William Peter Blatty\", \"Original language\": \"English\", \"First published\": 1971, \"Approximate sales in millions\": 11.0, \"Genre\": \"Horror\"}, {\"Book\": \"The Gruffalo\", \"Author(s)\": \"Julia Donaldson\", \"Original language\": \"English\", \"First published\": 1999, \"Approximate sales in millions\": 10.5, \"Genre\": null}, {\"Book\": \"Fifty Shades Darker\", \"Author(s)\": \"E. L. James\", \"Original language\": \"English\", \"First published\": 2012, \"Approximate sales in millions\": 10.4, \"Genre\": \"Erotica\"}, {\"Book\": \"Tobacco Road\", \"Author(s)\": \"Erskine Caldwell\", \"Original language\": \"English\", \"First published\": 1932, \"Approximate sales in millions\": 10.0, \"Genre\": null}, {\"Book\": \"Ronia, the Robber's Daughter\", \"Author(s)\": \"Astrid Lindgren\", \"Original language\": \"Swedish\", \"First published\": 1981, \"Approximate sales in millions\": 10.0, \"Genre\": null}, {\"Book\": \"The Cat in the Hat\", \"Author(s)\": \"Dr. Seuss\", \"Original language\": \"English\", \"First published\": 1957, \"Approximate sales in millions\": 10.5, \"Genre\": null}, {\"Book\": \"Diana: Her True Story\", \"Author(s)\": \"Andrew Morton\", \"Original language\": \"English\", \"First published\": 1992, \"Approximate sales in millions\": 10.0, \"Genre\": null}, {\"Book\": \"The Help\", \"Author(s)\": \"Kathryn Stockett\", \"Original language\": \"English\", \"First published\": 2009, \"Approximate sales in millions\": 10.0, \"Genre\": null}, {\"Book\": \"Catch-22\", \"Author(s)\": \"Joseph Heller\", \"Original language\": \"English\", \"First published\": 1961, \"Approximate sales in millions\": 10.0, \"Genre\": null}, {\"Book\": \"The Stranger (L'\\u00c9tranger)\", \"Author(s)\": \"Albert Camus\", \"Original language\": \"French\", \"First published\": 1942, \"Approximate sales in millions\": 10.0, \"Genre\": null}, {\"Book\": \"Eye of the Needle\", \"Author(s)\": \"Ken Follett\", \"Original language\": \"English\", \"First published\": 1978, \"Approximate sales in millions\": 10.0, \"Genre\": null}, {\"Book\": \"The Lovely Bones\", \"Author(s)\": \"Alice Sebold\", \"Original language\": \"English\", \"First published\": 2002, \"Approximate sales in millions\": 10.0, \"Genre\": null}, {\"Book\": \"Wild Swans\", \"Author(s)\": \"Jung Chang\", \"Original language\": \"English\", \"First published\": 1992, \"Approximate sales in millions\": 10.0, \"Genre\": null}, {\"Book\": \"Santa Evita\", \"Author(s)\": \"Tom\\u00e1s Eloy Mart\\u00ednez\", \"Original language\": \"Spanish\", \"First published\": 1995, \"Approximate sales in millions\": 10.0, \"Genre\": null}, {\"Book\": \"Night (Un di Velt Hot Geshvign)\", \"Author(s)\": \"Elie Wiesel\", \"Original language\": \"Yiddish\", \"First published\": 1958, \"Approximate sales in millions\": 10.0, \"Genre\": null}, {\"Book\": \"Confucius from the Heart (\\u4e8e\\u4e39\\u300a\\u8bba\\u8bed\\u300b\\u5fc3\\u5f97)\", \"Author(s)\": \"Yu Dan\", \"Original language\": \"Chinese\", \"First published\": 2006, \"Approximate sales in millions\": 10.0, \"Genre\": null}, {\"Book\": \"The Total Woman\", \"Author(s)\": \"Marabel Morgan\", \"Original language\": \"English\", \"First published\": 1974, \"Approximate sales in millions\": 10.0, \"Genre\": null}, {\"Book\": \"Knowledge-value Revolution (\\u77e5\\u4fa1\\u9769\\u547d)\", \"Author(s)\": \"Taichi Sakaiya\", \"Original language\": \"Japanese\", \"First published\": 1985, \"Approximate sales in millions\": 10.0, \"Genre\": null}, {\"Book\": \"Problems in China's Socialist Economy (\\u4e2d\\u56fd\\u793e\\u4f1a\\u4e3b\\u4e49\\u7ecf\\u6d4e\\u95ee\\u9898\\u7814\\u7a76)\", \"Author(s)\": \"Xue Muqiao\", \"Original language\": \"Chinese\", \"First published\": 1979, \"Approximate sales in millions\": 10.0, \"Genre\": null}, {\"Book\": \"What Color Is Your Parachute?\", \"Author(s)\": \"Richard Nelson Bolles\", \"Original language\": \"English\", \"First published\": 1970, \"Approximate sales in millions\": 10.0, \"Genre\": null}, {\"Book\": \"The Dukan Diet\", \"Author(s)\": \"Pierre Dukan\", \"Original language\": \"French\", \"First published\": 2000, \"Approximate sales in millions\": 10.0, \"Genre\": null}, {\"Book\": \"The Joy of Sex\", \"Author(s)\": \"Alex Comfort\", \"Original language\": \"English\", \"First published\": 1972, \"Approximate sales in millions\": 10.0, \"Genre\": null}, {\"Book\": \"The Gospel According to Peanuts\", \"Author(s)\": \"Robert L. Short\", \"Original language\": \"English\", \"First published\": 1965, \"Approximate sales in millions\": 10.0, \"Genre\": null}, {\"Book\": \"The Subtle Art of Not Giving a Fuck\", \"Author(s)\": \"Mark Manson\", \"Original language\": \"English\", \"First published\": 2016, \"Approximate sales in millions\": 10.0, \"Genre\": null}, {\"Book\": \"Life of Pi\", \"Author(s)\": \"Yann Martel\", \"Original language\": \"English\", \"First published\": 2001, \"Approximate sales in millions\": 10.0, \"Genre\": null}, {\"Book\": \"The Front Runner\", \"Author(s)\": \"Patricia Nell Warren\", \"Original language\": \"English\", \"First published\": 1974, \"Approximate sales in millions\": 10.0, \"Genre\": null}, {\"Book\": \"The Goal\", \"Author(s)\": \"Eliyahu M. Goldratt\", \"Original language\": \"English\", \"First published\": 1984, \"Approximate sales in millions\": 10.0, \"Genre\": null}, {\"Book\": \"Fahrenheit 451\", \"Author(s)\": \"Ray Bradbury\", \"Original language\": \"English\", \"First published\": 1953, \"Approximate sales in millions\": 10.0, \"Genre\": null}, {\"Book\": \"Angela's Ashes\", \"Author(s)\": \"Frank McCourt\", \"Original language\": \"English\", \"First published\": 1996, \"Approximate sales in millions\": 10.0, \"Genre\": null}, {\"Book\": \"The Story of My Experiments with Truth (\\u0ab8\\u0aa4\\u0acd\\u0aaf\\u0aa8\\u0abe \\u0aaa\\u0acd\\u0ab0\\u0aaf\\u0acb\\u0a97\\u0acb \\u0a85\\u0aa5\\u0ab5\\u0abe \\u0a86\\u0aa4\\u0acd\\u0aae\\u0a95\\u0aa5\\u0abe)\", \"Author(s)\": \"Mohandas Karamchand Gandhi\", \"Original language\": \"Gujarati\", \"First published\": 1929, \"Approximate sales in millions\": 10.0, \"Genre\": null}, {\"Book\": \"Bridget Jones's Diary\", \"Author(s)\": \"Helen Fielding\", \"Original language\": \"English\", \"First published\": 1996, \"Approximate sales in millions\": 10.0, \"Genre\": null}]}}, {\"mode\": \"vega-lite\"});\n",
       "</script>"
      ],
      "text/plain": [
       "alt.Chart(...)"
      ]
     },
     "execution_count": 24,
     "metadata": {},
     "output_type": "execute_result"
    }
   ],
   "source": [
    "alt.Chart(df).mark_bar().encode(\n",
    "    alt.X(\"Approximate sales in millions:Q\", bin=True),\n",
    "    y='count()',\n",
    "    color=alt.Color(\"Approximate sales in millions\", scale = alt.Scale(scheme = \"viridis\")),\n",
    "    tooltip = ['Approximate sales in millions']\n",
    ").properties(\n",
    "title='Approximate sales in millions of books')"
   ]
  },
  {
   "cell_type": "markdown",
   "id": "dea81674",
   "metadata": {
    "papermill": {
     "duration": 0.012424,
     "end_time": "2024-04-30T15:56:22.176479",
     "exception": false,
     "start_time": "2024-04-30T15:56:22.164055",
     "status": "completed"
    },
    "tags": []
   },
   "source": [
    "### It looks like the amount of books actually sold are mostly between 10 and 37 million, approximately, in sales. For a bookstore, having books that sell well and will be able to market effectively may be more useful than investing too heavily on books that have overall the most sales."
   ]
  },
  {
   "cell_type": "code",
   "execution_count": 25,
   "id": "4b8fc460",
   "metadata": {
    "execution": {
     "iopub.execute_input": "2024-04-30T15:56:22.204366Z",
     "iopub.status.busy": "2024-04-30T15:56:22.203957Z",
     "iopub.status.idle": "2024-04-30T15:56:22.251010Z",
     "shell.execute_reply": "2024-04-30T15:56:22.249634Z"
    },
    "papermill": {
     "duration": 0.063625,
     "end_time": "2024-04-30T15:56:22.253371",
     "exception": false,
     "start_time": "2024-04-30T15:56:22.189746",
     "status": "completed"
    },
    "tags": []
   },
   "outputs": [
    {
     "data": {
      "text/html": [
       "\n",
       "<style>\n",
       "  #altair-viz-7c0c5bdd219643e785e1bde3be1f05a3.vega-embed {\n",
       "    width: 100%;\n",
       "    display: flex;\n",
       "  }\n",
       "\n",
       "  #altair-viz-7c0c5bdd219643e785e1bde3be1f05a3.vega-embed details,\n",
       "  #altair-viz-7c0c5bdd219643e785e1bde3be1f05a3.vega-embed details summary {\n",
       "    position: relative;\n",
       "  }\n",
       "</style>\n",
       "<div id=\"altair-viz-7c0c5bdd219643e785e1bde3be1f05a3\"></div>\n",
       "<script type=\"text/javascript\">\n",
       "  var VEGA_DEBUG = (typeof VEGA_DEBUG == \"undefined\") ? {} : VEGA_DEBUG;\n",
       "  (function(spec, embedOpt){\n",
       "    let outputDiv = document.currentScript.previousElementSibling;\n",
       "    if (outputDiv.id !== \"altair-viz-7c0c5bdd219643e785e1bde3be1f05a3\") {\n",
       "      outputDiv = document.getElementById(\"altair-viz-7c0c5bdd219643e785e1bde3be1f05a3\");\n",
       "    }\n",
       "    const paths = {\n",
       "      \"vega\": \"https://cdn.jsdelivr.net/npm/vega@5?noext\",\n",
       "      \"vega-lib\": \"https://cdn.jsdelivr.net/npm/vega-lib?noext\",\n",
       "      \"vega-lite\": \"https://cdn.jsdelivr.net/npm/vega-lite@5.17.0?noext\",\n",
       "      \"vega-embed\": \"https://cdn.jsdelivr.net/npm/vega-embed@6?noext\",\n",
       "    };\n",
       "\n",
       "    function maybeLoadScript(lib, version) {\n",
       "      var key = `${lib.replace(\"-\", \"\")}_version`;\n",
       "      return (VEGA_DEBUG[key] == version) ?\n",
       "        Promise.resolve(paths[lib]) :\n",
       "        new Promise(function(resolve, reject) {\n",
       "          var s = document.createElement('script');\n",
       "          document.getElementsByTagName(\"head\")[0].appendChild(s);\n",
       "          s.async = true;\n",
       "          s.onload = () => {\n",
       "            VEGA_DEBUG[key] = version;\n",
       "            return resolve(paths[lib]);\n",
       "          };\n",
       "          s.onerror = () => reject(`Error loading script: ${paths[lib]}`);\n",
       "          s.src = paths[lib];\n",
       "        });\n",
       "    }\n",
       "\n",
       "    function showError(err) {\n",
       "      outputDiv.innerHTML = `<div class=\"error\" style=\"color:red;\">${err}</div>`;\n",
       "      throw err;\n",
       "    }\n",
       "\n",
       "    function displayChart(vegaEmbed) {\n",
       "      vegaEmbed(outputDiv, spec, embedOpt)\n",
       "        .catch(err => showError(`Javascript Error: ${err.message}<br>This usually means there's a typo in your chart specification. See the javascript console for the full traceback.`));\n",
       "    }\n",
       "\n",
       "    if(typeof define === \"function\" && define.amd) {\n",
       "      requirejs.config({paths});\n",
       "      require([\"vega-embed\"], displayChart, err => showError(`Error loading script: ${err.message}`));\n",
       "    } else {\n",
       "      maybeLoadScript(\"vega\", \"5\")\n",
       "        .then(() => maybeLoadScript(\"vega-lite\", \"5.17.0\"))\n",
       "        .then(() => maybeLoadScript(\"vega-embed\", \"6\"))\n",
       "        .catch(showError)\n",
       "        .then(() => displayChart(vegaEmbed));\n",
       "    }\n",
       "  })({\"config\": {\"view\": {\"continuousWidth\": 300, \"continuousHeight\": 300}}, \"data\": {\"name\": \"data-53746a97c85668a3938be06709cf3a13\"}, \"mark\": {\"type\": \"bar\"}, \"encoding\": {\"color\": {\"field\": \"Approximate sales in millions\", \"scale\": {\"scheme\": \"viridis\"}, \"type\": \"quantitative\"}, \"tooltip\": [{\"field\": \"Original language\", \"type\": \"nominal\"}, {\"field\": \"Approximate sales in millions\", \"type\": \"quantitative\"}], \"x\": {\"field\": \"Original language\", \"type\": \"nominal\"}, \"y\": {\"field\": \"Approximate sales in millions\", \"type\": \"quantitative\"}}, \"title\": \"Approximate sales in millions of books by Original Language\", \"$schema\": \"https://vega.github.io/schema/vega-lite/v5.17.0.json\", \"datasets\": {\"data-53746a97c85668a3938be06709cf3a13\": [{\"Book\": \"A Tale of Two Cities\", \"Author(s)\": \"Charles Dickens\", \"Original language\": \"English\", \"First published\": 1859, \"Approximate sales in millions\": 200.0, \"Genre\": \"Historical fiction\"}, {\"Book\": \"The Little Prince (Le Petit Prince)\", \"Author(s)\": \"Antoine de Saint-Exup\\u00e9ry\", \"Original language\": \"French\", \"First published\": 1943, \"Approximate sales in millions\": 200.0, \"Genre\": \"Novella\"}, {\"Book\": \"Harry Potter and the Philosopher's Stone\", \"Author(s)\": \"J. K. Rowling\", \"Original language\": \"English\", \"First published\": 1997, \"Approximate sales in millions\": 120.0, \"Genre\": \"Fantasy\"}, {\"Book\": \"And Then There Were None\", \"Author(s)\": \"Agatha Christie\", \"Original language\": \"English\", \"First published\": 1939, \"Approximate sales in millions\": 100.0, \"Genre\": \"Mystery\"}, {\"Book\": \"Dream of the Red Chamber (\\u7d05\\u6a13\\u5922)\", \"Author(s)\": \"Cao Xueqin\", \"Original language\": \"Chinese\", \"First published\": 1791, \"Approximate sales in millions\": 100.0, \"Genre\": \"Family saga\"}, {\"Book\": \"The Hobbit\", \"Author(s)\": \"J. R. R. Tolkien\", \"Original language\": \"English\", \"First published\": 1937, \"Approximate sales in millions\": 100.0, \"Genre\": \"Fantasy\"}, {\"Book\": \"The Lion, the Witch and the Wardrobe\", \"Author(s)\": \"C. S. Lewis\", \"Original language\": \"English\", \"First published\": 1950, \"Approximate sales in millions\": 85.0, \"Genre\": \"Fantasy, Children's fiction\"}, {\"Book\": \"She: A History of Adventure\", \"Author(s)\": \"H. Rider Haggard\", \"Original language\": \"English\", \"First published\": 1887, \"Approximate sales in millions\": 83.0, \"Genre\": \"Adventure\"}, {\"Book\": \"Vardi Wala Gunda (\\u0935\\u0930\\u094d\\u0926\\u0940 \\u0935\\u093e\\u0932\\u093e \\u0917\\u0941\\u0902\\u0921\\u093e)\", \"Author(s)\": \"Ved Prakash Sharma\", \"Original language\": \"Hindi\", \"First published\": 1992, \"Approximate sales in millions\": 80.0, \"Genre\": \"Detective\"}, {\"Book\": \"The Da Vinci Code\", \"Author(s)\": \"Dan Brown\", \"Original language\": \"English\", \"First published\": 2003, \"Approximate sales in millions\": 80.0, \"Genre\": \"Mystery thriller\"}, {\"Book\": \"Harry Potter and the Chamber of Secrets\", \"Author(s)\": \"J. K. Rowling\", \"Original language\": \"English\", \"First published\": 1998, \"Approximate sales in millions\": 77.0, \"Genre\": \"Fantasy\"}, {\"Book\": \"Harry Potter and the Prisoner of Azkaban\", \"Author(s)\": \"J. K. Rowling\", \"Original language\": \"English\", \"First published\": 1999, \"Approximate sales in millions\": 65.0, \"Genre\": \"Fantasy\"}, {\"Book\": \"Harry Potter and the Goblet of Fire\", \"Author(s)\": \"J. K. Rowling\", \"Original language\": \"English\", \"First published\": 2000, \"Approximate sales in millions\": 65.0, \"Genre\": \"Fantasy\"}, {\"Book\": \"Harry Potter and the Order of the Phoenix\", \"Author(s)\": \"J. K. Rowling\", \"Original language\": \"English\", \"First published\": 2003, \"Approximate sales in millions\": 65.0, \"Genre\": \"Fantasy\"}, {\"Book\": \"Harry Potter and the Half-Blood Prince\", \"Author(s)\": \"J. K. Rowling\", \"Original language\": \"English\", \"First published\": 2005, \"Approximate sales in millions\": 65.0, \"Genre\": \"Fantasy\"}, {\"Book\": \"Harry Potter and the Deathly Hallows\", \"Author(s)\": \"J. K. Rowling\", \"Original language\": \"English\", \"First published\": 2007, \"Approximate sales in millions\": 65.0, \"Genre\": \"Fantasy\"}, {\"Book\": \"The Alchemist (O Alquimista)\", \"Author(s)\": \"Paulo Coelho\", \"Original language\": \"Portuguese\", \"First published\": 1988, \"Approximate sales in millions\": 65.0, \"Genre\": \"Fantasy\"}, {\"Book\": \"The Catcher in the Rye\", \"Author(s)\": \"J. D. Salinger\", \"Original language\": \"English\", \"First published\": 1951, \"Approximate sales in millions\": 65.0, \"Genre\": \"Coming-of-age\"}, {\"Book\": \"The Bridges of Madison County\", \"Author(s)\": \"Robert James Waller\", \"Original language\": \"English\", \"First published\": 1992, \"Approximate sales in millions\": 60.0, \"Genre\": \"Romance\"}, {\"Book\": \"Ben-Hur: A Tale of the Christ\", \"Author(s)\": \"Lew Wallace\", \"Original language\": \"English\", \"First published\": 1880, \"Approximate sales in millions\": 50.0, \"Genre\": \"Historical fiction\"}, {\"Book\": \"You Can Heal Your Life\", \"Author(s)\": \"Louise Hay\", \"Original language\": \"English\", \"First published\": 1984, \"Approximate sales in millions\": 50.0, \"Genre\": \"Self-help\"}, {\"Book\": \"One Hundred Years of Solitude (Cien a\\u00f1os de soledad)\", \"Author(s)\": \"Gabriel Garc\\u00eda M\\u00e1rquez\", \"Original language\": \"Spanish\", \"First published\": 1967, \"Approximate sales in millions\": 50.0, \"Genre\": \"Magic realism\"}, {\"Book\": \"Lolita\", \"Author(s)\": \"Vladimir Nabokov\", \"Original language\": \"English\", \"First published\": 1955, \"Approximate sales in millions\": 50.0, \"Genre\": \"Novel\"}, {\"Book\": \"Heidi\", \"Author(s)\": \"Johanna Spyri\", \"Original language\": \"German\", \"First published\": 1880, \"Approximate sales in millions\": 50.0, \"Genre\": \"Children's fiction\"}, {\"Book\": \"The Common Sense Book of Baby and Child Care\", \"Author(s)\": \"Benjamin Spock\", \"Original language\": \"English\", \"First published\": 1946, \"Approximate sales in millions\": 50.0, \"Genre\": \"Manual\"}, {\"Book\": \"Anne of Green Gables\", \"Author(s)\": \"Lucy Maud Montgomery\", \"Original language\": \"English\", \"First published\": 1908, \"Approximate sales in millions\": 50.0, \"Genre\": \"Children's novel\"}, {\"Book\": \"Black Beauty\", \"Author(s)\": \"Anna Sewell\", \"Original language\": \"English\", \"First published\": 1877, \"Approximate sales in millions\": 50.0, \"Genre\": \"Children's literature\"}, {\"Book\": \"The Name of the Rose (Il Nome della Rosa)\", \"Author(s)\": \"Umberto Eco\", \"Original language\": \"Italian\", \"First published\": 1980, \"Approximate sales in millions\": 50.0, \"Genre\": \"Historical novel, mystery\"}, {\"Book\": \"The Eagle Has Landed\", \"Author(s)\": \"Jack Higgins\", \"Original language\": \"English\", \"First published\": 1975, \"Approximate sales in millions\": 50.0, \"Genre\": \"War, thriller\"}, {\"Book\": \"Watership Down\", \"Author(s)\": \"Richard Adams\", \"Original language\": \"English\", \"First published\": 1972, \"Approximate sales in millions\": 50.0, \"Genre\": \"Fantasy\"}, {\"Book\": \"The Hite Report\", \"Author(s)\": \"Shere Hite\", \"Original language\": \"English\", \"First published\": 1976, \"Approximate sales in millions\": 50.0, \"Genre\": \"Sexology\"}, {\"Book\": \"Charlotte's Web\", \"Author(s)\": \"E. B. White; illustrated by Garth Williams\", \"Original language\": \"English\", \"First published\": 1952, \"Approximate sales in millions\": 50.0, \"Genre\": \"Children's fiction\"}, {\"Book\": \"The Ginger Man\", \"Author(s)\": \"J. P. Donleavy\", \"Original language\": \"English\", \"First published\": 1955, \"Approximate sales in millions\": 50.0, \"Genre\": \"Novel\"}, {\"Book\": \"The Tale of Peter Rabbit\", \"Author(s)\": \"Beatrix Potter\", \"Original language\": \"English\", \"First published\": 1902, \"Approximate sales in millions\": 45.0, \"Genre\": \"Children's Literature\"}, {\"Book\": \"Jonathan Livingston Seagull\", \"Author(s)\": \"Richard Bach\", \"Original language\": \"English\", \"First published\": 1970, \"Approximate sales in millions\": 44.0, \"Genre\": \"Novella, Self-help\"}, {\"Book\": \"The Very Hungry Caterpillar\", \"Author(s)\": \"Eric Carle\", \"Original language\": \"English\", \"First published\": 1969, \"Approximate sales in millions\": 43.0, \"Genre\": \"Children's Literature, picture book\"}, {\"Book\": \"A Message to Garcia\", \"Author(s)\": \"Elbert Hubbard\", \"Original language\": \"English\", \"First published\": 1899, \"Approximate sales in millions\": 40.0, \"Genre\": \"Essay/Literature\"}, {\"Book\": \"To Kill a Mockingbird\", \"Author(s)\": \"Harper Lee\", \"Original language\": \"English\", \"First published\": 1960, \"Approximate sales in millions\": 40.0, \"Genre\": \"Southern Gothic, Bildungsroman\"}, {\"Book\": \"Flowers in the Attic\", \"Author(s)\": \"V. C. Andrews\", \"Original language\": \"English\", \"First published\": 1979, \"Approximate sales in millions\": 40.0, \"Genre\": \"Gothic horror, Family saga\"}, {\"Book\": \"Cosmos\", \"Author(s)\": \"Carl Sagan\", \"Original language\": \"English\", \"First published\": 1980, \"Approximate sales in millions\": 40.0, \"Genre\": \"Popular science, Anthropology, Astrophysics, Cosmology, Philosophy, History\"}, {\"Book\": \"Sophie's World (Sofies verden)\", \"Author(s)\": \"Jostein Gaarder\", \"Original language\": \"Norwegian\", \"First published\": 1991, \"Approximate sales in millions\": 40.0, \"Genre\": \"Philosophical novel, Young adult\"}, {\"Book\": \"Angels & Demons\", \"Author(s)\": \"Dan Brown\", \"Original language\": \"English\", \"First published\": 2000, \"Approximate sales in millions\": 39.0, \"Genre\": \"Mystery-thriller\"}, {\"Book\": \"Kane and Abel\", \"Author(s)\": \"Jeffrey Archer\", \"Original language\": \"English\", \"First published\": 1979, \"Approximate sales in millions\": 37.0, \"Genre\": \"Novel\"}, {\"Book\": \"How the Steel Was Tempered (\\u041a\\u0430\\u043a \\u0437\\u0430\\u043a\\u0430\\u043b\\u044f\\u043b\\u0430\\u0441\\u044c \\u0441\\u0442\\u0430\\u043b\\u044c)\", \"Author(s)\": \"Nikolai Ostrovsky\", \"Original language\": \"Russian\", \"First published\": 1932, \"Approximate sales in millions\": 36.4, \"Genre\": \"Socialist realist novel\"}, {\"Book\": \"War and Peace (\\u0412\\u043e\\u0439\\u043d\\u0430 \\u0438 \\u043c\\u0438\\u0440)\", \"Author(s)\": \"Leo Tolstoy\", \"Original language\": \"Russian\", \"First published\": 1869, \"Approximate sales in millions\": 36.0, \"Genre\": \"Historical novel\"}, {\"Book\": \"The Adventures of Pinocchio (Le avventure di Pinocchio)\", \"Author(s)\": \"Carlo Collodi\", \"Original language\": \"Italian\", \"First published\": 1881, \"Approximate sales in millions\": 35.0, \"Genre\": \"Fantasy, Children's fiction\"}, {\"Book\": \"The Diary of Anne Frank (Het Achterhuis)\", \"Author(s)\": \"Anne Frank\", \"Original language\": \"Dutch\", \"First published\": 1947, \"Approximate sales in millions\": 35.0, \"Genre\": \"Historical non-fiction, Autobiography, Memoir, Bildungsroman / Coming of Age, Jewish literature\"}, {\"Book\": \"Your Erroneous Zones\", \"Author(s)\": \"Wayne Dyer\", \"Original language\": \"English\", \"First published\": 1976, \"Approximate sales in millions\": 35.0, \"Genre\": \"Self-help\"}, {\"Book\": \"The Thorn Birds\", \"Author(s)\": \"Colleen McCullough\", \"Original language\": \"English\", \"First published\": 1977, \"Approximate sales in millions\": 33.0, \"Genre\": \"Romantic family saga\"}, {\"Book\": \"The Purpose Driven Life\", \"Author(s)\": \"Rick Warren\", \"Original language\": \"English\", \"First published\": 2002, \"Approximate sales in millions\": 33.0, \"Genre\": \"Christian literature\"}, {\"Book\": \"The Kite Runner\", \"Author(s)\": \"Khaled Hosseini\", \"Original language\": \"English\", \"First published\": 2003, \"Approximate sales in millions\": 31.5, \"Genre\": \"Bildungsroman, Historical fiction\"}, {\"Book\": \"Valley of the Dolls\", \"Author(s)\": \"Jacqueline Susann\", \"Original language\": \"English\", \"First published\": 1966, \"Approximate sales in millions\": 31.0, \"Genre\": \"Novel\"}, {\"Book\": \"Alcoholics Anonymous Big Book\", \"Author(s)\": \"Bill Wilson\", \"Original language\": \"English\", \"First published\": 1939, \"Approximate sales in millions\": 30.0, \"Genre\": \"Self-help\"}, {\"Book\": \"How to Win Friends and Influence People\", \"Author(s)\": \"Dale Carnegie\", \"Original language\": \"English\", \"First published\": 1936, \"Approximate sales in millions\": 30.0, \"Genre\": \"Self-help\"}, {\"Book\": \"The Great Gatsby\", \"Author(s)\": \"F. Scott Fitzgerald\", \"Original language\": \"English\", \"First published\": 1925, \"Approximate sales in millions\": 30.0, \"Genre\": \"Novel, tragedy\"}, {\"Book\": \"Gone with the Wind\", \"Author(s)\": \"Margaret Mitchell\", \"Original language\": \"English\", \"First published\": 1936, \"Approximate sales in millions\": 30.0, \"Genre\": \"Historical fiction\"}, {\"Book\": \"Rebecca\", \"Author(s)\": \"Daphne du Maurier\", \"Original language\": \"English\", \"First published\": 1938, \"Approximate sales in millions\": 30.0, \"Genre\": \"Gothic novel\"}, {\"Book\": \"Nineteen Eighty-Four\", \"Author(s)\": \"George Orwell\", \"Original language\": \"English\", \"First published\": 1949, \"Approximate sales in millions\": 30.0, \"Genre\": \"Dystopian, political fiction, social science fiction\"}, {\"Book\": \"The Revolt of Mamie Stover\", \"Author(s)\": \"William Bradford Huie\", \"Original language\": \"English\", \"First published\": 1951, \"Approximate sales in millions\": 30.0, \"Genre\": \"Fiction\"}, {\"Book\": \"The Girl with the Dragon Tattoo (M\\u00e4n som hatar kvinnor)\", \"Author(s)\": \"Stieg Larsson\", \"Original language\": \"Swedish\", \"First published\": 2005, \"Approximate sales in millions\": 30.0, \"Genre\": \"Fiction\"}, {\"Book\": \"The Lost Symbol\", \"Author(s)\": \"Dan Brown\", \"Original language\": \"English\", \"First published\": 2009, \"Approximate sales in millions\": 30.0, \"Genre\": \"Fiction\"}, {\"Book\": \"The Hunger Games\", \"Author(s)\": \"Suzanne Collins\", \"Original language\": \"English\", \"First published\": 2008, \"Approximate sales in millions\": 29.0, \"Genre\": \"Young adult fiction\"}, {\"Book\": \"James and the Giant Peach\", \"Author(s)\": \"Roald Dahl\", \"Original language\": \"English\", \"First published\": 1961, \"Approximate sales in millions\": 28.0, \"Genre\": \"Children's novel\"}, {\"Book\": \"The Young Guard (\\u041c\\u043e\\u043b\\u043e\\u0434\\u0430\\u044f \\u0433\\u0432\\u0430\\u0440\\u0434\\u0438\\u044f)\", \"Author(s)\": \"Alexander Alexandrovich Fadeyev\", \"Original language\": \"Russian\", \"First published\": 1945, \"Approximate sales in millions\": 26.0, \"Genre\": \"Young adult historical novel\"}, {\"Book\": \"Who Moved My Cheese?\", \"Author(s)\": \"Spencer Johnson\", \"Original language\": \"English\", \"First published\": 1998, \"Approximate sales in millions\": 29.0, \"Genre\": \"Self-help, motivational, business fable, psychology, leadership, parable\"}, {\"Book\": \"A Brief History of Time\", \"Author(s)\": \"Stephen Hawking\", \"Original language\": \"English\", \"First published\": 1988, \"Approximate sales in millions\": 25.0, \"Genre\": \"Popular science\"}, {\"Book\": \"Paul et Virginie\", \"Author(s)\": \"Jacques-Henri Bernardin de Saint-Pierre\", \"Original language\": \"French\", \"First published\": 1788, \"Approximate sales in millions\": 25.0, \"Genre\": \"Novel\"}, {\"Book\": \"Lust for Life\", \"Author(s)\": \"Irving Stone\", \"Original language\": \"English\", \"First published\": 1934, \"Approximate sales in millions\": 25.0, \"Genre\": \"Biographical novel\"}, {\"Book\": \"The Wind in the Willows\", \"Author(s)\": \"Kenneth Grahame\", \"Original language\": \"English\", \"First published\": 1908, \"Approximate sales in millions\": 25.0, \"Genre\": \"Children's literature\"}, {\"Book\": \"The 7 Habits of Highly Effective People\", \"Author(s)\": \"Stephen R. Covey\", \"Original language\": \"English\", \"First published\": 1989, \"Approximate sales in millions\": 25.0, \"Genre\": \"Self-help\"}, {\"Book\": \"Virgin Soil Upturned (\\u041f\\u043e\\u0434\\u043d\\u044f\\u0442\\u0430\\u044f \\u0446\\u0435\\u043b\\u0438\\u043d\\u0430)\", \"Author(s)\": \"Mikhail Sholokhov\", \"Original language\": \"Russian\", \"First published\": 1935, \"Approximate sales in millions\": 24.0, \"Genre\": \"Novel\"}, {\"Book\": \"The Celestine Prophecy\", \"Author(s)\": \"James Redfield\", \"Original language\": \"English\", \"First published\": 1993, \"Approximate sales in millions\": 23.0, \"Genre\": \"New-age spiritual novel\"}, {\"Book\": \"The Fault in Our Stars\", \"Author(s)\": \"John Green\", \"Original language\": \"English\", \"First published\": 2012, \"Approximate sales in millions\": 23.0, \"Genre\": \"Young adult romantic novel\"}, {\"Book\": \"The Girl on the Train\", \"Author(s)\": \"Paula Hawkins\", \"Original language\": \"English\", \"First published\": 2015, \"Approximate sales in millions\": 23.0, \"Genre\": \"Thriller\"}, {\"Book\": \"The Shack\", \"Author(s)\": \"William P. Young\", \"Original language\": \"English\", \"First published\": 2007, \"Approximate sales in millions\": 22.5, \"Genre\": \"Novel\"}, {\"Book\": \"Uncle Styopa (\\u0414\\u044f\\u0434\\u044f \\u0421\\u0442\\u0451\\u043f\\u0430)\", \"Author(s)\": \"Sergey Mikhalkov\", \"Original language\": \"Russian\", \"First published\": 1936, \"Approximate sales in millions\": 21.0, \"Genre\": \"Children's Literature, picture book\"}, {\"Book\": \"The Godfather\", \"Author(s)\": \"Mario Puzo\", \"Original language\": \"English\", \"First published\": 1969, \"Approximate sales in millions\": 21.0, \"Genre\": \"Crime novel\"}, {\"Book\": \"Love Story\", \"Author(s)\": \"Erich Segal\", \"Original language\": \"English\", \"First published\": 1970, \"Approximate sales in millions\": 21.0, \"Genre\": \"Romance novel\"}, {\"Book\": \"Catching Fire\", \"Author(s)\": \"Suzanne Collins\", \"Original language\": \"English\", \"First published\": 2009, \"Approximate sales in millions\": 21.0, \"Genre\": \"Young Adult novel, adventure, dystopian, science fiction\"}, {\"Book\": \"Mockingjay\", \"Author(s)\": \"Suzanne Collins\", \"Original language\": \"English\", \"First published\": 2010, \"Approximate sales in millions\": 20.0, \"Genre\": \"Young Adult novel, adventure, war, science fiction, action thriller\"}, {\"Book\": \"Kitchen (\\u30ad\\u30c3\\u30c1\\u30f3)\", \"Author(s)\": \"Banana Yoshimoto\", \"Original language\": \"Japanese\", \"First published\": 1988, \"Approximate sales in millions\": 20.0, \"Genre\": \"Japanese novel\"}, {\"Book\": \"Andromeda Nebula (\\u0422\\u0443\\u043c\\u0430\\u043d\\u043d\\u043e\\u0441\\u0442\\u044c \\u0410\\u043d\\u0434\\u0440\\u043e\\u043c\\u0435\\u0434\\u044b)\", \"Author(s)\": \"Ivan Yefremov\", \"Original language\": \"Russian\", \"First published\": 1957, \"Approximate sales in millions\": 20.0, \"Genre\": \"Science fiction novel\"}, {\"Book\": \"Autobiography of a Yogi (\\u092f\\u094b\\u0917\\u0940 \\u0915\\u0925\\u093e\\u092e\\u0943\\u0924)\", \"Author(s)\": \"Paramahansa Yogananda\", \"Original language\": \"Hindi\", \"First published\": 1946, \"Approximate sales in millions\": 20.0, \"Genre\": \"Autobiography\"}, {\"Book\": \"Gone Girl\", \"Author(s)\": \"Gillian Flynn\", \"Original language\": \"English\", \"First published\": 2012, \"Approximate sales in millions\": 20.0, \"Genre\": \"Crime thriller novel\"}, {\"Book\": \"All Quiet on the Western Front (Im Westen nichts Neues)\", \"Author(s)\": \"Erich Maria Remarque\", \"Original language\": \"German\", \"First published\": 1929, \"Approximate sales in millions\": 20.0, \"Genre\": \"War novel\"}, {\"Book\": \"The Bermuda Triangle\", \"Author(s)\": \"Charles Berlitz\", \"Original language\": \"English\", \"First published\": 1974, \"Approximate sales in millions\": 20.0, \"Genre\": null}, {\"Book\": \"Things Fall Apart \", \"Author(s)\": \"Chinua Achebe\", \"Original language\": \"English\", \"First published\": 1958, \"Approximate sales in millions\": 20.0, \"Genre\": \"Novel\"}, {\"Book\": \"Animal Farm \", \"Author(s)\": \"George Orwell\", \"Original language\": \"English\", \"First published\": 1945, \"Approximate sales in millions\": 20.0, \"Genre\": \"Satirical allegorical novella, Political satire, Dystopian Fiction, Roman \\u00e0 clef\"}, {\"Book\": \"Wolf Totem (\\u72fc\\u56fe\\u817e)\", \"Author(s)\": \"Jiang Rong\", \"Original language\": \"Chinese\", \"First published\": 2004, \"Approximate sales in millions\": 20.0, \"Genre\": \"Semi-autobiographical novel\"}, {\"Book\": \"The Happy Hooker: My Own Story\", \"Author(s)\": \"Xaviera Hollander\", \"Original language\": \"English\", \"First published\": 1971, \"Approximate sales in millions\": 20.0, \"Genre\": \"Memoir\"}, {\"Book\": \"Jaws\", \"Author(s)\": \"Peter Benchley\", \"Original language\": \"English\", \"First published\": 1974, \"Approximate sales in millions\": 20.0, \"Genre\": \"Thriller\"}, {\"Book\": \"Love You Forever\", \"Author(s)\": \"Robert Munsch\", \"Original language\": \"English\", \"First published\": 1986, \"Approximate sales in millions\": 20.0, \"Genre\": \"Children's literature, picture book, fiction\"}, {\"Book\": \"The Women's Room\", \"Author(s)\": \"Marilyn French\", \"Original language\": \"English\", \"First published\": 1977, \"Approximate sales in millions\": 20.0, \"Genre\": \"Feminist novel\"}, {\"Book\": \"What to Expect When You're Expecting\", \"Author(s)\": \"Arlene Eisenberg and Heidi Murkoff\", \"Original language\": \"English\", \"First published\": 1984, \"Approximate sales in millions\": 20.0, \"Genre\": \"Pregnancy guide\"}, {\"Book\": \"Adventures of Huckleberry Finn\", \"Author(s)\": \"Mark Twain\", \"Original language\": \"English\", \"First published\": 1885, \"Approximate sales in millions\": 20.0, \"Genre\": \"Picaresque novel, Bildungsroman, satire, Robinsonade\"}, {\"Book\": \"The Secret Diary of Adrian Mole, Aged 13\\u00be\", \"Author(s)\": \"Sue Townsend\", \"Original language\": \"English\", \"First published\": 1982, \"Approximate sales in millions\": 20.0, \"Genre\": \"Young adult novel\"}, {\"Book\": \"Pride and Prejudice\", \"Author(s)\": \"Jane Austen\", \"Original language\": \"English\", \"First published\": 1813, \"Approximate sales in millions\": 20.0, \"Genre\": \"Classic regency novel, romance\"}, {\"Book\": \"Kon-Tiki: Across the Pacific in a Raft (Kon-Tiki ekspedisjonen)\", \"Author(s)\": \"Thor Heyerdahl\", \"Original language\": \"Norwegian\", \"First published\": 1950, \"Approximate sales in millions\": 20.0, \"Genre\": \"Travel literature\"}, {\"Book\": \"The Good Soldier \\u0160vejk (Osudy dobr\\u00e9ho voj\\u00e1ka \\u0160vejka za sv\\u011btov\\u00e9 v\\u00e1lky)\", \"Author(s)\": \"Jaroslav Ha\\u0161ek\", \"Original language\": \"Czech\", \"First published\": 1923, \"Approximate sales in millions\": 20.0, \"Genre\": \"Unfinished satirical dark comedy novel\"}, {\"Book\": \"Where the Wild Things Are\", \"Author(s)\": \"Maurice Sendak\", \"Original language\": \"English\", \"First published\": 1963, \"Approximate sales in millions\": 20.0, \"Genre\": \"Children's picture book\"}, {\"Book\": \"The Power of Positive Thinking\", \"Author(s)\": \"Norman Vincent Peale\", \"Original language\": \"English\", \"First published\": 1952, \"Approximate sales in millions\": 20.0, \"Genre\": \"Self-help\"}, {\"Book\": \"The Secret\", \"Author(s)\": \"Rhonda Byrne\", \"Original language\": \"English\", \"First published\": 2006, \"Approximate sales in millions\": 20.0, \"Genre\": \"Self-help\"}, {\"Book\": \"Fear of Flying\", \"Author(s)\": \"Erica Jong\", \"Original language\": \"English\", \"First published\": 1973, \"Approximate sales in millions\": 20.0, \"Genre\": \"Romantic novel\"}, {\"Book\": \"Dune\", \"Author(s)\": \"Frank Herbert\", \"Original language\": \"English\", \"First published\": 1965, \"Approximate sales in millions\": 20.0, \"Genre\": \"Science fiction novel\"}, {\"Book\": \"Charlie and the Chocolate Factory\", \"Author(s)\": \"Roald Dahl\", \"Original language\": \"English\", \"First published\": 1964, \"Approximate sales in millions\": 20.0, \"Genre\": \"Children's fantasy novel\"}, {\"Book\": \"The Naked Ape\", \"Author(s)\": \"Desmond Morris\", \"Original language\": \"English\", \"First published\": 1968, \"Approximate sales in millions\": 20.0, \"Genre\": \"Social Science, Anthropology, Psychology\"}, {\"Book\": \"Where the Crawdads Sing\", \"Author(s)\": \"Delia Owens\", \"Original language\": \"English\", \"First published\": 2018, \"Approximate sales in millions\": 18.0, \"Genre\": \"Coming-of-age Murder mystery\"}, {\"Book\": \"Totto-chan, the Little Girl at the Window (\\u7a93\\u304e\\u308f\\u306e\\u30c8\\u30c3\\u30c8\\u3061\\u3083\\u3093)\", \"Author(s)\": \"Tetsuko Kuroyanagi\", \"Original language\": \"Japanese\", \"First published\": 1981, \"Approximate sales in millions\": 18.0, \"Genre\": \"Autobiographical novel\"}, {\"Book\": \"Matilda\", \"Author(s)\": \"Roald Dahl\", \"Original language\": \"English\", \"First published\": 1988, \"Approximate sales in millions\": 17.0, \"Genre\": \"Children's Literature\"}, {\"Book\": \"The Book Thief\", \"Author(s)\": \"Markus Zusak\", \"Original language\": \"English\", \"First published\": 2005, \"Approximate sales in millions\": 16.0, \"Genre\": \"Young Adult Fiction\"}, {\"Book\": \"The Horse Whisperer\", \"Author(s)\": \"Nicholas Evans\", \"Original language\": \"English\", \"First published\": 1995, \"Approximate sales in millions\": 16.0, \"Genre\": null}, {\"Book\": \"Goodnight Moon\", \"Author(s)\": \"Margaret Wise Brown\", \"Original language\": \"English\", \"First published\": 1947, \"Approximate sales in millions\": 16.0, \"Genre\": \"Children's Literature\"}, {\"Book\": \"The Neverending Story (Die unendliche Geschichte)\", \"Author(s)\": \"Michael Ende\", \"Original language\": \"German\", \"First published\": 1979, \"Approximate sales in millions\": 16.0, \"Genre\": \"Children's Literature\"}, {\"Book\": \"All the Light We Cannot See\", \"Author(s)\": \"Anthony Doerr\", \"Original language\": \"English\", \"First published\": 2014, \"Approximate sales in millions\": 15.3, \"Genre\": \"Historical fiction, war novel\"}, {\"Book\": \"Fifty Shades of Grey\", \"Author(s)\": \"E. L. James\", \"Original language\": \"English\", \"First published\": 2011, \"Approximate sales in millions\": 15.2, \"Genre\": \"Erotica\"}, {\"Book\": \"The Outsiders\", \"Author(s)\": \"S. E. Hinton\", \"Original language\": \"English\", \"First published\": 1967, \"Approximate sales in millions\": 15.0, \"Genre\": null}, {\"Book\": \"Guess How Much I Love You\", \"Author(s)\": \"Sam McBratney\", \"Original language\": \"English\", \"First published\": 1994, \"Approximate sales in millions\": 15.0, \"Genre\": null}, {\"Book\": \"Sh\\u014dgun\", \"Author(s)\": \"James Clavell\", \"Original language\": \"English\", \"First published\": 1975, \"Approximate sales in millions\": 15.0, \"Genre\": null}, {\"Book\": \"The Poky Little Puppy\", \"Author(s)\": \"Janette Sebring Lowrey\", \"Original language\": \"English\", \"First published\": 1942, \"Approximate sales in millions\": 15.0, \"Genre\": null}, {\"Book\": \"The Pillars of the Earth\", \"Author(s)\": \"Ken Follett\", \"Original language\": \"English\", \"First published\": 1989, \"Approximate sales in millions\": 15.0, \"Genre\": \"Historical fiction\"}, {\"Book\": \"Perfume (Das Parfum)\", \"Author(s)\": \"Patrick S\\u00fcskind\", \"Original language\": \"German\", \"First published\": 1985, \"Approximate sales in millions\": 15.0, \"Genre\": null}, {\"Book\": \"The Grapes of Wrath\", \"Author(s)\": \"John Steinbeck\", \"Original language\": \"English\", \"First published\": 1939, \"Approximate sales in millions\": 15.0, \"Genre\": null}, {\"Book\": \"The Shadow of the Wind (La sombra del viento)\", \"Author(s)\": \"Carlos Ruiz Zaf\\u00f3n\", \"Original language\": \"Spanish\", \"First published\": 2001, \"Approximate sales in millions\": 15.0, \"Genre\": null}, {\"Book\": \"Interpreter of Maladies\", \"Author(s)\": \"Jhumpa Lahiri\", \"Original language\": \"English\", \"First published\": 2000, \"Approximate sales in millions\": 15.0, \"Genre\": null}, {\"Book\": \"Becoming\", \"Author(s)\": \"Michelle Obama\", \"Original language\": \"English\", \"First published\": 2018, \"Approximate sales in millions\": 14.0, \"Genre\": null}, {\"Book\": \"The Hitchhiker's Guide to the Galaxy\", \"Author(s)\": \"Douglas Adams\", \"Original language\": \"English\", \"First published\": 1979, \"Approximate sales in millions\": 14.0, \"Genre\": \"Science fiction\"}, {\"Book\": \"Tuesdays with Morrie\", \"Author(s)\": \"Mitch Albom\", \"Original language\": \"English\", \"First published\": 1997, \"Approximate sales in millions\": 14.0, \"Genre\": null}, {\"Book\": \"God's Little Acre\", \"Author(s)\": \"Erskine Caldwell\", \"Original language\": \"English\", \"First published\": 1933, \"Approximate sales in millions\": 14.0, \"Genre\": null}, {\"Book\": \"Follow Your Heart (Va' dove ti porta il cuore)\", \"Author(s)\": \"Susanna Tamaro\", \"Original language\": \"Italian\", \"First published\": 1994, \"Approximate sales in millions\": 14.0, \"Genre\": null}, {\"Book\": \"A Wrinkle in Time\", \"Author(s)\": \"Madeleine L'Engle\", \"Original language\": \"English\", \"First published\": 1962, \"Approximate sales in millions\": 14.0, \"Genre\": null}, {\"Book\": \"Long Walk to Freedom\", \"Author(s)\": \"Nelson Mandela\", \"Original language\": \"English\", \"First published\": 1994, \"Approximate sales in millions\": 14.0, \"Genre\": null}, {\"Book\": \"The Old Man and the Sea\", \"Author(s)\": \"Ernest Hemingway\", \"Original language\": \"English\", \"First published\": 1952, \"Approximate sales in millions\": 13.0, \"Genre\": null}, {\"Book\": \"Life After Life\", \"Author(s)\": \"Raymond Moody\", \"Original language\": \"English\", \"First published\": 1975, \"Approximate sales in millions\": 13.0, \"Genre\": null}, {\"Book\": \"Peyton Place \", \"Author(s)\": \"Grace Metalious\", \"Original language\": \"English\", \"First published\": 1956, \"Approximate sales in millions\": 12.1, \"Genre\": null}, {\"Book\": \"The Giver\", \"Author(s)\": \"Lois Lowry\", \"Original language\": \"English\", \"First published\": 1993, \"Approximate sales in millions\": 12.0, \"Genre\": \"Dystopian fiction\"}, {\"Book\": \"Me Before You\", \"Author(s)\": \"Jojo Moyes\", \"Original language\": \"English\", \"First published\": 2012, \"Approximate sales in millions\": 12.0, \"Genre\": null}, {\"Book\": \"Norwegian Wood (\\u30ce\\u30eb\\u30a6\\u30a7\\u30a4\\u306e\\u68ee)\", \"Author(s)\": \"Haruki Murakami\", \"Original language\": \"Japanese\", \"First published\": 1987, \"Approximate sales in millions\": 12.0, \"Genre\": null}, {\"Book\": \"The Plague (La Peste)\", \"Author(s)\": \"Albert Camus\", \"Original language\": \"French\", \"First published\": 1947, \"Approximate sales in millions\": 12.0, \"Genre\": null}, {\"Book\": \"No Longer Human (\\u4eba\\u9593\\u5931\\u683c)\", \"Author(s)\": \"Osamu Dazai\", \"Original language\": \"Japanese\", \"First published\": 1948, \"Approximate sales in millions\": 12.0, \"Genre\": null}, {\"Book\": \"Man's Search for Meaning (Ein Psychologe erlebt das Konzentrationslager)\", \"Author(s)\": \"Viktor Frankl\", \"Original language\": \"German\", \"First published\": 1946, \"Approximate sales in millions\": 12.0, \"Genre\": null}, {\"Book\": \"The Divine Comedy (La Divina Commedia)\", \"Author(s)\": \"Dante Alighieri\", \"Original language\": \"Italian\", \"First published\": 1304, \"Approximate sales in millions\": 11.5, \"Genre\": null}, {\"Book\": \"The Prophet\", \"Author(s)\": \"Kahlil Gibran\", \"Original language\": \"English\", \"First published\": 1923, \"Approximate sales in millions\": 11.0, \"Genre\": null}, {\"Book\": \"The Boy in the Striped Pyjamas\", \"Author(s)\": \"John Boyne\", \"Original language\": \"English\", \"First published\": 2006, \"Approximate sales in millions\": 11.0, \"Genre\": null}, {\"Book\": \"The Exorcist\", \"Author(s)\": \"William Peter Blatty\", \"Original language\": \"English\", \"First published\": 1971, \"Approximate sales in millions\": 11.0, \"Genre\": \"Horror\"}, {\"Book\": \"The Gruffalo\", \"Author(s)\": \"Julia Donaldson\", \"Original language\": \"English\", \"First published\": 1999, \"Approximate sales in millions\": 10.5, \"Genre\": null}, {\"Book\": \"Fifty Shades Darker\", \"Author(s)\": \"E. L. James\", \"Original language\": \"English\", \"First published\": 2012, \"Approximate sales in millions\": 10.4, \"Genre\": \"Erotica\"}, {\"Book\": \"Tobacco Road\", \"Author(s)\": \"Erskine Caldwell\", \"Original language\": \"English\", \"First published\": 1932, \"Approximate sales in millions\": 10.0, \"Genre\": null}, {\"Book\": \"Ronia, the Robber's Daughter\", \"Author(s)\": \"Astrid Lindgren\", \"Original language\": \"Swedish\", \"First published\": 1981, \"Approximate sales in millions\": 10.0, \"Genre\": null}, {\"Book\": \"The Cat in the Hat\", \"Author(s)\": \"Dr. Seuss\", \"Original language\": \"English\", \"First published\": 1957, \"Approximate sales in millions\": 10.5, \"Genre\": null}, {\"Book\": \"Diana: Her True Story\", \"Author(s)\": \"Andrew Morton\", \"Original language\": \"English\", \"First published\": 1992, \"Approximate sales in millions\": 10.0, \"Genre\": null}, {\"Book\": \"The Help\", \"Author(s)\": \"Kathryn Stockett\", \"Original language\": \"English\", \"First published\": 2009, \"Approximate sales in millions\": 10.0, \"Genre\": null}, {\"Book\": \"Catch-22\", \"Author(s)\": \"Joseph Heller\", \"Original language\": \"English\", \"First published\": 1961, \"Approximate sales in millions\": 10.0, \"Genre\": null}, {\"Book\": \"The Stranger (L'\\u00c9tranger)\", \"Author(s)\": \"Albert Camus\", \"Original language\": \"French\", \"First published\": 1942, \"Approximate sales in millions\": 10.0, \"Genre\": null}, {\"Book\": \"Eye of the Needle\", \"Author(s)\": \"Ken Follett\", \"Original language\": \"English\", \"First published\": 1978, \"Approximate sales in millions\": 10.0, \"Genre\": null}, {\"Book\": \"The Lovely Bones\", \"Author(s)\": \"Alice Sebold\", \"Original language\": \"English\", \"First published\": 2002, \"Approximate sales in millions\": 10.0, \"Genre\": null}, {\"Book\": \"Wild Swans\", \"Author(s)\": \"Jung Chang\", \"Original language\": \"English\", \"First published\": 1992, \"Approximate sales in millions\": 10.0, \"Genre\": null}, {\"Book\": \"Santa Evita\", \"Author(s)\": \"Tom\\u00e1s Eloy Mart\\u00ednez\", \"Original language\": \"Spanish\", \"First published\": 1995, \"Approximate sales in millions\": 10.0, \"Genre\": null}, {\"Book\": \"Night (Un di Velt Hot Geshvign)\", \"Author(s)\": \"Elie Wiesel\", \"Original language\": \"Yiddish\", \"First published\": 1958, \"Approximate sales in millions\": 10.0, \"Genre\": null}, {\"Book\": \"Confucius from the Heart (\\u4e8e\\u4e39\\u300a\\u8bba\\u8bed\\u300b\\u5fc3\\u5f97)\", \"Author(s)\": \"Yu Dan\", \"Original language\": \"Chinese\", \"First published\": 2006, \"Approximate sales in millions\": 10.0, \"Genre\": null}, {\"Book\": \"The Total Woman\", \"Author(s)\": \"Marabel Morgan\", \"Original language\": \"English\", \"First published\": 1974, \"Approximate sales in millions\": 10.0, \"Genre\": null}, {\"Book\": \"Knowledge-value Revolution (\\u77e5\\u4fa1\\u9769\\u547d)\", \"Author(s)\": \"Taichi Sakaiya\", \"Original language\": \"Japanese\", \"First published\": 1985, \"Approximate sales in millions\": 10.0, \"Genre\": null}, {\"Book\": \"Problems in China's Socialist Economy (\\u4e2d\\u56fd\\u793e\\u4f1a\\u4e3b\\u4e49\\u7ecf\\u6d4e\\u95ee\\u9898\\u7814\\u7a76)\", \"Author(s)\": \"Xue Muqiao\", \"Original language\": \"Chinese\", \"First published\": 1979, \"Approximate sales in millions\": 10.0, \"Genre\": null}, {\"Book\": \"What Color Is Your Parachute?\", \"Author(s)\": \"Richard Nelson Bolles\", \"Original language\": \"English\", \"First published\": 1970, \"Approximate sales in millions\": 10.0, \"Genre\": null}, {\"Book\": \"The Dukan Diet\", \"Author(s)\": \"Pierre Dukan\", \"Original language\": \"French\", \"First published\": 2000, \"Approximate sales in millions\": 10.0, \"Genre\": null}, {\"Book\": \"The Joy of Sex\", \"Author(s)\": \"Alex Comfort\", \"Original language\": \"English\", \"First published\": 1972, \"Approximate sales in millions\": 10.0, \"Genre\": null}, {\"Book\": \"The Gospel According to Peanuts\", \"Author(s)\": \"Robert L. Short\", \"Original language\": \"English\", \"First published\": 1965, \"Approximate sales in millions\": 10.0, \"Genre\": null}, {\"Book\": \"The Subtle Art of Not Giving a Fuck\", \"Author(s)\": \"Mark Manson\", \"Original language\": \"English\", \"First published\": 2016, \"Approximate sales in millions\": 10.0, \"Genre\": null}, {\"Book\": \"Life of Pi\", \"Author(s)\": \"Yann Martel\", \"Original language\": \"English\", \"First published\": 2001, \"Approximate sales in millions\": 10.0, \"Genre\": null}, {\"Book\": \"The Front Runner\", \"Author(s)\": \"Patricia Nell Warren\", \"Original language\": \"English\", \"First published\": 1974, \"Approximate sales in millions\": 10.0, \"Genre\": null}, {\"Book\": \"The Goal\", \"Author(s)\": \"Eliyahu M. Goldratt\", \"Original language\": \"English\", \"First published\": 1984, \"Approximate sales in millions\": 10.0, \"Genre\": null}, {\"Book\": \"Fahrenheit 451\", \"Author(s)\": \"Ray Bradbury\", \"Original language\": \"English\", \"First published\": 1953, \"Approximate sales in millions\": 10.0, \"Genre\": null}, {\"Book\": \"Angela's Ashes\", \"Author(s)\": \"Frank McCourt\", \"Original language\": \"English\", \"First published\": 1996, \"Approximate sales in millions\": 10.0, \"Genre\": null}, {\"Book\": \"The Story of My Experiments with Truth (\\u0ab8\\u0aa4\\u0acd\\u0aaf\\u0aa8\\u0abe \\u0aaa\\u0acd\\u0ab0\\u0aaf\\u0acb\\u0a97\\u0acb \\u0a85\\u0aa5\\u0ab5\\u0abe \\u0a86\\u0aa4\\u0acd\\u0aae\\u0a95\\u0aa5\\u0abe)\", \"Author(s)\": \"Mohandas Karamchand Gandhi\", \"Original language\": \"Gujarati\", \"First published\": 1929, \"Approximate sales in millions\": 10.0, \"Genre\": null}, {\"Book\": \"Bridget Jones's Diary\", \"Author(s)\": \"Helen Fielding\", \"Original language\": \"English\", \"First published\": 1996, \"Approximate sales in millions\": 10.0, \"Genre\": null}]}}, {\"mode\": \"vega-lite\"});\n",
       "</script>"
      ],
      "text/plain": [
       "alt.Chart(...)"
      ]
     },
     "execution_count": 25,
     "metadata": {},
     "output_type": "execute_result"
    }
   ],
   "source": [
    "alt.Chart(df).mark_bar().encode(\n",
    "    y='Approximate sales in millions', \n",
    "    x='Original language',\n",
    "    color=alt.Color(\"Approximate sales in millions\", scale = alt.Scale(scheme = \"viridis\")),\n",
    "    tooltip = ['Original language','Approximate sales in millions']\n",
    "\n",
    ").properties(\n",
    "title='Approximate sales in millions of books by Original Language')"
   ]
  },
  {
   "cell_type": "markdown",
   "id": "e6f058d1",
   "metadata": {
    "papermill": {
     "duration": 0.01321,
     "end_time": "2024-04-30T15:56:22.280021",
     "exception": false,
     "start_time": "2024-04-30T15:56:22.266811",
     "status": "completed"
    },
    "tags": []
   },
   "source": [
    "### It looks like English is the most popular language of books sold in this dataset. "
   ]
  },
  {
   "cell_type": "code",
   "execution_count": 26,
   "id": "c51f9991",
   "metadata": {
    "execution": {
     "iopub.execute_input": "2024-04-30T15:56:22.308138Z",
     "iopub.status.busy": "2024-04-30T15:56:22.307776Z",
     "iopub.status.idle": "2024-04-30T15:56:22.353514Z",
     "shell.execute_reply": "2024-04-30T15:56:22.352177Z"
    },
    "papermill": {
     "duration": 0.062809,
     "end_time": "2024-04-30T15:56:22.355890",
     "exception": false,
     "start_time": "2024-04-30T15:56:22.293081",
     "status": "completed"
    },
    "tags": []
   },
   "outputs": [
    {
     "data": {
      "text/html": [
       "\n",
       "<style>\n",
       "  #altair-viz-27762f33d02a46d584989225bd370455.vega-embed {\n",
       "    width: 100%;\n",
       "    display: flex;\n",
       "  }\n",
       "\n",
       "  #altair-viz-27762f33d02a46d584989225bd370455.vega-embed details,\n",
       "  #altair-viz-27762f33d02a46d584989225bd370455.vega-embed details summary {\n",
       "    position: relative;\n",
       "  }\n",
       "</style>\n",
       "<div id=\"altair-viz-27762f33d02a46d584989225bd370455\"></div>\n",
       "<script type=\"text/javascript\">\n",
       "  var VEGA_DEBUG = (typeof VEGA_DEBUG == \"undefined\") ? {} : VEGA_DEBUG;\n",
       "  (function(spec, embedOpt){\n",
       "    let outputDiv = document.currentScript.previousElementSibling;\n",
       "    if (outputDiv.id !== \"altair-viz-27762f33d02a46d584989225bd370455\") {\n",
       "      outputDiv = document.getElementById(\"altair-viz-27762f33d02a46d584989225bd370455\");\n",
       "    }\n",
       "    const paths = {\n",
       "      \"vega\": \"https://cdn.jsdelivr.net/npm/vega@5?noext\",\n",
       "      \"vega-lib\": \"https://cdn.jsdelivr.net/npm/vega-lib?noext\",\n",
       "      \"vega-lite\": \"https://cdn.jsdelivr.net/npm/vega-lite@5.17.0?noext\",\n",
       "      \"vega-embed\": \"https://cdn.jsdelivr.net/npm/vega-embed@6?noext\",\n",
       "    };\n",
       "\n",
       "    function maybeLoadScript(lib, version) {\n",
       "      var key = `${lib.replace(\"-\", \"\")}_version`;\n",
       "      return (VEGA_DEBUG[key] == version) ?\n",
       "        Promise.resolve(paths[lib]) :\n",
       "        new Promise(function(resolve, reject) {\n",
       "          var s = document.createElement('script');\n",
       "          document.getElementsByTagName(\"head\")[0].appendChild(s);\n",
       "          s.async = true;\n",
       "          s.onload = () => {\n",
       "            VEGA_DEBUG[key] = version;\n",
       "            return resolve(paths[lib]);\n",
       "          };\n",
       "          s.onerror = () => reject(`Error loading script: ${paths[lib]}`);\n",
       "          s.src = paths[lib];\n",
       "        });\n",
       "    }\n",
       "\n",
       "    function showError(err) {\n",
       "      outputDiv.innerHTML = `<div class=\"error\" style=\"color:red;\">${err}</div>`;\n",
       "      throw err;\n",
       "    }\n",
       "\n",
       "    function displayChart(vegaEmbed) {\n",
       "      vegaEmbed(outputDiv, spec, embedOpt)\n",
       "        .catch(err => showError(`Javascript Error: ${err.message}<br>This usually means there's a typo in your chart specification. See the javascript console for the full traceback.`));\n",
       "    }\n",
       "\n",
       "    if(typeof define === \"function\" && define.amd) {\n",
       "      requirejs.config({paths});\n",
       "      require([\"vega-embed\"], displayChart, err => showError(`Error loading script: ${err.message}`));\n",
       "    } else {\n",
       "      maybeLoadScript(\"vega\", \"5\")\n",
       "        .then(() => maybeLoadScript(\"vega-lite\", \"5.17.0\"))\n",
       "        .then(() => maybeLoadScript(\"vega-embed\", \"6\"))\n",
       "        .catch(showError)\n",
       "        .then(() => displayChart(vegaEmbed));\n",
       "    }\n",
       "  })({\"config\": {\"view\": {\"continuousWidth\": 300, \"continuousHeight\": 300}}, \"data\": {\"name\": \"data-53746a97c85668a3938be06709cf3a13\"}, \"mark\": {\"type\": \"bar\"}, \"encoding\": {\"color\": {\"field\": \"Approximate sales in millions\", \"scale\": {\"scheme\": \"viridis\"}, \"type\": \"quantitative\"}, \"tooltip\": [{\"field\": \"Genre\", \"type\": \"nominal\"}, {\"field\": \"Approximate sales in millions\", \"type\": \"quantitative\"}], \"x\": {\"field\": \"Genre\", \"type\": \"nominal\"}, \"y\": {\"field\": \"Approximate sales in millions\", \"type\": \"quantitative\"}}, \"title\": \"Approximate sales in millions of books by Genre\", \"$schema\": \"https://vega.github.io/schema/vega-lite/v5.17.0.json\", \"datasets\": {\"data-53746a97c85668a3938be06709cf3a13\": [{\"Book\": \"A Tale of Two Cities\", \"Author(s)\": \"Charles Dickens\", \"Original language\": \"English\", \"First published\": 1859, \"Approximate sales in millions\": 200.0, \"Genre\": \"Historical fiction\"}, {\"Book\": \"The Little Prince (Le Petit Prince)\", \"Author(s)\": \"Antoine de Saint-Exup\\u00e9ry\", \"Original language\": \"French\", \"First published\": 1943, \"Approximate sales in millions\": 200.0, \"Genre\": \"Novella\"}, {\"Book\": \"Harry Potter and the Philosopher's Stone\", \"Author(s)\": \"J. K. Rowling\", \"Original language\": \"English\", \"First published\": 1997, \"Approximate sales in millions\": 120.0, \"Genre\": \"Fantasy\"}, {\"Book\": \"And Then There Were None\", \"Author(s)\": \"Agatha Christie\", \"Original language\": \"English\", \"First published\": 1939, \"Approximate sales in millions\": 100.0, \"Genre\": \"Mystery\"}, {\"Book\": \"Dream of the Red Chamber (\\u7d05\\u6a13\\u5922)\", \"Author(s)\": \"Cao Xueqin\", \"Original language\": \"Chinese\", \"First published\": 1791, \"Approximate sales in millions\": 100.0, \"Genre\": \"Family saga\"}, {\"Book\": \"The Hobbit\", \"Author(s)\": \"J. R. R. Tolkien\", \"Original language\": \"English\", \"First published\": 1937, \"Approximate sales in millions\": 100.0, \"Genre\": \"Fantasy\"}, {\"Book\": \"The Lion, the Witch and the Wardrobe\", \"Author(s)\": \"C. S. Lewis\", \"Original language\": \"English\", \"First published\": 1950, \"Approximate sales in millions\": 85.0, \"Genre\": \"Fantasy, Children's fiction\"}, {\"Book\": \"She: A History of Adventure\", \"Author(s)\": \"H. Rider Haggard\", \"Original language\": \"English\", \"First published\": 1887, \"Approximate sales in millions\": 83.0, \"Genre\": \"Adventure\"}, {\"Book\": \"Vardi Wala Gunda (\\u0935\\u0930\\u094d\\u0926\\u0940 \\u0935\\u093e\\u0932\\u093e \\u0917\\u0941\\u0902\\u0921\\u093e)\", \"Author(s)\": \"Ved Prakash Sharma\", \"Original language\": \"Hindi\", \"First published\": 1992, \"Approximate sales in millions\": 80.0, \"Genre\": \"Detective\"}, {\"Book\": \"The Da Vinci Code\", \"Author(s)\": \"Dan Brown\", \"Original language\": \"English\", \"First published\": 2003, \"Approximate sales in millions\": 80.0, \"Genre\": \"Mystery thriller\"}, {\"Book\": \"Harry Potter and the Chamber of Secrets\", \"Author(s)\": \"J. K. Rowling\", \"Original language\": \"English\", \"First published\": 1998, \"Approximate sales in millions\": 77.0, \"Genre\": \"Fantasy\"}, {\"Book\": \"Harry Potter and the Prisoner of Azkaban\", \"Author(s)\": \"J. K. Rowling\", \"Original language\": \"English\", \"First published\": 1999, \"Approximate sales in millions\": 65.0, \"Genre\": \"Fantasy\"}, {\"Book\": \"Harry Potter and the Goblet of Fire\", \"Author(s)\": \"J. K. Rowling\", \"Original language\": \"English\", \"First published\": 2000, \"Approximate sales in millions\": 65.0, \"Genre\": \"Fantasy\"}, {\"Book\": \"Harry Potter and the Order of the Phoenix\", \"Author(s)\": \"J. K. Rowling\", \"Original language\": \"English\", \"First published\": 2003, \"Approximate sales in millions\": 65.0, \"Genre\": \"Fantasy\"}, {\"Book\": \"Harry Potter and the Half-Blood Prince\", \"Author(s)\": \"J. K. Rowling\", \"Original language\": \"English\", \"First published\": 2005, \"Approximate sales in millions\": 65.0, \"Genre\": \"Fantasy\"}, {\"Book\": \"Harry Potter and the Deathly Hallows\", \"Author(s)\": \"J. K. Rowling\", \"Original language\": \"English\", \"First published\": 2007, \"Approximate sales in millions\": 65.0, \"Genre\": \"Fantasy\"}, {\"Book\": \"The Alchemist (O Alquimista)\", \"Author(s)\": \"Paulo Coelho\", \"Original language\": \"Portuguese\", \"First published\": 1988, \"Approximate sales in millions\": 65.0, \"Genre\": \"Fantasy\"}, {\"Book\": \"The Catcher in the Rye\", \"Author(s)\": \"J. D. Salinger\", \"Original language\": \"English\", \"First published\": 1951, \"Approximate sales in millions\": 65.0, \"Genre\": \"Coming-of-age\"}, {\"Book\": \"The Bridges of Madison County\", \"Author(s)\": \"Robert James Waller\", \"Original language\": \"English\", \"First published\": 1992, \"Approximate sales in millions\": 60.0, \"Genre\": \"Romance\"}, {\"Book\": \"Ben-Hur: A Tale of the Christ\", \"Author(s)\": \"Lew Wallace\", \"Original language\": \"English\", \"First published\": 1880, \"Approximate sales in millions\": 50.0, \"Genre\": \"Historical fiction\"}, {\"Book\": \"You Can Heal Your Life\", \"Author(s)\": \"Louise Hay\", \"Original language\": \"English\", \"First published\": 1984, \"Approximate sales in millions\": 50.0, \"Genre\": \"Self-help\"}, {\"Book\": \"One Hundred Years of Solitude (Cien a\\u00f1os de soledad)\", \"Author(s)\": \"Gabriel Garc\\u00eda M\\u00e1rquez\", \"Original language\": \"Spanish\", \"First published\": 1967, \"Approximate sales in millions\": 50.0, \"Genre\": \"Magic realism\"}, {\"Book\": \"Lolita\", \"Author(s)\": \"Vladimir Nabokov\", \"Original language\": \"English\", \"First published\": 1955, \"Approximate sales in millions\": 50.0, \"Genre\": \"Novel\"}, {\"Book\": \"Heidi\", \"Author(s)\": \"Johanna Spyri\", \"Original language\": \"German\", \"First published\": 1880, \"Approximate sales in millions\": 50.0, \"Genre\": \"Children's fiction\"}, {\"Book\": \"The Common Sense Book of Baby and Child Care\", \"Author(s)\": \"Benjamin Spock\", \"Original language\": \"English\", \"First published\": 1946, \"Approximate sales in millions\": 50.0, \"Genre\": \"Manual\"}, {\"Book\": \"Anne of Green Gables\", \"Author(s)\": \"Lucy Maud Montgomery\", \"Original language\": \"English\", \"First published\": 1908, \"Approximate sales in millions\": 50.0, \"Genre\": \"Children's novel\"}, {\"Book\": \"Black Beauty\", \"Author(s)\": \"Anna Sewell\", \"Original language\": \"English\", \"First published\": 1877, \"Approximate sales in millions\": 50.0, \"Genre\": \"Children's literature\"}, {\"Book\": \"The Name of the Rose (Il Nome della Rosa)\", \"Author(s)\": \"Umberto Eco\", \"Original language\": \"Italian\", \"First published\": 1980, \"Approximate sales in millions\": 50.0, \"Genre\": \"Historical novel, mystery\"}, {\"Book\": \"The Eagle Has Landed\", \"Author(s)\": \"Jack Higgins\", \"Original language\": \"English\", \"First published\": 1975, \"Approximate sales in millions\": 50.0, \"Genre\": \"War, thriller\"}, {\"Book\": \"Watership Down\", \"Author(s)\": \"Richard Adams\", \"Original language\": \"English\", \"First published\": 1972, \"Approximate sales in millions\": 50.0, \"Genre\": \"Fantasy\"}, {\"Book\": \"The Hite Report\", \"Author(s)\": \"Shere Hite\", \"Original language\": \"English\", \"First published\": 1976, \"Approximate sales in millions\": 50.0, \"Genre\": \"Sexology\"}, {\"Book\": \"Charlotte's Web\", \"Author(s)\": \"E. B. White; illustrated by Garth Williams\", \"Original language\": \"English\", \"First published\": 1952, \"Approximate sales in millions\": 50.0, \"Genre\": \"Children's fiction\"}, {\"Book\": \"The Ginger Man\", \"Author(s)\": \"J. P. Donleavy\", \"Original language\": \"English\", \"First published\": 1955, \"Approximate sales in millions\": 50.0, \"Genre\": \"Novel\"}, {\"Book\": \"The Tale of Peter Rabbit\", \"Author(s)\": \"Beatrix Potter\", \"Original language\": \"English\", \"First published\": 1902, \"Approximate sales in millions\": 45.0, \"Genre\": \"Children's Literature\"}, {\"Book\": \"Jonathan Livingston Seagull\", \"Author(s)\": \"Richard Bach\", \"Original language\": \"English\", \"First published\": 1970, \"Approximate sales in millions\": 44.0, \"Genre\": \"Novella, Self-help\"}, {\"Book\": \"The Very Hungry Caterpillar\", \"Author(s)\": \"Eric Carle\", \"Original language\": \"English\", \"First published\": 1969, \"Approximate sales in millions\": 43.0, \"Genre\": \"Children's Literature, picture book\"}, {\"Book\": \"A Message to Garcia\", \"Author(s)\": \"Elbert Hubbard\", \"Original language\": \"English\", \"First published\": 1899, \"Approximate sales in millions\": 40.0, \"Genre\": \"Essay/Literature\"}, {\"Book\": \"To Kill a Mockingbird\", \"Author(s)\": \"Harper Lee\", \"Original language\": \"English\", \"First published\": 1960, \"Approximate sales in millions\": 40.0, \"Genre\": \"Southern Gothic, Bildungsroman\"}, {\"Book\": \"Flowers in the Attic\", \"Author(s)\": \"V. C. Andrews\", \"Original language\": \"English\", \"First published\": 1979, \"Approximate sales in millions\": 40.0, \"Genre\": \"Gothic horror, Family saga\"}, {\"Book\": \"Cosmos\", \"Author(s)\": \"Carl Sagan\", \"Original language\": \"English\", \"First published\": 1980, \"Approximate sales in millions\": 40.0, \"Genre\": \"Popular science, Anthropology, Astrophysics, Cosmology, Philosophy, History\"}, {\"Book\": \"Sophie's World (Sofies verden)\", \"Author(s)\": \"Jostein Gaarder\", \"Original language\": \"Norwegian\", \"First published\": 1991, \"Approximate sales in millions\": 40.0, \"Genre\": \"Philosophical novel, Young adult\"}, {\"Book\": \"Angels & Demons\", \"Author(s)\": \"Dan Brown\", \"Original language\": \"English\", \"First published\": 2000, \"Approximate sales in millions\": 39.0, \"Genre\": \"Mystery-thriller\"}, {\"Book\": \"Kane and Abel\", \"Author(s)\": \"Jeffrey Archer\", \"Original language\": \"English\", \"First published\": 1979, \"Approximate sales in millions\": 37.0, \"Genre\": \"Novel\"}, {\"Book\": \"How the Steel Was Tempered (\\u041a\\u0430\\u043a \\u0437\\u0430\\u043a\\u0430\\u043b\\u044f\\u043b\\u0430\\u0441\\u044c \\u0441\\u0442\\u0430\\u043b\\u044c)\", \"Author(s)\": \"Nikolai Ostrovsky\", \"Original language\": \"Russian\", \"First published\": 1932, \"Approximate sales in millions\": 36.4, \"Genre\": \"Socialist realist novel\"}, {\"Book\": \"War and Peace (\\u0412\\u043e\\u0439\\u043d\\u0430 \\u0438 \\u043c\\u0438\\u0440)\", \"Author(s)\": \"Leo Tolstoy\", \"Original language\": \"Russian\", \"First published\": 1869, \"Approximate sales in millions\": 36.0, \"Genre\": \"Historical novel\"}, {\"Book\": \"The Adventures of Pinocchio (Le avventure di Pinocchio)\", \"Author(s)\": \"Carlo Collodi\", \"Original language\": \"Italian\", \"First published\": 1881, \"Approximate sales in millions\": 35.0, \"Genre\": \"Fantasy, Children's fiction\"}, {\"Book\": \"The Diary of Anne Frank (Het Achterhuis)\", \"Author(s)\": \"Anne Frank\", \"Original language\": \"Dutch\", \"First published\": 1947, \"Approximate sales in millions\": 35.0, \"Genre\": \"Historical non-fiction, Autobiography, Memoir, Bildungsroman / Coming of Age, Jewish literature\"}, {\"Book\": \"Your Erroneous Zones\", \"Author(s)\": \"Wayne Dyer\", \"Original language\": \"English\", \"First published\": 1976, \"Approximate sales in millions\": 35.0, \"Genre\": \"Self-help\"}, {\"Book\": \"The Thorn Birds\", \"Author(s)\": \"Colleen McCullough\", \"Original language\": \"English\", \"First published\": 1977, \"Approximate sales in millions\": 33.0, \"Genre\": \"Romantic family saga\"}, {\"Book\": \"The Purpose Driven Life\", \"Author(s)\": \"Rick Warren\", \"Original language\": \"English\", \"First published\": 2002, \"Approximate sales in millions\": 33.0, \"Genre\": \"Christian literature\"}, {\"Book\": \"The Kite Runner\", \"Author(s)\": \"Khaled Hosseini\", \"Original language\": \"English\", \"First published\": 2003, \"Approximate sales in millions\": 31.5, \"Genre\": \"Bildungsroman, Historical fiction\"}, {\"Book\": \"Valley of the Dolls\", \"Author(s)\": \"Jacqueline Susann\", \"Original language\": \"English\", \"First published\": 1966, \"Approximate sales in millions\": 31.0, \"Genre\": \"Novel\"}, {\"Book\": \"Alcoholics Anonymous Big Book\", \"Author(s)\": \"Bill Wilson\", \"Original language\": \"English\", \"First published\": 1939, \"Approximate sales in millions\": 30.0, \"Genre\": \"Self-help\"}, {\"Book\": \"How to Win Friends and Influence People\", \"Author(s)\": \"Dale Carnegie\", \"Original language\": \"English\", \"First published\": 1936, \"Approximate sales in millions\": 30.0, \"Genre\": \"Self-help\"}, {\"Book\": \"The Great Gatsby\", \"Author(s)\": \"F. Scott Fitzgerald\", \"Original language\": \"English\", \"First published\": 1925, \"Approximate sales in millions\": 30.0, \"Genre\": \"Novel, tragedy\"}, {\"Book\": \"Gone with the Wind\", \"Author(s)\": \"Margaret Mitchell\", \"Original language\": \"English\", \"First published\": 1936, \"Approximate sales in millions\": 30.0, \"Genre\": \"Historical fiction\"}, {\"Book\": \"Rebecca\", \"Author(s)\": \"Daphne du Maurier\", \"Original language\": \"English\", \"First published\": 1938, \"Approximate sales in millions\": 30.0, \"Genre\": \"Gothic novel\"}, {\"Book\": \"Nineteen Eighty-Four\", \"Author(s)\": \"George Orwell\", \"Original language\": \"English\", \"First published\": 1949, \"Approximate sales in millions\": 30.0, \"Genre\": \"Dystopian, political fiction, social science fiction\"}, {\"Book\": \"The Revolt of Mamie Stover\", \"Author(s)\": \"William Bradford Huie\", \"Original language\": \"English\", \"First published\": 1951, \"Approximate sales in millions\": 30.0, \"Genre\": \"Fiction\"}, {\"Book\": \"The Girl with the Dragon Tattoo (M\\u00e4n som hatar kvinnor)\", \"Author(s)\": \"Stieg Larsson\", \"Original language\": \"Swedish\", \"First published\": 2005, \"Approximate sales in millions\": 30.0, \"Genre\": \"Fiction\"}, {\"Book\": \"The Lost Symbol\", \"Author(s)\": \"Dan Brown\", \"Original language\": \"English\", \"First published\": 2009, \"Approximate sales in millions\": 30.0, \"Genre\": \"Fiction\"}, {\"Book\": \"The Hunger Games\", \"Author(s)\": \"Suzanne Collins\", \"Original language\": \"English\", \"First published\": 2008, \"Approximate sales in millions\": 29.0, \"Genre\": \"Young adult fiction\"}, {\"Book\": \"James and the Giant Peach\", \"Author(s)\": \"Roald Dahl\", \"Original language\": \"English\", \"First published\": 1961, \"Approximate sales in millions\": 28.0, \"Genre\": \"Children's novel\"}, {\"Book\": \"The Young Guard (\\u041c\\u043e\\u043b\\u043e\\u0434\\u0430\\u044f \\u0433\\u0432\\u0430\\u0440\\u0434\\u0438\\u044f)\", \"Author(s)\": \"Alexander Alexandrovich Fadeyev\", \"Original language\": \"Russian\", \"First published\": 1945, \"Approximate sales in millions\": 26.0, \"Genre\": \"Young adult historical novel\"}, {\"Book\": \"Who Moved My Cheese?\", \"Author(s)\": \"Spencer Johnson\", \"Original language\": \"English\", \"First published\": 1998, \"Approximate sales in millions\": 29.0, \"Genre\": \"Self-help, motivational, business fable, psychology, leadership, parable\"}, {\"Book\": \"A Brief History of Time\", \"Author(s)\": \"Stephen Hawking\", \"Original language\": \"English\", \"First published\": 1988, \"Approximate sales in millions\": 25.0, \"Genre\": \"Popular science\"}, {\"Book\": \"Paul et Virginie\", \"Author(s)\": \"Jacques-Henri Bernardin de Saint-Pierre\", \"Original language\": \"French\", \"First published\": 1788, \"Approximate sales in millions\": 25.0, \"Genre\": \"Novel\"}, {\"Book\": \"Lust for Life\", \"Author(s)\": \"Irving Stone\", \"Original language\": \"English\", \"First published\": 1934, \"Approximate sales in millions\": 25.0, \"Genre\": \"Biographical novel\"}, {\"Book\": \"The Wind in the Willows\", \"Author(s)\": \"Kenneth Grahame\", \"Original language\": \"English\", \"First published\": 1908, \"Approximate sales in millions\": 25.0, \"Genre\": \"Children's literature\"}, {\"Book\": \"The 7 Habits of Highly Effective People\", \"Author(s)\": \"Stephen R. Covey\", \"Original language\": \"English\", \"First published\": 1989, \"Approximate sales in millions\": 25.0, \"Genre\": \"Self-help\"}, {\"Book\": \"Virgin Soil Upturned (\\u041f\\u043e\\u0434\\u043d\\u044f\\u0442\\u0430\\u044f \\u0446\\u0435\\u043b\\u0438\\u043d\\u0430)\", \"Author(s)\": \"Mikhail Sholokhov\", \"Original language\": \"Russian\", \"First published\": 1935, \"Approximate sales in millions\": 24.0, \"Genre\": \"Novel\"}, {\"Book\": \"The Celestine Prophecy\", \"Author(s)\": \"James Redfield\", \"Original language\": \"English\", \"First published\": 1993, \"Approximate sales in millions\": 23.0, \"Genre\": \"New-age spiritual novel\"}, {\"Book\": \"The Fault in Our Stars\", \"Author(s)\": \"John Green\", \"Original language\": \"English\", \"First published\": 2012, \"Approximate sales in millions\": 23.0, \"Genre\": \"Young adult romantic novel\"}, {\"Book\": \"The Girl on the Train\", \"Author(s)\": \"Paula Hawkins\", \"Original language\": \"English\", \"First published\": 2015, \"Approximate sales in millions\": 23.0, \"Genre\": \"Thriller\"}, {\"Book\": \"The Shack\", \"Author(s)\": \"William P. Young\", \"Original language\": \"English\", \"First published\": 2007, \"Approximate sales in millions\": 22.5, \"Genre\": \"Novel\"}, {\"Book\": \"Uncle Styopa (\\u0414\\u044f\\u0434\\u044f \\u0421\\u0442\\u0451\\u043f\\u0430)\", \"Author(s)\": \"Sergey Mikhalkov\", \"Original language\": \"Russian\", \"First published\": 1936, \"Approximate sales in millions\": 21.0, \"Genre\": \"Children's Literature, picture book\"}, {\"Book\": \"The Godfather\", \"Author(s)\": \"Mario Puzo\", \"Original language\": \"English\", \"First published\": 1969, \"Approximate sales in millions\": 21.0, \"Genre\": \"Crime novel\"}, {\"Book\": \"Love Story\", \"Author(s)\": \"Erich Segal\", \"Original language\": \"English\", \"First published\": 1970, \"Approximate sales in millions\": 21.0, \"Genre\": \"Romance novel\"}, {\"Book\": \"Catching Fire\", \"Author(s)\": \"Suzanne Collins\", \"Original language\": \"English\", \"First published\": 2009, \"Approximate sales in millions\": 21.0, \"Genre\": \"Young Adult novel, adventure, dystopian, science fiction\"}, {\"Book\": \"Mockingjay\", \"Author(s)\": \"Suzanne Collins\", \"Original language\": \"English\", \"First published\": 2010, \"Approximate sales in millions\": 20.0, \"Genre\": \"Young Adult novel, adventure, war, science fiction, action thriller\"}, {\"Book\": \"Kitchen (\\u30ad\\u30c3\\u30c1\\u30f3)\", \"Author(s)\": \"Banana Yoshimoto\", \"Original language\": \"Japanese\", \"First published\": 1988, \"Approximate sales in millions\": 20.0, \"Genre\": \"Japanese novel\"}, {\"Book\": \"Andromeda Nebula (\\u0422\\u0443\\u043c\\u0430\\u043d\\u043d\\u043e\\u0441\\u0442\\u044c \\u0410\\u043d\\u0434\\u0440\\u043e\\u043c\\u0435\\u0434\\u044b)\", \"Author(s)\": \"Ivan Yefremov\", \"Original language\": \"Russian\", \"First published\": 1957, \"Approximate sales in millions\": 20.0, \"Genre\": \"Science fiction novel\"}, {\"Book\": \"Autobiography of a Yogi (\\u092f\\u094b\\u0917\\u0940 \\u0915\\u0925\\u093e\\u092e\\u0943\\u0924)\", \"Author(s)\": \"Paramahansa Yogananda\", \"Original language\": \"Hindi\", \"First published\": 1946, \"Approximate sales in millions\": 20.0, \"Genre\": \"Autobiography\"}, {\"Book\": \"Gone Girl\", \"Author(s)\": \"Gillian Flynn\", \"Original language\": \"English\", \"First published\": 2012, \"Approximate sales in millions\": 20.0, \"Genre\": \"Crime thriller novel\"}, {\"Book\": \"All Quiet on the Western Front (Im Westen nichts Neues)\", \"Author(s)\": \"Erich Maria Remarque\", \"Original language\": \"German\", \"First published\": 1929, \"Approximate sales in millions\": 20.0, \"Genre\": \"War novel\"}, {\"Book\": \"The Bermuda Triangle\", \"Author(s)\": \"Charles Berlitz\", \"Original language\": \"English\", \"First published\": 1974, \"Approximate sales in millions\": 20.0, \"Genre\": null}, {\"Book\": \"Things Fall Apart \", \"Author(s)\": \"Chinua Achebe\", \"Original language\": \"English\", \"First published\": 1958, \"Approximate sales in millions\": 20.0, \"Genre\": \"Novel\"}, {\"Book\": \"Animal Farm \", \"Author(s)\": \"George Orwell\", \"Original language\": \"English\", \"First published\": 1945, \"Approximate sales in millions\": 20.0, \"Genre\": \"Satirical allegorical novella, Political satire, Dystopian Fiction, Roman \\u00e0 clef\"}, {\"Book\": \"Wolf Totem (\\u72fc\\u56fe\\u817e)\", \"Author(s)\": \"Jiang Rong\", \"Original language\": \"Chinese\", \"First published\": 2004, \"Approximate sales in millions\": 20.0, \"Genre\": \"Semi-autobiographical novel\"}, {\"Book\": \"The Happy Hooker: My Own Story\", \"Author(s)\": \"Xaviera Hollander\", \"Original language\": \"English\", \"First published\": 1971, \"Approximate sales in millions\": 20.0, \"Genre\": \"Memoir\"}, {\"Book\": \"Jaws\", \"Author(s)\": \"Peter Benchley\", \"Original language\": \"English\", \"First published\": 1974, \"Approximate sales in millions\": 20.0, \"Genre\": \"Thriller\"}, {\"Book\": \"Love You Forever\", \"Author(s)\": \"Robert Munsch\", \"Original language\": \"English\", \"First published\": 1986, \"Approximate sales in millions\": 20.0, \"Genre\": \"Children's literature, picture book, fiction\"}, {\"Book\": \"The Women's Room\", \"Author(s)\": \"Marilyn French\", \"Original language\": \"English\", \"First published\": 1977, \"Approximate sales in millions\": 20.0, \"Genre\": \"Feminist novel\"}, {\"Book\": \"What to Expect When You're Expecting\", \"Author(s)\": \"Arlene Eisenberg and Heidi Murkoff\", \"Original language\": \"English\", \"First published\": 1984, \"Approximate sales in millions\": 20.0, \"Genre\": \"Pregnancy guide\"}, {\"Book\": \"Adventures of Huckleberry Finn\", \"Author(s)\": \"Mark Twain\", \"Original language\": \"English\", \"First published\": 1885, \"Approximate sales in millions\": 20.0, \"Genre\": \"Picaresque novel, Bildungsroman, satire, Robinsonade\"}, {\"Book\": \"The Secret Diary of Adrian Mole, Aged 13\\u00be\", \"Author(s)\": \"Sue Townsend\", \"Original language\": \"English\", \"First published\": 1982, \"Approximate sales in millions\": 20.0, \"Genre\": \"Young adult novel\"}, {\"Book\": \"Pride and Prejudice\", \"Author(s)\": \"Jane Austen\", \"Original language\": \"English\", \"First published\": 1813, \"Approximate sales in millions\": 20.0, \"Genre\": \"Classic regency novel, romance\"}, {\"Book\": \"Kon-Tiki: Across the Pacific in a Raft (Kon-Tiki ekspedisjonen)\", \"Author(s)\": \"Thor Heyerdahl\", \"Original language\": \"Norwegian\", \"First published\": 1950, \"Approximate sales in millions\": 20.0, \"Genre\": \"Travel literature\"}, {\"Book\": \"The Good Soldier \\u0160vejk (Osudy dobr\\u00e9ho voj\\u00e1ka \\u0160vejka za sv\\u011btov\\u00e9 v\\u00e1lky)\", \"Author(s)\": \"Jaroslav Ha\\u0161ek\", \"Original language\": \"Czech\", \"First published\": 1923, \"Approximate sales in millions\": 20.0, \"Genre\": \"Unfinished satirical dark comedy novel\"}, {\"Book\": \"Where the Wild Things Are\", \"Author(s)\": \"Maurice Sendak\", \"Original language\": \"English\", \"First published\": 1963, \"Approximate sales in millions\": 20.0, \"Genre\": \"Children's picture book\"}, {\"Book\": \"The Power of Positive Thinking\", \"Author(s)\": \"Norman Vincent Peale\", \"Original language\": \"English\", \"First published\": 1952, \"Approximate sales in millions\": 20.0, \"Genre\": \"Self-help\"}, {\"Book\": \"The Secret\", \"Author(s)\": \"Rhonda Byrne\", \"Original language\": \"English\", \"First published\": 2006, \"Approximate sales in millions\": 20.0, \"Genre\": \"Self-help\"}, {\"Book\": \"Fear of Flying\", \"Author(s)\": \"Erica Jong\", \"Original language\": \"English\", \"First published\": 1973, \"Approximate sales in millions\": 20.0, \"Genre\": \"Romantic novel\"}, {\"Book\": \"Dune\", \"Author(s)\": \"Frank Herbert\", \"Original language\": \"English\", \"First published\": 1965, \"Approximate sales in millions\": 20.0, \"Genre\": \"Science fiction novel\"}, {\"Book\": \"Charlie and the Chocolate Factory\", \"Author(s)\": \"Roald Dahl\", \"Original language\": \"English\", \"First published\": 1964, \"Approximate sales in millions\": 20.0, \"Genre\": \"Children's fantasy novel\"}, {\"Book\": \"The Naked Ape\", \"Author(s)\": \"Desmond Morris\", \"Original language\": \"English\", \"First published\": 1968, \"Approximate sales in millions\": 20.0, \"Genre\": \"Social Science, Anthropology, Psychology\"}, {\"Book\": \"Where the Crawdads Sing\", \"Author(s)\": \"Delia Owens\", \"Original language\": \"English\", \"First published\": 2018, \"Approximate sales in millions\": 18.0, \"Genre\": \"Coming-of-age Murder mystery\"}, {\"Book\": \"Totto-chan, the Little Girl at the Window (\\u7a93\\u304e\\u308f\\u306e\\u30c8\\u30c3\\u30c8\\u3061\\u3083\\u3093)\", \"Author(s)\": \"Tetsuko Kuroyanagi\", \"Original language\": \"Japanese\", \"First published\": 1981, \"Approximate sales in millions\": 18.0, \"Genre\": \"Autobiographical novel\"}, {\"Book\": \"Matilda\", \"Author(s)\": \"Roald Dahl\", \"Original language\": \"English\", \"First published\": 1988, \"Approximate sales in millions\": 17.0, \"Genre\": \"Children's Literature\"}, {\"Book\": \"The Book Thief\", \"Author(s)\": \"Markus Zusak\", \"Original language\": \"English\", \"First published\": 2005, \"Approximate sales in millions\": 16.0, \"Genre\": \"Young Adult Fiction\"}, {\"Book\": \"The Horse Whisperer\", \"Author(s)\": \"Nicholas Evans\", \"Original language\": \"English\", \"First published\": 1995, \"Approximate sales in millions\": 16.0, \"Genre\": null}, {\"Book\": \"Goodnight Moon\", \"Author(s)\": \"Margaret Wise Brown\", \"Original language\": \"English\", \"First published\": 1947, \"Approximate sales in millions\": 16.0, \"Genre\": \"Children's Literature\"}, {\"Book\": \"The Neverending Story (Die unendliche Geschichte)\", \"Author(s)\": \"Michael Ende\", \"Original language\": \"German\", \"First published\": 1979, \"Approximate sales in millions\": 16.0, \"Genre\": \"Children's Literature\"}, {\"Book\": \"All the Light We Cannot See\", \"Author(s)\": \"Anthony Doerr\", \"Original language\": \"English\", \"First published\": 2014, \"Approximate sales in millions\": 15.3, \"Genre\": \"Historical fiction, war novel\"}, {\"Book\": \"Fifty Shades of Grey\", \"Author(s)\": \"E. L. James\", \"Original language\": \"English\", \"First published\": 2011, \"Approximate sales in millions\": 15.2, \"Genre\": \"Erotica\"}, {\"Book\": \"The Outsiders\", \"Author(s)\": \"S. E. Hinton\", \"Original language\": \"English\", \"First published\": 1967, \"Approximate sales in millions\": 15.0, \"Genre\": null}, {\"Book\": \"Guess How Much I Love You\", \"Author(s)\": \"Sam McBratney\", \"Original language\": \"English\", \"First published\": 1994, \"Approximate sales in millions\": 15.0, \"Genre\": null}, {\"Book\": \"Sh\\u014dgun\", \"Author(s)\": \"James Clavell\", \"Original language\": \"English\", \"First published\": 1975, \"Approximate sales in millions\": 15.0, \"Genre\": null}, {\"Book\": \"The Poky Little Puppy\", \"Author(s)\": \"Janette Sebring Lowrey\", \"Original language\": \"English\", \"First published\": 1942, \"Approximate sales in millions\": 15.0, \"Genre\": null}, {\"Book\": \"The Pillars of the Earth\", \"Author(s)\": \"Ken Follett\", \"Original language\": \"English\", \"First published\": 1989, \"Approximate sales in millions\": 15.0, \"Genre\": \"Historical fiction\"}, {\"Book\": \"Perfume (Das Parfum)\", \"Author(s)\": \"Patrick S\\u00fcskind\", \"Original language\": \"German\", \"First published\": 1985, \"Approximate sales in millions\": 15.0, \"Genre\": null}, {\"Book\": \"The Grapes of Wrath\", \"Author(s)\": \"John Steinbeck\", \"Original language\": \"English\", \"First published\": 1939, \"Approximate sales in millions\": 15.0, \"Genre\": null}, {\"Book\": \"The Shadow of the Wind (La sombra del viento)\", \"Author(s)\": \"Carlos Ruiz Zaf\\u00f3n\", \"Original language\": \"Spanish\", \"First published\": 2001, \"Approximate sales in millions\": 15.0, \"Genre\": null}, {\"Book\": \"Interpreter of Maladies\", \"Author(s)\": \"Jhumpa Lahiri\", \"Original language\": \"English\", \"First published\": 2000, \"Approximate sales in millions\": 15.0, \"Genre\": null}, {\"Book\": \"Becoming\", \"Author(s)\": \"Michelle Obama\", \"Original language\": \"English\", \"First published\": 2018, \"Approximate sales in millions\": 14.0, \"Genre\": null}, {\"Book\": \"The Hitchhiker's Guide to the Galaxy\", \"Author(s)\": \"Douglas Adams\", \"Original language\": \"English\", \"First published\": 1979, \"Approximate sales in millions\": 14.0, \"Genre\": \"Science fiction\"}, {\"Book\": \"Tuesdays with Morrie\", \"Author(s)\": \"Mitch Albom\", \"Original language\": \"English\", \"First published\": 1997, \"Approximate sales in millions\": 14.0, \"Genre\": null}, {\"Book\": \"God's Little Acre\", \"Author(s)\": \"Erskine Caldwell\", \"Original language\": \"English\", \"First published\": 1933, \"Approximate sales in millions\": 14.0, \"Genre\": null}, {\"Book\": \"Follow Your Heart (Va' dove ti porta il cuore)\", \"Author(s)\": \"Susanna Tamaro\", \"Original language\": \"Italian\", \"First published\": 1994, \"Approximate sales in millions\": 14.0, \"Genre\": null}, {\"Book\": \"A Wrinkle in Time\", \"Author(s)\": \"Madeleine L'Engle\", \"Original language\": \"English\", \"First published\": 1962, \"Approximate sales in millions\": 14.0, \"Genre\": null}, {\"Book\": \"Long Walk to Freedom\", \"Author(s)\": \"Nelson Mandela\", \"Original language\": \"English\", \"First published\": 1994, \"Approximate sales in millions\": 14.0, \"Genre\": null}, {\"Book\": \"The Old Man and the Sea\", \"Author(s)\": \"Ernest Hemingway\", \"Original language\": \"English\", \"First published\": 1952, \"Approximate sales in millions\": 13.0, \"Genre\": null}, {\"Book\": \"Life After Life\", \"Author(s)\": \"Raymond Moody\", \"Original language\": \"English\", \"First published\": 1975, \"Approximate sales in millions\": 13.0, \"Genre\": null}, {\"Book\": \"Peyton Place \", \"Author(s)\": \"Grace Metalious\", \"Original language\": \"English\", \"First published\": 1956, \"Approximate sales in millions\": 12.1, \"Genre\": null}, {\"Book\": \"The Giver\", \"Author(s)\": \"Lois Lowry\", \"Original language\": \"English\", \"First published\": 1993, \"Approximate sales in millions\": 12.0, \"Genre\": \"Dystopian fiction\"}, {\"Book\": \"Me Before You\", \"Author(s)\": \"Jojo Moyes\", \"Original language\": \"English\", \"First published\": 2012, \"Approximate sales in millions\": 12.0, \"Genre\": null}, {\"Book\": \"Norwegian Wood (\\u30ce\\u30eb\\u30a6\\u30a7\\u30a4\\u306e\\u68ee)\", \"Author(s)\": \"Haruki Murakami\", \"Original language\": \"Japanese\", \"First published\": 1987, \"Approximate sales in millions\": 12.0, \"Genre\": null}, {\"Book\": \"The Plague (La Peste)\", \"Author(s)\": \"Albert Camus\", \"Original language\": \"French\", \"First published\": 1947, \"Approximate sales in millions\": 12.0, \"Genre\": null}, {\"Book\": \"No Longer Human (\\u4eba\\u9593\\u5931\\u683c)\", \"Author(s)\": \"Osamu Dazai\", \"Original language\": \"Japanese\", \"First published\": 1948, \"Approximate sales in millions\": 12.0, \"Genre\": null}, {\"Book\": \"Man's Search for Meaning (Ein Psychologe erlebt das Konzentrationslager)\", \"Author(s)\": \"Viktor Frankl\", \"Original language\": \"German\", \"First published\": 1946, \"Approximate sales in millions\": 12.0, \"Genre\": null}, {\"Book\": \"The Divine Comedy (La Divina Commedia)\", \"Author(s)\": \"Dante Alighieri\", \"Original language\": \"Italian\", \"First published\": 1304, \"Approximate sales in millions\": 11.5, \"Genre\": null}, {\"Book\": \"The Prophet\", \"Author(s)\": \"Kahlil Gibran\", \"Original language\": \"English\", \"First published\": 1923, \"Approximate sales in millions\": 11.0, \"Genre\": null}, {\"Book\": \"The Boy in the Striped Pyjamas\", \"Author(s)\": \"John Boyne\", \"Original language\": \"English\", \"First published\": 2006, \"Approximate sales in millions\": 11.0, \"Genre\": null}, {\"Book\": \"The Exorcist\", \"Author(s)\": \"William Peter Blatty\", \"Original language\": \"English\", \"First published\": 1971, \"Approximate sales in millions\": 11.0, \"Genre\": \"Horror\"}, {\"Book\": \"The Gruffalo\", \"Author(s)\": \"Julia Donaldson\", \"Original language\": \"English\", \"First published\": 1999, \"Approximate sales in millions\": 10.5, \"Genre\": null}, {\"Book\": \"Fifty Shades Darker\", \"Author(s)\": \"E. L. James\", \"Original language\": \"English\", \"First published\": 2012, \"Approximate sales in millions\": 10.4, \"Genre\": \"Erotica\"}, {\"Book\": \"Tobacco Road\", \"Author(s)\": \"Erskine Caldwell\", \"Original language\": \"English\", \"First published\": 1932, \"Approximate sales in millions\": 10.0, \"Genre\": null}, {\"Book\": \"Ronia, the Robber's Daughter\", \"Author(s)\": \"Astrid Lindgren\", \"Original language\": \"Swedish\", \"First published\": 1981, \"Approximate sales in millions\": 10.0, \"Genre\": null}, {\"Book\": \"The Cat in the Hat\", \"Author(s)\": \"Dr. Seuss\", \"Original language\": \"English\", \"First published\": 1957, \"Approximate sales in millions\": 10.5, \"Genre\": null}, {\"Book\": \"Diana: Her True Story\", \"Author(s)\": \"Andrew Morton\", \"Original language\": \"English\", \"First published\": 1992, \"Approximate sales in millions\": 10.0, \"Genre\": null}, {\"Book\": \"The Help\", \"Author(s)\": \"Kathryn Stockett\", \"Original language\": \"English\", \"First published\": 2009, \"Approximate sales in millions\": 10.0, \"Genre\": null}, {\"Book\": \"Catch-22\", \"Author(s)\": \"Joseph Heller\", \"Original language\": \"English\", \"First published\": 1961, \"Approximate sales in millions\": 10.0, \"Genre\": null}, {\"Book\": \"The Stranger (L'\\u00c9tranger)\", \"Author(s)\": \"Albert Camus\", \"Original language\": \"French\", \"First published\": 1942, \"Approximate sales in millions\": 10.0, \"Genre\": null}, {\"Book\": \"Eye of the Needle\", \"Author(s)\": \"Ken Follett\", \"Original language\": \"English\", \"First published\": 1978, \"Approximate sales in millions\": 10.0, \"Genre\": null}, {\"Book\": \"The Lovely Bones\", \"Author(s)\": \"Alice Sebold\", \"Original language\": \"English\", \"First published\": 2002, \"Approximate sales in millions\": 10.0, \"Genre\": null}, {\"Book\": \"Wild Swans\", \"Author(s)\": \"Jung Chang\", \"Original language\": \"English\", \"First published\": 1992, \"Approximate sales in millions\": 10.0, \"Genre\": null}, {\"Book\": \"Santa Evita\", \"Author(s)\": \"Tom\\u00e1s Eloy Mart\\u00ednez\", \"Original language\": \"Spanish\", \"First published\": 1995, \"Approximate sales in millions\": 10.0, \"Genre\": null}, {\"Book\": \"Night (Un di Velt Hot Geshvign)\", \"Author(s)\": \"Elie Wiesel\", \"Original language\": \"Yiddish\", \"First published\": 1958, \"Approximate sales in millions\": 10.0, \"Genre\": null}, {\"Book\": \"Confucius from the Heart (\\u4e8e\\u4e39\\u300a\\u8bba\\u8bed\\u300b\\u5fc3\\u5f97)\", \"Author(s)\": \"Yu Dan\", \"Original language\": \"Chinese\", \"First published\": 2006, \"Approximate sales in millions\": 10.0, \"Genre\": null}, {\"Book\": \"The Total Woman\", \"Author(s)\": \"Marabel Morgan\", \"Original language\": \"English\", \"First published\": 1974, \"Approximate sales in millions\": 10.0, \"Genre\": null}, {\"Book\": \"Knowledge-value Revolution (\\u77e5\\u4fa1\\u9769\\u547d)\", \"Author(s)\": \"Taichi Sakaiya\", \"Original language\": \"Japanese\", \"First published\": 1985, \"Approximate sales in millions\": 10.0, \"Genre\": null}, {\"Book\": \"Problems in China's Socialist Economy (\\u4e2d\\u56fd\\u793e\\u4f1a\\u4e3b\\u4e49\\u7ecf\\u6d4e\\u95ee\\u9898\\u7814\\u7a76)\", \"Author(s)\": \"Xue Muqiao\", \"Original language\": \"Chinese\", \"First published\": 1979, \"Approximate sales in millions\": 10.0, \"Genre\": null}, {\"Book\": \"What Color Is Your Parachute?\", \"Author(s)\": \"Richard Nelson Bolles\", \"Original language\": \"English\", \"First published\": 1970, \"Approximate sales in millions\": 10.0, \"Genre\": null}, {\"Book\": \"The Dukan Diet\", \"Author(s)\": \"Pierre Dukan\", \"Original language\": \"French\", \"First published\": 2000, \"Approximate sales in millions\": 10.0, \"Genre\": null}, {\"Book\": \"The Joy of Sex\", \"Author(s)\": \"Alex Comfort\", \"Original language\": \"English\", \"First published\": 1972, \"Approximate sales in millions\": 10.0, \"Genre\": null}, {\"Book\": \"The Gospel According to Peanuts\", \"Author(s)\": \"Robert L. Short\", \"Original language\": \"English\", \"First published\": 1965, \"Approximate sales in millions\": 10.0, \"Genre\": null}, {\"Book\": \"The Subtle Art of Not Giving a Fuck\", \"Author(s)\": \"Mark Manson\", \"Original language\": \"English\", \"First published\": 2016, \"Approximate sales in millions\": 10.0, \"Genre\": null}, {\"Book\": \"Life of Pi\", \"Author(s)\": \"Yann Martel\", \"Original language\": \"English\", \"First published\": 2001, \"Approximate sales in millions\": 10.0, \"Genre\": null}, {\"Book\": \"The Front Runner\", \"Author(s)\": \"Patricia Nell Warren\", \"Original language\": \"English\", \"First published\": 1974, \"Approximate sales in millions\": 10.0, \"Genre\": null}, {\"Book\": \"The Goal\", \"Author(s)\": \"Eliyahu M. Goldratt\", \"Original language\": \"English\", \"First published\": 1984, \"Approximate sales in millions\": 10.0, \"Genre\": null}, {\"Book\": \"Fahrenheit 451\", \"Author(s)\": \"Ray Bradbury\", \"Original language\": \"English\", \"First published\": 1953, \"Approximate sales in millions\": 10.0, \"Genre\": null}, {\"Book\": \"Angela's Ashes\", \"Author(s)\": \"Frank McCourt\", \"Original language\": \"English\", \"First published\": 1996, \"Approximate sales in millions\": 10.0, \"Genre\": null}, {\"Book\": \"The Story of My Experiments with Truth (\\u0ab8\\u0aa4\\u0acd\\u0aaf\\u0aa8\\u0abe \\u0aaa\\u0acd\\u0ab0\\u0aaf\\u0acb\\u0a97\\u0acb \\u0a85\\u0aa5\\u0ab5\\u0abe \\u0a86\\u0aa4\\u0acd\\u0aae\\u0a95\\u0aa5\\u0abe)\", \"Author(s)\": \"Mohandas Karamchand Gandhi\", \"Original language\": \"Gujarati\", \"First published\": 1929, \"Approximate sales in millions\": 10.0, \"Genre\": null}, {\"Book\": \"Bridget Jones's Diary\", \"Author(s)\": \"Helen Fielding\", \"Original language\": \"English\", \"First published\": 1996, \"Approximate sales in millions\": 10.0, \"Genre\": null}]}}, {\"mode\": \"vega-lite\"});\n",
       "</script>"
      ],
      "text/plain": [
       "alt.Chart(...)"
      ]
     },
     "execution_count": 26,
     "metadata": {},
     "output_type": "execute_result"
    }
   ],
   "source": [
    "alt.Chart(df).mark_bar().encode(\n",
    "    y='Approximate sales in millions', \n",
    "    x='Genre',\n",
    "   color=alt.Color(\"Approximate sales in millions\", scale = alt.Scale(scheme = \"viridis\")),\n",
    "    tooltip = ['Genre','Approximate sales in millions']\n",
    "\n",
    ").properties(\n",
    "title='Approximate sales in millions of books by Genre')"
   ]
  },
  {
   "cell_type": "markdown",
   "id": "1c2671ba",
   "metadata": {
    "papermill": {
     "duration": 0.013496,
     "end_time": "2024-04-30T15:56:22.383531",
     "exception": false,
     "start_time": "2024-04-30T15:56:22.370035",
     "status": "completed"
    },
    "tags": []
   },
   "source": [
    "### It looks like the most popular genre is Fantasy."
   ]
  },
  {
   "cell_type": "code",
   "execution_count": 27,
   "id": "8e8d1c6d",
   "metadata": {
    "execution": {
     "iopub.execute_input": "2024-04-30T15:56:22.413371Z",
     "iopub.status.busy": "2024-04-30T15:56:22.412764Z",
     "iopub.status.idle": "2024-04-30T15:56:22.460194Z",
     "shell.execute_reply": "2024-04-30T15:56:22.458848Z"
    },
    "papermill": {
     "duration": 0.065313,
     "end_time": "2024-04-30T15:56:22.462792",
     "exception": false,
     "start_time": "2024-04-30T15:56:22.397479",
     "status": "completed"
    },
    "tags": []
   },
   "outputs": [
    {
     "data": {
      "text/html": [
       "\n",
       "<style>\n",
       "  #altair-viz-4de7ae2afd6d449ab0d9020e287240da.vega-embed {\n",
       "    width: 100%;\n",
       "    display: flex;\n",
       "  }\n",
       "\n",
       "  #altair-viz-4de7ae2afd6d449ab0d9020e287240da.vega-embed details,\n",
       "  #altair-viz-4de7ae2afd6d449ab0d9020e287240da.vega-embed details summary {\n",
       "    position: relative;\n",
       "  }\n",
       "</style>\n",
       "<div id=\"altair-viz-4de7ae2afd6d449ab0d9020e287240da\"></div>\n",
       "<script type=\"text/javascript\">\n",
       "  var VEGA_DEBUG = (typeof VEGA_DEBUG == \"undefined\") ? {} : VEGA_DEBUG;\n",
       "  (function(spec, embedOpt){\n",
       "    let outputDiv = document.currentScript.previousElementSibling;\n",
       "    if (outputDiv.id !== \"altair-viz-4de7ae2afd6d449ab0d9020e287240da\") {\n",
       "      outputDiv = document.getElementById(\"altair-viz-4de7ae2afd6d449ab0d9020e287240da\");\n",
       "    }\n",
       "    const paths = {\n",
       "      \"vega\": \"https://cdn.jsdelivr.net/npm/vega@5?noext\",\n",
       "      \"vega-lib\": \"https://cdn.jsdelivr.net/npm/vega-lib?noext\",\n",
       "      \"vega-lite\": \"https://cdn.jsdelivr.net/npm/vega-lite@5.17.0?noext\",\n",
       "      \"vega-embed\": \"https://cdn.jsdelivr.net/npm/vega-embed@6?noext\",\n",
       "    };\n",
       "\n",
       "    function maybeLoadScript(lib, version) {\n",
       "      var key = `${lib.replace(\"-\", \"\")}_version`;\n",
       "      return (VEGA_DEBUG[key] == version) ?\n",
       "        Promise.resolve(paths[lib]) :\n",
       "        new Promise(function(resolve, reject) {\n",
       "          var s = document.createElement('script');\n",
       "          document.getElementsByTagName(\"head\")[0].appendChild(s);\n",
       "          s.async = true;\n",
       "          s.onload = () => {\n",
       "            VEGA_DEBUG[key] = version;\n",
       "            return resolve(paths[lib]);\n",
       "          };\n",
       "          s.onerror = () => reject(`Error loading script: ${paths[lib]}`);\n",
       "          s.src = paths[lib];\n",
       "        });\n",
       "    }\n",
       "\n",
       "    function showError(err) {\n",
       "      outputDiv.innerHTML = `<div class=\"error\" style=\"color:red;\">${err}</div>`;\n",
       "      throw err;\n",
       "    }\n",
       "\n",
       "    function displayChart(vegaEmbed) {\n",
       "      vegaEmbed(outputDiv, spec, embedOpt)\n",
       "        .catch(err => showError(`Javascript Error: ${err.message}<br>This usually means there's a typo in your chart specification. See the javascript console for the full traceback.`));\n",
       "    }\n",
       "\n",
       "    if(typeof define === \"function\" && define.amd) {\n",
       "      requirejs.config({paths});\n",
       "      require([\"vega-embed\"], displayChart, err => showError(`Error loading script: ${err.message}`));\n",
       "    } else {\n",
       "      maybeLoadScript(\"vega\", \"5\")\n",
       "        .then(() => maybeLoadScript(\"vega-lite\", \"5.17.0\"))\n",
       "        .then(() => maybeLoadScript(\"vega-embed\", \"6\"))\n",
       "        .catch(showError)\n",
       "        .then(() => displayChart(vegaEmbed));\n",
       "    }\n",
       "  })({\"config\": {\"view\": {\"continuousWidth\": 300, \"continuousHeight\": 300}}, \"data\": {\"name\": \"data-53746a97c85668a3938be06709cf3a13\"}, \"mark\": {\"type\": \"bar\"}, \"encoding\": {\"color\": {\"field\": \"Approximate sales in millions\", \"scale\": {\"scheme\": \"viridis\"}, \"type\": \"quantitative\"}, \"tooltip\": [{\"field\": \"Author(s)\", \"type\": \"nominal\"}, {\"field\": \"Approximate sales in millions\", \"type\": \"quantitative\"}], \"x\": {\"field\": \"Author(s)\", \"type\": \"nominal\"}, \"y\": {\"field\": \"Approximate sales in millions\", \"type\": \"quantitative\"}}, \"title\": \"Approximate sales in millions of books by Author\", \"$schema\": \"https://vega.github.io/schema/vega-lite/v5.17.0.json\", \"datasets\": {\"data-53746a97c85668a3938be06709cf3a13\": [{\"Book\": \"A Tale of Two Cities\", \"Author(s)\": \"Charles Dickens\", \"Original language\": \"English\", \"First published\": 1859, \"Approximate sales in millions\": 200.0, \"Genre\": \"Historical fiction\"}, {\"Book\": \"The Little Prince (Le Petit Prince)\", \"Author(s)\": \"Antoine de Saint-Exup\\u00e9ry\", \"Original language\": \"French\", \"First published\": 1943, \"Approximate sales in millions\": 200.0, \"Genre\": \"Novella\"}, {\"Book\": \"Harry Potter and the Philosopher's Stone\", \"Author(s)\": \"J. K. Rowling\", \"Original language\": \"English\", \"First published\": 1997, \"Approximate sales in millions\": 120.0, \"Genre\": \"Fantasy\"}, {\"Book\": \"And Then There Were None\", \"Author(s)\": \"Agatha Christie\", \"Original language\": \"English\", \"First published\": 1939, \"Approximate sales in millions\": 100.0, \"Genre\": \"Mystery\"}, {\"Book\": \"Dream of the Red Chamber (\\u7d05\\u6a13\\u5922)\", \"Author(s)\": \"Cao Xueqin\", \"Original language\": \"Chinese\", \"First published\": 1791, \"Approximate sales in millions\": 100.0, \"Genre\": \"Family saga\"}, {\"Book\": \"The Hobbit\", \"Author(s)\": \"J. R. R. Tolkien\", \"Original language\": \"English\", \"First published\": 1937, \"Approximate sales in millions\": 100.0, \"Genre\": \"Fantasy\"}, {\"Book\": \"The Lion, the Witch and the Wardrobe\", \"Author(s)\": \"C. S. Lewis\", \"Original language\": \"English\", \"First published\": 1950, \"Approximate sales in millions\": 85.0, \"Genre\": \"Fantasy, Children's fiction\"}, {\"Book\": \"She: A History of Adventure\", \"Author(s)\": \"H. Rider Haggard\", \"Original language\": \"English\", \"First published\": 1887, \"Approximate sales in millions\": 83.0, \"Genre\": \"Adventure\"}, {\"Book\": \"Vardi Wala Gunda (\\u0935\\u0930\\u094d\\u0926\\u0940 \\u0935\\u093e\\u0932\\u093e \\u0917\\u0941\\u0902\\u0921\\u093e)\", \"Author(s)\": \"Ved Prakash Sharma\", \"Original language\": \"Hindi\", \"First published\": 1992, \"Approximate sales in millions\": 80.0, \"Genre\": \"Detective\"}, {\"Book\": \"The Da Vinci Code\", \"Author(s)\": \"Dan Brown\", \"Original language\": \"English\", \"First published\": 2003, \"Approximate sales in millions\": 80.0, \"Genre\": \"Mystery thriller\"}, {\"Book\": \"Harry Potter and the Chamber of Secrets\", \"Author(s)\": \"J. K. Rowling\", \"Original language\": \"English\", \"First published\": 1998, \"Approximate sales in millions\": 77.0, \"Genre\": \"Fantasy\"}, {\"Book\": \"Harry Potter and the Prisoner of Azkaban\", \"Author(s)\": \"J. K. Rowling\", \"Original language\": \"English\", \"First published\": 1999, \"Approximate sales in millions\": 65.0, \"Genre\": \"Fantasy\"}, {\"Book\": \"Harry Potter and the Goblet of Fire\", \"Author(s)\": \"J. K. Rowling\", \"Original language\": \"English\", \"First published\": 2000, \"Approximate sales in millions\": 65.0, \"Genre\": \"Fantasy\"}, {\"Book\": \"Harry Potter and the Order of the Phoenix\", \"Author(s)\": \"J. K. Rowling\", \"Original language\": \"English\", \"First published\": 2003, \"Approximate sales in millions\": 65.0, \"Genre\": \"Fantasy\"}, {\"Book\": \"Harry Potter and the Half-Blood Prince\", \"Author(s)\": \"J. K. Rowling\", \"Original language\": \"English\", \"First published\": 2005, \"Approximate sales in millions\": 65.0, \"Genre\": \"Fantasy\"}, {\"Book\": \"Harry Potter and the Deathly Hallows\", \"Author(s)\": \"J. K. Rowling\", \"Original language\": \"English\", \"First published\": 2007, \"Approximate sales in millions\": 65.0, \"Genre\": \"Fantasy\"}, {\"Book\": \"The Alchemist (O Alquimista)\", \"Author(s)\": \"Paulo Coelho\", \"Original language\": \"Portuguese\", \"First published\": 1988, \"Approximate sales in millions\": 65.0, \"Genre\": \"Fantasy\"}, {\"Book\": \"The Catcher in the Rye\", \"Author(s)\": \"J. D. Salinger\", \"Original language\": \"English\", \"First published\": 1951, \"Approximate sales in millions\": 65.0, \"Genre\": \"Coming-of-age\"}, {\"Book\": \"The Bridges of Madison County\", \"Author(s)\": \"Robert James Waller\", \"Original language\": \"English\", \"First published\": 1992, \"Approximate sales in millions\": 60.0, \"Genre\": \"Romance\"}, {\"Book\": \"Ben-Hur: A Tale of the Christ\", \"Author(s)\": \"Lew Wallace\", \"Original language\": \"English\", \"First published\": 1880, \"Approximate sales in millions\": 50.0, \"Genre\": \"Historical fiction\"}, {\"Book\": \"You Can Heal Your Life\", \"Author(s)\": \"Louise Hay\", \"Original language\": \"English\", \"First published\": 1984, \"Approximate sales in millions\": 50.0, \"Genre\": \"Self-help\"}, {\"Book\": \"One Hundred Years of Solitude (Cien a\\u00f1os de soledad)\", \"Author(s)\": \"Gabriel Garc\\u00eda M\\u00e1rquez\", \"Original language\": \"Spanish\", \"First published\": 1967, \"Approximate sales in millions\": 50.0, \"Genre\": \"Magic realism\"}, {\"Book\": \"Lolita\", \"Author(s)\": \"Vladimir Nabokov\", \"Original language\": \"English\", \"First published\": 1955, \"Approximate sales in millions\": 50.0, \"Genre\": \"Novel\"}, {\"Book\": \"Heidi\", \"Author(s)\": \"Johanna Spyri\", \"Original language\": \"German\", \"First published\": 1880, \"Approximate sales in millions\": 50.0, \"Genre\": \"Children's fiction\"}, {\"Book\": \"The Common Sense Book of Baby and Child Care\", \"Author(s)\": \"Benjamin Spock\", \"Original language\": \"English\", \"First published\": 1946, \"Approximate sales in millions\": 50.0, \"Genre\": \"Manual\"}, {\"Book\": \"Anne of Green Gables\", \"Author(s)\": \"Lucy Maud Montgomery\", \"Original language\": \"English\", \"First published\": 1908, \"Approximate sales in millions\": 50.0, \"Genre\": \"Children's novel\"}, {\"Book\": \"Black Beauty\", \"Author(s)\": \"Anna Sewell\", \"Original language\": \"English\", \"First published\": 1877, \"Approximate sales in millions\": 50.0, \"Genre\": \"Children's literature\"}, {\"Book\": \"The Name of the Rose (Il Nome della Rosa)\", \"Author(s)\": \"Umberto Eco\", \"Original language\": \"Italian\", \"First published\": 1980, \"Approximate sales in millions\": 50.0, \"Genre\": \"Historical novel, mystery\"}, {\"Book\": \"The Eagle Has Landed\", \"Author(s)\": \"Jack Higgins\", \"Original language\": \"English\", \"First published\": 1975, \"Approximate sales in millions\": 50.0, \"Genre\": \"War, thriller\"}, {\"Book\": \"Watership Down\", \"Author(s)\": \"Richard Adams\", \"Original language\": \"English\", \"First published\": 1972, \"Approximate sales in millions\": 50.0, \"Genre\": \"Fantasy\"}, {\"Book\": \"The Hite Report\", \"Author(s)\": \"Shere Hite\", \"Original language\": \"English\", \"First published\": 1976, \"Approximate sales in millions\": 50.0, \"Genre\": \"Sexology\"}, {\"Book\": \"Charlotte's Web\", \"Author(s)\": \"E. B. White; illustrated by Garth Williams\", \"Original language\": \"English\", \"First published\": 1952, \"Approximate sales in millions\": 50.0, \"Genre\": \"Children's fiction\"}, {\"Book\": \"The Ginger Man\", \"Author(s)\": \"J. P. Donleavy\", \"Original language\": \"English\", \"First published\": 1955, \"Approximate sales in millions\": 50.0, \"Genre\": \"Novel\"}, {\"Book\": \"The Tale of Peter Rabbit\", \"Author(s)\": \"Beatrix Potter\", \"Original language\": \"English\", \"First published\": 1902, \"Approximate sales in millions\": 45.0, \"Genre\": \"Children's Literature\"}, {\"Book\": \"Jonathan Livingston Seagull\", \"Author(s)\": \"Richard Bach\", \"Original language\": \"English\", \"First published\": 1970, \"Approximate sales in millions\": 44.0, \"Genre\": \"Novella, Self-help\"}, {\"Book\": \"The Very Hungry Caterpillar\", \"Author(s)\": \"Eric Carle\", \"Original language\": \"English\", \"First published\": 1969, \"Approximate sales in millions\": 43.0, \"Genre\": \"Children's Literature, picture book\"}, {\"Book\": \"A Message to Garcia\", \"Author(s)\": \"Elbert Hubbard\", \"Original language\": \"English\", \"First published\": 1899, \"Approximate sales in millions\": 40.0, \"Genre\": \"Essay/Literature\"}, {\"Book\": \"To Kill a Mockingbird\", \"Author(s)\": \"Harper Lee\", \"Original language\": \"English\", \"First published\": 1960, \"Approximate sales in millions\": 40.0, \"Genre\": \"Southern Gothic, Bildungsroman\"}, {\"Book\": \"Flowers in the Attic\", \"Author(s)\": \"V. C. Andrews\", \"Original language\": \"English\", \"First published\": 1979, \"Approximate sales in millions\": 40.0, \"Genre\": \"Gothic horror, Family saga\"}, {\"Book\": \"Cosmos\", \"Author(s)\": \"Carl Sagan\", \"Original language\": \"English\", \"First published\": 1980, \"Approximate sales in millions\": 40.0, \"Genre\": \"Popular science, Anthropology, Astrophysics, Cosmology, Philosophy, History\"}, {\"Book\": \"Sophie's World (Sofies verden)\", \"Author(s)\": \"Jostein Gaarder\", \"Original language\": \"Norwegian\", \"First published\": 1991, \"Approximate sales in millions\": 40.0, \"Genre\": \"Philosophical novel, Young adult\"}, {\"Book\": \"Angels & Demons\", \"Author(s)\": \"Dan Brown\", \"Original language\": \"English\", \"First published\": 2000, \"Approximate sales in millions\": 39.0, \"Genre\": \"Mystery-thriller\"}, {\"Book\": \"Kane and Abel\", \"Author(s)\": \"Jeffrey Archer\", \"Original language\": \"English\", \"First published\": 1979, \"Approximate sales in millions\": 37.0, \"Genre\": \"Novel\"}, {\"Book\": \"How the Steel Was Tempered (\\u041a\\u0430\\u043a \\u0437\\u0430\\u043a\\u0430\\u043b\\u044f\\u043b\\u0430\\u0441\\u044c \\u0441\\u0442\\u0430\\u043b\\u044c)\", \"Author(s)\": \"Nikolai Ostrovsky\", \"Original language\": \"Russian\", \"First published\": 1932, \"Approximate sales in millions\": 36.4, \"Genre\": \"Socialist realist novel\"}, {\"Book\": \"War and Peace (\\u0412\\u043e\\u0439\\u043d\\u0430 \\u0438 \\u043c\\u0438\\u0440)\", \"Author(s)\": \"Leo Tolstoy\", \"Original language\": \"Russian\", \"First published\": 1869, \"Approximate sales in millions\": 36.0, \"Genre\": \"Historical novel\"}, {\"Book\": \"The Adventures of Pinocchio (Le avventure di Pinocchio)\", \"Author(s)\": \"Carlo Collodi\", \"Original language\": \"Italian\", \"First published\": 1881, \"Approximate sales in millions\": 35.0, \"Genre\": \"Fantasy, Children's fiction\"}, {\"Book\": \"The Diary of Anne Frank (Het Achterhuis)\", \"Author(s)\": \"Anne Frank\", \"Original language\": \"Dutch\", \"First published\": 1947, \"Approximate sales in millions\": 35.0, \"Genre\": \"Historical non-fiction, Autobiography, Memoir, Bildungsroman / Coming of Age, Jewish literature\"}, {\"Book\": \"Your Erroneous Zones\", \"Author(s)\": \"Wayne Dyer\", \"Original language\": \"English\", \"First published\": 1976, \"Approximate sales in millions\": 35.0, \"Genre\": \"Self-help\"}, {\"Book\": \"The Thorn Birds\", \"Author(s)\": \"Colleen McCullough\", \"Original language\": \"English\", \"First published\": 1977, \"Approximate sales in millions\": 33.0, \"Genre\": \"Romantic family saga\"}, {\"Book\": \"The Purpose Driven Life\", \"Author(s)\": \"Rick Warren\", \"Original language\": \"English\", \"First published\": 2002, \"Approximate sales in millions\": 33.0, \"Genre\": \"Christian literature\"}, {\"Book\": \"The Kite Runner\", \"Author(s)\": \"Khaled Hosseini\", \"Original language\": \"English\", \"First published\": 2003, \"Approximate sales in millions\": 31.5, \"Genre\": \"Bildungsroman, Historical fiction\"}, {\"Book\": \"Valley of the Dolls\", \"Author(s)\": \"Jacqueline Susann\", \"Original language\": \"English\", \"First published\": 1966, \"Approximate sales in millions\": 31.0, \"Genre\": \"Novel\"}, {\"Book\": \"Alcoholics Anonymous Big Book\", \"Author(s)\": \"Bill Wilson\", \"Original language\": \"English\", \"First published\": 1939, \"Approximate sales in millions\": 30.0, \"Genre\": \"Self-help\"}, {\"Book\": \"How to Win Friends and Influence People\", \"Author(s)\": \"Dale Carnegie\", \"Original language\": \"English\", \"First published\": 1936, \"Approximate sales in millions\": 30.0, \"Genre\": \"Self-help\"}, {\"Book\": \"The Great Gatsby\", \"Author(s)\": \"F. Scott Fitzgerald\", \"Original language\": \"English\", \"First published\": 1925, \"Approximate sales in millions\": 30.0, \"Genre\": \"Novel, tragedy\"}, {\"Book\": \"Gone with the Wind\", \"Author(s)\": \"Margaret Mitchell\", \"Original language\": \"English\", \"First published\": 1936, \"Approximate sales in millions\": 30.0, \"Genre\": \"Historical fiction\"}, {\"Book\": \"Rebecca\", \"Author(s)\": \"Daphne du Maurier\", \"Original language\": \"English\", \"First published\": 1938, \"Approximate sales in millions\": 30.0, \"Genre\": \"Gothic novel\"}, {\"Book\": \"Nineteen Eighty-Four\", \"Author(s)\": \"George Orwell\", \"Original language\": \"English\", \"First published\": 1949, \"Approximate sales in millions\": 30.0, \"Genre\": \"Dystopian, political fiction, social science fiction\"}, {\"Book\": \"The Revolt of Mamie Stover\", \"Author(s)\": \"William Bradford Huie\", \"Original language\": \"English\", \"First published\": 1951, \"Approximate sales in millions\": 30.0, \"Genre\": \"Fiction\"}, {\"Book\": \"The Girl with the Dragon Tattoo (M\\u00e4n som hatar kvinnor)\", \"Author(s)\": \"Stieg Larsson\", \"Original language\": \"Swedish\", \"First published\": 2005, \"Approximate sales in millions\": 30.0, \"Genre\": \"Fiction\"}, {\"Book\": \"The Lost Symbol\", \"Author(s)\": \"Dan Brown\", \"Original language\": \"English\", \"First published\": 2009, \"Approximate sales in millions\": 30.0, \"Genre\": \"Fiction\"}, {\"Book\": \"The Hunger Games\", \"Author(s)\": \"Suzanne Collins\", \"Original language\": \"English\", \"First published\": 2008, \"Approximate sales in millions\": 29.0, \"Genre\": \"Young adult fiction\"}, {\"Book\": \"James and the Giant Peach\", \"Author(s)\": \"Roald Dahl\", \"Original language\": \"English\", \"First published\": 1961, \"Approximate sales in millions\": 28.0, \"Genre\": \"Children's novel\"}, {\"Book\": \"The Young Guard (\\u041c\\u043e\\u043b\\u043e\\u0434\\u0430\\u044f \\u0433\\u0432\\u0430\\u0440\\u0434\\u0438\\u044f)\", \"Author(s)\": \"Alexander Alexandrovich Fadeyev\", \"Original language\": \"Russian\", \"First published\": 1945, \"Approximate sales in millions\": 26.0, \"Genre\": \"Young adult historical novel\"}, {\"Book\": \"Who Moved My Cheese?\", \"Author(s)\": \"Spencer Johnson\", \"Original language\": \"English\", \"First published\": 1998, \"Approximate sales in millions\": 29.0, \"Genre\": \"Self-help, motivational, business fable, psychology, leadership, parable\"}, {\"Book\": \"A Brief History of Time\", \"Author(s)\": \"Stephen Hawking\", \"Original language\": \"English\", \"First published\": 1988, \"Approximate sales in millions\": 25.0, \"Genre\": \"Popular science\"}, {\"Book\": \"Paul et Virginie\", \"Author(s)\": \"Jacques-Henri Bernardin de Saint-Pierre\", \"Original language\": \"French\", \"First published\": 1788, \"Approximate sales in millions\": 25.0, \"Genre\": \"Novel\"}, {\"Book\": \"Lust for Life\", \"Author(s)\": \"Irving Stone\", \"Original language\": \"English\", \"First published\": 1934, \"Approximate sales in millions\": 25.0, \"Genre\": \"Biographical novel\"}, {\"Book\": \"The Wind in the Willows\", \"Author(s)\": \"Kenneth Grahame\", \"Original language\": \"English\", \"First published\": 1908, \"Approximate sales in millions\": 25.0, \"Genre\": \"Children's literature\"}, {\"Book\": \"The 7 Habits of Highly Effective People\", \"Author(s)\": \"Stephen R. Covey\", \"Original language\": \"English\", \"First published\": 1989, \"Approximate sales in millions\": 25.0, \"Genre\": \"Self-help\"}, {\"Book\": \"Virgin Soil Upturned (\\u041f\\u043e\\u0434\\u043d\\u044f\\u0442\\u0430\\u044f \\u0446\\u0435\\u043b\\u0438\\u043d\\u0430)\", \"Author(s)\": \"Mikhail Sholokhov\", \"Original language\": \"Russian\", \"First published\": 1935, \"Approximate sales in millions\": 24.0, \"Genre\": \"Novel\"}, {\"Book\": \"The Celestine Prophecy\", \"Author(s)\": \"James Redfield\", \"Original language\": \"English\", \"First published\": 1993, \"Approximate sales in millions\": 23.0, \"Genre\": \"New-age spiritual novel\"}, {\"Book\": \"The Fault in Our Stars\", \"Author(s)\": \"John Green\", \"Original language\": \"English\", \"First published\": 2012, \"Approximate sales in millions\": 23.0, \"Genre\": \"Young adult romantic novel\"}, {\"Book\": \"The Girl on the Train\", \"Author(s)\": \"Paula Hawkins\", \"Original language\": \"English\", \"First published\": 2015, \"Approximate sales in millions\": 23.0, \"Genre\": \"Thriller\"}, {\"Book\": \"The Shack\", \"Author(s)\": \"William P. Young\", \"Original language\": \"English\", \"First published\": 2007, \"Approximate sales in millions\": 22.5, \"Genre\": \"Novel\"}, {\"Book\": \"Uncle Styopa (\\u0414\\u044f\\u0434\\u044f \\u0421\\u0442\\u0451\\u043f\\u0430)\", \"Author(s)\": \"Sergey Mikhalkov\", \"Original language\": \"Russian\", \"First published\": 1936, \"Approximate sales in millions\": 21.0, \"Genre\": \"Children's Literature, picture book\"}, {\"Book\": \"The Godfather\", \"Author(s)\": \"Mario Puzo\", \"Original language\": \"English\", \"First published\": 1969, \"Approximate sales in millions\": 21.0, \"Genre\": \"Crime novel\"}, {\"Book\": \"Love Story\", \"Author(s)\": \"Erich Segal\", \"Original language\": \"English\", \"First published\": 1970, \"Approximate sales in millions\": 21.0, \"Genre\": \"Romance novel\"}, {\"Book\": \"Catching Fire\", \"Author(s)\": \"Suzanne Collins\", \"Original language\": \"English\", \"First published\": 2009, \"Approximate sales in millions\": 21.0, \"Genre\": \"Young Adult novel, adventure, dystopian, science fiction\"}, {\"Book\": \"Mockingjay\", \"Author(s)\": \"Suzanne Collins\", \"Original language\": \"English\", \"First published\": 2010, \"Approximate sales in millions\": 20.0, \"Genre\": \"Young Adult novel, adventure, war, science fiction, action thriller\"}, {\"Book\": \"Kitchen (\\u30ad\\u30c3\\u30c1\\u30f3)\", \"Author(s)\": \"Banana Yoshimoto\", \"Original language\": \"Japanese\", \"First published\": 1988, \"Approximate sales in millions\": 20.0, \"Genre\": \"Japanese novel\"}, {\"Book\": \"Andromeda Nebula (\\u0422\\u0443\\u043c\\u0430\\u043d\\u043d\\u043e\\u0441\\u0442\\u044c \\u0410\\u043d\\u0434\\u0440\\u043e\\u043c\\u0435\\u0434\\u044b)\", \"Author(s)\": \"Ivan Yefremov\", \"Original language\": \"Russian\", \"First published\": 1957, \"Approximate sales in millions\": 20.0, \"Genre\": \"Science fiction novel\"}, {\"Book\": \"Autobiography of a Yogi (\\u092f\\u094b\\u0917\\u0940 \\u0915\\u0925\\u093e\\u092e\\u0943\\u0924)\", \"Author(s)\": \"Paramahansa Yogananda\", \"Original language\": \"Hindi\", \"First published\": 1946, \"Approximate sales in millions\": 20.0, \"Genre\": \"Autobiography\"}, {\"Book\": \"Gone Girl\", \"Author(s)\": \"Gillian Flynn\", \"Original language\": \"English\", \"First published\": 2012, \"Approximate sales in millions\": 20.0, \"Genre\": \"Crime thriller novel\"}, {\"Book\": \"All Quiet on the Western Front (Im Westen nichts Neues)\", \"Author(s)\": \"Erich Maria Remarque\", \"Original language\": \"German\", \"First published\": 1929, \"Approximate sales in millions\": 20.0, \"Genre\": \"War novel\"}, {\"Book\": \"The Bermuda Triangle\", \"Author(s)\": \"Charles Berlitz\", \"Original language\": \"English\", \"First published\": 1974, \"Approximate sales in millions\": 20.0, \"Genre\": null}, {\"Book\": \"Things Fall Apart \", \"Author(s)\": \"Chinua Achebe\", \"Original language\": \"English\", \"First published\": 1958, \"Approximate sales in millions\": 20.0, \"Genre\": \"Novel\"}, {\"Book\": \"Animal Farm \", \"Author(s)\": \"George Orwell\", \"Original language\": \"English\", \"First published\": 1945, \"Approximate sales in millions\": 20.0, \"Genre\": \"Satirical allegorical novella, Political satire, Dystopian Fiction, Roman \\u00e0 clef\"}, {\"Book\": \"Wolf Totem (\\u72fc\\u56fe\\u817e)\", \"Author(s)\": \"Jiang Rong\", \"Original language\": \"Chinese\", \"First published\": 2004, \"Approximate sales in millions\": 20.0, \"Genre\": \"Semi-autobiographical novel\"}, {\"Book\": \"The Happy Hooker: My Own Story\", \"Author(s)\": \"Xaviera Hollander\", \"Original language\": \"English\", \"First published\": 1971, \"Approximate sales in millions\": 20.0, \"Genre\": \"Memoir\"}, {\"Book\": \"Jaws\", \"Author(s)\": \"Peter Benchley\", \"Original language\": \"English\", \"First published\": 1974, \"Approximate sales in millions\": 20.0, \"Genre\": \"Thriller\"}, {\"Book\": \"Love You Forever\", \"Author(s)\": \"Robert Munsch\", \"Original language\": \"English\", \"First published\": 1986, \"Approximate sales in millions\": 20.0, \"Genre\": \"Children's literature, picture book, fiction\"}, {\"Book\": \"The Women's Room\", \"Author(s)\": \"Marilyn French\", \"Original language\": \"English\", \"First published\": 1977, \"Approximate sales in millions\": 20.0, \"Genre\": \"Feminist novel\"}, {\"Book\": \"What to Expect When You're Expecting\", \"Author(s)\": \"Arlene Eisenberg and Heidi Murkoff\", \"Original language\": \"English\", \"First published\": 1984, \"Approximate sales in millions\": 20.0, \"Genre\": \"Pregnancy guide\"}, {\"Book\": \"Adventures of Huckleberry Finn\", \"Author(s)\": \"Mark Twain\", \"Original language\": \"English\", \"First published\": 1885, \"Approximate sales in millions\": 20.0, \"Genre\": \"Picaresque novel, Bildungsroman, satire, Robinsonade\"}, {\"Book\": \"The Secret Diary of Adrian Mole, Aged 13\\u00be\", \"Author(s)\": \"Sue Townsend\", \"Original language\": \"English\", \"First published\": 1982, \"Approximate sales in millions\": 20.0, \"Genre\": \"Young adult novel\"}, {\"Book\": \"Pride and Prejudice\", \"Author(s)\": \"Jane Austen\", \"Original language\": \"English\", \"First published\": 1813, \"Approximate sales in millions\": 20.0, \"Genre\": \"Classic regency novel, romance\"}, {\"Book\": \"Kon-Tiki: Across the Pacific in a Raft (Kon-Tiki ekspedisjonen)\", \"Author(s)\": \"Thor Heyerdahl\", \"Original language\": \"Norwegian\", \"First published\": 1950, \"Approximate sales in millions\": 20.0, \"Genre\": \"Travel literature\"}, {\"Book\": \"The Good Soldier \\u0160vejk (Osudy dobr\\u00e9ho voj\\u00e1ka \\u0160vejka za sv\\u011btov\\u00e9 v\\u00e1lky)\", \"Author(s)\": \"Jaroslav Ha\\u0161ek\", \"Original language\": \"Czech\", \"First published\": 1923, \"Approximate sales in millions\": 20.0, \"Genre\": \"Unfinished satirical dark comedy novel\"}, {\"Book\": \"Where the Wild Things Are\", \"Author(s)\": \"Maurice Sendak\", \"Original language\": \"English\", \"First published\": 1963, \"Approximate sales in millions\": 20.0, \"Genre\": \"Children's picture book\"}, {\"Book\": \"The Power of Positive Thinking\", \"Author(s)\": \"Norman Vincent Peale\", \"Original language\": \"English\", \"First published\": 1952, \"Approximate sales in millions\": 20.0, \"Genre\": \"Self-help\"}, {\"Book\": \"The Secret\", \"Author(s)\": \"Rhonda Byrne\", \"Original language\": \"English\", \"First published\": 2006, \"Approximate sales in millions\": 20.0, \"Genre\": \"Self-help\"}, {\"Book\": \"Fear of Flying\", \"Author(s)\": \"Erica Jong\", \"Original language\": \"English\", \"First published\": 1973, \"Approximate sales in millions\": 20.0, \"Genre\": \"Romantic novel\"}, {\"Book\": \"Dune\", \"Author(s)\": \"Frank Herbert\", \"Original language\": \"English\", \"First published\": 1965, \"Approximate sales in millions\": 20.0, \"Genre\": \"Science fiction novel\"}, {\"Book\": \"Charlie and the Chocolate Factory\", \"Author(s)\": \"Roald Dahl\", \"Original language\": \"English\", \"First published\": 1964, \"Approximate sales in millions\": 20.0, \"Genre\": \"Children's fantasy novel\"}, {\"Book\": \"The Naked Ape\", \"Author(s)\": \"Desmond Morris\", \"Original language\": \"English\", \"First published\": 1968, \"Approximate sales in millions\": 20.0, \"Genre\": \"Social Science, Anthropology, Psychology\"}, {\"Book\": \"Where the Crawdads Sing\", \"Author(s)\": \"Delia Owens\", \"Original language\": \"English\", \"First published\": 2018, \"Approximate sales in millions\": 18.0, \"Genre\": \"Coming-of-age Murder mystery\"}, {\"Book\": \"Totto-chan, the Little Girl at the Window (\\u7a93\\u304e\\u308f\\u306e\\u30c8\\u30c3\\u30c8\\u3061\\u3083\\u3093)\", \"Author(s)\": \"Tetsuko Kuroyanagi\", \"Original language\": \"Japanese\", \"First published\": 1981, \"Approximate sales in millions\": 18.0, \"Genre\": \"Autobiographical novel\"}, {\"Book\": \"Matilda\", \"Author(s)\": \"Roald Dahl\", \"Original language\": \"English\", \"First published\": 1988, \"Approximate sales in millions\": 17.0, \"Genre\": \"Children's Literature\"}, {\"Book\": \"The Book Thief\", \"Author(s)\": \"Markus Zusak\", \"Original language\": \"English\", \"First published\": 2005, \"Approximate sales in millions\": 16.0, \"Genre\": \"Young Adult Fiction\"}, {\"Book\": \"The Horse Whisperer\", \"Author(s)\": \"Nicholas Evans\", \"Original language\": \"English\", \"First published\": 1995, \"Approximate sales in millions\": 16.0, \"Genre\": null}, {\"Book\": \"Goodnight Moon\", \"Author(s)\": \"Margaret Wise Brown\", \"Original language\": \"English\", \"First published\": 1947, \"Approximate sales in millions\": 16.0, \"Genre\": \"Children's Literature\"}, {\"Book\": \"The Neverending Story (Die unendliche Geschichte)\", \"Author(s)\": \"Michael Ende\", \"Original language\": \"German\", \"First published\": 1979, \"Approximate sales in millions\": 16.0, \"Genre\": \"Children's Literature\"}, {\"Book\": \"All the Light We Cannot See\", \"Author(s)\": \"Anthony Doerr\", \"Original language\": \"English\", \"First published\": 2014, \"Approximate sales in millions\": 15.3, \"Genre\": \"Historical fiction, war novel\"}, {\"Book\": \"Fifty Shades of Grey\", \"Author(s)\": \"E. L. James\", \"Original language\": \"English\", \"First published\": 2011, \"Approximate sales in millions\": 15.2, \"Genre\": \"Erotica\"}, {\"Book\": \"The Outsiders\", \"Author(s)\": \"S. E. Hinton\", \"Original language\": \"English\", \"First published\": 1967, \"Approximate sales in millions\": 15.0, \"Genre\": null}, {\"Book\": \"Guess How Much I Love You\", \"Author(s)\": \"Sam McBratney\", \"Original language\": \"English\", \"First published\": 1994, \"Approximate sales in millions\": 15.0, \"Genre\": null}, {\"Book\": \"Sh\\u014dgun\", \"Author(s)\": \"James Clavell\", \"Original language\": \"English\", \"First published\": 1975, \"Approximate sales in millions\": 15.0, \"Genre\": null}, {\"Book\": \"The Poky Little Puppy\", \"Author(s)\": \"Janette Sebring Lowrey\", \"Original language\": \"English\", \"First published\": 1942, \"Approximate sales in millions\": 15.0, \"Genre\": null}, {\"Book\": \"The Pillars of the Earth\", \"Author(s)\": \"Ken Follett\", \"Original language\": \"English\", \"First published\": 1989, \"Approximate sales in millions\": 15.0, \"Genre\": \"Historical fiction\"}, {\"Book\": \"Perfume (Das Parfum)\", \"Author(s)\": \"Patrick S\\u00fcskind\", \"Original language\": \"German\", \"First published\": 1985, \"Approximate sales in millions\": 15.0, \"Genre\": null}, {\"Book\": \"The Grapes of Wrath\", \"Author(s)\": \"John Steinbeck\", \"Original language\": \"English\", \"First published\": 1939, \"Approximate sales in millions\": 15.0, \"Genre\": null}, {\"Book\": \"The Shadow of the Wind (La sombra del viento)\", \"Author(s)\": \"Carlos Ruiz Zaf\\u00f3n\", \"Original language\": \"Spanish\", \"First published\": 2001, \"Approximate sales in millions\": 15.0, \"Genre\": null}, {\"Book\": \"Interpreter of Maladies\", \"Author(s)\": \"Jhumpa Lahiri\", \"Original language\": \"English\", \"First published\": 2000, \"Approximate sales in millions\": 15.0, \"Genre\": null}, {\"Book\": \"Becoming\", \"Author(s)\": \"Michelle Obama\", \"Original language\": \"English\", \"First published\": 2018, \"Approximate sales in millions\": 14.0, \"Genre\": null}, {\"Book\": \"The Hitchhiker's Guide to the Galaxy\", \"Author(s)\": \"Douglas Adams\", \"Original language\": \"English\", \"First published\": 1979, \"Approximate sales in millions\": 14.0, \"Genre\": \"Science fiction\"}, {\"Book\": \"Tuesdays with Morrie\", \"Author(s)\": \"Mitch Albom\", \"Original language\": \"English\", \"First published\": 1997, \"Approximate sales in millions\": 14.0, \"Genre\": null}, {\"Book\": \"God's Little Acre\", \"Author(s)\": \"Erskine Caldwell\", \"Original language\": \"English\", \"First published\": 1933, \"Approximate sales in millions\": 14.0, \"Genre\": null}, {\"Book\": \"Follow Your Heart (Va' dove ti porta il cuore)\", \"Author(s)\": \"Susanna Tamaro\", \"Original language\": \"Italian\", \"First published\": 1994, \"Approximate sales in millions\": 14.0, \"Genre\": null}, {\"Book\": \"A Wrinkle in Time\", \"Author(s)\": \"Madeleine L'Engle\", \"Original language\": \"English\", \"First published\": 1962, \"Approximate sales in millions\": 14.0, \"Genre\": null}, {\"Book\": \"Long Walk to Freedom\", \"Author(s)\": \"Nelson Mandela\", \"Original language\": \"English\", \"First published\": 1994, \"Approximate sales in millions\": 14.0, \"Genre\": null}, {\"Book\": \"The Old Man and the Sea\", \"Author(s)\": \"Ernest Hemingway\", \"Original language\": \"English\", \"First published\": 1952, \"Approximate sales in millions\": 13.0, \"Genre\": null}, {\"Book\": \"Life After Life\", \"Author(s)\": \"Raymond Moody\", \"Original language\": \"English\", \"First published\": 1975, \"Approximate sales in millions\": 13.0, \"Genre\": null}, {\"Book\": \"Peyton Place \", \"Author(s)\": \"Grace Metalious\", \"Original language\": \"English\", \"First published\": 1956, \"Approximate sales in millions\": 12.1, \"Genre\": null}, {\"Book\": \"The Giver\", \"Author(s)\": \"Lois Lowry\", \"Original language\": \"English\", \"First published\": 1993, \"Approximate sales in millions\": 12.0, \"Genre\": \"Dystopian fiction\"}, {\"Book\": \"Me Before You\", \"Author(s)\": \"Jojo Moyes\", \"Original language\": \"English\", \"First published\": 2012, \"Approximate sales in millions\": 12.0, \"Genre\": null}, {\"Book\": \"Norwegian Wood (\\u30ce\\u30eb\\u30a6\\u30a7\\u30a4\\u306e\\u68ee)\", \"Author(s)\": \"Haruki Murakami\", \"Original language\": \"Japanese\", \"First published\": 1987, \"Approximate sales in millions\": 12.0, \"Genre\": null}, {\"Book\": \"The Plague (La Peste)\", \"Author(s)\": \"Albert Camus\", \"Original language\": \"French\", \"First published\": 1947, \"Approximate sales in millions\": 12.0, \"Genre\": null}, {\"Book\": \"No Longer Human (\\u4eba\\u9593\\u5931\\u683c)\", \"Author(s)\": \"Osamu Dazai\", \"Original language\": \"Japanese\", \"First published\": 1948, \"Approximate sales in millions\": 12.0, \"Genre\": null}, {\"Book\": \"Man's Search for Meaning (Ein Psychologe erlebt das Konzentrationslager)\", \"Author(s)\": \"Viktor Frankl\", \"Original language\": \"German\", \"First published\": 1946, \"Approximate sales in millions\": 12.0, \"Genre\": null}, {\"Book\": \"The Divine Comedy (La Divina Commedia)\", \"Author(s)\": \"Dante Alighieri\", \"Original language\": \"Italian\", \"First published\": 1304, \"Approximate sales in millions\": 11.5, \"Genre\": null}, {\"Book\": \"The Prophet\", \"Author(s)\": \"Kahlil Gibran\", \"Original language\": \"English\", \"First published\": 1923, \"Approximate sales in millions\": 11.0, \"Genre\": null}, {\"Book\": \"The Boy in the Striped Pyjamas\", \"Author(s)\": \"John Boyne\", \"Original language\": \"English\", \"First published\": 2006, \"Approximate sales in millions\": 11.0, \"Genre\": null}, {\"Book\": \"The Exorcist\", \"Author(s)\": \"William Peter Blatty\", \"Original language\": \"English\", \"First published\": 1971, \"Approximate sales in millions\": 11.0, \"Genre\": \"Horror\"}, {\"Book\": \"The Gruffalo\", \"Author(s)\": \"Julia Donaldson\", \"Original language\": \"English\", \"First published\": 1999, \"Approximate sales in millions\": 10.5, \"Genre\": null}, {\"Book\": \"Fifty Shades Darker\", \"Author(s)\": \"E. L. James\", \"Original language\": \"English\", \"First published\": 2012, \"Approximate sales in millions\": 10.4, \"Genre\": \"Erotica\"}, {\"Book\": \"Tobacco Road\", \"Author(s)\": \"Erskine Caldwell\", \"Original language\": \"English\", \"First published\": 1932, \"Approximate sales in millions\": 10.0, \"Genre\": null}, {\"Book\": \"Ronia, the Robber's Daughter\", \"Author(s)\": \"Astrid Lindgren\", \"Original language\": \"Swedish\", \"First published\": 1981, \"Approximate sales in millions\": 10.0, \"Genre\": null}, {\"Book\": \"The Cat in the Hat\", \"Author(s)\": \"Dr. Seuss\", \"Original language\": \"English\", \"First published\": 1957, \"Approximate sales in millions\": 10.5, \"Genre\": null}, {\"Book\": \"Diana: Her True Story\", \"Author(s)\": \"Andrew Morton\", \"Original language\": \"English\", \"First published\": 1992, \"Approximate sales in millions\": 10.0, \"Genre\": null}, {\"Book\": \"The Help\", \"Author(s)\": \"Kathryn Stockett\", \"Original language\": \"English\", \"First published\": 2009, \"Approximate sales in millions\": 10.0, \"Genre\": null}, {\"Book\": \"Catch-22\", \"Author(s)\": \"Joseph Heller\", \"Original language\": \"English\", \"First published\": 1961, \"Approximate sales in millions\": 10.0, \"Genre\": null}, {\"Book\": \"The Stranger (L'\\u00c9tranger)\", \"Author(s)\": \"Albert Camus\", \"Original language\": \"French\", \"First published\": 1942, \"Approximate sales in millions\": 10.0, \"Genre\": null}, {\"Book\": \"Eye of the Needle\", \"Author(s)\": \"Ken Follett\", \"Original language\": \"English\", \"First published\": 1978, \"Approximate sales in millions\": 10.0, \"Genre\": null}, {\"Book\": \"The Lovely Bones\", \"Author(s)\": \"Alice Sebold\", \"Original language\": \"English\", \"First published\": 2002, \"Approximate sales in millions\": 10.0, \"Genre\": null}, {\"Book\": \"Wild Swans\", \"Author(s)\": \"Jung Chang\", \"Original language\": \"English\", \"First published\": 1992, \"Approximate sales in millions\": 10.0, \"Genre\": null}, {\"Book\": \"Santa Evita\", \"Author(s)\": \"Tom\\u00e1s Eloy Mart\\u00ednez\", \"Original language\": \"Spanish\", \"First published\": 1995, \"Approximate sales in millions\": 10.0, \"Genre\": null}, {\"Book\": \"Night (Un di Velt Hot Geshvign)\", \"Author(s)\": \"Elie Wiesel\", \"Original language\": \"Yiddish\", \"First published\": 1958, \"Approximate sales in millions\": 10.0, \"Genre\": null}, {\"Book\": \"Confucius from the Heart (\\u4e8e\\u4e39\\u300a\\u8bba\\u8bed\\u300b\\u5fc3\\u5f97)\", \"Author(s)\": \"Yu Dan\", \"Original language\": \"Chinese\", \"First published\": 2006, \"Approximate sales in millions\": 10.0, \"Genre\": null}, {\"Book\": \"The Total Woman\", \"Author(s)\": \"Marabel Morgan\", \"Original language\": \"English\", \"First published\": 1974, \"Approximate sales in millions\": 10.0, \"Genre\": null}, {\"Book\": \"Knowledge-value Revolution (\\u77e5\\u4fa1\\u9769\\u547d)\", \"Author(s)\": \"Taichi Sakaiya\", \"Original language\": \"Japanese\", \"First published\": 1985, \"Approximate sales in millions\": 10.0, \"Genre\": null}, {\"Book\": \"Problems in China's Socialist Economy (\\u4e2d\\u56fd\\u793e\\u4f1a\\u4e3b\\u4e49\\u7ecf\\u6d4e\\u95ee\\u9898\\u7814\\u7a76)\", \"Author(s)\": \"Xue Muqiao\", \"Original language\": \"Chinese\", \"First published\": 1979, \"Approximate sales in millions\": 10.0, \"Genre\": null}, {\"Book\": \"What Color Is Your Parachute?\", \"Author(s)\": \"Richard Nelson Bolles\", \"Original language\": \"English\", \"First published\": 1970, \"Approximate sales in millions\": 10.0, \"Genre\": null}, {\"Book\": \"The Dukan Diet\", \"Author(s)\": \"Pierre Dukan\", \"Original language\": \"French\", \"First published\": 2000, \"Approximate sales in millions\": 10.0, \"Genre\": null}, {\"Book\": \"The Joy of Sex\", \"Author(s)\": \"Alex Comfort\", \"Original language\": \"English\", \"First published\": 1972, \"Approximate sales in millions\": 10.0, \"Genre\": null}, {\"Book\": \"The Gospel According to Peanuts\", \"Author(s)\": \"Robert L. Short\", \"Original language\": \"English\", \"First published\": 1965, \"Approximate sales in millions\": 10.0, \"Genre\": null}, {\"Book\": \"The Subtle Art of Not Giving a Fuck\", \"Author(s)\": \"Mark Manson\", \"Original language\": \"English\", \"First published\": 2016, \"Approximate sales in millions\": 10.0, \"Genre\": null}, {\"Book\": \"Life of Pi\", \"Author(s)\": \"Yann Martel\", \"Original language\": \"English\", \"First published\": 2001, \"Approximate sales in millions\": 10.0, \"Genre\": null}, {\"Book\": \"The Front Runner\", \"Author(s)\": \"Patricia Nell Warren\", \"Original language\": \"English\", \"First published\": 1974, \"Approximate sales in millions\": 10.0, \"Genre\": null}, {\"Book\": \"The Goal\", \"Author(s)\": \"Eliyahu M. Goldratt\", \"Original language\": \"English\", \"First published\": 1984, \"Approximate sales in millions\": 10.0, \"Genre\": null}, {\"Book\": \"Fahrenheit 451\", \"Author(s)\": \"Ray Bradbury\", \"Original language\": \"English\", \"First published\": 1953, \"Approximate sales in millions\": 10.0, \"Genre\": null}, {\"Book\": \"Angela's Ashes\", \"Author(s)\": \"Frank McCourt\", \"Original language\": \"English\", \"First published\": 1996, \"Approximate sales in millions\": 10.0, \"Genre\": null}, {\"Book\": \"The Story of My Experiments with Truth (\\u0ab8\\u0aa4\\u0acd\\u0aaf\\u0aa8\\u0abe \\u0aaa\\u0acd\\u0ab0\\u0aaf\\u0acb\\u0a97\\u0acb \\u0a85\\u0aa5\\u0ab5\\u0abe \\u0a86\\u0aa4\\u0acd\\u0aae\\u0a95\\u0aa5\\u0abe)\", \"Author(s)\": \"Mohandas Karamchand Gandhi\", \"Original language\": \"Gujarati\", \"First published\": 1929, \"Approximate sales in millions\": 10.0, \"Genre\": null}, {\"Book\": \"Bridget Jones's Diary\", \"Author(s)\": \"Helen Fielding\", \"Original language\": \"English\", \"First published\": 1996, \"Approximate sales in millions\": 10.0, \"Genre\": null}]}}, {\"mode\": \"vega-lite\"});\n",
       "</script>"
      ],
      "text/plain": [
       "alt.Chart(...)"
      ]
     },
     "execution_count": 27,
     "metadata": {},
     "output_type": "execute_result"
    }
   ],
   "source": [
    "alt.Chart(df).mark_bar().encode(\n",
    "    y='Approximate sales in millions', \n",
    "    x='Author(s)',\n",
    "   color=alt.Color(\"Approximate sales in millions\", scale = alt.Scale(scheme = \"viridis\")),\n",
    "    tooltip = ['Author(s)','Approximate sales in millions']\n",
    "\n",
    ").properties(\n",
    "title='Approximate sales in millions of books by Author')"
   ]
  },
  {
   "cell_type": "markdown",
   "id": "bfcc5a69",
   "metadata": {
    "papermill": {
     "duration": 0.013789,
     "end_time": "2024-04-30T15:56:22.490879",
     "exception": false,
     "start_time": "2024-04-30T15:56:22.477090",
     "status": "completed"
    },
    "tags": []
   },
   "source": [
    "### It looks like the most popular author is J. K. Rowling for overall approximate sales in the dataset."
   ]
  },
  {
   "cell_type": "code",
   "execution_count": 28,
   "id": "1162b855",
   "metadata": {
    "execution": {
     "iopub.execute_input": "2024-04-30T15:56:22.522155Z",
     "iopub.status.busy": "2024-04-30T15:56:22.520962Z",
     "iopub.status.idle": "2024-04-30T15:56:22.591590Z",
     "shell.execute_reply": "2024-04-30T15:56:22.590237Z"
    },
    "papermill": {
     "duration": 0.089428,
     "end_time": "2024-04-30T15:56:22.594390",
     "exception": false,
     "start_time": "2024-04-30T15:56:22.504962",
     "status": "completed"
    },
    "tags": []
   },
   "outputs": [
    {
     "data": {
      "text/html": [
       "\n",
       "<style>\n",
       "  #altair-viz-83c03e2fa61a4e65a3827a44406d1e86.vega-embed {\n",
       "    width: 100%;\n",
       "    display: flex;\n",
       "  }\n",
       "\n",
       "  #altair-viz-83c03e2fa61a4e65a3827a44406d1e86.vega-embed details,\n",
       "  #altair-viz-83c03e2fa61a4e65a3827a44406d1e86.vega-embed details summary {\n",
       "    position: relative;\n",
       "  }\n",
       "</style>\n",
       "<div id=\"altair-viz-83c03e2fa61a4e65a3827a44406d1e86\"></div>\n",
       "<script type=\"text/javascript\">\n",
       "  var VEGA_DEBUG = (typeof VEGA_DEBUG == \"undefined\") ? {} : VEGA_DEBUG;\n",
       "  (function(spec, embedOpt){\n",
       "    let outputDiv = document.currentScript.previousElementSibling;\n",
       "    if (outputDiv.id !== \"altair-viz-83c03e2fa61a4e65a3827a44406d1e86\") {\n",
       "      outputDiv = document.getElementById(\"altair-viz-83c03e2fa61a4e65a3827a44406d1e86\");\n",
       "    }\n",
       "    const paths = {\n",
       "      \"vega\": \"https://cdn.jsdelivr.net/npm/vega@5?noext\",\n",
       "      \"vega-lib\": \"https://cdn.jsdelivr.net/npm/vega-lib?noext\",\n",
       "      \"vega-lite\": \"https://cdn.jsdelivr.net/npm/vega-lite@5.17.0?noext\",\n",
       "      \"vega-embed\": \"https://cdn.jsdelivr.net/npm/vega-embed@6?noext\",\n",
       "    };\n",
       "\n",
       "    function maybeLoadScript(lib, version) {\n",
       "      var key = `${lib.replace(\"-\", \"\")}_version`;\n",
       "      return (VEGA_DEBUG[key] == version) ?\n",
       "        Promise.resolve(paths[lib]) :\n",
       "        new Promise(function(resolve, reject) {\n",
       "          var s = document.createElement('script');\n",
       "          document.getElementsByTagName(\"head\")[0].appendChild(s);\n",
       "          s.async = true;\n",
       "          s.onload = () => {\n",
       "            VEGA_DEBUG[key] = version;\n",
       "            return resolve(paths[lib]);\n",
       "          };\n",
       "          s.onerror = () => reject(`Error loading script: ${paths[lib]}`);\n",
       "          s.src = paths[lib];\n",
       "        });\n",
       "    }\n",
       "\n",
       "    function showError(err) {\n",
       "      outputDiv.innerHTML = `<div class=\"error\" style=\"color:red;\">${err}</div>`;\n",
       "      throw err;\n",
       "    }\n",
       "\n",
       "    function displayChart(vegaEmbed) {\n",
       "      vegaEmbed(outputDiv, spec, embedOpt)\n",
       "        .catch(err => showError(`Javascript Error: ${err.message}<br>This usually means there's a typo in your chart specification. See the javascript console for the full traceback.`));\n",
       "    }\n",
       "\n",
       "    if(typeof define === \"function\" && define.amd) {\n",
       "      requirejs.config({paths});\n",
       "      require([\"vega-embed\"], displayChart, err => showError(`Error loading script: ${err.message}`));\n",
       "    } else {\n",
       "      maybeLoadScript(\"vega\", \"5\")\n",
       "        .then(() => maybeLoadScript(\"vega-lite\", \"5.17.0\"))\n",
       "        .then(() => maybeLoadScript(\"vega-embed\", \"6\"))\n",
       "        .catch(showError)\n",
       "        .then(() => displayChart(vegaEmbed));\n",
       "    }\n",
       "  })({\"config\": {\"view\": {\"continuousWidth\": 300, \"continuousHeight\": 300}}, \"data\": {\"name\": \"data-53746a97c85668a3938be06709cf3a13\"}, \"mark\": {\"type\": \"circle\"}, \"encoding\": {\"color\": {\"field\": \"Genre\", \"scale\": {\"scheme\": \"viridis\"}, \"type\": \"nominal\"}, \"size\": {\"field\": \"Approximate sales in millions\", \"type\": \"quantitative\"}, \"tooltip\": [{\"field\": \"Author(s)\", \"type\": \"nominal\"}, {\"field\": \"Original language\", \"type\": \"nominal\"}, {\"field\": \"Book\", \"type\": \"nominal\"}, {\"field\": \"Genre\", \"type\": \"nominal\"}, {\"field\": \"Approximate sales in millions\", \"type\": \"quantitative\"}], \"x\": {\"field\": \"First published\", \"type\": \"nominal\"}, \"y\": {\"field\": \"Approximate sales in millions\", \"type\": \"quantitative\"}}, \"title\": \"Approximate sales in millions of books by Year First Published\", \"$schema\": \"https://vega.github.io/schema/vega-lite/v5.17.0.json\", \"datasets\": {\"data-53746a97c85668a3938be06709cf3a13\": [{\"Book\": \"A Tale of Two Cities\", \"Author(s)\": \"Charles Dickens\", \"Original language\": \"English\", \"First published\": 1859, \"Approximate sales in millions\": 200.0, \"Genre\": \"Historical fiction\"}, {\"Book\": \"The Little Prince (Le Petit Prince)\", \"Author(s)\": \"Antoine de Saint-Exup\\u00e9ry\", \"Original language\": \"French\", \"First published\": 1943, \"Approximate sales in millions\": 200.0, \"Genre\": \"Novella\"}, {\"Book\": \"Harry Potter and the Philosopher's Stone\", \"Author(s)\": \"J. K. Rowling\", \"Original language\": \"English\", \"First published\": 1997, \"Approximate sales in millions\": 120.0, \"Genre\": \"Fantasy\"}, {\"Book\": \"And Then There Were None\", \"Author(s)\": \"Agatha Christie\", \"Original language\": \"English\", \"First published\": 1939, \"Approximate sales in millions\": 100.0, \"Genre\": \"Mystery\"}, {\"Book\": \"Dream of the Red Chamber (\\u7d05\\u6a13\\u5922)\", \"Author(s)\": \"Cao Xueqin\", \"Original language\": \"Chinese\", \"First published\": 1791, \"Approximate sales in millions\": 100.0, \"Genre\": \"Family saga\"}, {\"Book\": \"The Hobbit\", \"Author(s)\": \"J. R. R. Tolkien\", \"Original language\": \"English\", \"First published\": 1937, \"Approximate sales in millions\": 100.0, \"Genre\": \"Fantasy\"}, {\"Book\": \"The Lion, the Witch and the Wardrobe\", \"Author(s)\": \"C. S. Lewis\", \"Original language\": \"English\", \"First published\": 1950, \"Approximate sales in millions\": 85.0, \"Genre\": \"Fantasy, Children's fiction\"}, {\"Book\": \"She: A History of Adventure\", \"Author(s)\": \"H. Rider Haggard\", \"Original language\": \"English\", \"First published\": 1887, \"Approximate sales in millions\": 83.0, \"Genre\": \"Adventure\"}, {\"Book\": \"Vardi Wala Gunda (\\u0935\\u0930\\u094d\\u0926\\u0940 \\u0935\\u093e\\u0932\\u093e \\u0917\\u0941\\u0902\\u0921\\u093e)\", \"Author(s)\": \"Ved Prakash Sharma\", \"Original language\": \"Hindi\", \"First published\": 1992, \"Approximate sales in millions\": 80.0, \"Genre\": \"Detective\"}, {\"Book\": \"The Da Vinci Code\", \"Author(s)\": \"Dan Brown\", \"Original language\": \"English\", \"First published\": 2003, \"Approximate sales in millions\": 80.0, \"Genre\": \"Mystery thriller\"}, {\"Book\": \"Harry Potter and the Chamber of Secrets\", \"Author(s)\": \"J. K. Rowling\", \"Original language\": \"English\", \"First published\": 1998, \"Approximate sales in millions\": 77.0, \"Genre\": \"Fantasy\"}, {\"Book\": \"Harry Potter and the Prisoner of Azkaban\", \"Author(s)\": \"J. K. Rowling\", \"Original language\": \"English\", \"First published\": 1999, \"Approximate sales in millions\": 65.0, \"Genre\": \"Fantasy\"}, {\"Book\": \"Harry Potter and the Goblet of Fire\", \"Author(s)\": \"J. K. Rowling\", \"Original language\": \"English\", \"First published\": 2000, \"Approximate sales in millions\": 65.0, \"Genre\": \"Fantasy\"}, {\"Book\": \"Harry Potter and the Order of the Phoenix\", \"Author(s)\": \"J. K. Rowling\", \"Original language\": \"English\", \"First published\": 2003, \"Approximate sales in millions\": 65.0, \"Genre\": \"Fantasy\"}, {\"Book\": \"Harry Potter and the Half-Blood Prince\", \"Author(s)\": \"J. K. Rowling\", \"Original language\": \"English\", \"First published\": 2005, \"Approximate sales in millions\": 65.0, \"Genre\": \"Fantasy\"}, {\"Book\": \"Harry Potter and the Deathly Hallows\", \"Author(s)\": \"J. K. Rowling\", \"Original language\": \"English\", \"First published\": 2007, \"Approximate sales in millions\": 65.0, \"Genre\": \"Fantasy\"}, {\"Book\": \"The Alchemist (O Alquimista)\", \"Author(s)\": \"Paulo Coelho\", \"Original language\": \"Portuguese\", \"First published\": 1988, \"Approximate sales in millions\": 65.0, \"Genre\": \"Fantasy\"}, {\"Book\": \"The Catcher in the Rye\", \"Author(s)\": \"J. D. Salinger\", \"Original language\": \"English\", \"First published\": 1951, \"Approximate sales in millions\": 65.0, \"Genre\": \"Coming-of-age\"}, {\"Book\": \"The Bridges of Madison County\", \"Author(s)\": \"Robert James Waller\", \"Original language\": \"English\", \"First published\": 1992, \"Approximate sales in millions\": 60.0, \"Genre\": \"Romance\"}, {\"Book\": \"Ben-Hur: A Tale of the Christ\", \"Author(s)\": \"Lew Wallace\", \"Original language\": \"English\", \"First published\": 1880, \"Approximate sales in millions\": 50.0, \"Genre\": \"Historical fiction\"}, {\"Book\": \"You Can Heal Your Life\", \"Author(s)\": \"Louise Hay\", \"Original language\": \"English\", \"First published\": 1984, \"Approximate sales in millions\": 50.0, \"Genre\": \"Self-help\"}, {\"Book\": \"One Hundred Years of Solitude (Cien a\\u00f1os de soledad)\", \"Author(s)\": \"Gabriel Garc\\u00eda M\\u00e1rquez\", \"Original language\": \"Spanish\", \"First published\": 1967, \"Approximate sales in millions\": 50.0, \"Genre\": \"Magic realism\"}, {\"Book\": \"Lolita\", \"Author(s)\": \"Vladimir Nabokov\", \"Original language\": \"English\", \"First published\": 1955, \"Approximate sales in millions\": 50.0, \"Genre\": \"Novel\"}, {\"Book\": \"Heidi\", \"Author(s)\": \"Johanna Spyri\", \"Original language\": \"German\", \"First published\": 1880, \"Approximate sales in millions\": 50.0, \"Genre\": \"Children's fiction\"}, {\"Book\": \"The Common Sense Book of Baby and Child Care\", \"Author(s)\": \"Benjamin Spock\", \"Original language\": \"English\", \"First published\": 1946, \"Approximate sales in millions\": 50.0, \"Genre\": \"Manual\"}, {\"Book\": \"Anne of Green Gables\", \"Author(s)\": \"Lucy Maud Montgomery\", \"Original language\": \"English\", \"First published\": 1908, \"Approximate sales in millions\": 50.0, \"Genre\": \"Children's novel\"}, {\"Book\": \"Black Beauty\", \"Author(s)\": \"Anna Sewell\", \"Original language\": \"English\", \"First published\": 1877, \"Approximate sales in millions\": 50.0, \"Genre\": \"Children's literature\"}, {\"Book\": \"The Name of the Rose (Il Nome della Rosa)\", \"Author(s)\": \"Umberto Eco\", \"Original language\": \"Italian\", \"First published\": 1980, \"Approximate sales in millions\": 50.0, \"Genre\": \"Historical novel, mystery\"}, {\"Book\": \"The Eagle Has Landed\", \"Author(s)\": \"Jack Higgins\", \"Original language\": \"English\", \"First published\": 1975, \"Approximate sales in millions\": 50.0, \"Genre\": \"War, thriller\"}, {\"Book\": \"Watership Down\", \"Author(s)\": \"Richard Adams\", \"Original language\": \"English\", \"First published\": 1972, \"Approximate sales in millions\": 50.0, \"Genre\": \"Fantasy\"}, {\"Book\": \"The Hite Report\", \"Author(s)\": \"Shere Hite\", \"Original language\": \"English\", \"First published\": 1976, \"Approximate sales in millions\": 50.0, \"Genre\": \"Sexology\"}, {\"Book\": \"Charlotte's Web\", \"Author(s)\": \"E. B. White; illustrated by Garth Williams\", \"Original language\": \"English\", \"First published\": 1952, \"Approximate sales in millions\": 50.0, \"Genre\": \"Children's fiction\"}, {\"Book\": \"The Ginger Man\", \"Author(s)\": \"J. P. Donleavy\", \"Original language\": \"English\", \"First published\": 1955, \"Approximate sales in millions\": 50.0, \"Genre\": \"Novel\"}, {\"Book\": \"The Tale of Peter Rabbit\", \"Author(s)\": \"Beatrix Potter\", \"Original language\": \"English\", \"First published\": 1902, \"Approximate sales in millions\": 45.0, \"Genre\": \"Children's Literature\"}, {\"Book\": \"Jonathan Livingston Seagull\", \"Author(s)\": \"Richard Bach\", \"Original language\": \"English\", \"First published\": 1970, \"Approximate sales in millions\": 44.0, \"Genre\": \"Novella, Self-help\"}, {\"Book\": \"The Very Hungry Caterpillar\", \"Author(s)\": \"Eric Carle\", \"Original language\": \"English\", \"First published\": 1969, \"Approximate sales in millions\": 43.0, \"Genre\": \"Children's Literature, picture book\"}, {\"Book\": \"A Message to Garcia\", \"Author(s)\": \"Elbert Hubbard\", \"Original language\": \"English\", \"First published\": 1899, \"Approximate sales in millions\": 40.0, \"Genre\": \"Essay/Literature\"}, {\"Book\": \"To Kill a Mockingbird\", \"Author(s)\": \"Harper Lee\", \"Original language\": \"English\", \"First published\": 1960, \"Approximate sales in millions\": 40.0, \"Genre\": \"Southern Gothic, Bildungsroman\"}, {\"Book\": \"Flowers in the Attic\", \"Author(s)\": \"V. C. Andrews\", \"Original language\": \"English\", \"First published\": 1979, \"Approximate sales in millions\": 40.0, \"Genre\": \"Gothic horror, Family saga\"}, {\"Book\": \"Cosmos\", \"Author(s)\": \"Carl Sagan\", \"Original language\": \"English\", \"First published\": 1980, \"Approximate sales in millions\": 40.0, \"Genre\": \"Popular science, Anthropology, Astrophysics, Cosmology, Philosophy, History\"}, {\"Book\": \"Sophie's World (Sofies verden)\", \"Author(s)\": \"Jostein Gaarder\", \"Original language\": \"Norwegian\", \"First published\": 1991, \"Approximate sales in millions\": 40.0, \"Genre\": \"Philosophical novel, Young adult\"}, {\"Book\": \"Angels & Demons\", \"Author(s)\": \"Dan Brown\", \"Original language\": \"English\", \"First published\": 2000, \"Approximate sales in millions\": 39.0, \"Genre\": \"Mystery-thriller\"}, {\"Book\": \"Kane and Abel\", \"Author(s)\": \"Jeffrey Archer\", \"Original language\": \"English\", \"First published\": 1979, \"Approximate sales in millions\": 37.0, \"Genre\": \"Novel\"}, {\"Book\": \"How the Steel Was Tempered (\\u041a\\u0430\\u043a \\u0437\\u0430\\u043a\\u0430\\u043b\\u044f\\u043b\\u0430\\u0441\\u044c \\u0441\\u0442\\u0430\\u043b\\u044c)\", \"Author(s)\": \"Nikolai Ostrovsky\", \"Original language\": \"Russian\", \"First published\": 1932, \"Approximate sales in millions\": 36.4, \"Genre\": \"Socialist realist novel\"}, {\"Book\": \"War and Peace (\\u0412\\u043e\\u0439\\u043d\\u0430 \\u0438 \\u043c\\u0438\\u0440)\", \"Author(s)\": \"Leo Tolstoy\", \"Original language\": \"Russian\", \"First published\": 1869, \"Approximate sales in millions\": 36.0, \"Genre\": \"Historical novel\"}, {\"Book\": \"The Adventures of Pinocchio (Le avventure di Pinocchio)\", \"Author(s)\": \"Carlo Collodi\", \"Original language\": \"Italian\", \"First published\": 1881, \"Approximate sales in millions\": 35.0, \"Genre\": \"Fantasy, Children's fiction\"}, {\"Book\": \"The Diary of Anne Frank (Het Achterhuis)\", \"Author(s)\": \"Anne Frank\", \"Original language\": \"Dutch\", \"First published\": 1947, \"Approximate sales in millions\": 35.0, \"Genre\": \"Historical non-fiction, Autobiography, Memoir, Bildungsroman / Coming of Age, Jewish literature\"}, {\"Book\": \"Your Erroneous Zones\", \"Author(s)\": \"Wayne Dyer\", \"Original language\": \"English\", \"First published\": 1976, \"Approximate sales in millions\": 35.0, \"Genre\": \"Self-help\"}, {\"Book\": \"The Thorn Birds\", \"Author(s)\": \"Colleen McCullough\", \"Original language\": \"English\", \"First published\": 1977, \"Approximate sales in millions\": 33.0, \"Genre\": \"Romantic family saga\"}, {\"Book\": \"The Purpose Driven Life\", \"Author(s)\": \"Rick Warren\", \"Original language\": \"English\", \"First published\": 2002, \"Approximate sales in millions\": 33.0, \"Genre\": \"Christian literature\"}, {\"Book\": \"The Kite Runner\", \"Author(s)\": \"Khaled Hosseini\", \"Original language\": \"English\", \"First published\": 2003, \"Approximate sales in millions\": 31.5, \"Genre\": \"Bildungsroman, Historical fiction\"}, {\"Book\": \"Valley of the Dolls\", \"Author(s)\": \"Jacqueline Susann\", \"Original language\": \"English\", \"First published\": 1966, \"Approximate sales in millions\": 31.0, \"Genre\": \"Novel\"}, {\"Book\": \"Alcoholics Anonymous Big Book\", \"Author(s)\": \"Bill Wilson\", \"Original language\": \"English\", \"First published\": 1939, \"Approximate sales in millions\": 30.0, \"Genre\": \"Self-help\"}, {\"Book\": \"How to Win Friends and Influence People\", \"Author(s)\": \"Dale Carnegie\", \"Original language\": \"English\", \"First published\": 1936, \"Approximate sales in millions\": 30.0, \"Genre\": \"Self-help\"}, {\"Book\": \"The Great Gatsby\", \"Author(s)\": \"F. Scott Fitzgerald\", \"Original language\": \"English\", \"First published\": 1925, \"Approximate sales in millions\": 30.0, \"Genre\": \"Novel, tragedy\"}, {\"Book\": \"Gone with the Wind\", \"Author(s)\": \"Margaret Mitchell\", \"Original language\": \"English\", \"First published\": 1936, \"Approximate sales in millions\": 30.0, \"Genre\": \"Historical fiction\"}, {\"Book\": \"Rebecca\", \"Author(s)\": \"Daphne du Maurier\", \"Original language\": \"English\", \"First published\": 1938, \"Approximate sales in millions\": 30.0, \"Genre\": \"Gothic novel\"}, {\"Book\": \"Nineteen Eighty-Four\", \"Author(s)\": \"George Orwell\", \"Original language\": \"English\", \"First published\": 1949, \"Approximate sales in millions\": 30.0, \"Genre\": \"Dystopian, political fiction, social science fiction\"}, {\"Book\": \"The Revolt of Mamie Stover\", \"Author(s)\": \"William Bradford Huie\", \"Original language\": \"English\", \"First published\": 1951, \"Approximate sales in millions\": 30.0, \"Genre\": \"Fiction\"}, {\"Book\": \"The Girl with the Dragon Tattoo (M\\u00e4n som hatar kvinnor)\", \"Author(s)\": \"Stieg Larsson\", \"Original language\": \"Swedish\", \"First published\": 2005, \"Approximate sales in millions\": 30.0, \"Genre\": \"Fiction\"}, {\"Book\": \"The Lost Symbol\", \"Author(s)\": \"Dan Brown\", \"Original language\": \"English\", \"First published\": 2009, \"Approximate sales in millions\": 30.0, \"Genre\": \"Fiction\"}, {\"Book\": \"The Hunger Games\", \"Author(s)\": \"Suzanne Collins\", \"Original language\": \"English\", \"First published\": 2008, \"Approximate sales in millions\": 29.0, \"Genre\": \"Young adult fiction\"}, {\"Book\": \"James and the Giant Peach\", \"Author(s)\": \"Roald Dahl\", \"Original language\": \"English\", \"First published\": 1961, \"Approximate sales in millions\": 28.0, \"Genre\": \"Children's novel\"}, {\"Book\": \"The Young Guard (\\u041c\\u043e\\u043b\\u043e\\u0434\\u0430\\u044f \\u0433\\u0432\\u0430\\u0440\\u0434\\u0438\\u044f)\", \"Author(s)\": \"Alexander Alexandrovich Fadeyev\", \"Original language\": \"Russian\", \"First published\": 1945, \"Approximate sales in millions\": 26.0, \"Genre\": \"Young adult historical novel\"}, {\"Book\": \"Who Moved My Cheese?\", \"Author(s)\": \"Spencer Johnson\", \"Original language\": \"English\", \"First published\": 1998, \"Approximate sales in millions\": 29.0, \"Genre\": \"Self-help, motivational, business fable, psychology, leadership, parable\"}, {\"Book\": \"A Brief History of Time\", \"Author(s)\": \"Stephen Hawking\", \"Original language\": \"English\", \"First published\": 1988, \"Approximate sales in millions\": 25.0, \"Genre\": \"Popular science\"}, {\"Book\": \"Paul et Virginie\", \"Author(s)\": \"Jacques-Henri Bernardin de Saint-Pierre\", \"Original language\": \"French\", \"First published\": 1788, \"Approximate sales in millions\": 25.0, \"Genre\": \"Novel\"}, {\"Book\": \"Lust for Life\", \"Author(s)\": \"Irving Stone\", \"Original language\": \"English\", \"First published\": 1934, \"Approximate sales in millions\": 25.0, \"Genre\": \"Biographical novel\"}, {\"Book\": \"The Wind in the Willows\", \"Author(s)\": \"Kenneth Grahame\", \"Original language\": \"English\", \"First published\": 1908, \"Approximate sales in millions\": 25.0, \"Genre\": \"Children's literature\"}, {\"Book\": \"The 7 Habits of Highly Effective People\", \"Author(s)\": \"Stephen R. Covey\", \"Original language\": \"English\", \"First published\": 1989, \"Approximate sales in millions\": 25.0, \"Genre\": \"Self-help\"}, {\"Book\": \"Virgin Soil Upturned (\\u041f\\u043e\\u0434\\u043d\\u044f\\u0442\\u0430\\u044f \\u0446\\u0435\\u043b\\u0438\\u043d\\u0430)\", \"Author(s)\": \"Mikhail Sholokhov\", \"Original language\": \"Russian\", \"First published\": 1935, \"Approximate sales in millions\": 24.0, \"Genre\": \"Novel\"}, {\"Book\": \"The Celestine Prophecy\", \"Author(s)\": \"James Redfield\", \"Original language\": \"English\", \"First published\": 1993, \"Approximate sales in millions\": 23.0, \"Genre\": \"New-age spiritual novel\"}, {\"Book\": \"The Fault in Our Stars\", \"Author(s)\": \"John Green\", \"Original language\": \"English\", \"First published\": 2012, \"Approximate sales in millions\": 23.0, \"Genre\": \"Young adult romantic novel\"}, {\"Book\": \"The Girl on the Train\", \"Author(s)\": \"Paula Hawkins\", \"Original language\": \"English\", \"First published\": 2015, \"Approximate sales in millions\": 23.0, \"Genre\": \"Thriller\"}, {\"Book\": \"The Shack\", \"Author(s)\": \"William P. Young\", \"Original language\": \"English\", \"First published\": 2007, \"Approximate sales in millions\": 22.5, \"Genre\": \"Novel\"}, {\"Book\": \"Uncle Styopa (\\u0414\\u044f\\u0434\\u044f \\u0421\\u0442\\u0451\\u043f\\u0430)\", \"Author(s)\": \"Sergey Mikhalkov\", \"Original language\": \"Russian\", \"First published\": 1936, \"Approximate sales in millions\": 21.0, \"Genre\": \"Children's Literature, picture book\"}, {\"Book\": \"The Godfather\", \"Author(s)\": \"Mario Puzo\", \"Original language\": \"English\", \"First published\": 1969, \"Approximate sales in millions\": 21.0, \"Genre\": \"Crime novel\"}, {\"Book\": \"Love Story\", \"Author(s)\": \"Erich Segal\", \"Original language\": \"English\", \"First published\": 1970, \"Approximate sales in millions\": 21.0, \"Genre\": \"Romance novel\"}, {\"Book\": \"Catching Fire\", \"Author(s)\": \"Suzanne Collins\", \"Original language\": \"English\", \"First published\": 2009, \"Approximate sales in millions\": 21.0, \"Genre\": \"Young Adult novel, adventure, dystopian, science fiction\"}, {\"Book\": \"Mockingjay\", \"Author(s)\": \"Suzanne Collins\", \"Original language\": \"English\", \"First published\": 2010, \"Approximate sales in millions\": 20.0, \"Genre\": \"Young Adult novel, adventure, war, science fiction, action thriller\"}, {\"Book\": \"Kitchen (\\u30ad\\u30c3\\u30c1\\u30f3)\", \"Author(s)\": \"Banana Yoshimoto\", \"Original language\": \"Japanese\", \"First published\": 1988, \"Approximate sales in millions\": 20.0, \"Genre\": \"Japanese novel\"}, {\"Book\": \"Andromeda Nebula (\\u0422\\u0443\\u043c\\u0430\\u043d\\u043d\\u043e\\u0441\\u0442\\u044c \\u0410\\u043d\\u0434\\u0440\\u043e\\u043c\\u0435\\u0434\\u044b)\", \"Author(s)\": \"Ivan Yefremov\", \"Original language\": \"Russian\", \"First published\": 1957, \"Approximate sales in millions\": 20.0, \"Genre\": \"Science fiction novel\"}, {\"Book\": \"Autobiography of a Yogi (\\u092f\\u094b\\u0917\\u0940 \\u0915\\u0925\\u093e\\u092e\\u0943\\u0924)\", \"Author(s)\": \"Paramahansa Yogananda\", \"Original language\": \"Hindi\", \"First published\": 1946, \"Approximate sales in millions\": 20.0, \"Genre\": \"Autobiography\"}, {\"Book\": \"Gone Girl\", \"Author(s)\": \"Gillian Flynn\", \"Original language\": \"English\", \"First published\": 2012, \"Approximate sales in millions\": 20.0, \"Genre\": \"Crime thriller novel\"}, {\"Book\": \"All Quiet on the Western Front (Im Westen nichts Neues)\", \"Author(s)\": \"Erich Maria Remarque\", \"Original language\": \"German\", \"First published\": 1929, \"Approximate sales in millions\": 20.0, \"Genre\": \"War novel\"}, {\"Book\": \"The Bermuda Triangle\", \"Author(s)\": \"Charles Berlitz\", \"Original language\": \"English\", \"First published\": 1974, \"Approximate sales in millions\": 20.0, \"Genre\": null}, {\"Book\": \"Things Fall Apart \", \"Author(s)\": \"Chinua Achebe\", \"Original language\": \"English\", \"First published\": 1958, \"Approximate sales in millions\": 20.0, \"Genre\": \"Novel\"}, {\"Book\": \"Animal Farm \", \"Author(s)\": \"George Orwell\", \"Original language\": \"English\", \"First published\": 1945, \"Approximate sales in millions\": 20.0, \"Genre\": \"Satirical allegorical novella, Political satire, Dystopian Fiction, Roman \\u00e0 clef\"}, {\"Book\": \"Wolf Totem (\\u72fc\\u56fe\\u817e)\", \"Author(s)\": \"Jiang Rong\", \"Original language\": \"Chinese\", \"First published\": 2004, \"Approximate sales in millions\": 20.0, \"Genre\": \"Semi-autobiographical novel\"}, {\"Book\": \"The Happy Hooker: My Own Story\", \"Author(s)\": \"Xaviera Hollander\", \"Original language\": \"English\", \"First published\": 1971, \"Approximate sales in millions\": 20.0, \"Genre\": \"Memoir\"}, {\"Book\": \"Jaws\", \"Author(s)\": \"Peter Benchley\", \"Original language\": \"English\", \"First published\": 1974, \"Approximate sales in millions\": 20.0, \"Genre\": \"Thriller\"}, {\"Book\": \"Love You Forever\", \"Author(s)\": \"Robert Munsch\", \"Original language\": \"English\", \"First published\": 1986, \"Approximate sales in millions\": 20.0, \"Genre\": \"Children's literature, picture book, fiction\"}, {\"Book\": \"The Women's Room\", \"Author(s)\": \"Marilyn French\", \"Original language\": \"English\", \"First published\": 1977, \"Approximate sales in millions\": 20.0, \"Genre\": \"Feminist novel\"}, {\"Book\": \"What to Expect When You're Expecting\", \"Author(s)\": \"Arlene Eisenberg and Heidi Murkoff\", \"Original language\": \"English\", \"First published\": 1984, \"Approximate sales in millions\": 20.0, \"Genre\": \"Pregnancy guide\"}, {\"Book\": \"Adventures of Huckleberry Finn\", \"Author(s)\": \"Mark Twain\", \"Original language\": \"English\", \"First published\": 1885, \"Approximate sales in millions\": 20.0, \"Genre\": \"Picaresque novel, Bildungsroman, satire, Robinsonade\"}, {\"Book\": \"The Secret Diary of Adrian Mole, Aged 13\\u00be\", \"Author(s)\": \"Sue Townsend\", \"Original language\": \"English\", \"First published\": 1982, \"Approximate sales in millions\": 20.0, \"Genre\": \"Young adult novel\"}, {\"Book\": \"Pride and Prejudice\", \"Author(s)\": \"Jane Austen\", \"Original language\": \"English\", \"First published\": 1813, \"Approximate sales in millions\": 20.0, \"Genre\": \"Classic regency novel, romance\"}, {\"Book\": \"Kon-Tiki: Across the Pacific in a Raft (Kon-Tiki ekspedisjonen)\", \"Author(s)\": \"Thor Heyerdahl\", \"Original language\": \"Norwegian\", \"First published\": 1950, \"Approximate sales in millions\": 20.0, \"Genre\": \"Travel literature\"}, {\"Book\": \"The Good Soldier \\u0160vejk (Osudy dobr\\u00e9ho voj\\u00e1ka \\u0160vejka za sv\\u011btov\\u00e9 v\\u00e1lky)\", \"Author(s)\": \"Jaroslav Ha\\u0161ek\", \"Original language\": \"Czech\", \"First published\": 1923, \"Approximate sales in millions\": 20.0, \"Genre\": \"Unfinished satirical dark comedy novel\"}, {\"Book\": \"Where the Wild Things Are\", \"Author(s)\": \"Maurice Sendak\", \"Original language\": \"English\", \"First published\": 1963, \"Approximate sales in millions\": 20.0, \"Genre\": \"Children's picture book\"}, {\"Book\": \"The Power of Positive Thinking\", \"Author(s)\": \"Norman Vincent Peale\", \"Original language\": \"English\", \"First published\": 1952, \"Approximate sales in millions\": 20.0, \"Genre\": \"Self-help\"}, {\"Book\": \"The Secret\", \"Author(s)\": \"Rhonda Byrne\", \"Original language\": \"English\", \"First published\": 2006, \"Approximate sales in millions\": 20.0, \"Genre\": \"Self-help\"}, {\"Book\": \"Fear of Flying\", \"Author(s)\": \"Erica Jong\", \"Original language\": \"English\", \"First published\": 1973, \"Approximate sales in millions\": 20.0, \"Genre\": \"Romantic novel\"}, {\"Book\": \"Dune\", \"Author(s)\": \"Frank Herbert\", \"Original language\": \"English\", \"First published\": 1965, \"Approximate sales in millions\": 20.0, \"Genre\": \"Science fiction novel\"}, {\"Book\": \"Charlie and the Chocolate Factory\", \"Author(s)\": \"Roald Dahl\", \"Original language\": \"English\", \"First published\": 1964, \"Approximate sales in millions\": 20.0, \"Genre\": \"Children's fantasy novel\"}, {\"Book\": \"The Naked Ape\", \"Author(s)\": \"Desmond Morris\", \"Original language\": \"English\", \"First published\": 1968, \"Approximate sales in millions\": 20.0, \"Genre\": \"Social Science, Anthropology, Psychology\"}, {\"Book\": \"Where the Crawdads Sing\", \"Author(s)\": \"Delia Owens\", \"Original language\": \"English\", \"First published\": 2018, \"Approximate sales in millions\": 18.0, \"Genre\": \"Coming-of-age Murder mystery\"}, {\"Book\": \"Totto-chan, the Little Girl at the Window (\\u7a93\\u304e\\u308f\\u306e\\u30c8\\u30c3\\u30c8\\u3061\\u3083\\u3093)\", \"Author(s)\": \"Tetsuko Kuroyanagi\", \"Original language\": \"Japanese\", \"First published\": 1981, \"Approximate sales in millions\": 18.0, \"Genre\": \"Autobiographical novel\"}, {\"Book\": \"Matilda\", \"Author(s)\": \"Roald Dahl\", \"Original language\": \"English\", \"First published\": 1988, \"Approximate sales in millions\": 17.0, \"Genre\": \"Children's Literature\"}, {\"Book\": \"The Book Thief\", \"Author(s)\": \"Markus Zusak\", \"Original language\": \"English\", \"First published\": 2005, \"Approximate sales in millions\": 16.0, \"Genre\": \"Young Adult Fiction\"}, {\"Book\": \"The Horse Whisperer\", \"Author(s)\": \"Nicholas Evans\", \"Original language\": \"English\", \"First published\": 1995, \"Approximate sales in millions\": 16.0, \"Genre\": null}, {\"Book\": \"Goodnight Moon\", \"Author(s)\": \"Margaret Wise Brown\", \"Original language\": \"English\", \"First published\": 1947, \"Approximate sales in millions\": 16.0, \"Genre\": \"Children's Literature\"}, {\"Book\": \"The Neverending Story (Die unendliche Geschichte)\", \"Author(s)\": \"Michael Ende\", \"Original language\": \"German\", \"First published\": 1979, \"Approximate sales in millions\": 16.0, \"Genre\": \"Children's Literature\"}, {\"Book\": \"All the Light We Cannot See\", \"Author(s)\": \"Anthony Doerr\", \"Original language\": \"English\", \"First published\": 2014, \"Approximate sales in millions\": 15.3, \"Genre\": \"Historical fiction, war novel\"}, {\"Book\": \"Fifty Shades of Grey\", \"Author(s)\": \"E. L. James\", \"Original language\": \"English\", \"First published\": 2011, \"Approximate sales in millions\": 15.2, \"Genre\": \"Erotica\"}, {\"Book\": \"The Outsiders\", \"Author(s)\": \"S. E. Hinton\", \"Original language\": \"English\", \"First published\": 1967, \"Approximate sales in millions\": 15.0, \"Genre\": null}, {\"Book\": \"Guess How Much I Love You\", \"Author(s)\": \"Sam McBratney\", \"Original language\": \"English\", \"First published\": 1994, \"Approximate sales in millions\": 15.0, \"Genre\": null}, {\"Book\": \"Sh\\u014dgun\", \"Author(s)\": \"James Clavell\", \"Original language\": \"English\", \"First published\": 1975, \"Approximate sales in millions\": 15.0, \"Genre\": null}, {\"Book\": \"The Poky Little Puppy\", \"Author(s)\": \"Janette Sebring Lowrey\", \"Original language\": \"English\", \"First published\": 1942, \"Approximate sales in millions\": 15.0, \"Genre\": null}, {\"Book\": \"The Pillars of the Earth\", \"Author(s)\": \"Ken Follett\", \"Original language\": \"English\", \"First published\": 1989, \"Approximate sales in millions\": 15.0, \"Genre\": \"Historical fiction\"}, {\"Book\": \"Perfume (Das Parfum)\", \"Author(s)\": \"Patrick S\\u00fcskind\", \"Original language\": \"German\", \"First published\": 1985, \"Approximate sales in millions\": 15.0, \"Genre\": null}, {\"Book\": \"The Grapes of Wrath\", \"Author(s)\": \"John Steinbeck\", \"Original language\": \"English\", \"First published\": 1939, \"Approximate sales in millions\": 15.0, \"Genre\": null}, {\"Book\": \"The Shadow of the Wind (La sombra del viento)\", \"Author(s)\": \"Carlos Ruiz Zaf\\u00f3n\", \"Original language\": \"Spanish\", \"First published\": 2001, \"Approximate sales in millions\": 15.0, \"Genre\": null}, {\"Book\": \"Interpreter of Maladies\", \"Author(s)\": \"Jhumpa Lahiri\", \"Original language\": \"English\", \"First published\": 2000, \"Approximate sales in millions\": 15.0, \"Genre\": null}, {\"Book\": \"Becoming\", \"Author(s)\": \"Michelle Obama\", \"Original language\": \"English\", \"First published\": 2018, \"Approximate sales in millions\": 14.0, \"Genre\": null}, {\"Book\": \"The Hitchhiker's Guide to the Galaxy\", \"Author(s)\": \"Douglas Adams\", \"Original language\": \"English\", \"First published\": 1979, \"Approximate sales in millions\": 14.0, \"Genre\": \"Science fiction\"}, {\"Book\": \"Tuesdays with Morrie\", \"Author(s)\": \"Mitch Albom\", \"Original language\": \"English\", \"First published\": 1997, \"Approximate sales in millions\": 14.0, \"Genre\": null}, {\"Book\": \"God's Little Acre\", \"Author(s)\": \"Erskine Caldwell\", \"Original language\": \"English\", \"First published\": 1933, \"Approximate sales in millions\": 14.0, \"Genre\": null}, {\"Book\": \"Follow Your Heart (Va' dove ti porta il cuore)\", \"Author(s)\": \"Susanna Tamaro\", \"Original language\": \"Italian\", \"First published\": 1994, \"Approximate sales in millions\": 14.0, \"Genre\": null}, {\"Book\": \"A Wrinkle in Time\", \"Author(s)\": \"Madeleine L'Engle\", \"Original language\": \"English\", \"First published\": 1962, \"Approximate sales in millions\": 14.0, \"Genre\": null}, {\"Book\": \"Long Walk to Freedom\", \"Author(s)\": \"Nelson Mandela\", \"Original language\": \"English\", \"First published\": 1994, \"Approximate sales in millions\": 14.0, \"Genre\": null}, {\"Book\": \"The Old Man and the Sea\", \"Author(s)\": \"Ernest Hemingway\", \"Original language\": \"English\", \"First published\": 1952, \"Approximate sales in millions\": 13.0, \"Genre\": null}, {\"Book\": \"Life After Life\", \"Author(s)\": \"Raymond Moody\", \"Original language\": \"English\", \"First published\": 1975, \"Approximate sales in millions\": 13.0, \"Genre\": null}, {\"Book\": \"Peyton Place \", \"Author(s)\": \"Grace Metalious\", \"Original language\": \"English\", \"First published\": 1956, \"Approximate sales in millions\": 12.1, \"Genre\": null}, {\"Book\": \"The Giver\", \"Author(s)\": \"Lois Lowry\", \"Original language\": \"English\", \"First published\": 1993, \"Approximate sales in millions\": 12.0, \"Genre\": \"Dystopian fiction\"}, {\"Book\": \"Me Before You\", \"Author(s)\": \"Jojo Moyes\", \"Original language\": \"English\", \"First published\": 2012, \"Approximate sales in millions\": 12.0, \"Genre\": null}, {\"Book\": \"Norwegian Wood (\\u30ce\\u30eb\\u30a6\\u30a7\\u30a4\\u306e\\u68ee)\", \"Author(s)\": \"Haruki Murakami\", \"Original language\": \"Japanese\", \"First published\": 1987, \"Approximate sales in millions\": 12.0, \"Genre\": null}, {\"Book\": \"The Plague (La Peste)\", \"Author(s)\": \"Albert Camus\", \"Original language\": \"French\", \"First published\": 1947, \"Approximate sales in millions\": 12.0, \"Genre\": null}, {\"Book\": \"No Longer Human (\\u4eba\\u9593\\u5931\\u683c)\", \"Author(s)\": \"Osamu Dazai\", \"Original language\": \"Japanese\", \"First published\": 1948, \"Approximate sales in millions\": 12.0, \"Genre\": null}, {\"Book\": \"Man's Search for Meaning (Ein Psychologe erlebt das Konzentrationslager)\", \"Author(s)\": \"Viktor Frankl\", \"Original language\": \"German\", \"First published\": 1946, \"Approximate sales in millions\": 12.0, \"Genre\": null}, {\"Book\": \"The Divine Comedy (La Divina Commedia)\", \"Author(s)\": \"Dante Alighieri\", \"Original language\": \"Italian\", \"First published\": 1304, \"Approximate sales in millions\": 11.5, \"Genre\": null}, {\"Book\": \"The Prophet\", \"Author(s)\": \"Kahlil Gibran\", \"Original language\": \"English\", \"First published\": 1923, \"Approximate sales in millions\": 11.0, \"Genre\": null}, {\"Book\": \"The Boy in the Striped Pyjamas\", \"Author(s)\": \"John Boyne\", \"Original language\": \"English\", \"First published\": 2006, \"Approximate sales in millions\": 11.0, \"Genre\": null}, {\"Book\": \"The Exorcist\", \"Author(s)\": \"William Peter Blatty\", \"Original language\": \"English\", \"First published\": 1971, \"Approximate sales in millions\": 11.0, \"Genre\": \"Horror\"}, {\"Book\": \"The Gruffalo\", \"Author(s)\": \"Julia Donaldson\", \"Original language\": \"English\", \"First published\": 1999, \"Approximate sales in millions\": 10.5, \"Genre\": null}, {\"Book\": \"Fifty Shades Darker\", \"Author(s)\": \"E. L. James\", \"Original language\": \"English\", \"First published\": 2012, \"Approximate sales in millions\": 10.4, \"Genre\": \"Erotica\"}, {\"Book\": \"Tobacco Road\", \"Author(s)\": \"Erskine Caldwell\", \"Original language\": \"English\", \"First published\": 1932, \"Approximate sales in millions\": 10.0, \"Genre\": null}, {\"Book\": \"Ronia, the Robber's Daughter\", \"Author(s)\": \"Astrid Lindgren\", \"Original language\": \"Swedish\", \"First published\": 1981, \"Approximate sales in millions\": 10.0, \"Genre\": null}, {\"Book\": \"The Cat in the Hat\", \"Author(s)\": \"Dr. Seuss\", \"Original language\": \"English\", \"First published\": 1957, \"Approximate sales in millions\": 10.5, \"Genre\": null}, {\"Book\": \"Diana: Her True Story\", \"Author(s)\": \"Andrew Morton\", \"Original language\": \"English\", \"First published\": 1992, \"Approximate sales in millions\": 10.0, \"Genre\": null}, {\"Book\": \"The Help\", \"Author(s)\": \"Kathryn Stockett\", \"Original language\": \"English\", \"First published\": 2009, \"Approximate sales in millions\": 10.0, \"Genre\": null}, {\"Book\": \"Catch-22\", \"Author(s)\": \"Joseph Heller\", \"Original language\": \"English\", \"First published\": 1961, \"Approximate sales in millions\": 10.0, \"Genre\": null}, {\"Book\": \"The Stranger (L'\\u00c9tranger)\", \"Author(s)\": \"Albert Camus\", \"Original language\": \"French\", \"First published\": 1942, \"Approximate sales in millions\": 10.0, \"Genre\": null}, {\"Book\": \"Eye of the Needle\", \"Author(s)\": \"Ken Follett\", \"Original language\": \"English\", \"First published\": 1978, \"Approximate sales in millions\": 10.0, \"Genre\": null}, {\"Book\": \"The Lovely Bones\", \"Author(s)\": \"Alice Sebold\", \"Original language\": \"English\", \"First published\": 2002, \"Approximate sales in millions\": 10.0, \"Genre\": null}, {\"Book\": \"Wild Swans\", \"Author(s)\": \"Jung Chang\", \"Original language\": \"English\", \"First published\": 1992, \"Approximate sales in millions\": 10.0, \"Genre\": null}, {\"Book\": \"Santa Evita\", \"Author(s)\": \"Tom\\u00e1s Eloy Mart\\u00ednez\", \"Original language\": \"Spanish\", \"First published\": 1995, \"Approximate sales in millions\": 10.0, \"Genre\": null}, {\"Book\": \"Night (Un di Velt Hot Geshvign)\", \"Author(s)\": \"Elie Wiesel\", \"Original language\": \"Yiddish\", \"First published\": 1958, \"Approximate sales in millions\": 10.0, \"Genre\": null}, {\"Book\": \"Confucius from the Heart (\\u4e8e\\u4e39\\u300a\\u8bba\\u8bed\\u300b\\u5fc3\\u5f97)\", \"Author(s)\": \"Yu Dan\", \"Original language\": \"Chinese\", \"First published\": 2006, \"Approximate sales in millions\": 10.0, \"Genre\": null}, {\"Book\": \"The Total Woman\", \"Author(s)\": \"Marabel Morgan\", \"Original language\": \"English\", \"First published\": 1974, \"Approximate sales in millions\": 10.0, \"Genre\": null}, {\"Book\": \"Knowledge-value Revolution (\\u77e5\\u4fa1\\u9769\\u547d)\", \"Author(s)\": \"Taichi Sakaiya\", \"Original language\": \"Japanese\", \"First published\": 1985, \"Approximate sales in millions\": 10.0, \"Genre\": null}, {\"Book\": \"Problems in China's Socialist Economy (\\u4e2d\\u56fd\\u793e\\u4f1a\\u4e3b\\u4e49\\u7ecf\\u6d4e\\u95ee\\u9898\\u7814\\u7a76)\", \"Author(s)\": \"Xue Muqiao\", \"Original language\": \"Chinese\", \"First published\": 1979, \"Approximate sales in millions\": 10.0, \"Genre\": null}, {\"Book\": \"What Color Is Your Parachute?\", \"Author(s)\": \"Richard Nelson Bolles\", \"Original language\": \"English\", \"First published\": 1970, \"Approximate sales in millions\": 10.0, \"Genre\": null}, {\"Book\": \"The Dukan Diet\", \"Author(s)\": \"Pierre Dukan\", \"Original language\": \"French\", \"First published\": 2000, \"Approximate sales in millions\": 10.0, \"Genre\": null}, {\"Book\": \"The Joy of Sex\", \"Author(s)\": \"Alex Comfort\", \"Original language\": \"English\", \"First published\": 1972, \"Approximate sales in millions\": 10.0, \"Genre\": null}, {\"Book\": \"The Gospel According to Peanuts\", \"Author(s)\": \"Robert L. Short\", \"Original language\": \"English\", \"First published\": 1965, \"Approximate sales in millions\": 10.0, \"Genre\": null}, {\"Book\": \"The Subtle Art of Not Giving a Fuck\", \"Author(s)\": \"Mark Manson\", \"Original language\": \"English\", \"First published\": 2016, \"Approximate sales in millions\": 10.0, \"Genre\": null}, {\"Book\": \"Life of Pi\", \"Author(s)\": \"Yann Martel\", \"Original language\": \"English\", \"First published\": 2001, \"Approximate sales in millions\": 10.0, \"Genre\": null}, {\"Book\": \"The Front Runner\", \"Author(s)\": \"Patricia Nell Warren\", \"Original language\": \"English\", \"First published\": 1974, \"Approximate sales in millions\": 10.0, \"Genre\": null}, {\"Book\": \"The Goal\", \"Author(s)\": \"Eliyahu M. Goldratt\", \"Original language\": \"English\", \"First published\": 1984, \"Approximate sales in millions\": 10.0, \"Genre\": null}, {\"Book\": \"Fahrenheit 451\", \"Author(s)\": \"Ray Bradbury\", \"Original language\": \"English\", \"First published\": 1953, \"Approximate sales in millions\": 10.0, \"Genre\": null}, {\"Book\": \"Angela's Ashes\", \"Author(s)\": \"Frank McCourt\", \"Original language\": \"English\", \"First published\": 1996, \"Approximate sales in millions\": 10.0, \"Genre\": null}, {\"Book\": \"The Story of My Experiments with Truth (\\u0ab8\\u0aa4\\u0acd\\u0aaf\\u0aa8\\u0abe \\u0aaa\\u0acd\\u0ab0\\u0aaf\\u0acb\\u0a97\\u0acb \\u0a85\\u0aa5\\u0ab5\\u0abe \\u0a86\\u0aa4\\u0acd\\u0aae\\u0a95\\u0aa5\\u0abe)\", \"Author(s)\": \"Mohandas Karamchand Gandhi\", \"Original language\": \"Gujarati\", \"First published\": 1929, \"Approximate sales in millions\": 10.0, \"Genre\": null}, {\"Book\": \"Bridget Jones's Diary\", \"Author(s)\": \"Helen Fielding\", \"Original language\": \"English\", \"First published\": 1996, \"Approximate sales in millions\": 10.0, \"Genre\": null}]}}, {\"mode\": \"vega-lite\"});\n",
       "</script>"
      ],
      "text/plain": [
       "alt.Chart(...)"
      ]
     },
     "execution_count": 28,
     "metadata": {},
     "output_type": "execute_result"
    }
   ],
   "source": [
    "alt.Chart(df).mark_circle().encode(\n",
    "    y='Approximate sales in millions:Q', \n",
    "    x='First published:N',\n",
    "    color=alt.Color(\"Genre\", scale = alt.Scale(scheme = \"viridis\")),\n",
    "    tooltip = ['Author(s)', 'Original language', 'Book', 'Genre', 'Approximate sales in millions'],\n",
    "    size = 'Approximate sales in millions'\n",
    "\n",
    ").properties(\n",
    "title='Approximate sales in millions of books by Year First Published')"
   ]
  },
  {
   "cell_type": "markdown",
   "id": "1ab6fee6",
   "metadata": {
    "papermill": {
     "duration": 0.014711,
     "end_time": "2024-04-30T15:56:22.624673",
     "exception": false,
     "start_time": "2024-04-30T15:56:22.609962",
     "status": "completed"
    },
    "tags": []
   },
   "source": [
    "# Extras: Analysis of the Top 20 Genres"
   ]
  },
  {
   "cell_type": "code",
   "execution_count": 29,
   "id": "1be68add",
   "metadata": {
    "execution": {
     "iopub.execute_input": "2024-04-30T15:56:22.655758Z",
     "iopub.status.busy": "2024-04-30T15:56:22.655400Z",
     "iopub.status.idle": "2024-04-30T15:56:22.681610Z",
     "shell.execute_reply": "2024-04-30T15:56:22.680276Z"
    },
    "papermill": {
     "duration": 0.044318,
     "end_time": "2024-04-30T15:56:22.683720",
     "exception": false,
     "start_time": "2024-04-30T15:56:22.639402",
     "status": "completed"
    },
    "tags": []
   },
   "outputs": [
    {
     "data": {
      "text/html": [
       "<div>\n",
       "<style scoped>\n",
       "    .dataframe tbody tr th:only-of-type {\n",
       "        vertical-align: middle;\n",
       "    }\n",
       "\n",
       "    .dataframe tbody tr th {\n",
       "        vertical-align: top;\n",
       "    }\n",
       "\n",
       "    .dataframe thead th {\n",
       "        text-align: right;\n",
       "    }\n",
       "</style>\n",
       "<table border=\"1\" class=\"dataframe\">\n",
       "  <thead>\n",
       "    <tr style=\"text-align: right;\">\n",
       "      <th></th>\n",
       "      <th>Book</th>\n",
       "      <th>Author(s)</th>\n",
       "      <th>Original language</th>\n",
       "      <th>First published</th>\n",
       "      <th>Approximate sales in millions</th>\n",
       "      <th>Genre</th>\n",
       "    </tr>\n",
       "  </thead>\n",
       "  <tbody>\n",
       "    <tr>\n",
       "      <th>0</th>\n",
       "      <td>A Tale of Two Cities</td>\n",
       "      <td>Charles Dickens</td>\n",
       "      <td>English</td>\n",
       "      <td>1859</td>\n",
       "      <td>200.0</td>\n",
       "      <td>Historical fiction</td>\n",
       "    </tr>\n",
       "    <tr>\n",
       "      <th>19</th>\n",
       "      <td>Ben-Hur: A Tale of the Christ</td>\n",
       "      <td>Lew Wallace</td>\n",
       "      <td>English</td>\n",
       "      <td>1880</td>\n",
       "      <td>50.0</td>\n",
       "      <td>Historical fiction</td>\n",
       "    </tr>\n",
       "    <tr>\n",
       "      <th>55</th>\n",
       "      <td>Gone with the Wind</td>\n",
       "      <td>Margaret Mitchell</td>\n",
       "      <td>English</td>\n",
       "      <td>1936</td>\n",
       "      <td>30.0</td>\n",
       "      <td>Historical fiction</td>\n",
       "    </tr>\n",
       "    <tr>\n",
       "      <th>119</th>\n",
       "      <td>The Pillars of the Earth</td>\n",
       "      <td>Ken Follett</td>\n",
       "      <td>English</td>\n",
       "      <td>1989</td>\n",
       "      <td>15.0</td>\n",
       "      <td>Historical fiction</td>\n",
       "    </tr>\n",
       "    <tr>\n",
       "      <th>2</th>\n",
       "      <td>Harry Potter and the Philosopher's Stone</td>\n",
       "      <td>J. K. Rowling</td>\n",
       "      <td>English</td>\n",
       "      <td>1997</td>\n",
       "      <td>120.0</td>\n",
       "      <td>Fantasy</td>\n",
       "    </tr>\n",
       "  </tbody>\n",
       "</table>\n",
       "</div>"
      ],
      "text/plain": [
       "                                         Book          Author(s)  \\\n",
       "0                        A Tale of Two Cities    Charles Dickens   \n",
       "19              Ben-Hur: A Tale of the Christ        Lew Wallace   \n",
       "55                         Gone with the Wind  Margaret Mitchell   \n",
       "119                  The Pillars of the Earth        Ken Follett   \n",
       "2    Harry Potter and the Philosopher's Stone      J. K. Rowling   \n",
       "\n",
       "    Original language First published  Approximate sales in millions  \\\n",
       "0             English            1859                          200.0   \n",
       "19            English            1880                           50.0   \n",
       "55            English            1936                           30.0   \n",
       "119           English            1989                           15.0   \n",
       "2             English            1997                          120.0   \n",
       "\n",
       "                  Genre  \n",
       "0    Historical fiction  \n",
       "19   Historical fiction  \n",
       "55   Historical fiction  \n",
       "119  Historical fiction  \n",
       "2               Fantasy  "
      ]
     },
     "execution_count": 29,
     "metadata": {},
     "output_type": "execute_result"
    }
   ],
   "source": [
    "df_fan_childs_fic = df[df['Genre']==\"Fantasy, Children's fiction\"]\n",
    "df_adv = df[df['Genre']==\"Adventure\"]\n",
    "df_detec = df[df['Genre']==\"Detective\"]\n",
    "df_mys_thr = df[df['Genre']==\"Mystery thriller\"]\n",
    "df_coa = df[df['Genre']==\"Coming-of-age\"]\n",
    "df_rom = df[df['Genre']==\"Romance\"]\n",
    "df_sh = df[df['Genre']==\"Self-help\"]\n",
    "df_mr = df[df['Genre']==\"Magic realism\"]\n",
    "df_nov = df[df['Genre']==\"Novel\"]\n",
    "df_cf = df[df['Genre']==\"Children's fiction\"]\n",
    "df_mn = df[df['Genre']==\"Manual\"]\n",
    "df_cn = df[df['Genre']==\"Children's novel\"]\n",
    "df_cl = df[df['Genre']==\"Children's literature\"]\n",
    "df_hn_mys = df[df['Genre']==\"Historical novel, mystery\"]\n",
    "df_wr_thr = df[df['Genre']==\"War, thriller\"]\n",
    "\n",
    "top_20 = [df_historical_fic, df_fantasy, df_mystery, df_novella, df_family_saga, df_fan_childs_fic, \n",
    "          df_adv, df_detec, df_mys_thr, df_coa, df_rom, df_sh, df_mr, df_nov,\n",
    "         df_cf, df_mn, df_cn, df_cl, df_hn_mys, df_wr_thr]\n",
    "df_top20 = pd.concat(top_20)\n",
    "df_top20.head()"
   ]
  },
  {
   "cell_type": "code",
   "execution_count": 30,
   "id": "fab0ebc3",
   "metadata": {
    "execution": {
     "iopub.execute_input": "2024-04-30T15:56:22.716364Z",
     "iopub.status.busy": "2024-04-30T15:56:22.715023Z",
     "iopub.status.idle": "2024-04-30T15:56:22.778339Z",
     "shell.execute_reply": "2024-04-30T15:56:22.777599Z"
    },
    "papermill": {
     "duration": 0.081595,
     "end_time": "2024-04-30T15:56:22.780231",
     "exception": false,
     "start_time": "2024-04-30T15:56:22.698636",
     "status": "completed"
    },
    "tags": []
   },
   "outputs": [
    {
     "data": {
      "text/html": [
       "\n",
       "<style>\n",
       "  #altair-viz-40d8690acf984b8488e9b26a356adb17.vega-embed {\n",
       "    width: 100%;\n",
       "    display: flex;\n",
       "  }\n",
       "\n",
       "  #altair-viz-40d8690acf984b8488e9b26a356adb17.vega-embed details,\n",
       "  #altair-viz-40d8690acf984b8488e9b26a356adb17.vega-embed details summary {\n",
       "    position: relative;\n",
       "  }\n",
       "</style>\n",
       "<div id=\"altair-viz-40d8690acf984b8488e9b26a356adb17\"></div>\n",
       "<script type=\"text/javascript\">\n",
       "  var VEGA_DEBUG = (typeof VEGA_DEBUG == \"undefined\") ? {} : VEGA_DEBUG;\n",
       "  (function(spec, embedOpt){\n",
       "    let outputDiv = document.currentScript.previousElementSibling;\n",
       "    if (outputDiv.id !== \"altair-viz-40d8690acf984b8488e9b26a356adb17\") {\n",
       "      outputDiv = document.getElementById(\"altair-viz-40d8690acf984b8488e9b26a356adb17\");\n",
       "    }\n",
       "    const paths = {\n",
       "      \"vega\": \"https://cdn.jsdelivr.net/npm/vega@5?noext\",\n",
       "      \"vega-lib\": \"https://cdn.jsdelivr.net/npm/vega-lib?noext\",\n",
       "      \"vega-lite\": \"https://cdn.jsdelivr.net/npm/vega-lite@5.17.0?noext\",\n",
       "      \"vega-embed\": \"https://cdn.jsdelivr.net/npm/vega-embed@6?noext\",\n",
       "    };\n",
       "\n",
       "    function maybeLoadScript(lib, version) {\n",
       "      var key = `${lib.replace(\"-\", \"\")}_version`;\n",
       "      return (VEGA_DEBUG[key] == version) ?\n",
       "        Promise.resolve(paths[lib]) :\n",
       "        new Promise(function(resolve, reject) {\n",
       "          var s = document.createElement('script');\n",
       "          document.getElementsByTagName(\"head\")[0].appendChild(s);\n",
       "          s.async = true;\n",
       "          s.onload = () => {\n",
       "            VEGA_DEBUG[key] = version;\n",
       "            return resolve(paths[lib]);\n",
       "          };\n",
       "          s.onerror = () => reject(`Error loading script: ${paths[lib]}`);\n",
       "          s.src = paths[lib];\n",
       "        });\n",
       "    }\n",
       "\n",
       "    function showError(err) {\n",
       "      outputDiv.innerHTML = `<div class=\"error\" style=\"color:red;\">${err}</div>`;\n",
       "      throw err;\n",
       "    }\n",
       "\n",
       "    function displayChart(vegaEmbed) {\n",
       "      vegaEmbed(outputDiv, spec, embedOpt)\n",
       "        .catch(err => showError(`Javascript Error: ${err.message}<br>This usually means there's a typo in your chart specification. See the javascript console for the full traceback.`));\n",
       "    }\n",
       "\n",
       "    if(typeof define === \"function\" && define.amd) {\n",
       "      requirejs.config({paths});\n",
       "      require([\"vega-embed\"], displayChart, err => showError(`Error loading script: ${err.message}`));\n",
       "    } else {\n",
       "      maybeLoadScript(\"vega\", \"5\")\n",
       "        .then(() => maybeLoadScript(\"vega-lite\", \"5.17.0\"))\n",
       "        .then(() => maybeLoadScript(\"vega-embed\", \"6\"))\n",
       "        .catch(showError)\n",
       "        .then(() => displayChart(vegaEmbed));\n",
       "    }\n",
       "  })({\"config\": {\"view\": {\"continuousWidth\": 300, \"continuousHeight\": 300}}, \"data\": {\"name\": \"data-9807bbc4ea93e65b5394611068148e24\"}, \"mark\": {\"type\": \"bar\"}, \"encoding\": {\"color\": {\"field\": \"Original language\", \"type\": \"nominal\"}, \"tooltip\": [{\"field\": \"Author(s)\", \"type\": \"nominal\"}, {\"field\": \"Original language\", \"type\": \"nominal\"}, {\"field\": \"Book\", \"type\": \"nominal\"}, {\"field\": \"Genre\", \"type\": \"nominal\"}, {\"field\": \"Approximate sales in millions\", \"type\": \"quantitative\"}, {\"field\": \"First published\", \"type\": \"quantitative\"}], \"x\": {\"field\": \"First published\", \"type\": \"nominal\"}, \"y\": {\"field\": \"Approximate sales in millions\", \"type\": \"quantitative\"}}, \"$schema\": \"https://vega.github.io/schema/vega-lite/v5.17.0.json\", \"datasets\": {\"data-9807bbc4ea93e65b5394611068148e24\": [{\"Book\": \"A Tale of Two Cities\", \"Author(s)\": \"Charles Dickens\", \"Original language\": \"English\", \"First published\": 1859, \"Approximate sales in millions\": 200.0, \"Genre\": \"Historical fiction\"}, {\"Book\": \"Ben-Hur: A Tale of the Christ\", \"Author(s)\": \"Lew Wallace\", \"Original language\": \"English\", \"First published\": 1880, \"Approximate sales in millions\": 50.0, \"Genre\": \"Historical fiction\"}, {\"Book\": \"Gone with the Wind\", \"Author(s)\": \"Margaret Mitchell\", \"Original language\": \"English\", \"First published\": 1936, \"Approximate sales in millions\": 30.0, \"Genre\": \"Historical fiction\"}, {\"Book\": \"The Pillars of the Earth\", \"Author(s)\": \"Ken Follett\", \"Original language\": \"English\", \"First published\": 1989, \"Approximate sales in millions\": 15.0, \"Genre\": \"Historical fiction\"}, {\"Book\": \"Harry Potter and the Philosopher's Stone\", \"Author(s)\": \"J. K. Rowling\", \"Original language\": \"English\", \"First published\": 1997, \"Approximate sales in millions\": 120.0, \"Genre\": \"Fantasy\"}, {\"Book\": \"The Hobbit\", \"Author(s)\": \"J. R. R. Tolkien\", \"Original language\": \"English\", \"First published\": 1937, \"Approximate sales in millions\": 100.0, \"Genre\": \"Fantasy\"}, {\"Book\": \"Harry Potter and the Chamber of Secrets\", \"Author(s)\": \"J. K. Rowling\", \"Original language\": \"English\", \"First published\": 1998, \"Approximate sales in millions\": 77.0, \"Genre\": \"Fantasy\"}, {\"Book\": \"Harry Potter and the Prisoner of Azkaban\", \"Author(s)\": \"J. K. Rowling\", \"Original language\": \"English\", \"First published\": 1999, \"Approximate sales in millions\": 65.0, \"Genre\": \"Fantasy\"}, {\"Book\": \"Harry Potter and the Goblet of Fire\", \"Author(s)\": \"J. K. Rowling\", \"Original language\": \"English\", \"First published\": 2000, \"Approximate sales in millions\": 65.0, \"Genre\": \"Fantasy\"}, {\"Book\": \"Harry Potter and the Order of the Phoenix\", \"Author(s)\": \"J. K. Rowling\", \"Original language\": \"English\", \"First published\": 2003, \"Approximate sales in millions\": 65.0, \"Genre\": \"Fantasy\"}, {\"Book\": \"Harry Potter and the Half-Blood Prince\", \"Author(s)\": \"J. K. Rowling\", \"Original language\": \"English\", \"First published\": 2005, \"Approximate sales in millions\": 65.0, \"Genre\": \"Fantasy\"}, {\"Book\": \"Harry Potter and the Deathly Hallows\", \"Author(s)\": \"J. K. Rowling\", \"Original language\": \"English\", \"First published\": 2007, \"Approximate sales in millions\": 65.0, \"Genre\": \"Fantasy\"}, {\"Book\": \"The Alchemist (O Alquimista)\", \"Author(s)\": \"Paulo Coelho\", \"Original language\": \"Portuguese\", \"First published\": 1988, \"Approximate sales in millions\": 65.0, \"Genre\": \"Fantasy\"}, {\"Book\": \"Watership Down\", \"Author(s)\": \"Richard Adams\", \"Original language\": \"English\", \"First published\": 1972, \"Approximate sales in millions\": 50.0, \"Genre\": \"Fantasy\"}, {\"Book\": \"And Then There Were None\", \"Author(s)\": \"Agatha Christie\", \"Original language\": \"English\", \"First published\": 1939, \"Approximate sales in millions\": 100.0, \"Genre\": \"Mystery\"}, {\"Book\": \"The Little Prince (Le Petit Prince)\", \"Author(s)\": \"Antoine de Saint-Exup\\u00e9ry\", \"Original language\": \"French\", \"First published\": 1943, \"Approximate sales in millions\": 200.0, \"Genre\": \"Novella\"}, {\"Book\": \"Dream of the Red Chamber (\\u7d05\\u6a13\\u5922)\", \"Author(s)\": \"Cao Xueqin\", \"Original language\": \"Chinese\", \"First published\": 1791, \"Approximate sales in millions\": 100.0, \"Genre\": \"Family saga\"}, {\"Book\": \"The Lion, the Witch and the Wardrobe\", \"Author(s)\": \"C. S. Lewis\", \"Original language\": \"English\", \"First published\": 1950, \"Approximate sales in millions\": 85.0, \"Genre\": \"Fantasy, Children's fiction\"}, {\"Book\": \"The Adventures of Pinocchio (Le avventure di Pinocchio)\", \"Author(s)\": \"Carlo Collodi\", \"Original language\": \"Italian\", \"First published\": 1881, \"Approximate sales in millions\": 35.0, \"Genre\": \"Fantasy, Children's fiction\"}, {\"Book\": \"She: A History of Adventure\", \"Author(s)\": \"H. Rider Haggard\", \"Original language\": \"English\", \"First published\": 1887, \"Approximate sales in millions\": 83.0, \"Genre\": \"Adventure\"}, {\"Book\": \"Vardi Wala Gunda (\\u0935\\u0930\\u094d\\u0926\\u0940 \\u0935\\u093e\\u0932\\u093e \\u0917\\u0941\\u0902\\u0921\\u093e)\", \"Author(s)\": \"Ved Prakash Sharma\", \"Original language\": \"Hindi\", \"First published\": 1992, \"Approximate sales in millions\": 80.0, \"Genre\": \"Detective\"}, {\"Book\": \"The Da Vinci Code\", \"Author(s)\": \"Dan Brown\", \"Original language\": \"English\", \"First published\": 2003, \"Approximate sales in millions\": 80.0, \"Genre\": \"Mystery thriller\"}, {\"Book\": \"The Catcher in the Rye\", \"Author(s)\": \"J. D. Salinger\", \"Original language\": \"English\", \"First published\": 1951, \"Approximate sales in millions\": 65.0, \"Genre\": \"Coming-of-age\"}, {\"Book\": \"The Bridges of Madison County\", \"Author(s)\": \"Robert James Waller\", \"Original language\": \"English\", \"First published\": 1992, \"Approximate sales in millions\": 60.0, \"Genre\": \"Romance\"}, {\"Book\": \"You Can Heal Your Life\", \"Author(s)\": \"Louise Hay\", \"Original language\": \"English\", \"First published\": 1984, \"Approximate sales in millions\": 50.0, \"Genre\": \"Self-help\"}, {\"Book\": \"Your Erroneous Zones\", \"Author(s)\": \"Wayne Dyer\", \"Original language\": \"English\", \"First published\": 1976, \"Approximate sales in millions\": 35.0, \"Genre\": \"Self-help\"}, {\"Book\": \"Alcoholics Anonymous Big Book\", \"Author(s)\": \"Bill Wilson\", \"Original language\": \"English\", \"First published\": 1939, \"Approximate sales in millions\": 30.0, \"Genre\": \"Self-help\"}, {\"Book\": \"How to Win Friends and Influence People\", \"Author(s)\": \"Dale Carnegie\", \"Original language\": \"English\", \"First published\": 1936, \"Approximate sales in millions\": 30.0, \"Genre\": \"Self-help\"}, {\"Book\": \"The 7 Habits of Highly Effective People\", \"Author(s)\": \"Stephen R. Covey\", \"Original language\": \"English\", \"First published\": 1989, \"Approximate sales in millions\": 25.0, \"Genre\": \"Self-help\"}, {\"Book\": \"The Power of Positive Thinking\", \"Author(s)\": \"Norman Vincent Peale\", \"Original language\": \"English\", \"First published\": 1952, \"Approximate sales in millions\": 20.0, \"Genre\": \"Self-help\"}, {\"Book\": \"The Secret\", \"Author(s)\": \"Rhonda Byrne\", \"Original language\": \"English\", \"First published\": 2006, \"Approximate sales in millions\": 20.0, \"Genre\": \"Self-help\"}, {\"Book\": \"One Hundred Years of Solitude (Cien a\\u00f1os de soledad)\", \"Author(s)\": \"Gabriel Garc\\u00eda M\\u00e1rquez\", \"Original language\": \"Spanish\", \"First published\": 1967, \"Approximate sales in millions\": 50.0, \"Genre\": \"Magic realism\"}, {\"Book\": \"Lolita\", \"Author(s)\": \"Vladimir Nabokov\", \"Original language\": \"English\", \"First published\": 1955, \"Approximate sales in millions\": 50.0, \"Genre\": \"Novel\"}, {\"Book\": \"The Ginger Man\", \"Author(s)\": \"J. P. Donleavy\", \"Original language\": \"English\", \"First published\": 1955, \"Approximate sales in millions\": 50.0, \"Genre\": \"Novel\"}, {\"Book\": \"Kane and Abel\", \"Author(s)\": \"Jeffrey Archer\", \"Original language\": \"English\", \"First published\": 1979, \"Approximate sales in millions\": 37.0, \"Genre\": \"Novel\"}, {\"Book\": \"Valley of the Dolls\", \"Author(s)\": \"Jacqueline Susann\", \"Original language\": \"English\", \"First published\": 1966, \"Approximate sales in millions\": 31.0, \"Genre\": \"Novel\"}, {\"Book\": \"Paul et Virginie\", \"Author(s)\": \"Jacques-Henri Bernardin de Saint-Pierre\", \"Original language\": \"French\", \"First published\": 1788, \"Approximate sales in millions\": 25.0, \"Genre\": \"Novel\"}, {\"Book\": \"Virgin Soil Upturned (\\u041f\\u043e\\u0434\\u043d\\u044f\\u0442\\u0430\\u044f \\u0446\\u0435\\u043b\\u0438\\u043d\\u0430)\", \"Author(s)\": \"Mikhail Sholokhov\", \"Original language\": \"Russian\", \"First published\": 1935, \"Approximate sales in millions\": 24.0, \"Genre\": \"Novel\"}, {\"Book\": \"The Shack\", \"Author(s)\": \"William P. Young\", \"Original language\": \"English\", \"First published\": 2007, \"Approximate sales in millions\": 22.5, \"Genre\": \"Novel\"}, {\"Book\": \"Things Fall Apart \", \"Author(s)\": \"Chinua Achebe\", \"Original language\": \"English\", \"First published\": 1958, \"Approximate sales in millions\": 20.0, \"Genre\": \"Novel\"}, {\"Book\": \"Heidi\", \"Author(s)\": \"Johanna Spyri\", \"Original language\": \"German\", \"First published\": 1880, \"Approximate sales in millions\": 50.0, \"Genre\": \"Children's fiction\"}, {\"Book\": \"Charlotte's Web\", \"Author(s)\": \"E. B. White; illustrated by Garth Williams\", \"Original language\": \"English\", \"First published\": 1952, \"Approximate sales in millions\": 50.0, \"Genre\": \"Children's fiction\"}, {\"Book\": \"The Common Sense Book of Baby and Child Care\", \"Author(s)\": \"Benjamin Spock\", \"Original language\": \"English\", \"First published\": 1946, \"Approximate sales in millions\": 50.0, \"Genre\": \"Manual\"}, {\"Book\": \"Anne of Green Gables\", \"Author(s)\": \"Lucy Maud Montgomery\", \"Original language\": \"English\", \"First published\": 1908, \"Approximate sales in millions\": 50.0, \"Genre\": \"Children's novel\"}, {\"Book\": \"James and the Giant Peach\", \"Author(s)\": \"Roald Dahl\", \"Original language\": \"English\", \"First published\": 1961, \"Approximate sales in millions\": 28.0, \"Genre\": \"Children's novel\"}, {\"Book\": \"Black Beauty\", \"Author(s)\": \"Anna Sewell\", \"Original language\": \"English\", \"First published\": 1877, \"Approximate sales in millions\": 50.0, \"Genre\": \"Children's literature\"}, {\"Book\": \"The Wind in the Willows\", \"Author(s)\": \"Kenneth Grahame\", \"Original language\": \"English\", \"First published\": 1908, \"Approximate sales in millions\": 25.0, \"Genre\": \"Children's literature\"}, {\"Book\": \"The Name of the Rose (Il Nome della Rosa)\", \"Author(s)\": \"Umberto Eco\", \"Original language\": \"Italian\", \"First published\": 1980, \"Approximate sales in millions\": 50.0, \"Genre\": \"Historical novel, mystery\"}, {\"Book\": \"The Eagle Has Landed\", \"Author(s)\": \"Jack Higgins\", \"Original language\": \"English\", \"First published\": 1975, \"Approximate sales in millions\": 50.0, \"Genre\": \"War, thriller\"}]}}, {\"mode\": \"vega-lite\"});\n",
       "</script>"
      ],
      "text/plain": [
       "alt.Chart(...)"
      ]
     },
     "execution_count": 30,
     "metadata": {},
     "output_type": "execute_result"
    }
   ],
   "source": [
    "alt.Chart(df_top20).mark_bar().encode(\n",
    "    y='Approximate sales in millions', \n",
    "    x='First published:N',  \n",
    "    color='Original language',\n",
    "    tooltip = ['Author(s)', 'Original language', 'Book', 'Genre', 'Approximate sales in millions', 'First published']\n",
    "\n",
    ")"
   ]
  },
  {
   "cell_type": "code",
   "execution_count": 31,
   "id": "c0ac148b",
   "metadata": {
    "execution": {
     "iopub.execute_input": "2024-04-30T15:56:22.814066Z",
     "iopub.status.busy": "2024-04-30T15:56:22.813582Z",
     "iopub.status.idle": "2024-04-30T15:56:22.870554Z",
     "shell.execute_reply": "2024-04-30T15:56:22.868861Z"
    },
    "papermill": {
     "duration": 0.078224,
     "end_time": "2024-04-30T15:56:22.873468",
     "exception": false,
     "start_time": "2024-04-30T15:56:22.795244",
     "status": "completed"
    },
    "tags": []
   },
   "outputs": [
    {
     "data": {
      "text/html": [
       "\n",
       "<style>\n",
       "  #altair-viz-13f8af3f7ebf48f7b613cdbcdafe9647.vega-embed {\n",
       "    width: 100%;\n",
       "    display: flex;\n",
       "  }\n",
       "\n",
       "  #altair-viz-13f8af3f7ebf48f7b613cdbcdafe9647.vega-embed details,\n",
       "  #altair-viz-13f8af3f7ebf48f7b613cdbcdafe9647.vega-embed details summary {\n",
       "    position: relative;\n",
       "  }\n",
       "</style>\n",
       "<div id=\"altair-viz-13f8af3f7ebf48f7b613cdbcdafe9647\"></div>\n",
       "<script type=\"text/javascript\">\n",
       "  var VEGA_DEBUG = (typeof VEGA_DEBUG == \"undefined\") ? {} : VEGA_DEBUG;\n",
       "  (function(spec, embedOpt){\n",
       "    let outputDiv = document.currentScript.previousElementSibling;\n",
       "    if (outputDiv.id !== \"altair-viz-13f8af3f7ebf48f7b613cdbcdafe9647\") {\n",
       "      outputDiv = document.getElementById(\"altair-viz-13f8af3f7ebf48f7b613cdbcdafe9647\");\n",
       "    }\n",
       "    const paths = {\n",
       "      \"vega\": \"https://cdn.jsdelivr.net/npm/vega@5?noext\",\n",
       "      \"vega-lib\": \"https://cdn.jsdelivr.net/npm/vega-lib?noext\",\n",
       "      \"vega-lite\": \"https://cdn.jsdelivr.net/npm/vega-lite@5.17.0?noext\",\n",
       "      \"vega-embed\": \"https://cdn.jsdelivr.net/npm/vega-embed@6?noext\",\n",
       "    };\n",
       "\n",
       "    function maybeLoadScript(lib, version) {\n",
       "      var key = `${lib.replace(\"-\", \"\")}_version`;\n",
       "      return (VEGA_DEBUG[key] == version) ?\n",
       "        Promise.resolve(paths[lib]) :\n",
       "        new Promise(function(resolve, reject) {\n",
       "          var s = document.createElement('script');\n",
       "          document.getElementsByTagName(\"head\")[0].appendChild(s);\n",
       "          s.async = true;\n",
       "          s.onload = () => {\n",
       "            VEGA_DEBUG[key] = version;\n",
       "            return resolve(paths[lib]);\n",
       "          };\n",
       "          s.onerror = () => reject(`Error loading script: ${paths[lib]}`);\n",
       "          s.src = paths[lib];\n",
       "        });\n",
       "    }\n",
       "\n",
       "    function showError(err) {\n",
       "      outputDiv.innerHTML = `<div class=\"error\" style=\"color:red;\">${err}</div>`;\n",
       "      throw err;\n",
       "    }\n",
       "\n",
       "    function displayChart(vegaEmbed) {\n",
       "      vegaEmbed(outputDiv, spec, embedOpt)\n",
       "        .catch(err => showError(`Javascript Error: ${err.message}<br>This usually means there's a typo in your chart specification. See the javascript console for the full traceback.`));\n",
       "    }\n",
       "\n",
       "    if(typeof define === \"function\" && define.amd) {\n",
       "      requirejs.config({paths});\n",
       "      require([\"vega-embed\"], displayChart, err => showError(`Error loading script: ${err.message}`));\n",
       "    } else {\n",
       "      maybeLoadScript(\"vega\", \"5\")\n",
       "        .then(() => maybeLoadScript(\"vega-lite\", \"5.17.0\"))\n",
       "        .then(() => maybeLoadScript(\"vega-embed\", \"6\"))\n",
       "        .catch(showError)\n",
       "        .then(() => displayChart(vegaEmbed));\n",
       "    }\n",
       "  })({\"config\": {\"view\": {\"continuousWidth\": 300, \"continuousHeight\": 300}}, \"data\": {\"name\": \"data-9807bbc4ea93e65b5394611068148e24\"}, \"mark\": {\"type\": \"bar\"}, \"encoding\": {\"color\": {\"field\": \"Genre\", \"type\": \"nominal\"}, \"tooltip\": [{\"field\": \"Author(s)\", \"type\": \"nominal\"}, {\"field\": \"Original language\", \"type\": \"nominal\"}, {\"field\": \"Book\", \"type\": \"nominal\"}, {\"field\": \"Genre\", \"type\": \"nominal\"}, {\"field\": \"Approximate sales in millions\", \"type\": \"quantitative\"}], \"x\": {\"field\": \"First published\", \"type\": \"nominal\"}, \"y\": {\"field\": \"Approximate sales in millions\", \"type\": \"quantitative\"}}, \"$schema\": \"https://vega.github.io/schema/vega-lite/v5.17.0.json\", \"datasets\": {\"data-9807bbc4ea93e65b5394611068148e24\": [{\"Book\": \"A Tale of Two Cities\", \"Author(s)\": \"Charles Dickens\", \"Original language\": \"English\", \"First published\": 1859, \"Approximate sales in millions\": 200.0, \"Genre\": \"Historical fiction\"}, {\"Book\": \"Ben-Hur: A Tale of the Christ\", \"Author(s)\": \"Lew Wallace\", \"Original language\": \"English\", \"First published\": 1880, \"Approximate sales in millions\": 50.0, \"Genre\": \"Historical fiction\"}, {\"Book\": \"Gone with the Wind\", \"Author(s)\": \"Margaret Mitchell\", \"Original language\": \"English\", \"First published\": 1936, \"Approximate sales in millions\": 30.0, \"Genre\": \"Historical fiction\"}, {\"Book\": \"The Pillars of the Earth\", \"Author(s)\": \"Ken Follett\", \"Original language\": \"English\", \"First published\": 1989, \"Approximate sales in millions\": 15.0, \"Genre\": \"Historical fiction\"}, {\"Book\": \"Harry Potter and the Philosopher's Stone\", \"Author(s)\": \"J. K. Rowling\", \"Original language\": \"English\", \"First published\": 1997, \"Approximate sales in millions\": 120.0, \"Genre\": \"Fantasy\"}, {\"Book\": \"The Hobbit\", \"Author(s)\": \"J. R. R. Tolkien\", \"Original language\": \"English\", \"First published\": 1937, \"Approximate sales in millions\": 100.0, \"Genre\": \"Fantasy\"}, {\"Book\": \"Harry Potter and the Chamber of Secrets\", \"Author(s)\": \"J. K. Rowling\", \"Original language\": \"English\", \"First published\": 1998, \"Approximate sales in millions\": 77.0, \"Genre\": \"Fantasy\"}, {\"Book\": \"Harry Potter and the Prisoner of Azkaban\", \"Author(s)\": \"J. K. Rowling\", \"Original language\": \"English\", \"First published\": 1999, \"Approximate sales in millions\": 65.0, \"Genre\": \"Fantasy\"}, {\"Book\": \"Harry Potter and the Goblet of Fire\", \"Author(s)\": \"J. K. Rowling\", \"Original language\": \"English\", \"First published\": 2000, \"Approximate sales in millions\": 65.0, \"Genre\": \"Fantasy\"}, {\"Book\": \"Harry Potter and the Order of the Phoenix\", \"Author(s)\": \"J. K. Rowling\", \"Original language\": \"English\", \"First published\": 2003, \"Approximate sales in millions\": 65.0, \"Genre\": \"Fantasy\"}, {\"Book\": \"Harry Potter and the Half-Blood Prince\", \"Author(s)\": \"J. K. Rowling\", \"Original language\": \"English\", \"First published\": 2005, \"Approximate sales in millions\": 65.0, \"Genre\": \"Fantasy\"}, {\"Book\": \"Harry Potter and the Deathly Hallows\", \"Author(s)\": \"J. K. Rowling\", \"Original language\": \"English\", \"First published\": 2007, \"Approximate sales in millions\": 65.0, \"Genre\": \"Fantasy\"}, {\"Book\": \"The Alchemist (O Alquimista)\", \"Author(s)\": \"Paulo Coelho\", \"Original language\": \"Portuguese\", \"First published\": 1988, \"Approximate sales in millions\": 65.0, \"Genre\": \"Fantasy\"}, {\"Book\": \"Watership Down\", \"Author(s)\": \"Richard Adams\", \"Original language\": \"English\", \"First published\": 1972, \"Approximate sales in millions\": 50.0, \"Genre\": \"Fantasy\"}, {\"Book\": \"And Then There Were None\", \"Author(s)\": \"Agatha Christie\", \"Original language\": \"English\", \"First published\": 1939, \"Approximate sales in millions\": 100.0, \"Genre\": \"Mystery\"}, {\"Book\": \"The Little Prince (Le Petit Prince)\", \"Author(s)\": \"Antoine de Saint-Exup\\u00e9ry\", \"Original language\": \"French\", \"First published\": 1943, \"Approximate sales in millions\": 200.0, \"Genre\": \"Novella\"}, {\"Book\": \"Dream of the Red Chamber (\\u7d05\\u6a13\\u5922)\", \"Author(s)\": \"Cao Xueqin\", \"Original language\": \"Chinese\", \"First published\": 1791, \"Approximate sales in millions\": 100.0, \"Genre\": \"Family saga\"}, {\"Book\": \"The Lion, the Witch and the Wardrobe\", \"Author(s)\": \"C. S. Lewis\", \"Original language\": \"English\", \"First published\": 1950, \"Approximate sales in millions\": 85.0, \"Genre\": \"Fantasy, Children's fiction\"}, {\"Book\": \"The Adventures of Pinocchio (Le avventure di Pinocchio)\", \"Author(s)\": \"Carlo Collodi\", \"Original language\": \"Italian\", \"First published\": 1881, \"Approximate sales in millions\": 35.0, \"Genre\": \"Fantasy, Children's fiction\"}, {\"Book\": \"She: A History of Adventure\", \"Author(s)\": \"H. Rider Haggard\", \"Original language\": \"English\", \"First published\": 1887, \"Approximate sales in millions\": 83.0, \"Genre\": \"Adventure\"}, {\"Book\": \"Vardi Wala Gunda (\\u0935\\u0930\\u094d\\u0926\\u0940 \\u0935\\u093e\\u0932\\u093e \\u0917\\u0941\\u0902\\u0921\\u093e)\", \"Author(s)\": \"Ved Prakash Sharma\", \"Original language\": \"Hindi\", \"First published\": 1992, \"Approximate sales in millions\": 80.0, \"Genre\": \"Detective\"}, {\"Book\": \"The Da Vinci Code\", \"Author(s)\": \"Dan Brown\", \"Original language\": \"English\", \"First published\": 2003, \"Approximate sales in millions\": 80.0, \"Genre\": \"Mystery thriller\"}, {\"Book\": \"The Catcher in the Rye\", \"Author(s)\": \"J. D. Salinger\", \"Original language\": \"English\", \"First published\": 1951, \"Approximate sales in millions\": 65.0, \"Genre\": \"Coming-of-age\"}, {\"Book\": \"The Bridges of Madison County\", \"Author(s)\": \"Robert James Waller\", \"Original language\": \"English\", \"First published\": 1992, \"Approximate sales in millions\": 60.0, \"Genre\": \"Romance\"}, {\"Book\": \"You Can Heal Your Life\", \"Author(s)\": \"Louise Hay\", \"Original language\": \"English\", \"First published\": 1984, \"Approximate sales in millions\": 50.0, \"Genre\": \"Self-help\"}, {\"Book\": \"Your Erroneous Zones\", \"Author(s)\": \"Wayne Dyer\", \"Original language\": \"English\", \"First published\": 1976, \"Approximate sales in millions\": 35.0, \"Genre\": \"Self-help\"}, {\"Book\": \"Alcoholics Anonymous Big Book\", \"Author(s)\": \"Bill Wilson\", \"Original language\": \"English\", \"First published\": 1939, \"Approximate sales in millions\": 30.0, \"Genre\": \"Self-help\"}, {\"Book\": \"How to Win Friends and Influence People\", \"Author(s)\": \"Dale Carnegie\", \"Original language\": \"English\", \"First published\": 1936, \"Approximate sales in millions\": 30.0, \"Genre\": \"Self-help\"}, {\"Book\": \"The 7 Habits of Highly Effective People\", \"Author(s)\": \"Stephen R. Covey\", \"Original language\": \"English\", \"First published\": 1989, \"Approximate sales in millions\": 25.0, \"Genre\": \"Self-help\"}, {\"Book\": \"The Power of Positive Thinking\", \"Author(s)\": \"Norman Vincent Peale\", \"Original language\": \"English\", \"First published\": 1952, \"Approximate sales in millions\": 20.0, \"Genre\": \"Self-help\"}, {\"Book\": \"The Secret\", \"Author(s)\": \"Rhonda Byrne\", \"Original language\": \"English\", \"First published\": 2006, \"Approximate sales in millions\": 20.0, \"Genre\": \"Self-help\"}, {\"Book\": \"One Hundred Years of Solitude (Cien a\\u00f1os de soledad)\", \"Author(s)\": \"Gabriel Garc\\u00eda M\\u00e1rquez\", \"Original language\": \"Spanish\", \"First published\": 1967, \"Approximate sales in millions\": 50.0, \"Genre\": \"Magic realism\"}, {\"Book\": \"Lolita\", \"Author(s)\": \"Vladimir Nabokov\", \"Original language\": \"English\", \"First published\": 1955, \"Approximate sales in millions\": 50.0, \"Genre\": \"Novel\"}, {\"Book\": \"The Ginger Man\", \"Author(s)\": \"J. P. Donleavy\", \"Original language\": \"English\", \"First published\": 1955, \"Approximate sales in millions\": 50.0, \"Genre\": \"Novel\"}, {\"Book\": \"Kane and Abel\", \"Author(s)\": \"Jeffrey Archer\", \"Original language\": \"English\", \"First published\": 1979, \"Approximate sales in millions\": 37.0, \"Genre\": \"Novel\"}, {\"Book\": \"Valley of the Dolls\", \"Author(s)\": \"Jacqueline Susann\", \"Original language\": \"English\", \"First published\": 1966, \"Approximate sales in millions\": 31.0, \"Genre\": \"Novel\"}, {\"Book\": \"Paul et Virginie\", \"Author(s)\": \"Jacques-Henri Bernardin de Saint-Pierre\", \"Original language\": \"French\", \"First published\": 1788, \"Approximate sales in millions\": 25.0, \"Genre\": \"Novel\"}, {\"Book\": \"Virgin Soil Upturned (\\u041f\\u043e\\u0434\\u043d\\u044f\\u0442\\u0430\\u044f \\u0446\\u0435\\u043b\\u0438\\u043d\\u0430)\", \"Author(s)\": \"Mikhail Sholokhov\", \"Original language\": \"Russian\", \"First published\": 1935, \"Approximate sales in millions\": 24.0, \"Genre\": \"Novel\"}, {\"Book\": \"The Shack\", \"Author(s)\": \"William P. Young\", \"Original language\": \"English\", \"First published\": 2007, \"Approximate sales in millions\": 22.5, \"Genre\": \"Novel\"}, {\"Book\": \"Things Fall Apart \", \"Author(s)\": \"Chinua Achebe\", \"Original language\": \"English\", \"First published\": 1958, \"Approximate sales in millions\": 20.0, \"Genre\": \"Novel\"}, {\"Book\": \"Heidi\", \"Author(s)\": \"Johanna Spyri\", \"Original language\": \"German\", \"First published\": 1880, \"Approximate sales in millions\": 50.0, \"Genre\": \"Children's fiction\"}, {\"Book\": \"Charlotte's Web\", \"Author(s)\": \"E. B. White; illustrated by Garth Williams\", \"Original language\": \"English\", \"First published\": 1952, \"Approximate sales in millions\": 50.0, \"Genre\": \"Children's fiction\"}, {\"Book\": \"The Common Sense Book of Baby and Child Care\", \"Author(s)\": \"Benjamin Spock\", \"Original language\": \"English\", \"First published\": 1946, \"Approximate sales in millions\": 50.0, \"Genre\": \"Manual\"}, {\"Book\": \"Anne of Green Gables\", \"Author(s)\": \"Lucy Maud Montgomery\", \"Original language\": \"English\", \"First published\": 1908, \"Approximate sales in millions\": 50.0, \"Genre\": \"Children's novel\"}, {\"Book\": \"James and the Giant Peach\", \"Author(s)\": \"Roald Dahl\", \"Original language\": \"English\", \"First published\": 1961, \"Approximate sales in millions\": 28.0, \"Genre\": \"Children's novel\"}, {\"Book\": \"Black Beauty\", \"Author(s)\": \"Anna Sewell\", \"Original language\": \"English\", \"First published\": 1877, \"Approximate sales in millions\": 50.0, \"Genre\": \"Children's literature\"}, {\"Book\": \"The Wind in the Willows\", \"Author(s)\": \"Kenneth Grahame\", \"Original language\": \"English\", \"First published\": 1908, \"Approximate sales in millions\": 25.0, \"Genre\": \"Children's literature\"}, {\"Book\": \"The Name of the Rose (Il Nome della Rosa)\", \"Author(s)\": \"Umberto Eco\", \"Original language\": \"Italian\", \"First published\": 1980, \"Approximate sales in millions\": 50.0, \"Genre\": \"Historical novel, mystery\"}, {\"Book\": \"The Eagle Has Landed\", \"Author(s)\": \"Jack Higgins\", \"Original language\": \"English\", \"First published\": 1975, \"Approximate sales in millions\": 50.0, \"Genre\": \"War, thriller\"}]}}, {\"mode\": \"vega-lite\"});\n",
       "</script>"
      ],
      "text/plain": [
       "alt.Chart(...)"
      ]
     },
     "execution_count": 31,
     "metadata": {},
     "output_type": "execute_result"
    }
   ],
   "source": [
    "alt.Chart(df_top20).mark_bar().encode(\n",
    "    y='Approximate sales in millions', \n",
    "    x='First published:N',  \n",
    "    color='Genre',\n",
    "    tooltip = ['Author(s)', 'Original language', 'Book', 'Genre', 'Approximate sales in millions']\n",
    "\n",
    ")"
   ]
  },
  {
   "cell_type": "code",
   "execution_count": null,
   "id": "7c220dc8",
   "metadata": {
    "papermill": {
     "duration": 0.014943,
     "end_time": "2024-04-30T15:56:22.903607",
     "exception": false,
     "start_time": "2024-04-30T15:56:22.888664",
     "status": "completed"
    },
    "tags": []
   },
   "outputs": [],
   "source": []
  }
 ],
 "metadata": {
  "kaggle": {
   "accelerator": "none",
   "dataSources": [
    {
     "datasetId": 3424508,
     "sourceId": 6347589,
     "sourceType": "datasetVersion"
    }
   ],
   "dockerImageVersionId": 30698,
   "isGpuEnabled": false,
   "isInternetEnabled": true,
   "language": "python",
   "sourceType": "notebook"
  },
  "kernelspec": {
   "display_name": "Python 3",
   "language": "python",
   "name": "python3"
  },
  "language_info": {
   "codemirror_mode": {
    "name": "ipython",
    "version": 3
   },
   "file_extension": ".py",
   "mimetype": "text/x-python",
   "name": "python",
   "nbconvert_exporter": "python",
   "pygments_lexer": "ipython3",
   "version": "3.10.13"
  },
  "papermill": {
   "default_parameters": {},
   "duration": 6.473298,
   "end_time": "2024-04-30T15:56:23.439175",
   "environment_variables": {},
   "exception": null,
   "input_path": "__notebook__.ipynb",
   "output_path": "__notebook__.ipynb",
   "parameters": {},
   "start_time": "2024-04-30T15:56:16.965877",
   "version": "2.5.0"
  }
 },
 "nbformat": 4,
 "nbformat_minor": 5
}
